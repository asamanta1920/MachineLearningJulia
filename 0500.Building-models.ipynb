{
 "cells": [
  {
   "cell_type": "code",
   "execution_count": 1,
   "metadata": {},
   "outputs": [
    {
     "name": "stdout",
     "output_type": "stream",
     "text": [
      "\u001b[32m\u001b[1m  Updating\u001b[22m\u001b[39m registry at `~/.julia/registries/General`\n",
      "\u001b[32m\u001b[1m  Updating\u001b[22m\u001b[39m git-repo `https://github.com/JuliaRegistries/General.git`\n",
      "\u001b[?25l\u001b[2K\u001b[?25h\u001b[32m\u001b[1m  Updating\u001b[22m\u001b[39m git-repo `https://github.com/JuliaComputing/JuliaAcademyData.jl`\n",
      "\u001b[?25l\u001b[2K\u001b[?25h\u001b[32m\u001b[1m  Updating\u001b[22m\u001b[39m git-repo `https://github.com/JuliaComputing/JuliaAcademyData.jl`\n",
      "\u001b[?25l\u001b[2K\u001b[?25h\u001b[32m\u001b[1m Resolving\u001b[22m\u001b[39m package versions...\n",
      "\u001b[32m\u001b[1m  Updating\u001b[22m\u001b[39m `~/.julia/environments/v1.3/Project.toml`\n",
      "\u001b[90m [no changes]\u001b[39m\n",
      "\u001b[32m\u001b[1m  Updating\u001b[22m\u001b[39m `~/.julia/environments/v1.3/Manifest.toml`\n",
      "\u001b[90m [no changes]\u001b[39m\n",
      "\u001b[32m\u001b[1mActivating\u001b[22m\u001b[39m environment at `~/.julia/packages/JuliaAcademyData/1to3l/courses/Foundations of machine learning/Project.toml`\n"
     ]
    }
   ],
   "source": [
    "import Pkg; Pkg.add(Pkg.PackageSpec(url=\"https://github.com/JuliaComputing/JuliaAcademyData.jl\"))\n",
    "using JuliaAcademyData; activate(\"Foundations of machine learning\")"
   ]
  },
  {
   "cell_type": "markdown",
   "metadata": {},
   "source": [
    "# Modeling data 2"
   ]
  },
  {
   "cell_type": "markdown",
   "metadata": {},
   "source": [
    "## Building a model\n",
    "\n",
    "Recall that in notebook 3, we saw that we could use a mathematical function to classify an image as an apple or a banana, based on the average amount of green in an image:\n",
    "\n",
    "<img src=\"https://raw.githubusercontent.com/JuliaComputing/JuliaAcademyData.jl/master/courses/Foundations%20of%20machine%20learning/data/data_flow.png\" alt=\"Drawing\" style=\"width: 500px;\"/>\n",
    "\n",
    "\n",
    "<img src=\"https://raw.githubusercontent.com/JuliaComputing/JuliaAcademyData.jl/master/courses/Foundations%20of%20machine%20learning/data/what_is_model.png\" alt=\"Drawing\" style=\"width: 300px;\"/>"
   ]
  },
  {
   "cell_type": "markdown",
   "metadata": {},
   "source": [
    "A common function for performing this kind of **classification** is the sigmoid that we saw in the last notebook, and that we will now extend by adding two **parameters**, $w$ and $b$:\n",
    "\n",
    "$$\\sigma(x; w, b) := \\frac{1}{1 + \\exp(-wx + b)}$$\n",
    "\n",
    "$$ x = \\mathrm{data} $$\n",
    "\n",
    "\\begin{align}\n",
    "\\sigma(x;w,b) &\\approx 0 \\implies \\mathrm{apple} \\\\\n",
    "\\sigma(x;w,b) &\\approx 1 \\implies \\mathrm{banana}\n",
    "\\end{align}"
   ]
  },
  {
   "cell_type": "markdown",
   "metadata": {},
   "source": [
    "In our mathematical notation above, the `;` in the function differentiates between the **data** and the **parameters**. `x` is the data and is determined from the image. The parameters, `w` and `b`, are numbers which we choose to make our function match the results it should be modeling.\n",
    "\n",
    "Note that in the code below, we don't distinguish between data and parameters - both are just inputs to our function, σ!"
   ]
  },
  {
   "cell_type": "code",
   "execution_count": 3,
   "metadata": {},
   "outputs": [
    {
     "name": "stdout",
     "output_type": "stream",
     "text": [
      "Average green for apple = 0.33851803921568624\n",
      "Average green for banana = 0.8808207843137253\n"
     ]
    }
   ],
   "source": [
    "using Images, Statistics\n",
    "\n",
    "apple = load(datapath(\"data/10_100.jpg\"))\n",
    "banana = load(datapath(\"data/104_100.jpg\"))\n",
    "\n",
    "apple_green_amount = mean(Float64.(green.(apple)))\n",
    "banana_green_amount = mean(Float64.(green.(banana)))\n",
    "\n",
    "println(\"Average green for apple = $apple_green_amount\")\n",
    "println(\"Average green for banana = $banana_green_amount\")"
   ]
  },
  {
   "cell_type": "code",
   "execution_count": 4,
   "metadata": {},
   "outputs": [
    {
     "data": {
      "text/plain": [
       "σ (generic function with 1 method)"
      ]
     },
     "execution_count": 4,
     "metadata": {},
     "output_type": "execute_result"
    }
   ],
   "source": [
    "σ(x, w, b) = 1 / (1 + exp(-w * x + b))"
   ]
  },
  {
   "cell_type": "markdown",
   "metadata": {},
   "source": [
    "What we want is that when we give σ as input the average green for the apple, roughly `x = 0.3385`, it should return as output something close to 0, meaning \"apple\". And when we give σ the input `x = 0.8808`, it should output something close to 1, meaning \"banana\".\n",
    "\n",
    "By changing the parameters of the function, we can change the shape of the function, and hence make it represent, or **fit**, the data better!"
   ]
  },
  {
   "cell_type": "markdown",
   "metadata": {},
   "source": [
    "## Data fitting by varying parameters"
   ]
  },
  {
   "cell_type": "markdown",
   "metadata": {},
   "source": [
    "We can understand how our choice of `w` and `b` affects our model by seeing how our values for `w` and `b` change the plot of the $\\sigma$ function."
   ]
  },
  {
   "cell_type": "code",
   "execution_count": 5,
   "metadata": {},
   "outputs": [
    {
     "data": {
      "text/plain": [
       "Plots.GRBackend()"
      ]
     },
     "execution_count": 5,
     "metadata": {},
     "output_type": "execute_result"
    }
   ],
   "source": [
    "using Plots; gr()   # GR works better for interactive manipulations"
   ]
  },
  {
   "cell_type": "markdown",
   "metadata": {},
   "source": [
    "Run the code in the next cell. You should see two \"sliders\" appear, one for `w` and one for `b`.\n",
    "\n",
    "**Game**:\n",
    "Change w and b around until the blue curve, labeled \"model\", which is the graph of the `\\sigma` function, passes through *both* of the data points at the same time."
   ]
  },
  {
   "cell_type": "code",
   "execution_count": 6,
   "metadata": {},
   "outputs": [
    {
     "data": {
      "image/svg+xml": [
       "<?xml version=\"1.0\" encoding=\"utf-8\"?>\n",
       "<svg xmlns=\"http://www.w3.org/2000/svg\" xmlns:xlink=\"http://www.w3.org/1999/xlink\" width=\"600\" height=\"400\" viewBox=\"0 0 2400 1600\">\n",
       "<defs>\n",
       "  <clipPath id=\"clip7400\">\n",
       "    <rect x=\"0\" y=\"0\" width=\"2400\" height=\"1600\"/>\n",
       "  </clipPath>\n",
       "</defs>\n",
       "<path clip-path=\"url(#clip7400)\" d=\"\n",
       "M0 1600 L2400 1600 L2400 0 L0 0  Z\n",
       "  \" fill=\"#ffffff\" fill-rule=\"evenodd\" fill-opacity=\"1\"/>\n",
       "<defs>\n",
       "  <clipPath id=\"clip7401\">\n",
       "    <rect x=\"480\" y=\"0\" width=\"1681\" height=\"1600\"/>\n",
       "  </clipPath>\n",
       "</defs>\n",
       "<path clip-path=\"url(#clip7400)\" d=\"\n",
       "M180.66 1487.47 L2352.76 1487.47 L2352.76 47.2441 L180.66 47.2441  Z\n",
       "  \" fill=\"#ffffff\" fill-rule=\"evenodd\" fill-opacity=\"1\"/>\n",
       "<defs>\n",
       "  <clipPath id=\"clip7402\">\n",
       "    <rect x=\"180\" y=\"47\" width=\"2173\" height=\"1441\"/>\n",
       "  </clipPath>\n",
       "</defs>\n",
       "<polyline clip-path=\"url(#clip7402)\" style=\"stroke:#000000; stroke-width:2; stroke-opacity:0.1; fill:none\" points=\"\n",
       "  180.66,1487.47 180.66,47.2441 \n",
       "  \"/>\n",
       "<polyline clip-path=\"url(#clip7402)\" style=\"stroke:#000000; stroke-width:2; stroke-opacity:0.1; fill:none\" points=\"\n",
       "  615.079,1487.47 615.079,47.2441 \n",
       "  \"/>\n",
       "<polyline clip-path=\"url(#clip7402)\" style=\"stroke:#000000; stroke-width:2; stroke-opacity:0.1; fill:none\" points=\"\n",
       "  1049.5,1487.47 1049.5,47.2441 \n",
       "  \"/>\n",
       "<polyline clip-path=\"url(#clip7402)\" style=\"stroke:#000000; stroke-width:2; stroke-opacity:0.1; fill:none\" points=\"\n",
       "  1483.92,1487.47 1483.92,47.2441 \n",
       "  \"/>\n",
       "<polyline clip-path=\"url(#clip7402)\" style=\"stroke:#000000; stroke-width:2; stroke-opacity:0.1; fill:none\" points=\"\n",
       "  1918.34,1487.47 1918.34,47.2441 \n",
       "  \"/>\n",
       "<polyline clip-path=\"url(#clip7402)\" style=\"stroke:#000000; stroke-width:2; stroke-opacity:0.1; fill:none\" points=\"\n",
       "  2352.76,1487.47 2352.76,47.2441 \n",
       "  \"/>\n",
       "<polyline clip-path=\"url(#clip7402)\" style=\"stroke:#000000; stroke-width:2; stroke-opacity:0.1; fill:none\" points=\"\n",
       "  180.66,1367.46 2352.76,1367.46 \n",
       "  \"/>\n",
       "<polyline clip-path=\"url(#clip7402)\" style=\"stroke:#000000; stroke-width:2; stroke-opacity:0.1; fill:none\" points=\"\n",
       "  180.66,1067.41 2352.76,1067.41 \n",
       "  \"/>\n",
       "<polyline clip-path=\"url(#clip7402)\" style=\"stroke:#000000; stroke-width:2; stroke-opacity:0.1; fill:none\" points=\"\n",
       "  180.66,767.359 2352.76,767.359 \n",
       "  \"/>\n",
       "<polyline clip-path=\"url(#clip7402)\" style=\"stroke:#000000; stroke-width:2; stroke-opacity:0.1; fill:none\" points=\"\n",
       "  180.66,467.311 2352.76,467.311 \n",
       "  \"/>\n",
       "<polyline clip-path=\"url(#clip7402)\" style=\"stroke:#000000; stroke-width:2; stroke-opacity:0.1; fill:none\" points=\"\n",
       "  180.66,167.263 2352.76,167.263 \n",
       "  \"/>\n",
       "<polyline clip-path=\"url(#clip7400)\" style=\"stroke:#000000; stroke-width:4; stroke-opacity:1; fill:none\" points=\"\n",
       "  180.66,1487.47 2352.76,1487.47 \n",
       "  \"/>\n",
       "<polyline clip-path=\"url(#clip7400)\" style=\"stroke:#000000; stroke-width:4; stroke-opacity:1; fill:none\" points=\"\n",
       "  180.66,1487.47 180.66,47.2441 \n",
       "  \"/>\n",
       "<polyline clip-path=\"url(#clip7400)\" style=\"stroke:#000000; stroke-width:4; stroke-opacity:1; fill:none\" points=\"\n",
       "  180.66,1487.47 180.66,1470.19 \n",
       "  \"/>\n",
       "<polyline clip-path=\"url(#clip7400)\" style=\"stroke:#000000; stroke-width:4; stroke-opacity:1; fill:none\" points=\"\n",
       "  615.079,1487.47 615.079,1470.19 \n",
       "  \"/>\n",
       "<polyline clip-path=\"url(#clip7400)\" style=\"stroke:#000000; stroke-width:4; stroke-opacity:1; fill:none\" points=\"\n",
       "  1049.5,1487.47 1049.5,1470.19 \n",
       "  \"/>\n",
       "<polyline clip-path=\"url(#clip7400)\" style=\"stroke:#000000; stroke-width:4; stroke-opacity:1; fill:none\" points=\"\n",
       "  1483.92,1487.47 1483.92,1470.19 \n",
       "  \"/>\n",
       "<polyline clip-path=\"url(#clip7400)\" style=\"stroke:#000000; stroke-width:4; stroke-opacity:1; fill:none\" points=\"\n",
       "  1918.34,1487.47 1918.34,1470.19 \n",
       "  \"/>\n",
       "<polyline clip-path=\"url(#clip7400)\" style=\"stroke:#000000; stroke-width:4; stroke-opacity:1; fill:none\" points=\"\n",
       "  2352.76,1487.47 2352.76,1470.19 \n",
       "  \"/>\n",
       "<polyline clip-path=\"url(#clip7400)\" style=\"stroke:#000000; stroke-width:4; stroke-opacity:1; fill:none\" points=\"\n",
       "  180.66,1367.46 206.725,1367.46 \n",
       "  \"/>\n",
       "<polyline clip-path=\"url(#clip7400)\" style=\"stroke:#000000; stroke-width:4; stroke-opacity:1; fill:none\" points=\"\n",
       "  180.66,1067.41 206.725,1067.41 \n",
       "  \"/>\n",
       "<polyline clip-path=\"url(#clip7400)\" style=\"stroke:#000000; stroke-width:4; stroke-opacity:1; fill:none\" points=\"\n",
       "  180.66,767.359 206.725,767.359 \n",
       "  \"/>\n",
       "<polyline clip-path=\"url(#clip7400)\" style=\"stroke:#000000; stroke-width:4; stroke-opacity:1; fill:none\" points=\"\n",
       "  180.66,467.311 206.725,467.311 \n",
       "  \"/>\n",
       "<polyline clip-path=\"url(#clip7400)\" style=\"stroke:#000000; stroke-width:4; stroke-opacity:1; fill:none\" points=\"\n",
       "  180.66,167.263 206.725,167.263 \n",
       "  \"/>\n",
       "<g clip-path=\"url(#clip7400)\">\n",
       "<text style=\"fill:#000000; fill-opacity:1; font-family:Arial,Helvetica Neue,Helvetica,sans-serif; font-size:48px; text-anchor:middle;\" transform=\"rotate(0, 180.66, 1541.47)\" x=\"180.66\" y=\"1541.47\">0.0</text>\n",
       "</g>\n",
       "<g clip-path=\"url(#clip7400)\">\n",
       "<text style=\"fill:#000000; fill-opacity:1; font-family:Arial,Helvetica Neue,Helvetica,sans-serif; font-size:48px; text-anchor:middle;\" transform=\"rotate(0, 615.079, 1541.47)\" x=\"615.079\" y=\"1541.47\">0.2</text>\n",
       "</g>\n",
       "<g clip-path=\"url(#clip7400)\">\n",
       "<text style=\"fill:#000000; fill-opacity:1; font-family:Arial,Helvetica Neue,Helvetica,sans-serif; font-size:48px; text-anchor:middle;\" transform=\"rotate(0, 1049.5, 1541.47)\" x=\"1049.5\" y=\"1541.47\">0.4</text>\n",
       "</g>\n",
       "<g clip-path=\"url(#clip7400)\">\n",
       "<text style=\"fill:#000000; fill-opacity:1; font-family:Arial,Helvetica Neue,Helvetica,sans-serif; font-size:48px; text-anchor:middle;\" transform=\"rotate(0, 1483.92, 1541.47)\" x=\"1483.92\" y=\"1541.47\">0.6</text>\n",
       "</g>\n",
       "<g clip-path=\"url(#clip7400)\">\n",
       "<text style=\"fill:#000000; fill-opacity:1; font-family:Arial,Helvetica Neue,Helvetica,sans-serif; font-size:48px; text-anchor:middle;\" transform=\"rotate(0, 1918.34, 1541.47)\" x=\"1918.34\" y=\"1541.47\">0.8</text>\n",
       "</g>\n",
       "<g clip-path=\"url(#clip7400)\">\n",
       "<text style=\"fill:#000000; fill-opacity:1; font-family:Arial,Helvetica Neue,Helvetica,sans-serif; font-size:48px; text-anchor:middle;\" transform=\"rotate(0, 2352.76, 1541.47)\" x=\"2352.76\" y=\"1541.47\">1.0</text>\n",
       "</g>\n",
       "<g clip-path=\"url(#clip7400)\">\n",
       "<text style=\"fill:#000000; fill-opacity:1; font-family:Arial,Helvetica Neue,Helvetica,sans-serif; font-size:48px; text-anchor:end;\" transform=\"rotate(0, 156.66, 1384.96)\" x=\"156.66\" y=\"1384.96\">0.00</text>\n",
       "</g>\n",
       "<g clip-path=\"url(#clip7400)\">\n",
       "<text style=\"fill:#000000; fill-opacity:1; font-family:Arial,Helvetica Neue,Helvetica,sans-serif; font-size:48px; text-anchor:end;\" transform=\"rotate(0, 156.66, 1084.91)\" x=\"156.66\" y=\"1084.91\">0.25</text>\n",
       "</g>\n",
       "<g clip-path=\"url(#clip7400)\">\n",
       "<text style=\"fill:#000000; fill-opacity:1; font-family:Arial,Helvetica Neue,Helvetica,sans-serif; font-size:48px; text-anchor:end;\" transform=\"rotate(0, 156.66, 784.859)\" x=\"156.66\" y=\"784.859\">0.50</text>\n",
       "</g>\n",
       "<g clip-path=\"url(#clip7400)\">\n",
       "<text style=\"fill:#000000; fill-opacity:1; font-family:Arial,Helvetica Neue,Helvetica,sans-serif; font-size:48px; text-anchor:end;\" transform=\"rotate(0, 156.66, 484.811)\" x=\"156.66\" y=\"484.811\">0.75</text>\n",
       "</g>\n",
       "<g clip-path=\"url(#clip7400)\">\n",
       "<text style=\"fill:#000000; fill-opacity:1; font-family:Arial,Helvetica Neue,Helvetica,sans-serif; font-size:48px; text-anchor:end;\" transform=\"rotate(0, 156.66, 184.763)\" x=\"156.66\" y=\"184.763\">1.00</text>\n",
       "</g>\n",
       "<polyline clip-path=\"url(#clip7402)\" style=\"stroke:#009af9; stroke-width:12; stroke-opacity:1; fill:none\" points=\"\n",
       "  180.66,1367.4 201.873,1367.4 398.011,1367.31 515.882,1367.2 615.54,1367.05 723.797,1366.79 823.6,1366.4 930.6,1365.74 1054.57,1364.42 1164.74,1362.42 \n",
       "  1261.35,1359.62 1366.68,1354.78 1472.63,1346.94 1531.21,1340.73 1589.78,1332.7 1645.51,1322.92 1701.24,1310.51 1759.19,1294.16 1817.14,1273.5 1865.92,1252.12 \n",
       "  1914.7,1226.49 1944.48,1208.52 1974.25,1188.64 2004.03,1166.76 2033.81,1142.8 2061.8,1118.31 2089.79,1091.91 2117.78,1063.61 2145.77,1033.44 2190.62,981.483 \n",
       "  2235.46,925.561 2280.31,866.522 2325.15,805.442 2332.05,795.938 2338.95,786.42 2345.85,776.892 2352.76,767.359 \n",
       "  \"/>\n",
       "<circle clip-path=\"url(#clip7402)\" style=\"fill:#000000; stroke:none; fill-opacity:1\" cx=\"915.954\" cy=\"1367.46\" r=\"21\"/>\n",
       "<circle clip-path=\"url(#clip7402)\" style=\"fill:#e26f46; stroke:none; fill-opacity:1\" cx=\"915.954\" cy=\"1367.46\" r=\"18\"/>\n",
       "<circle clip-path=\"url(#clip7402)\" style=\"fill:#000000; stroke:none; fill-opacity:1\" cx=\"2093.89\" cy=\"167.263\" r=\"21\"/>\n",
       "<circle clip-path=\"url(#clip7402)\" style=\"fill:#3da44d; stroke:none; fill-opacity:1\" cx=\"2093.89\" cy=\"167.263\" r=\"18\"/>\n",
       "<path clip-path=\"url(#clip7400)\" d=\"\n",
       "M252.66 372.684 L653.234 372.684 L653.234 130.764 L252.66 130.764  Z\n",
       "  \" fill=\"#ffffff\" fill-rule=\"evenodd\" fill-opacity=\"1\"/>\n",
       "<polyline clip-path=\"url(#clip7400)\" style=\"stroke:#000000; stroke-width:4; stroke-opacity:1; fill:none\" points=\"\n",
       "  252.66,372.684 653.234,372.684 653.234,130.764 252.66,130.764 252.66,372.684 \n",
       "  \"/>\n",
       "<polyline clip-path=\"url(#clip7400)\" style=\"stroke:#009af9; stroke-width:12; stroke-opacity:1; fill:none\" points=\"\n",
       "  276.66,191.244 420.66,191.244 \n",
       "  \"/>\n",
       "<g clip-path=\"url(#clip7400)\">\n",
       "<text style=\"fill:#000000; fill-opacity:1; font-family:Arial,Helvetica Neue,Helvetica,sans-serif; font-size:48px; text-anchor:start;\" transform=\"rotate(0, 444.66, 208.744)\" x=\"444.66\" y=\"208.744\">model</text>\n",
       "</g>\n",
       "<circle clip-path=\"url(#clip7400)\" style=\"fill:#000000; stroke:none; fill-opacity:1\" cx=\"360.66\" cy=\"251.724\" r=\"25\"/>\n",
       "<circle clip-path=\"url(#clip7400)\" style=\"fill:#e26f46; stroke:none; fill-opacity:1\" cx=\"360.66\" cy=\"251.724\" r=\"21\"/>\n",
       "<g clip-path=\"url(#clip7400)\">\n",
       "<text style=\"fill:#000000; fill-opacity:1; font-family:Arial,Helvetica Neue,Helvetica,sans-serif; font-size:48px; text-anchor:start;\" transform=\"rotate(0, 444.66, 269.224)\" x=\"444.66\" y=\"269.224\">apple</text>\n",
       "</g>\n",
       "<circle clip-path=\"url(#clip7400)\" style=\"fill:#000000; stroke:none; fill-opacity:1\" cx=\"360.66\" cy=\"312.204\" r=\"25\"/>\n",
       "<circle clip-path=\"url(#clip7400)\" style=\"fill:#3da44d; stroke:none; fill-opacity:1\" cx=\"360.66\" cy=\"312.204\" r=\"21\"/>\n",
       "<g clip-path=\"url(#clip7400)\">\n",
       "<text style=\"fill:#000000; fill-opacity:1; font-family:Arial,Helvetica Neue,Helvetica,sans-serif; font-size:48px; text-anchor:start;\" transform=\"rotate(0, 444.66, 329.704)\" x=\"444.66\" y=\"329.704\">banana</text>\n",
       "</g>\n",
       "</svg>\n"
      ]
     },
     "execution_count": 6,
     "metadata": {},
     "output_type": "execute_result"
    }
   ],
   "source": [
    "w = 10.0 # try manipulating w between -10 and 30\n",
    "b = 10.0 # try manipulating b between 0 and 20\n",
    "\n",
    "plot(x -> σ(x, w, b), xlim=(-0,1), ylim=(-0.1,1.1), label=\"model\", legend=:topleft, lw=3)\n",
    "\n",
    "scatter!([apple_green_amount],  [0.0], label=\"apple\", ms=5)   # marker size = 5\n",
    "scatter!([banana_green_amount], [1.0], label=\"banana\", ms=5)"
   ]
  },
  {
   "cell_type": "code",
   "execution_count": 13,
   "metadata": {},
   "outputs": [],
   "source": [
    "using Interact"
   ]
  },
  {
   "cell_type": "code",
   "execution_count": 14,
   "metadata": {},
   "outputs": [
    {
     "data": {
      "application/vnd.webio.node+json": {
       "children": [
        {
         "children": [
          {
           "children": [
            {
             "children": [
              {
               "children": [
                {
                 "children": [
                  "w"
                 ],
                 "instanceArgs": {
                  "namespace": "html",
                  "tag": "label"
                 },
                 "nodeType": "DOM",
                 "props": {
                  "className": "interact ",
                  "style": {
                   "padding": "5px 10px 0px 10px"
                  }
                 },
                 "type": "node"
                }
               ],
               "instanceArgs": {
                "namespace": "html",
                "tag": "div"
               },
               "nodeType": "DOM",
               "props": {
                "className": "interact-flex-row-left"
               },
               "type": "node"
              },
              {
               "children": [
                {
                 "children": [],
                 "instanceArgs": {
                  "namespace": "html",
                  "tag": "input"
                 },
                 "nodeType": "DOM",
                 "props": {
                  "attributes": {
                   "data-bind": "numericValue: index, valueUpdate: 'input', event: {change: function (){this.changes(this.changes()+1)}}",
                   "orient": "horizontal",
                   "type": "range"
                  },
                  "className": "slider slider is-fullwidth",
                  "max": 4001,
                  "min": 1,
                  "step": 1,
                  "style": {}
                 },
                 "type": "node"
                }
               ],
               "instanceArgs": {
                "namespace": "html",
                "tag": "div"
               },
               "nodeType": "DOM",
               "props": {
                "className": "interact-flex-row-center"
               },
               "type": "node"
              },
              {
               "children": [
                {
                 "children": [],
                 "instanceArgs": {
                  "namespace": "html",
                  "tag": "p"
                 },
                 "nodeType": "DOM",
                 "props": {
                  "attributes": {
                   "data-bind": "text: formatted_val"
                  }
                 },
                 "type": "node"
                }
               ],
               "instanceArgs": {
                "namespace": "html",
                "tag": "div"
               },
               "nodeType": "DOM",
               "props": {
                "className": "interact-flex-row-right"
               },
               "type": "node"
              }
             ],
             "instanceArgs": {
              "namespace": "html",
              "tag": "div"
             },
             "nodeType": "DOM",
             "props": {
              "className": "interact-flex-row interact-widget"
             },
             "type": "node"
            }
           ],
           "instanceArgs": {
            "handlers": {
             "changes": [
              "(function (val){return (val!=this.model[\"changes\"]()) ? (this.valueFromJulia[\"changes\"]=true, this.model[\"changes\"](val)) : undefined})"
             ],
             "index": [
              "(function (val){return (val!=this.model[\"index\"]()) ? (this.valueFromJulia[\"index\"]=true, this.model[\"index\"](val)) : undefined})"
             ]
            },
            "id": "7936559740058411857",
            "imports": {
             "data": [
              {
               "name": "knockout",
               "type": "js",
               "url": "/assetserver/0e408749c48bdf320cff510588f31e1b0173133c-knockout.js"
              },
              {
               "name": "knockout_punches",
               "type": "js",
               "url": "/assetserver/a3a43557819f8cc1c4cea9496b4d4a77212507ee-knockout_punches.js"
              },
              {
               "name": null,
               "type": "js",
               "url": "/assetserver/945325143ba7fe2937cdb272fc55d17f63839e43-all.js"
              },
              {
               "name": null,
               "type": "css",
               "url": "/assetserver/7783c00ca61c9df17c8321cd19f354ef277da9b0-style.css"
              },
              {
               "name": null,
               "type": "css",
               "url": "/assetserver/b23615e7c1fa57d5c1e45c084590fb1d9bbd3c04-bulma_confined.min.css"
              }
             ],
             "type": "async_block"
            },
            "mount_callbacks": [
             "function () {\n    var handler = (function (ko, koPunches) {\n    ko.punches.enableAll();\n    ko.bindingHandlers.numericValue = {\n        init: function(element, valueAccessor, allBindings, data, context) {\n            var stringified = ko.observable(ko.unwrap(valueAccessor()));\n            stringified.subscribe(function(value) {\n                var val = parseFloat(value);\n                if (!isNaN(val)) {\n                    valueAccessor()(val);\n                }\n            });\n            valueAccessor().subscribe(function(value) {\n                var str = JSON.stringify(value);\n                if ((str == \"0\") && ([\"-0\", \"-0.\"].indexOf(stringified()) >= 0))\n                     return;\n                 if ([\"null\", \"\"].indexOf(str) >= 0)\n                     return;\n                stringified(str);\n            });\n            ko.applyBindingsToNode(\n                element,\n                {\n                    value: stringified,\n                    valueUpdate: allBindings.get('valueUpdate'),\n                },\n                context,\n            );\n        }\n    };\n    var json_data = {\"formatted_vals\":[\"-10.0\",\"-9.99\",\"-9.98\",\"-9.97\",\"-9.96\",\"-9.95\",\"-9.94\",\"-9.93\",\"-9.92\",\"-9.91\",\"-9.9\",\"-9.89\",\"-9.88\",\"-9.87\",\"-9.86\",\"-9.85\",\"-9.84\",\"-9.83\",\"-9.82\",\"-9.81\",\"-9.8\",\"-9.79\",\"-9.78\",\"-9.77\",\"-9.76\",\"-9.75\",\"-9.74\",\"-9.73\",\"-9.72\",\"-9.71\",\"-9.7\",\"-9.69\",\"-9.68\",\"-9.67\",\"-9.66\",\"-9.65\",\"-9.64\",\"-9.63\",\"-9.62\",\"-9.61\",\"-9.6\",\"-9.59\",\"-9.58\",\"-9.57\",\"-9.56\",\"-9.55\",\"-9.54\",\"-9.53\",\"-9.52\",\"-9.51\",\"-9.5\",\"-9.49\",\"-9.48\",\"-9.47\",\"-9.46\",\"-9.45\",\"-9.44\",\"-9.43\",\"-9.42\",\"-9.41\",\"-9.4\",\"-9.39\",\"-9.38\",\"-9.37\",\"-9.36\",\"-9.35\",\"-9.34\",\"-9.33\",\"-9.32\",\"-9.31\",\"-9.3\",\"-9.29\",\"-9.28\",\"-9.27\",\"-9.26\",\"-9.25\",\"-9.24\",\"-9.23\",\"-9.22\",\"-9.21\",\"-9.2\",\"-9.19\",\"-9.18\",\"-9.17\",\"-9.16\",\"-9.15\",\"-9.14\",\"-9.13\",\"-9.12\",\"-9.11\",\"-9.1\",\"-9.09\",\"-9.08\",\"-9.07\",\"-9.06\",\"-9.05\",\"-9.04\",\"-9.03\",\"-9.02\",\"-9.01\",\"-9.0\",\"-8.99\",\"-8.98\",\"-8.97\",\"-8.96\",\"-8.95\",\"-8.94\",\"-8.93\",\"-8.92\",\"-8.91\",\"-8.9\",\"-8.89\",\"-8.88\",\"-8.87\",\"-8.86\",\"-8.85\",\"-8.84\",\"-8.83\",\"-8.82\",\"-8.81\",\"-8.8\",\"-8.79\",\"-8.78\",\"-8.77\",\"-8.76\",\"-8.75\",\"-8.74\",\"-8.73\",\"-8.72\",\"-8.71\",\"-8.7\",\"-8.69\",\"-8.68\",\"-8.67\",\"-8.66\",\"-8.65\",\"-8.64\",\"-8.63\",\"-8.62\",\"-8.61\",\"-8.6\",\"-8.59\",\"-8.58\",\"-8.57\",\"-8.56\",\"-8.55\",\"-8.54\",\"-8.53\",\"-8.52\",\"-8.51\",\"-8.5\",\"-8.49\",\"-8.48\",\"-8.47\",\"-8.46\",\"-8.45\",\"-8.44\",\"-8.43\",\"-8.42\",\"-8.41\",\"-8.4\",\"-8.39\",\"-8.38\",\"-8.37\",\"-8.36\",\"-8.35\",\"-8.34\",\"-8.33\",\"-8.32\",\"-8.31\",\"-8.3\",\"-8.29\",\"-8.28\",\"-8.27\",\"-8.26\",\"-8.25\",\"-8.24\",\"-8.23\",\"-8.22\",\"-8.21\",\"-8.2\",\"-8.19\",\"-8.18\",\"-8.17\",\"-8.16\",\"-8.15\",\"-8.14\",\"-8.13\",\"-8.12\",\"-8.11\",\"-8.1\",\"-8.09\",\"-8.08\",\"-8.07\",\"-8.06\",\"-8.05\",\"-8.04\",\"-8.03\",\"-8.02\",\"-8.01\",\"-8.0\",\"-7.99\",\"-7.98\",\"-7.97\",\"-7.96\",\"-7.95\",\"-7.94\",\"-7.93\",\"-7.92\",\"-7.91\",\"-7.9\",\"-7.89\",\"-7.88\",\"-7.87\",\"-7.86\",\"-7.85\",\"-7.84\",\"-7.83\",\"-7.82\",\"-7.81\",\"-7.8\",\"-7.79\",\"-7.78\",\"-7.77\",\"-7.76\",\"-7.75\",\"-7.74\",\"-7.73\",\"-7.72\",\"-7.71\",\"-7.7\",\"-7.69\",\"-7.68\",\"-7.67\",\"-7.66\",\"-7.65\",\"-7.64\",\"-7.63\",\"-7.62\",\"-7.61\",\"-7.6\",\"-7.59\",\"-7.58\",\"-7.57\",\"-7.56\",\"-7.55\",\"-7.54\",\"-7.53\",\"-7.52\",\"-7.51\",\"-7.5\",\"-7.49\",\"-7.48\",\"-7.47\",\"-7.46\",\"-7.45\",\"-7.44\",\"-7.43\",\"-7.42\",\"-7.41\",\"-7.4\",\"-7.39\",\"-7.38\",\"-7.37\",\"-7.36\",\"-7.35\",\"-7.34\",\"-7.33\",\"-7.32\",\"-7.31\",\"-7.3\",\"-7.29\",\"-7.28\",\"-7.27\",\"-7.26\",\"-7.25\",\"-7.24\",\"-7.23\",\"-7.22\",\"-7.21\",\"-7.2\",\"-7.19\",\"-7.18\",\"-7.17\",\"-7.16\",\"-7.15\",\"-7.14\",\"-7.13\",\"-7.12\",\"-7.11\",\"-7.1\",\"-7.09\",\"-7.08\",\"-7.07\",\"-7.06\",\"-7.05\",\"-7.04\",\"-7.03\",\"-7.02\",\"-7.01\",\"-7.0\",\"-6.99\",\"-6.98\",\"-6.97\",\"-6.96\",\"-6.95\",\"-6.94\",\"-6.93\",\"-6.92\",\"-6.91\",\"-6.9\",\"-6.89\",\"-6.88\",\"-6.87\",\"-6.86\",\"-6.85\",\"-6.84\",\"-6.83\",\"-6.82\",\"-6.81\",\"-6.8\",\"-6.79\",\"-6.78\",\"-6.77\",\"-6.76\",\"-6.75\",\"-6.74\",\"-6.73\",\"-6.72\",\"-6.71\",\"-6.7\",\"-6.69\",\"-6.68\",\"-6.67\",\"-6.66\",\"-6.65\",\"-6.64\",\"-6.63\",\"-6.62\",\"-6.61\",\"-6.6\",\"-6.59\",\"-6.58\",\"-6.57\",\"-6.56\",\"-6.55\",\"-6.54\",\"-6.53\",\"-6.52\",\"-6.51\",\"-6.5\",\"-6.49\",\"-6.48\",\"-6.47\",\"-6.46\",\"-6.45\",\"-6.44\",\"-6.43\",\"-6.42\",\"-6.41\",\"-6.4\",\"-6.39\",\"-6.38\",\"-6.37\",\"-6.36\",\"-6.35\",\"-6.34\",\"-6.33\",\"-6.32\",\"-6.31\",\"-6.3\",\"-6.29\",\"-6.28\",\"-6.27\",\"-6.26\",\"-6.25\",\"-6.24\",\"-6.23\",\"-6.22\",\"-6.21\",\"-6.2\",\"-6.19\",\"-6.18\",\"-6.17\",\"-6.16\",\"-6.15\",\"-6.14\",\"-6.13\",\"-6.12\",\"-6.11\",\"-6.1\",\"-6.09\",\"-6.08\",\"-6.07\",\"-6.06\",\"-6.05\",\"-6.04\",\"-6.03\",\"-6.02\",\"-6.01\",\"-6.0\",\"-5.99\",\"-5.98\",\"-5.97\",\"-5.96\",\"-5.95\",\"-5.94\",\"-5.93\",\"-5.92\",\"-5.91\",\"-5.9\",\"-5.89\",\"-5.88\",\"-5.87\",\"-5.86\",\"-5.85\",\"-5.84\",\"-5.83\",\"-5.82\",\"-5.81\",\"-5.8\",\"-5.79\",\"-5.78\",\"-5.77\",\"-5.76\",\"-5.75\",\"-5.74\",\"-5.73\",\"-5.72\",\"-5.71\",\"-5.7\",\"-5.69\",\"-5.68\",\"-5.67\",\"-5.66\",\"-5.65\",\"-5.64\",\"-5.63\",\"-5.62\",\"-5.61\",\"-5.6\",\"-5.59\",\"-5.58\",\"-5.57\",\"-5.56\",\"-5.55\",\"-5.54\",\"-5.53\",\"-5.52\",\"-5.51\",\"-5.5\",\"-5.49\",\"-5.48\",\"-5.47\",\"-5.46\",\"-5.45\",\"-5.44\",\"-5.43\",\"-5.42\",\"-5.41\",\"-5.4\",\"-5.39\",\"-5.38\",\"-5.37\",\"-5.36\",\"-5.35\",\"-5.34\",\"-5.33\",\"-5.32\",\"-5.31\",\"-5.3\",\"-5.29\",\"-5.28\",\"-5.27\",\"-5.26\",\"-5.25\",\"-5.24\",\"-5.23\",\"-5.22\",\"-5.21\",\"-5.2\",\"-5.19\",\"-5.18\",\"-5.17\",\"-5.16\",\"-5.15\",\"-5.14\",\"-5.13\",\"-5.12\",\"-5.11\",\"-5.1\",\"-5.09\",\"-5.08\",\"-5.07\",\"-5.06\",\"-5.05\",\"-5.04\",\"-5.03\",\"-5.02\",\"-5.01\",\"-5.0\",\"-4.99\",\"-4.98\",\"-4.97\",\"-4.96\",\"-4.95\",\"-4.94\",\"-4.93\",\"-4.92\",\"-4.91\",\"-4.9\",\"-4.89\",\"-4.88\",\"-4.87\",\"-4.86\",\"-4.85\",\"-4.84\",\"-4.83\",\"-4.82\",\"-4.81\",\"-4.8\",\"-4.79\",\"-4.78\",\"-4.77\",\"-4.76\",\"-4.75\",\"-4.74\",\"-4.73\",\"-4.72\",\"-4.71\",\"-4.7\",\"-4.69\",\"-4.68\",\"-4.67\",\"-4.66\",\"-4.65\",\"-4.64\",\"-4.63\",\"-4.62\",\"-4.61\",\"-4.6\",\"-4.59\",\"-4.58\",\"-4.57\",\"-4.56\",\"-4.55\",\"-4.54\",\"-4.53\",\"-4.52\",\"-4.51\",\"-4.5\",\"-4.49\",\"-4.48\",\"-4.47\",\"-4.46\",\"-4.45\",\"-4.44\",\"-4.43\",\"-4.42\",\"-4.41\",\"-4.4\",\"-4.39\",\"-4.38\",\"-4.37\",\"-4.36\",\"-4.35\",\"-4.34\",\"-4.33\",\"-4.32\",\"-4.31\",\"-4.3\",\"-4.29\",\"-4.28\",\"-4.27\",\"-4.26\",\"-4.25\",\"-4.24\",\"-4.23\",\"-4.22\",\"-4.21\",\"-4.2\",\"-4.19\",\"-4.18\",\"-4.17\",\"-4.16\",\"-4.15\",\"-4.14\",\"-4.13\",\"-4.12\",\"-4.11\",\"-4.1\",\"-4.09\",\"-4.08\",\"-4.07\",\"-4.06\",\"-4.05\",\"-4.04\",\"-4.03\",\"-4.02\",\"-4.01\",\"-4.0\",\"-3.99\",\"-3.98\",\"-3.97\",\"-3.96\",\"-3.95\",\"-3.94\",\"-3.93\",\"-3.92\",\"-3.91\",\"-3.9\",\"-3.89\",\"-3.88\",\"-3.87\",\"-3.86\",\"-3.85\",\"-3.84\",\"-3.83\",\"-3.82\",\"-3.81\",\"-3.8\",\"-3.79\",\"-3.78\",\"-3.77\",\"-3.76\",\"-3.75\",\"-3.74\",\"-3.73\",\"-3.72\",\"-3.71\",\"-3.7\",\"-3.69\",\"-3.68\",\"-3.67\",\"-3.66\",\"-3.65\",\"-3.64\",\"-3.63\",\"-3.62\",\"-3.61\",\"-3.6\",\"-3.59\",\"-3.58\",\"-3.57\",\"-3.56\",\"-3.55\",\"-3.54\",\"-3.53\",\"-3.52\",\"-3.51\",\"-3.5\",\"-3.49\",\"-3.48\",\"-3.47\",\"-3.46\",\"-3.45\",\"-3.44\",\"-3.43\",\"-3.42\",\"-3.41\",\"-3.4\",\"-3.39\",\"-3.38\",\"-3.37\",\"-3.36\",\"-3.35\",\"-3.34\",\"-3.33\",\"-3.32\",\"-3.31\",\"-3.3\",\"-3.29\",\"-3.28\",\"-3.27\",\"-3.26\",\"-3.25\",\"-3.24\",\"-3.23\",\"-3.22\",\"-3.21\",\"-3.2\",\"-3.19\",\"-3.18\",\"-3.17\",\"-3.16\",\"-3.15\",\"-3.14\",\"-3.13\",\"-3.12\",\"-3.11\",\"-3.1\",\"-3.09\",\"-3.08\",\"-3.07\",\"-3.06\",\"-3.05\",\"-3.04\",\"-3.03\",\"-3.02\",\"-3.01\",\"-3.0\",\"-2.99\",\"-2.98\",\"-2.97\",\"-2.96\",\"-2.95\",\"-2.94\",\"-2.93\",\"-2.92\",\"-2.91\",\"-2.9\",\"-2.89\",\"-2.88\",\"-2.87\",\"-2.86\",\"-2.85\",\"-2.84\",\"-2.83\",\"-2.82\",\"-2.81\",\"-2.8\",\"-2.79\",\"-2.78\",\"-2.77\",\"-2.76\",\"-2.75\",\"-2.74\",\"-2.73\",\"-2.72\",\"-2.71\",\"-2.7\",\"-2.69\",\"-2.68\",\"-2.67\",\"-2.66\",\"-2.65\",\"-2.64\",\"-2.63\",\"-2.62\",\"-2.61\",\"-2.6\",\"-2.59\",\"-2.58\",\"-2.57\",\"-2.56\",\"-2.55\",\"-2.54\",\"-2.53\",\"-2.52\",\"-2.51\",\"-2.5\",\"-2.49\",\"-2.48\",\"-2.47\",\"-2.46\",\"-2.45\",\"-2.44\",\"-2.43\",\"-2.42\",\"-2.41\",\"-2.4\",\"-2.39\",\"-2.38\",\"-2.37\",\"-2.36\",\"-2.35\",\"-2.34\",\"-2.33\",\"-2.32\",\"-2.31\",\"-2.3\",\"-2.29\",\"-2.28\",\"-2.27\",\"-2.26\",\"-2.25\",\"-2.24\",\"-2.23\",\"-2.22\",\"-2.21\",\"-2.2\",\"-2.19\",\"-2.18\",\"-2.17\",\"-2.16\",\"-2.15\",\"-2.14\",\"-2.13\",\"-2.12\",\"-2.11\",\"-2.1\",\"-2.09\",\"-2.08\",\"-2.07\",\"-2.06\",\"-2.05\",\"-2.04\",\"-2.03\",\"-2.02\",\"-2.01\",\"-2.0\",\"-1.99\",\"-1.98\",\"-1.97\",\"-1.96\",\"-1.95\",\"-1.94\",\"-1.93\",\"-1.92\",\"-1.91\",\"-1.9\",\"-1.89\",\"-1.88\",\"-1.87\",\"-1.86\",\"-1.85\",\"-1.84\",\"-1.83\",\"-1.82\",\"-1.81\",\"-1.8\",\"-1.79\",\"-1.78\",\"-1.77\",\"-1.76\",\"-1.75\",\"-1.74\",\"-1.73\",\"-1.72\",\"-1.71\",\"-1.7\",\"-1.69\",\"-1.68\",\"-1.67\",\"-1.66\",\"-1.65\",\"-1.64\",\"-1.63\",\"-1.62\",\"-1.61\",\"-1.6\",\"-1.59\",\"-1.58\",\"-1.57\",\"-1.56\",\"-1.55\",\"-1.54\",\"-1.53\",\"-1.52\",\"-1.51\",\"-1.5\",\"-1.49\",\"-1.48\",\"-1.47\",\"-1.46\",\"-1.45\",\"-1.44\",\"-1.43\",\"-1.42\",\"-1.41\",\"-1.4\",\"-1.39\",\"-1.38\",\"-1.37\",\"-1.36\",\"-1.35\",\"-1.34\",\"-1.33\",\"-1.32\",\"-1.31\",\"-1.3\",\"-1.29\",\"-1.28\",\"-1.27\",\"-1.26\",\"-1.25\",\"-1.24\",\"-1.23\",\"-1.22\",\"-1.21\",\"-1.2\",\"-1.19\",\"-1.18\",\"-1.17\",\"-1.16\",\"-1.15\",\"-1.14\",\"-1.13\",\"-1.12\",\"-1.11\",\"-1.1\",\"-1.09\",\"-1.08\",\"-1.07\",\"-1.06\",\"-1.05\",\"-1.04\",\"-1.03\",\"-1.02\",\"-1.01\",\"-1.0\",\"-0.99\",\"-0.98\",\"-0.97\",\"-0.96\",\"-0.95\",\"-0.94\",\"-0.93\",\"-0.92\",\"-0.91\",\"-0.9\",\"-0.89\",\"-0.88\",\"-0.87\",\"-0.86\",\"-0.85\",\"-0.84\",\"-0.83\",\"-0.82\",\"-0.81\",\"-0.8\",\"-0.79\",\"-0.78\",\"-0.77\",\"-0.76\",\"-0.75\",\"-0.74\",\"-0.73\",\"-0.72\",\"-0.71\",\"-0.7\",\"-0.69\",\"-0.68\",\"-0.67\",\"-0.66\",\"-0.65\",\"-0.64\",\"-0.63\",\"-0.62\",\"-0.61\",\"-0.6\",\"-0.59\",\"-0.58\",\"-0.57\",\"-0.56\",\"-0.55\",\"-0.54\",\"-0.53\",\"-0.52\",\"-0.51\",\"-0.5\",\"-0.49\",\"-0.48\",\"-0.47\",\"-0.46\",\"-0.45\",\"-0.44\",\"-0.43\",\"-0.42\",\"-0.41\",\"-0.4\",\"-0.39\",\"-0.38\",\"-0.37\",\"-0.36\",\"-0.35\",\"-0.34\",\"-0.33\",\"-0.32\",\"-0.31\",\"-0.3\",\"-0.29\",\"-0.28\",\"-0.27\",\"-0.26\",\"-0.25\",\"-0.24\",\"-0.23\",\"-0.22\",\"-0.21\",\"-0.2\",\"-0.19\",\"-0.18\",\"-0.17\",\"-0.16\",\"-0.15\",\"-0.14\",\"-0.13\",\"-0.12\",\"-0.11\",\"-0.1\",\"-0.09\",\"-0.08\",\"-0.07\",\"-0.06\",\"-0.05\",\"-0.04\",\"-0.03\",\"-0.02\",\"-0.01\",\"0.0\",\"0.01\",\"0.02\",\"0.03\",\"0.04\",\"0.05\",\"0.06\",\"0.07\",\"0.08\",\"0.09\",\"0.1\",\"0.11\",\"0.12\",\"0.13\",\"0.14\",\"0.15\",\"0.16\",\"0.17\",\"0.18\",\"0.19\",\"0.2\",\"0.21\",\"0.22\",\"0.23\",\"0.24\",\"0.25\",\"0.26\",\"0.27\",\"0.28\",\"0.29\",\"0.3\",\"0.31\",\"0.32\",\"0.33\",\"0.34\",\"0.35\",\"0.36\",\"0.37\",\"0.38\",\"0.39\",\"0.4\",\"0.41\",\"0.42\",\"0.43\",\"0.44\",\"0.45\",\"0.46\",\"0.47\",\"0.48\",\"0.49\",\"0.5\",\"0.51\",\"0.52\",\"0.53\",\"0.54\",\"0.55\",\"0.56\",\"0.57\",\"0.58\",\"0.59\",\"0.6\",\"0.61\",\"0.62\",\"0.63\",\"0.64\",\"0.65\",\"0.66\",\"0.67\",\"0.68\",\"0.69\",\"0.7\",\"0.71\",\"0.72\",\"0.73\",\"0.74\",\"0.75\",\"0.76\",\"0.77\",\"0.78\",\"0.79\",\"0.8\",\"0.81\",\"0.82\",\"0.83\",\"0.84\",\"0.85\",\"0.86\",\"0.87\",\"0.88\",\"0.89\",\"0.9\",\"0.91\",\"0.92\",\"0.93\",\"0.94\",\"0.95\",\"0.96\",\"0.97\",\"0.98\",\"0.99\",\"1.0\",\"1.01\",\"1.02\",\"1.03\",\"1.04\",\"1.05\",\"1.06\",\"1.07\",\"1.08\",\"1.09\",\"1.1\",\"1.11\",\"1.12\",\"1.13\",\"1.14\",\"1.15\",\"1.16\",\"1.17\",\"1.18\",\"1.19\",\"1.2\",\"1.21\",\"1.22\",\"1.23\",\"1.24\",\"1.25\",\"1.26\",\"1.27\",\"1.28\",\"1.29\",\"1.3\",\"1.31\",\"1.32\",\"1.33\",\"1.34\",\"1.35\",\"1.36\",\"1.37\",\"1.38\",\"1.39\",\"1.4\",\"1.41\",\"1.42\",\"1.43\",\"1.44\",\"1.45\",\"1.46\",\"1.47\",\"1.48\",\"1.49\",\"1.5\",\"1.51\",\"1.52\",\"1.53\",\"1.54\",\"1.55\",\"1.56\",\"1.57\",\"1.58\",\"1.59\",\"1.6\",\"1.61\",\"1.62\",\"1.63\",\"1.64\",\"1.65\",\"1.66\",\"1.67\",\"1.68\",\"1.69\",\"1.7\",\"1.71\",\"1.72\",\"1.73\",\"1.74\",\"1.75\",\"1.76\",\"1.77\",\"1.78\",\"1.79\",\"1.8\",\"1.81\",\"1.82\",\"1.83\",\"1.84\",\"1.85\",\"1.86\",\"1.87\",\"1.88\",\"1.89\",\"1.9\",\"1.91\",\"1.92\",\"1.93\",\"1.94\",\"1.95\",\"1.96\",\"1.97\",\"1.98\",\"1.99\",\"2.0\",\"2.01\",\"2.02\",\"2.03\",\"2.04\",\"2.05\",\"2.06\",\"2.07\",\"2.08\",\"2.09\",\"2.1\",\"2.11\",\"2.12\",\"2.13\",\"2.14\",\"2.15\",\"2.16\",\"2.17\",\"2.18\",\"2.19\",\"2.2\",\"2.21\",\"2.22\",\"2.23\",\"2.24\",\"2.25\",\"2.26\",\"2.27\",\"2.28\",\"2.29\",\"2.3\",\"2.31\",\"2.32\",\"2.33\",\"2.34\",\"2.35\",\"2.36\",\"2.37\",\"2.38\",\"2.39\",\"2.4\",\"2.41\",\"2.42\",\"2.43\",\"2.44\",\"2.45\",\"2.46\",\"2.47\",\"2.48\",\"2.49\",\"2.5\",\"2.51\",\"2.52\",\"2.53\",\"2.54\",\"2.55\",\"2.56\",\"2.57\",\"2.58\",\"2.59\",\"2.6\",\"2.61\",\"2.62\",\"2.63\",\"2.64\",\"2.65\",\"2.66\",\"2.67\",\"2.68\",\"2.69\",\"2.7\",\"2.71\",\"2.72\",\"2.73\",\"2.74\",\"2.75\",\"2.76\",\"2.77\",\"2.78\",\"2.79\",\"2.8\",\"2.81\",\"2.82\",\"2.83\",\"2.84\",\"2.85\",\"2.86\",\"2.87\",\"2.88\",\"2.89\",\"2.9\",\"2.91\",\"2.92\",\"2.93\",\"2.94\",\"2.95\",\"2.96\",\"2.97\",\"2.98\",\"2.99\",\"3.0\",\"3.01\",\"3.02\",\"3.03\",\"3.04\",\"3.05\",\"3.06\",\"3.07\",\"3.08\",\"3.09\",\"3.1\",\"3.11\",\"3.12\",\"3.13\",\"3.14\",\"3.15\",\"3.16\",\"3.17\",\"3.18\",\"3.19\",\"3.2\",\"3.21\",\"3.22\",\"3.23\",\"3.24\",\"3.25\",\"3.26\",\"3.27\",\"3.28\",\"3.29\",\"3.3\",\"3.31\",\"3.32\",\"3.33\",\"3.34\",\"3.35\",\"3.36\",\"3.37\",\"3.38\",\"3.39\",\"3.4\",\"3.41\",\"3.42\",\"3.43\",\"3.44\",\"3.45\",\"3.46\",\"3.47\",\"3.48\",\"3.49\",\"3.5\",\"3.51\",\"3.52\",\"3.53\",\"3.54\",\"3.55\",\"3.56\",\"3.57\",\"3.58\",\"3.59\",\"3.6\",\"3.61\",\"3.62\",\"3.63\",\"3.64\",\"3.65\",\"3.66\",\"3.67\",\"3.68\",\"3.69\",\"3.7\",\"3.71\",\"3.72\",\"3.73\",\"3.74\",\"3.75\",\"3.76\",\"3.77\",\"3.78\",\"3.79\",\"3.8\",\"3.81\",\"3.82\",\"3.83\",\"3.84\",\"3.85\",\"3.86\",\"3.87\",\"3.88\",\"3.89\",\"3.9\",\"3.91\",\"3.92\",\"3.93\",\"3.94\",\"3.95\",\"3.96\",\"3.97\",\"3.98\",\"3.99\",\"4.0\",\"4.01\",\"4.02\",\"4.03\",\"4.04\",\"4.05\",\"4.06\",\"4.07\",\"4.08\",\"4.09\",\"4.1\",\"4.11\",\"4.12\",\"4.13\",\"4.14\",\"4.15\",\"4.16\",\"4.17\",\"4.18\",\"4.19\",\"4.2\",\"4.21\",\"4.22\",\"4.23\",\"4.24\",\"4.25\",\"4.26\",\"4.27\",\"4.28\",\"4.29\",\"4.3\",\"4.31\",\"4.32\",\"4.33\",\"4.34\",\"4.35\",\"4.36\",\"4.37\",\"4.38\",\"4.39\",\"4.4\",\"4.41\",\"4.42\",\"4.43\",\"4.44\",\"4.45\",\"4.46\",\"4.47\",\"4.48\",\"4.49\",\"4.5\",\"4.51\",\"4.52\",\"4.53\",\"4.54\",\"4.55\",\"4.56\",\"4.57\",\"4.58\",\"4.59\",\"4.6\",\"4.61\",\"4.62\",\"4.63\",\"4.64\",\"4.65\",\"4.66\",\"4.67\",\"4.68\",\"4.69\",\"4.7\",\"4.71\",\"4.72\",\"4.73\",\"4.74\",\"4.75\",\"4.76\",\"4.77\",\"4.78\",\"4.79\",\"4.8\",\"4.81\",\"4.82\",\"4.83\",\"4.84\",\"4.85\",\"4.86\",\"4.87\",\"4.88\",\"4.89\",\"4.9\",\"4.91\",\"4.92\",\"4.93\",\"4.94\",\"4.95\",\"4.96\",\"4.97\",\"4.98\",\"4.99\",\"5.0\",\"5.01\",\"5.02\",\"5.03\",\"5.04\",\"5.05\",\"5.06\",\"5.07\",\"5.08\",\"5.09\",\"5.1\",\"5.11\",\"5.12\",\"5.13\",\"5.14\",\"5.15\",\"5.16\",\"5.17\",\"5.18\",\"5.19\",\"5.2\",\"5.21\",\"5.22\",\"5.23\",\"5.24\",\"5.25\",\"5.26\",\"5.27\",\"5.28\",\"5.29\",\"5.3\",\"5.31\",\"5.32\",\"5.33\",\"5.34\",\"5.35\",\"5.36\",\"5.37\",\"5.38\",\"5.39\",\"5.4\",\"5.41\",\"5.42\",\"5.43\",\"5.44\",\"5.45\",\"5.46\",\"5.47\",\"5.48\",\"5.49\",\"5.5\",\"5.51\",\"5.52\",\"5.53\",\"5.54\",\"5.55\",\"5.56\",\"5.57\",\"5.58\",\"5.59\",\"5.6\",\"5.61\",\"5.62\",\"5.63\",\"5.64\",\"5.65\",\"5.66\",\"5.67\",\"5.68\",\"5.69\",\"5.7\",\"5.71\",\"5.72\",\"5.73\",\"5.74\",\"5.75\",\"5.76\",\"5.77\",\"5.78\",\"5.79\",\"5.8\",\"5.81\",\"5.82\",\"5.83\",\"5.84\",\"5.85\",\"5.86\",\"5.87\",\"5.88\",\"5.89\",\"5.9\",\"5.91\",\"5.92\",\"5.93\",\"5.94\",\"5.95\",\"5.96\",\"5.97\",\"5.98\",\"5.99\",\"6.0\",\"6.01\",\"6.02\",\"6.03\",\"6.04\",\"6.05\",\"6.06\",\"6.07\",\"6.08\",\"6.09\",\"6.1\",\"6.11\",\"6.12\",\"6.13\",\"6.14\",\"6.15\",\"6.16\",\"6.17\",\"6.18\",\"6.19\",\"6.2\",\"6.21\",\"6.22\",\"6.23\",\"6.24\",\"6.25\",\"6.26\",\"6.27\",\"6.28\",\"6.29\",\"6.3\",\"6.31\",\"6.32\",\"6.33\",\"6.34\",\"6.35\",\"6.36\",\"6.37\",\"6.38\",\"6.39\",\"6.4\",\"6.41\",\"6.42\",\"6.43\",\"6.44\",\"6.45\",\"6.46\",\"6.47\",\"6.48\",\"6.49\",\"6.5\",\"6.51\",\"6.52\",\"6.53\",\"6.54\",\"6.55\",\"6.56\",\"6.57\",\"6.58\",\"6.59\",\"6.6\",\"6.61\",\"6.62\",\"6.63\",\"6.64\",\"6.65\",\"6.66\",\"6.67\",\"6.68\",\"6.69\",\"6.7\",\"6.71\",\"6.72\",\"6.73\",\"6.74\",\"6.75\",\"6.76\",\"6.77\",\"6.78\",\"6.79\",\"6.8\",\"6.81\",\"6.82\",\"6.83\",\"6.84\",\"6.85\",\"6.86\",\"6.87\",\"6.88\",\"6.89\",\"6.9\",\"6.91\",\"6.92\",\"6.93\",\"6.94\",\"6.95\",\"6.96\",\"6.97\",\"6.98\",\"6.99\",\"7.0\",\"7.01\",\"7.02\",\"7.03\",\"7.04\",\"7.05\",\"7.06\",\"7.07\",\"7.08\",\"7.09\",\"7.1\",\"7.11\",\"7.12\",\"7.13\",\"7.14\",\"7.15\",\"7.16\",\"7.17\",\"7.18\",\"7.19\",\"7.2\",\"7.21\",\"7.22\",\"7.23\",\"7.24\",\"7.25\",\"7.26\",\"7.27\",\"7.28\",\"7.29\",\"7.3\",\"7.31\",\"7.32\",\"7.33\",\"7.34\",\"7.35\",\"7.36\",\"7.37\",\"7.38\",\"7.39\",\"7.4\",\"7.41\",\"7.42\",\"7.43\",\"7.44\",\"7.45\",\"7.46\",\"7.47\",\"7.48\",\"7.49\",\"7.5\",\"7.51\",\"7.52\",\"7.53\",\"7.54\",\"7.55\",\"7.56\",\"7.57\",\"7.58\",\"7.59\",\"7.6\",\"7.61\",\"7.62\",\"7.63\",\"7.64\",\"7.65\",\"7.66\",\"7.67\",\"7.68\",\"7.69\",\"7.7\",\"7.71\",\"7.72\",\"7.73\",\"7.74\",\"7.75\",\"7.76\",\"7.77\",\"7.78\",\"7.79\",\"7.8\",\"7.81\",\"7.82\",\"7.83\",\"7.84\",\"7.85\",\"7.86\",\"7.87\",\"7.88\",\"7.89\",\"7.9\",\"7.91\",\"7.92\",\"7.93\",\"7.94\",\"7.95\",\"7.96\",\"7.97\",\"7.98\",\"7.99\",\"8.0\",\"8.01\",\"8.02\",\"8.03\",\"8.04\",\"8.05\",\"8.06\",\"8.07\",\"8.08\",\"8.09\",\"8.1\",\"8.11\",\"8.12\",\"8.13\",\"8.14\",\"8.15\",\"8.16\",\"8.17\",\"8.18\",\"8.19\",\"8.2\",\"8.21\",\"8.22\",\"8.23\",\"8.24\",\"8.25\",\"8.26\",\"8.27\",\"8.28\",\"8.29\",\"8.3\",\"8.31\",\"8.32\",\"8.33\",\"8.34\",\"8.35\",\"8.36\",\"8.37\",\"8.38\",\"8.39\",\"8.4\",\"8.41\",\"8.42\",\"8.43\",\"8.44\",\"8.45\",\"8.46\",\"8.47\",\"8.48\",\"8.49\",\"8.5\",\"8.51\",\"8.52\",\"8.53\",\"8.54\",\"8.55\",\"8.56\",\"8.57\",\"8.58\",\"8.59\",\"8.6\",\"8.61\",\"8.62\",\"8.63\",\"8.64\",\"8.65\",\"8.66\",\"8.67\",\"8.68\",\"8.69\",\"8.7\",\"8.71\",\"8.72\",\"8.73\",\"8.74\",\"8.75\",\"8.76\",\"8.77\",\"8.78\",\"8.79\",\"8.8\",\"8.81\",\"8.82\",\"8.83\",\"8.84\",\"8.85\",\"8.86\",\"8.87\",\"8.88\",\"8.89\",\"8.9\",\"8.91\",\"8.92\",\"8.93\",\"8.94\",\"8.95\",\"8.96\",\"8.97\",\"8.98\",\"8.99\",\"9.0\",\"9.01\",\"9.02\",\"9.03\",\"9.04\",\"9.05\",\"9.06\",\"9.07\",\"9.08\",\"9.09\",\"9.1\",\"9.11\",\"9.12\",\"9.13\",\"9.14\",\"9.15\",\"9.16\",\"9.17\",\"9.18\",\"9.19\",\"9.2\",\"9.21\",\"9.22\",\"9.23\",\"9.24\",\"9.25\",\"9.26\",\"9.27\",\"9.28\",\"9.29\",\"9.3\",\"9.31\",\"9.32\",\"9.33\",\"9.34\",\"9.35\",\"9.36\",\"9.37\",\"9.38\",\"9.39\",\"9.4\",\"9.41\",\"9.42\",\"9.43\",\"9.44\",\"9.45\",\"9.46\",\"9.47\",\"9.48\",\"9.49\",\"9.5\",\"9.51\",\"9.52\",\"9.53\",\"9.54\",\"9.55\",\"9.56\",\"9.57\",\"9.58\",\"9.59\",\"9.6\",\"9.61\",\"9.62\",\"9.63\",\"9.64\",\"9.65\",\"9.66\",\"9.67\",\"9.68\",\"9.69\",\"9.7\",\"9.71\",\"9.72\",\"9.73\",\"9.74\",\"9.75\",\"9.76\",\"9.77\",\"9.78\",\"9.79\",\"9.8\",\"9.81\",\"9.82\",\"9.83\",\"9.84\",\"9.85\",\"9.86\",\"9.87\",\"9.88\",\"9.89\",\"9.9\",\"9.91\",\"9.92\",\"9.93\",\"9.94\",\"9.95\",\"9.96\",\"9.97\",\"9.98\",\"9.99\",\"10.0\",\"10.01\",\"10.02\",\"10.03\",\"10.04\",\"10.05\",\"10.06\",\"10.07\",\"10.08\",\"10.09\",\"10.1\",\"10.11\",\"10.12\",\"10.13\",\"10.14\",\"10.15\",\"10.16\",\"10.17\",\"10.18\",\"10.19\",\"10.2\",\"10.21\",\"10.22\",\"10.23\",\"10.24\",\"10.25\",\"10.26\",\"10.27\",\"10.28\",\"10.29\",\"10.3\",\"10.31\",\"10.32\",\"10.33\",\"10.34\",\"10.35\",\"10.36\",\"10.37\",\"10.38\",\"10.39\",\"10.4\",\"10.41\",\"10.42\",\"10.43\",\"10.44\",\"10.45\",\"10.46\",\"10.47\",\"10.48\",\"10.49\",\"10.5\",\"10.51\",\"10.52\",\"10.53\",\"10.54\",\"10.55\",\"10.56\",\"10.57\",\"10.58\",\"10.59\",\"10.6\",\"10.61\",\"10.62\",\"10.63\",\"10.64\",\"10.65\",\"10.66\",\"10.67\",\"10.68\",\"10.69\",\"10.7\",\"10.71\",\"10.72\",\"10.73\",\"10.74\",\"10.75\",\"10.76\",\"10.77\",\"10.78\",\"10.79\",\"10.8\",\"10.81\",\"10.82\",\"10.83\",\"10.84\",\"10.85\",\"10.86\",\"10.87\",\"10.88\",\"10.89\",\"10.9\",\"10.91\",\"10.92\",\"10.93\",\"10.94\",\"10.95\",\"10.96\",\"10.97\",\"10.98\",\"10.99\",\"11.0\",\"11.01\",\"11.02\",\"11.03\",\"11.04\",\"11.05\",\"11.06\",\"11.07\",\"11.08\",\"11.09\",\"11.1\",\"11.11\",\"11.12\",\"11.13\",\"11.14\",\"11.15\",\"11.16\",\"11.17\",\"11.18\",\"11.19\",\"11.2\",\"11.21\",\"11.22\",\"11.23\",\"11.24\",\"11.25\",\"11.26\",\"11.27\",\"11.28\",\"11.29\",\"11.3\",\"11.31\",\"11.32\",\"11.33\",\"11.34\",\"11.35\",\"11.36\",\"11.37\",\"11.38\",\"11.39\",\"11.4\",\"11.41\",\"11.42\",\"11.43\",\"11.44\",\"11.45\",\"11.46\",\"11.47\",\"11.48\",\"11.49\",\"11.5\",\"11.51\",\"11.52\",\"11.53\",\"11.54\",\"11.55\",\"11.56\",\"11.57\",\"11.58\",\"11.59\",\"11.6\",\"11.61\",\"11.62\",\"11.63\",\"11.64\",\"11.65\",\"11.66\",\"11.67\",\"11.68\",\"11.69\",\"11.7\",\"11.71\",\"11.72\",\"11.73\",\"11.74\",\"11.75\",\"11.76\",\"11.77\",\"11.78\",\"11.79\",\"11.8\",\"11.81\",\"11.82\",\"11.83\",\"11.84\",\"11.85\",\"11.86\",\"11.87\",\"11.88\",\"11.89\",\"11.9\",\"11.91\",\"11.92\",\"11.93\",\"11.94\",\"11.95\",\"11.96\",\"11.97\",\"11.98\",\"11.99\",\"12.0\",\"12.01\",\"12.02\",\"12.03\",\"12.04\",\"12.05\",\"12.06\",\"12.07\",\"12.08\",\"12.09\",\"12.1\",\"12.11\",\"12.12\",\"12.13\",\"12.14\",\"12.15\",\"12.16\",\"12.17\",\"12.18\",\"12.19\",\"12.2\",\"12.21\",\"12.22\",\"12.23\",\"12.24\",\"12.25\",\"12.26\",\"12.27\",\"12.28\",\"12.29\",\"12.3\",\"12.31\",\"12.32\",\"12.33\",\"12.34\",\"12.35\",\"12.36\",\"12.37\",\"12.38\",\"12.39\",\"12.4\",\"12.41\",\"12.42\",\"12.43\",\"12.44\",\"12.45\",\"12.46\",\"12.47\",\"12.48\",\"12.49\",\"12.5\",\"12.51\",\"12.52\",\"12.53\",\"12.54\",\"12.55\",\"12.56\",\"12.57\",\"12.58\",\"12.59\",\"12.6\",\"12.61\",\"12.62\",\"12.63\",\"12.64\",\"12.65\",\"12.66\",\"12.67\",\"12.68\",\"12.69\",\"12.7\",\"12.71\",\"12.72\",\"12.73\",\"12.74\",\"12.75\",\"12.76\",\"12.77\",\"12.78\",\"12.79\",\"12.8\",\"12.81\",\"12.82\",\"12.83\",\"12.84\",\"12.85\",\"12.86\",\"12.87\",\"12.88\",\"12.89\",\"12.9\",\"12.91\",\"12.92\",\"12.93\",\"12.94\",\"12.95\",\"12.96\",\"12.97\",\"12.98\",\"12.99\",\"13.0\",\"13.01\",\"13.02\",\"13.03\",\"13.04\",\"13.05\",\"13.06\",\"13.07\",\"13.08\",\"13.09\",\"13.1\",\"13.11\",\"13.12\",\"13.13\",\"13.14\",\"13.15\",\"13.16\",\"13.17\",\"13.18\",\"13.19\",\"13.2\",\"13.21\",\"13.22\",\"13.23\",\"13.24\",\"13.25\",\"13.26\",\"13.27\",\"13.28\",\"13.29\",\"13.3\",\"13.31\",\"13.32\",\"13.33\",\"13.34\",\"13.35\",\"13.36\",\"13.37\",\"13.38\",\"13.39\",\"13.4\",\"13.41\",\"13.42\",\"13.43\",\"13.44\",\"13.45\",\"13.46\",\"13.47\",\"13.48\",\"13.49\",\"13.5\",\"13.51\",\"13.52\",\"13.53\",\"13.54\",\"13.55\",\"13.56\",\"13.57\",\"13.58\",\"13.59\",\"13.6\",\"13.61\",\"13.62\",\"13.63\",\"13.64\",\"13.65\",\"13.66\",\"13.67\",\"13.68\",\"13.69\",\"13.7\",\"13.71\",\"13.72\",\"13.73\",\"13.74\",\"13.75\",\"13.76\",\"13.77\",\"13.78\",\"13.79\",\"13.8\",\"13.81\",\"13.82\",\"13.83\",\"13.84\",\"13.85\",\"13.86\",\"13.87\",\"13.88\",\"13.89\",\"13.9\",\"13.91\",\"13.92\",\"13.93\",\"13.94\",\"13.95\",\"13.96\",\"13.97\",\"13.98\",\"13.99\",\"14.0\",\"14.01\",\"14.02\",\"14.03\",\"14.04\",\"14.05\",\"14.06\",\"14.07\",\"14.08\",\"14.09\",\"14.1\",\"14.11\",\"14.12\",\"14.13\",\"14.14\",\"14.15\",\"14.16\",\"14.17\",\"14.18\",\"14.19\",\"14.2\",\"14.21\",\"14.22\",\"14.23\",\"14.24\",\"14.25\",\"14.26\",\"14.27\",\"14.28\",\"14.29\",\"14.3\",\"14.31\",\"14.32\",\"14.33\",\"14.34\",\"14.35\",\"14.36\",\"14.37\",\"14.38\",\"14.39\",\"14.4\",\"14.41\",\"14.42\",\"14.43\",\"14.44\",\"14.45\",\"14.46\",\"14.47\",\"14.48\",\"14.49\",\"14.5\",\"14.51\",\"14.52\",\"14.53\",\"14.54\",\"14.55\",\"14.56\",\"14.57\",\"14.58\",\"14.59\",\"14.6\",\"14.61\",\"14.62\",\"14.63\",\"14.64\",\"14.65\",\"14.66\",\"14.67\",\"14.68\",\"14.69\",\"14.7\",\"14.71\",\"14.72\",\"14.73\",\"14.74\",\"14.75\",\"14.76\",\"14.77\",\"14.78\",\"14.79\",\"14.8\",\"14.81\",\"14.82\",\"14.83\",\"14.84\",\"14.85\",\"14.86\",\"14.87\",\"14.88\",\"14.89\",\"14.9\",\"14.91\",\"14.92\",\"14.93\",\"14.94\",\"14.95\",\"14.96\",\"14.97\",\"14.98\",\"14.99\",\"15.0\",\"15.01\",\"15.02\",\"15.03\",\"15.04\",\"15.05\",\"15.06\",\"15.07\",\"15.08\",\"15.09\",\"15.1\",\"15.11\",\"15.12\",\"15.13\",\"15.14\",\"15.15\",\"15.16\",\"15.17\",\"15.18\",\"15.19\",\"15.2\",\"15.21\",\"15.22\",\"15.23\",\"15.24\",\"15.25\",\"15.26\",\"15.27\",\"15.28\",\"15.29\",\"15.3\",\"15.31\",\"15.32\",\"15.33\",\"15.34\",\"15.35\",\"15.36\",\"15.37\",\"15.38\",\"15.39\",\"15.4\",\"15.41\",\"15.42\",\"15.43\",\"15.44\",\"15.45\",\"15.46\",\"15.47\",\"15.48\",\"15.49\",\"15.5\",\"15.51\",\"15.52\",\"15.53\",\"15.54\",\"15.55\",\"15.56\",\"15.57\",\"15.58\",\"15.59\",\"15.6\",\"15.61\",\"15.62\",\"15.63\",\"15.64\",\"15.65\",\"15.66\",\"15.67\",\"15.68\",\"15.69\",\"15.7\",\"15.71\",\"15.72\",\"15.73\",\"15.74\",\"15.75\",\"15.76\",\"15.77\",\"15.78\",\"15.79\",\"15.8\",\"15.81\",\"15.82\",\"15.83\",\"15.84\",\"15.85\",\"15.86\",\"15.87\",\"15.88\",\"15.89\",\"15.9\",\"15.91\",\"15.92\",\"15.93\",\"15.94\",\"15.95\",\"15.96\",\"15.97\",\"15.98\",\"15.99\",\"16.0\",\"16.01\",\"16.02\",\"16.03\",\"16.04\",\"16.05\",\"16.06\",\"16.07\",\"16.08\",\"16.09\",\"16.1\",\"16.11\",\"16.12\",\"16.13\",\"16.14\",\"16.15\",\"16.16\",\"16.17\",\"16.18\",\"16.19\",\"16.2\",\"16.21\",\"16.22\",\"16.23\",\"16.24\",\"16.25\",\"16.26\",\"16.27\",\"16.28\",\"16.29\",\"16.3\",\"16.31\",\"16.32\",\"16.33\",\"16.34\",\"16.35\",\"16.36\",\"16.37\",\"16.38\",\"16.39\",\"16.4\",\"16.41\",\"16.42\",\"16.43\",\"16.44\",\"16.45\",\"16.46\",\"16.47\",\"16.48\",\"16.49\",\"16.5\",\"16.51\",\"16.52\",\"16.53\",\"16.54\",\"16.55\",\"16.56\",\"16.57\",\"16.58\",\"16.59\",\"16.6\",\"16.61\",\"16.62\",\"16.63\",\"16.64\",\"16.65\",\"16.66\",\"16.67\",\"16.68\",\"16.69\",\"16.7\",\"16.71\",\"16.72\",\"16.73\",\"16.74\",\"16.75\",\"16.76\",\"16.77\",\"16.78\",\"16.79\",\"16.8\",\"16.81\",\"16.82\",\"16.83\",\"16.84\",\"16.85\",\"16.86\",\"16.87\",\"16.88\",\"16.89\",\"16.9\",\"16.91\",\"16.92\",\"16.93\",\"16.94\",\"16.95\",\"16.96\",\"16.97\",\"16.98\",\"16.99\",\"17.0\",\"17.01\",\"17.02\",\"17.03\",\"17.04\",\"17.05\",\"17.06\",\"17.07\",\"17.08\",\"17.09\",\"17.1\",\"17.11\",\"17.12\",\"17.13\",\"17.14\",\"17.15\",\"17.16\",\"17.17\",\"17.18\",\"17.19\",\"17.2\",\"17.21\",\"17.22\",\"17.23\",\"17.24\",\"17.25\",\"17.26\",\"17.27\",\"17.28\",\"17.29\",\"17.3\",\"17.31\",\"17.32\",\"17.33\",\"17.34\",\"17.35\",\"17.36\",\"17.37\",\"17.38\",\"17.39\",\"17.4\",\"17.41\",\"17.42\",\"17.43\",\"17.44\",\"17.45\",\"17.46\",\"17.47\",\"17.48\",\"17.49\",\"17.5\",\"17.51\",\"17.52\",\"17.53\",\"17.54\",\"17.55\",\"17.56\",\"17.57\",\"17.58\",\"17.59\",\"17.6\",\"17.61\",\"17.62\",\"17.63\",\"17.64\",\"17.65\",\"17.66\",\"17.67\",\"17.68\",\"17.69\",\"17.7\",\"17.71\",\"17.72\",\"17.73\",\"17.74\",\"17.75\",\"17.76\",\"17.77\",\"17.78\",\"17.79\",\"17.8\",\"17.81\",\"17.82\",\"17.83\",\"17.84\",\"17.85\",\"17.86\",\"17.87\",\"17.88\",\"17.89\",\"17.9\",\"17.91\",\"17.92\",\"17.93\",\"17.94\",\"17.95\",\"17.96\",\"17.97\",\"17.98\",\"17.99\",\"18.0\",\"18.01\",\"18.02\",\"18.03\",\"18.04\",\"18.05\",\"18.06\",\"18.07\",\"18.08\",\"18.09\",\"18.1\",\"18.11\",\"18.12\",\"18.13\",\"18.14\",\"18.15\",\"18.16\",\"18.17\",\"18.18\",\"18.19\",\"18.2\",\"18.21\",\"18.22\",\"18.23\",\"18.24\",\"18.25\",\"18.26\",\"18.27\",\"18.28\",\"18.29\",\"18.3\",\"18.31\",\"18.32\",\"18.33\",\"18.34\",\"18.35\",\"18.36\",\"18.37\",\"18.38\",\"18.39\",\"18.4\",\"18.41\",\"18.42\",\"18.43\",\"18.44\",\"18.45\",\"18.46\",\"18.47\",\"18.48\",\"18.49\",\"18.5\",\"18.51\",\"18.52\",\"18.53\",\"18.54\",\"18.55\",\"18.56\",\"18.57\",\"18.58\",\"18.59\",\"18.6\",\"18.61\",\"18.62\",\"18.63\",\"18.64\",\"18.65\",\"18.66\",\"18.67\",\"18.68\",\"18.69\",\"18.7\",\"18.71\",\"18.72\",\"18.73\",\"18.74\",\"18.75\",\"18.76\",\"18.77\",\"18.78\",\"18.79\",\"18.8\",\"18.81\",\"18.82\",\"18.83\",\"18.84\",\"18.85\",\"18.86\",\"18.87\",\"18.88\",\"18.89\",\"18.9\",\"18.91\",\"18.92\",\"18.93\",\"18.94\",\"18.95\",\"18.96\",\"18.97\",\"18.98\",\"18.99\",\"19.0\",\"19.01\",\"19.02\",\"19.03\",\"19.04\",\"19.05\",\"19.06\",\"19.07\",\"19.08\",\"19.09\",\"19.1\",\"19.11\",\"19.12\",\"19.13\",\"19.14\",\"19.15\",\"19.16\",\"19.17\",\"19.18\",\"19.19\",\"19.2\",\"19.21\",\"19.22\",\"19.23\",\"19.24\",\"19.25\",\"19.26\",\"19.27\",\"19.28\",\"19.29\",\"19.3\",\"19.31\",\"19.32\",\"19.33\",\"19.34\",\"19.35\",\"19.36\",\"19.37\",\"19.38\",\"19.39\",\"19.4\",\"19.41\",\"19.42\",\"19.43\",\"19.44\",\"19.45\",\"19.46\",\"19.47\",\"19.48\",\"19.49\",\"19.5\",\"19.51\",\"19.52\",\"19.53\",\"19.54\",\"19.55\",\"19.56\",\"19.57\",\"19.58\",\"19.59\",\"19.6\",\"19.61\",\"19.62\",\"19.63\",\"19.64\",\"19.65\",\"19.66\",\"19.67\",\"19.68\",\"19.69\",\"19.7\",\"19.71\",\"19.72\",\"19.73\",\"19.74\",\"19.75\",\"19.76\",\"19.77\",\"19.78\",\"19.79\",\"19.8\",\"19.81\",\"19.82\",\"19.83\",\"19.84\",\"19.85\",\"19.86\",\"19.87\",\"19.88\",\"19.89\",\"19.9\",\"19.91\",\"19.92\",\"19.93\",\"19.94\",\"19.95\",\"19.96\",\"19.97\",\"19.98\",\"19.99\",\"20.0\",\"20.01\",\"20.02\",\"20.03\",\"20.04\",\"20.05\",\"20.06\",\"20.07\",\"20.08\",\"20.09\",\"20.1\",\"20.11\",\"20.12\",\"20.13\",\"20.14\",\"20.15\",\"20.16\",\"20.17\",\"20.18\",\"20.19\",\"20.2\",\"20.21\",\"20.22\",\"20.23\",\"20.24\",\"20.25\",\"20.26\",\"20.27\",\"20.28\",\"20.29\",\"20.3\",\"20.31\",\"20.32\",\"20.33\",\"20.34\",\"20.35\",\"20.36\",\"20.37\",\"20.38\",\"20.39\",\"20.4\",\"20.41\",\"20.42\",\"20.43\",\"20.44\",\"20.45\",\"20.46\",\"20.47\",\"20.48\",\"20.49\",\"20.5\",\"20.51\",\"20.52\",\"20.53\",\"20.54\",\"20.55\",\"20.56\",\"20.57\",\"20.58\",\"20.59\",\"20.6\",\"20.61\",\"20.62\",\"20.63\",\"20.64\",\"20.65\",\"20.66\",\"20.67\",\"20.68\",\"20.69\",\"20.7\",\"20.71\",\"20.72\",\"20.73\",\"20.74\",\"20.75\",\"20.76\",\"20.77\",\"20.78\",\"20.79\",\"20.8\",\"20.81\",\"20.82\",\"20.83\",\"20.84\",\"20.85\",\"20.86\",\"20.87\",\"20.88\",\"20.89\",\"20.9\",\"20.91\",\"20.92\",\"20.93\",\"20.94\",\"20.95\",\"20.96\",\"20.97\",\"20.98\",\"20.99\",\"21.0\",\"21.01\",\"21.02\",\"21.03\",\"21.04\",\"21.05\",\"21.06\",\"21.07\",\"21.08\",\"21.09\",\"21.1\",\"21.11\",\"21.12\",\"21.13\",\"21.14\",\"21.15\",\"21.16\",\"21.17\",\"21.18\",\"21.19\",\"21.2\",\"21.21\",\"21.22\",\"21.23\",\"21.24\",\"21.25\",\"21.26\",\"21.27\",\"21.28\",\"21.29\",\"21.3\",\"21.31\",\"21.32\",\"21.33\",\"21.34\",\"21.35\",\"21.36\",\"21.37\",\"21.38\",\"21.39\",\"21.4\",\"21.41\",\"21.42\",\"21.43\",\"21.44\",\"21.45\",\"21.46\",\"21.47\",\"21.48\",\"21.49\",\"21.5\",\"21.51\",\"21.52\",\"21.53\",\"21.54\",\"21.55\",\"21.56\",\"21.57\",\"21.58\",\"21.59\",\"21.6\",\"21.61\",\"21.62\",\"21.63\",\"21.64\",\"21.65\",\"21.66\",\"21.67\",\"21.68\",\"21.69\",\"21.7\",\"21.71\",\"21.72\",\"21.73\",\"21.74\",\"21.75\",\"21.76\",\"21.77\",\"21.78\",\"21.79\",\"21.8\",\"21.81\",\"21.82\",\"21.83\",\"21.84\",\"21.85\",\"21.86\",\"21.87\",\"21.88\",\"21.89\",\"21.9\",\"21.91\",\"21.92\",\"21.93\",\"21.94\",\"21.95\",\"21.96\",\"21.97\",\"21.98\",\"21.99\",\"22.0\",\"22.01\",\"22.02\",\"22.03\",\"22.04\",\"22.05\",\"22.06\",\"22.07\",\"22.08\",\"22.09\",\"22.1\",\"22.11\",\"22.12\",\"22.13\",\"22.14\",\"22.15\",\"22.16\",\"22.17\",\"22.18\",\"22.19\",\"22.2\",\"22.21\",\"22.22\",\"22.23\",\"22.24\",\"22.25\",\"22.26\",\"22.27\",\"22.28\",\"22.29\",\"22.3\",\"22.31\",\"22.32\",\"22.33\",\"22.34\",\"22.35\",\"22.36\",\"22.37\",\"22.38\",\"22.39\",\"22.4\",\"22.41\",\"22.42\",\"22.43\",\"22.44\",\"22.45\",\"22.46\",\"22.47\",\"22.48\",\"22.49\",\"22.5\",\"22.51\",\"22.52\",\"22.53\",\"22.54\",\"22.55\",\"22.56\",\"22.57\",\"22.58\",\"22.59\",\"22.6\",\"22.61\",\"22.62\",\"22.63\",\"22.64\",\"22.65\",\"22.66\",\"22.67\",\"22.68\",\"22.69\",\"22.7\",\"22.71\",\"22.72\",\"22.73\",\"22.74\",\"22.75\",\"22.76\",\"22.77\",\"22.78\",\"22.79\",\"22.8\",\"22.81\",\"22.82\",\"22.83\",\"22.84\",\"22.85\",\"22.86\",\"22.87\",\"22.88\",\"22.89\",\"22.9\",\"22.91\",\"22.92\",\"22.93\",\"22.94\",\"22.95\",\"22.96\",\"22.97\",\"22.98\",\"22.99\",\"23.0\",\"23.01\",\"23.02\",\"23.03\",\"23.04\",\"23.05\",\"23.06\",\"23.07\",\"23.08\",\"23.09\",\"23.1\",\"23.11\",\"23.12\",\"23.13\",\"23.14\",\"23.15\",\"23.16\",\"23.17\",\"23.18\",\"23.19\",\"23.2\",\"23.21\",\"23.22\",\"23.23\",\"23.24\",\"23.25\",\"23.26\",\"23.27\",\"23.28\",\"23.29\",\"23.3\",\"23.31\",\"23.32\",\"23.33\",\"23.34\",\"23.35\",\"23.36\",\"23.37\",\"23.38\",\"23.39\",\"23.4\",\"23.41\",\"23.42\",\"23.43\",\"23.44\",\"23.45\",\"23.46\",\"23.47\",\"23.48\",\"23.49\",\"23.5\",\"23.51\",\"23.52\",\"23.53\",\"23.54\",\"23.55\",\"23.56\",\"23.57\",\"23.58\",\"23.59\",\"23.6\",\"23.61\",\"23.62\",\"23.63\",\"23.64\",\"23.65\",\"23.66\",\"23.67\",\"23.68\",\"23.69\",\"23.7\",\"23.71\",\"23.72\",\"23.73\",\"23.74\",\"23.75\",\"23.76\",\"23.77\",\"23.78\",\"23.79\",\"23.8\",\"23.81\",\"23.82\",\"23.83\",\"23.84\",\"23.85\",\"23.86\",\"23.87\",\"23.88\",\"23.89\",\"23.9\",\"23.91\",\"23.92\",\"23.93\",\"23.94\",\"23.95\",\"23.96\",\"23.97\",\"23.98\",\"23.99\",\"24.0\",\"24.01\",\"24.02\",\"24.03\",\"24.04\",\"24.05\",\"24.06\",\"24.07\",\"24.08\",\"24.09\",\"24.1\",\"24.11\",\"24.12\",\"24.13\",\"24.14\",\"24.15\",\"24.16\",\"24.17\",\"24.18\",\"24.19\",\"24.2\",\"24.21\",\"24.22\",\"24.23\",\"24.24\",\"24.25\",\"24.26\",\"24.27\",\"24.28\",\"24.29\",\"24.3\",\"24.31\",\"24.32\",\"24.33\",\"24.34\",\"24.35\",\"24.36\",\"24.37\",\"24.38\",\"24.39\",\"24.4\",\"24.41\",\"24.42\",\"24.43\",\"24.44\",\"24.45\",\"24.46\",\"24.47\",\"24.48\",\"24.49\",\"24.5\",\"24.51\",\"24.52\",\"24.53\",\"24.54\",\"24.55\",\"24.56\",\"24.57\",\"24.58\",\"24.59\",\"24.6\",\"24.61\",\"24.62\",\"24.63\",\"24.64\",\"24.65\",\"24.66\",\"24.67\",\"24.68\",\"24.69\",\"24.7\",\"24.71\",\"24.72\",\"24.73\",\"24.74\",\"24.75\",\"24.76\",\"24.77\",\"24.78\",\"24.79\",\"24.8\",\"24.81\",\"24.82\",\"24.83\",\"24.84\",\"24.85\",\"24.86\",\"24.87\",\"24.88\",\"24.89\",\"24.9\",\"24.91\",\"24.92\",\"24.93\",\"24.94\",\"24.95\",\"24.96\",\"24.97\",\"24.98\",\"24.99\",\"25.0\",\"25.01\",\"25.02\",\"25.03\",\"25.04\",\"25.05\",\"25.06\",\"25.07\",\"25.08\",\"25.09\",\"25.1\",\"25.11\",\"25.12\",\"25.13\",\"25.14\",\"25.15\",\"25.16\",\"25.17\",\"25.18\",\"25.19\",\"25.2\",\"25.21\",\"25.22\",\"25.23\",\"25.24\",\"25.25\",\"25.26\",\"25.27\",\"25.28\",\"25.29\",\"25.3\",\"25.31\",\"25.32\",\"25.33\",\"25.34\",\"25.35\",\"25.36\",\"25.37\",\"25.38\",\"25.39\",\"25.4\",\"25.41\",\"25.42\",\"25.43\",\"25.44\",\"25.45\",\"25.46\",\"25.47\",\"25.48\",\"25.49\",\"25.5\",\"25.51\",\"25.52\",\"25.53\",\"25.54\",\"25.55\",\"25.56\",\"25.57\",\"25.58\",\"25.59\",\"25.6\",\"25.61\",\"25.62\",\"25.63\",\"25.64\",\"25.65\",\"25.66\",\"25.67\",\"25.68\",\"25.69\",\"25.7\",\"25.71\",\"25.72\",\"25.73\",\"25.74\",\"25.75\",\"25.76\",\"25.77\",\"25.78\",\"25.79\",\"25.8\",\"25.81\",\"25.82\",\"25.83\",\"25.84\",\"25.85\",\"25.86\",\"25.87\",\"25.88\",\"25.89\",\"25.9\",\"25.91\",\"25.92\",\"25.93\",\"25.94\",\"25.95\",\"25.96\",\"25.97\",\"25.98\",\"25.99\",\"26.0\",\"26.01\",\"26.02\",\"26.03\",\"26.04\",\"26.05\",\"26.06\",\"26.07\",\"26.08\",\"26.09\",\"26.1\",\"26.11\",\"26.12\",\"26.13\",\"26.14\",\"26.15\",\"26.16\",\"26.17\",\"26.18\",\"26.19\",\"26.2\",\"26.21\",\"26.22\",\"26.23\",\"26.24\",\"26.25\",\"26.26\",\"26.27\",\"26.28\",\"26.29\",\"26.3\",\"26.31\",\"26.32\",\"26.33\",\"26.34\",\"26.35\",\"26.36\",\"26.37\",\"26.38\",\"26.39\",\"26.4\",\"26.41\",\"26.42\",\"26.43\",\"26.44\",\"26.45\",\"26.46\",\"26.47\",\"26.48\",\"26.49\",\"26.5\",\"26.51\",\"26.52\",\"26.53\",\"26.54\",\"26.55\",\"26.56\",\"26.57\",\"26.58\",\"26.59\",\"26.6\",\"26.61\",\"26.62\",\"26.63\",\"26.64\",\"26.65\",\"26.66\",\"26.67\",\"26.68\",\"26.69\",\"26.7\",\"26.71\",\"26.72\",\"26.73\",\"26.74\",\"26.75\",\"26.76\",\"26.77\",\"26.78\",\"26.79\",\"26.8\",\"26.81\",\"26.82\",\"26.83\",\"26.84\",\"26.85\",\"26.86\",\"26.87\",\"26.88\",\"26.89\",\"26.9\",\"26.91\",\"26.92\",\"26.93\",\"26.94\",\"26.95\",\"26.96\",\"26.97\",\"26.98\",\"26.99\",\"27.0\",\"27.01\",\"27.02\",\"27.03\",\"27.04\",\"27.05\",\"27.06\",\"27.07\",\"27.08\",\"27.09\",\"27.1\",\"27.11\",\"27.12\",\"27.13\",\"27.14\",\"27.15\",\"27.16\",\"27.17\",\"27.18\",\"27.19\",\"27.2\",\"27.21\",\"27.22\",\"27.23\",\"27.24\",\"27.25\",\"27.26\",\"27.27\",\"27.28\",\"27.29\",\"27.3\",\"27.31\",\"27.32\",\"27.33\",\"27.34\",\"27.35\",\"27.36\",\"27.37\",\"27.38\",\"27.39\",\"27.4\",\"27.41\",\"27.42\",\"27.43\",\"27.44\",\"27.45\",\"27.46\",\"27.47\",\"27.48\",\"27.49\",\"27.5\",\"27.51\",\"27.52\",\"27.53\",\"27.54\",\"27.55\",\"27.56\",\"27.57\",\"27.58\",\"27.59\",\"27.6\",\"27.61\",\"27.62\",\"27.63\",\"27.64\",\"27.65\",\"27.66\",\"27.67\",\"27.68\",\"27.69\",\"27.7\",\"27.71\",\"27.72\",\"27.73\",\"27.74\",\"27.75\",\"27.76\",\"27.77\",\"27.78\",\"27.79\",\"27.8\",\"27.81\",\"27.82\",\"27.83\",\"27.84\",\"27.85\",\"27.86\",\"27.87\",\"27.88\",\"27.89\",\"27.9\",\"27.91\",\"27.92\",\"27.93\",\"27.94\",\"27.95\",\"27.96\",\"27.97\",\"27.98\",\"27.99\",\"28.0\",\"28.01\",\"28.02\",\"28.03\",\"28.04\",\"28.05\",\"28.06\",\"28.07\",\"28.08\",\"28.09\",\"28.1\",\"28.11\",\"28.12\",\"28.13\",\"28.14\",\"28.15\",\"28.16\",\"28.17\",\"28.18\",\"28.19\",\"28.2\",\"28.21\",\"28.22\",\"28.23\",\"28.24\",\"28.25\",\"28.26\",\"28.27\",\"28.28\",\"28.29\",\"28.3\",\"28.31\",\"28.32\",\"28.33\",\"28.34\",\"28.35\",\"28.36\",\"28.37\",\"28.38\",\"28.39\",\"28.4\",\"28.41\",\"28.42\",\"28.43\",\"28.44\",\"28.45\",\"28.46\",\"28.47\",\"28.48\",\"28.49\",\"28.5\",\"28.51\",\"28.52\",\"28.53\",\"28.54\",\"28.55\",\"28.56\",\"28.57\",\"28.58\",\"28.59\",\"28.6\",\"28.61\",\"28.62\",\"28.63\",\"28.64\",\"28.65\",\"28.66\",\"28.67\",\"28.68\",\"28.69\",\"28.7\",\"28.71\",\"28.72\",\"28.73\",\"28.74\",\"28.75\",\"28.76\",\"28.77\",\"28.78\",\"28.79\",\"28.8\",\"28.81\",\"28.82\",\"28.83\",\"28.84\",\"28.85\",\"28.86\",\"28.87\",\"28.88\",\"28.89\",\"28.9\",\"28.91\",\"28.92\",\"28.93\",\"28.94\",\"28.95\",\"28.96\",\"28.97\",\"28.98\",\"28.99\",\"29.0\",\"29.01\",\"29.02\",\"29.03\",\"29.04\",\"29.05\",\"29.06\",\"29.07\",\"29.08\",\"29.09\",\"29.1\",\"29.11\",\"29.12\",\"29.13\",\"29.14\",\"29.15\",\"29.16\",\"29.17\",\"29.18\",\"29.19\",\"29.2\",\"29.21\",\"29.22\",\"29.23\",\"29.24\",\"29.25\",\"29.26\",\"29.27\",\"29.28\",\"29.29\",\"29.3\",\"29.31\",\"29.32\",\"29.33\",\"29.34\",\"29.35\",\"29.36\",\"29.37\",\"29.38\",\"29.39\",\"29.4\",\"29.41\",\"29.42\",\"29.43\",\"29.44\",\"29.45\",\"29.46\",\"29.47\",\"29.48\",\"29.49\",\"29.5\",\"29.51\",\"29.52\",\"29.53\",\"29.54\",\"29.55\",\"29.56\",\"29.57\",\"29.58\",\"29.59\",\"29.6\",\"29.61\",\"29.62\",\"29.63\",\"29.64\",\"29.65\",\"29.66\",\"29.67\",\"29.68\",\"29.69\",\"29.7\",\"29.71\",\"29.72\",\"29.73\",\"29.74\",\"29.75\",\"29.76\",\"29.77\",\"29.78\",\"29.79\",\"29.8\",\"29.81\",\"29.82\",\"29.83\",\"29.84\",\"29.85\",\"29.86\",\"29.87\",\"29.88\",\"29.89\",\"29.9\",\"29.91\",\"29.92\",\"29.93\",\"29.94\",\"29.95\",\"29.96\",\"29.97\",\"29.98\",\"29.99\",\"30.0\"],\"changes\":WebIO.getval({\"name\":\"changes\",\"scope\":\"7936559740058411857\",\"id\":\"ob_03\",\"type\":\"observable\"}),\"index\":WebIO.getval({\"name\":\"index\",\"scope\":\"7936559740058411857\",\"id\":\"ob_02\",\"type\":\"observable\"})};\n    var self = this;\n    function AppViewModel() {\n        for (var key in json_data) {\n            var el = json_data[key];\n            this[key] = Array.isArray(el) ? ko.observableArray(el) : ko.observable(el);\n        }\n        \n        [this[\"formatted_val\"]=ko.computed(    function(){\n        return this.formatted_vals()[parseInt(this.index())-(1)];\n    }\n,this)]\n        [this[\"changes\"].subscribe((function (val){!(this.valueFromJulia[\"changes\"]) ? (WebIO.setval({\"name\":\"changes\",\"scope\":\"7936559740058411857\",\"id\":\"ob_03\",\"type\":\"observable\"},val)) : undefined; return this.valueFromJulia[\"changes\"]=false}),self),this[\"index\"].subscribe((function (val){!(this.valueFromJulia[\"index\"]) ? (WebIO.setval({\"name\":\"index\",\"scope\":\"7936559740058411857\",\"id\":\"ob_02\",\"type\":\"observable\"},val)) : undefined; return this.valueFromJulia[\"index\"]=false}),self)]\n        \n    }\n    self.model = new AppViewModel();\n    self.valueFromJulia = {};\n    for (var key in json_data) {\n        self.valueFromJulia[key] = false;\n    }\n    ko.applyBindings(self.model, self.dom);\n}\n);\n    (WebIO.importBlock({\"data\":[{\"name\":\"knockout\",\"type\":\"js\",\"url\":\"/assetserver/0e408749c48bdf320cff510588f31e1b0173133c-knockout.js\"},{\"name\":\"knockout_punches\",\"type\":\"js\",\"url\":\"/assetserver/a3a43557819f8cc1c4cea9496b4d4a77212507ee-knockout_punches.js\"}],\"type\":\"async_block\"})).then((imports) => handler.apply(this, imports));\n}\n"
            ],
            "observables": {
             "changes": {
              "id": "ob_03",
              "sync": false,
              "value": 0
             },
             "index": {
              "id": "ob_02",
              "sync": true,
              "value": 2001
             }
            },
            "systemjs_options": null
           },
           "nodeType": "Scope",
           "props": {},
           "type": "node"
          }
         ],
         "instanceArgs": {
          "namespace": "html",
          "tag": "div"
         },
         "nodeType": "DOM",
         "props": {
          "className": "field interact-widget"
         },
         "type": "node"
        },
        {
         "children": [
          {
           "children": [
            {
             "children": [
              {
               "children": [
                {
                 "children": [
                  "b"
                 ],
                 "instanceArgs": {
                  "namespace": "html",
                  "tag": "label"
                 },
                 "nodeType": "DOM",
                 "props": {
                  "className": "interact ",
                  "style": {
                   "padding": "5px 10px 0px 10px"
                  }
                 },
                 "type": "node"
                }
               ],
               "instanceArgs": {
                "namespace": "html",
                "tag": "div"
               },
               "nodeType": "DOM",
               "props": {
                "className": "interact-flex-row-left"
               },
               "type": "node"
              },
              {
               "children": [
                {
                 "children": [],
                 "instanceArgs": {
                  "namespace": "html",
                  "tag": "input"
                 },
                 "nodeType": "DOM",
                 "props": {
                  "attributes": {
                   "data-bind": "numericValue: index, valueUpdate: 'input', event: {change: function (){this.changes(this.changes()+1)}}",
                   "orient": "horizontal",
                   "type": "range"
                  },
                  "className": "slider slider is-fullwidth",
                  "max": 201,
                  "min": 1,
                  "step": 1,
                  "style": {}
                 },
                 "type": "node"
                }
               ],
               "instanceArgs": {
                "namespace": "html",
                "tag": "div"
               },
               "nodeType": "DOM",
               "props": {
                "className": "interact-flex-row-center"
               },
               "type": "node"
              },
              {
               "children": [
                {
                 "children": [],
                 "instanceArgs": {
                  "namespace": "html",
                  "tag": "p"
                 },
                 "nodeType": "DOM",
                 "props": {
                  "attributes": {
                   "data-bind": "text: formatted_val"
                  }
                 },
                 "type": "node"
                }
               ],
               "instanceArgs": {
                "namespace": "html",
                "tag": "div"
               },
               "nodeType": "DOM",
               "props": {
                "className": "interact-flex-row-right"
               },
               "type": "node"
              }
             ],
             "instanceArgs": {
              "namespace": "html",
              "tag": "div"
             },
             "nodeType": "DOM",
             "props": {
              "className": "interact-flex-row interact-widget"
             },
             "type": "node"
            }
           ],
           "instanceArgs": {
            "handlers": {
             "changes": [
              "(function (val){return (val!=this.model[\"changes\"]()) ? (this.valueFromJulia[\"changes\"]=true, this.model[\"changes\"](val)) : undefined})"
             ],
             "index": [
              "(function (val){return (val!=this.model[\"index\"]()) ? (this.valueFromJulia[\"index\"]=true, this.model[\"index\"](val)) : undefined})"
             ]
            },
            "id": "3238942356498391810",
            "imports": {
             "data": [
              {
               "name": "knockout",
               "type": "js",
               "url": "/assetserver/0e408749c48bdf320cff510588f31e1b0173133c-knockout.js"
              },
              {
               "name": "knockout_punches",
               "type": "js",
               "url": "/assetserver/a3a43557819f8cc1c4cea9496b4d4a77212507ee-knockout_punches.js"
              },
              {
               "name": null,
               "type": "js",
               "url": "/assetserver/945325143ba7fe2937cdb272fc55d17f63839e43-all.js"
              },
              {
               "name": null,
               "type": "css",
               "url": "/assetserver/7783c00ca61c9df17c8321cd19f354ef277da9b0-style.css"
              },
              {
               "name": null,
               "type": "css",
               "url": "/assetserver/b23615e7c1fa57d5c1e45c084590fb1d9bbd3c04-bulma_confined.min.css"
              }
             ],
             "type": "async_block"
            },
            "mount_callbacks": [
             "function () {\n    var handler = (function (ko, koPunches) {\n    ko.punches.enableAll();\n    ko.bindingHandlers.numericValue = {\n        init: function(element, valueAccessor, allBindings, data, context) {\n            var stringified = ko.observable(ko.unwrap(valueAccessor()));\n            stringified.subscribe(function(value) {\n                var val = parseFloat(value);\n                if (!isNaN(val)) {\n                    valueAccessor()(val);\n                }\n            });\n            valueAccessor().subscribe(function(value) {\n                var str = JSON.stringify(value);\n                if ((str == \"0\") && ([\"-0\", \"-0.\"].indexOf(stringified()) >= 0))\n                     return;\n                 if ([\"null\", \"\"].indexOf(str) >= 0)\n                     return;\n                stringified(str);\n            });\n            ko.applyBindingsToNode(\n                element,\n                {\n                    value: stringified,\n                    valueUpdate: allBindings.get('valueUpdate'),\n                },\n                context,\n            );\n        }\n    };\n    var json_data = {\"formatted_vals\":[\"0.0\",\"0.1\",\"0.2\",\"0.3\",\"0.4\",\"0.5\",\"0.6\",\"0.7\",\"0.8\",\"0.9\",\"1.0\",\"1.1\",\"1.2\",\"1.3\",\"1.4\",\"1.5\",\"1.6\",\"1.7\",\"1.8\",\"1.9\",\"2.0\",\"2.1\",\"2.2\",\"2.3\",\"2.4\",\"2.5\",\"2.6\",\"2.7\",\"2.8\",\"2.9\",\"3.0\",\"3.1\",\"3.2\",\"3.3\",\"3.4\",\"3.5\",\"3.6\",\"3.7\",\"3.8\",\"3.9\",\"4.0\",\"4.1\",\"4.2\",\"4.3\",\"4.4\",\"4.5\",\"4.6\",\"4.7\",\"4.8\",\"4.9\",\"5.0\",\"5.1\",\"5.2\",\"5.3\",\"5.4\",\"5.5\",\"5.6\",\"5.7\",\"5.8\",\"5.9\",\"6.0\",\"6.1\",\"6.2\",\"6.3\",\"6.4\",\"6.5\",\"6.6\",\"6.7\",\"6.8\",\"6.9\",\"7.0\",\"7.1\",\"7.2\",\"7.3\",\"7.4\",\"7.5\",\"7.6\",\"7.7\",\"7.8\",\"7.9\",\"8.0\",\"8.1\",\"8.2\",\"8.3\",\"8.4\",\"8.5\",\"8.6\",\"8.7\",\"8.8\",\"8.9\",\"9.0\",\"9.1\",\"9.2\",\"9.3\",\"9.4\",\"9.5\",\"9.6\",\"9.7\",\"9.8\",\"9.9\",\"10.0\",\"10.1\",\"10.2\",\"10.3\",\"10.4\",\"10.5\",\"10.6\",\"10.7\",\"10.8\",\"10.9\",\"11.0\",\"11.1\",\"11.2\",\"11.3\",\"11.4\",\"11.5\",\"11.6\",\"11.7\",\"11.8\",\"11.9\",\"12.0\",\"12.1\",\"12.2\",\"12.3\",\"12.4\",\"12.5\",\"12.6\",\"12.7\",\"12.8\",\"12.9\",\"13.0\",\"13.1\",\"13.2\",\"13.3\",\"13.4\",\"13.5\",\"13.6\",\"13.7\",\"13.8\",\"13.9\",\"14.0\",\"14.1\",\"14.2\",\"14.3\",\"14.4\",\"14.5\",\"14.6\",\"14.7\",\"14.8\",\"14.9\",\"15.0\",\"15.1\",\"15.2\",\"15.3\",\"15.4\",\"15.5\",\"15.6\",\"15.7\",\"15.8\",\"15.9\",\"16.0\",\"16.1\",\"16.2\",\"16.3\",\"16.4\",\"16.5\",\"16.6\",\"16.7\",\"16.8\",\"16.9\",\"17.0\",\"17.1\",\"17.2\",\"17.3\",\"17.4\",\"17.5\",\"17.6\",\"17.7\",\"17.8\",\"17.9\",\"18.0\",\"18.1\",\"18.2\",\"18.3\",\"18.4\",\"18.5\",\"18.6\",\"18.7\",\"18.8\",\"18.9\",\"19.0\",\"19.1\",\"19.2\",\"19.3\",\"19.4\",\"19.5\",\"19.6\",\"19.7\",\"19.8\",\"19.9\",\"20.0\"],\"changes\":WebIO.getval({\"name\":\"changes\",\"scope\":\"3238942356498391810\",\"id\":\"ob_06\",\"type\":\"observable\"}),\"index\":WebIO.getval({\"name\":\"index\",\"scope\":\"3238942356498391810\",\"id\":\"ob_05\",\"type\":\"observable\"})};\n    var self = this;\n    function AppViewModel() {\n        for (var key in json_data) {\n            var el = json_data[key];\n            this[key] = Array.isArray(el) ? ko.observableArray(el) : ko.observable(el);\n        }\n        \n        [this[\"formatted_val\"]=ko.computed(    function(){\n        return this.formatted_vals()[parseInt(this.index())-(1)];\n    }\n,this)]\n        [this[\"changes\"].subscribe((function (val){!(this.valueFromJulia[\"changes\"]) ? (WebIO.setval({\"name\":\"changes\",\"scope\":\"3238942356498391810\",\"id\":\"ob_06\",\"type\":\"observable\"},val)) : undefined; return this.valueFromJulia[\"changes\"]=false}),self),this[\"index\"].subscribe((function (val){!(this.valueFromJulia[\"index\"]) ? (WebIO.setval({\"name\":\"index\",\"scope\":\"3238942356498391810\",\"id\":\"ob_05\",\"type\":\"observable\"},val)) : undefined; return this.valueFromJulia[\"index\"]=false}),self)]\n        \n    }\n    self.model = new AppViewModel();\n    self.valueFromJulia = {};\n    for (var key in json_data) {\n        self.valueFromJulia[key] = false;\n    }\n    ko.applyBindings(self.model, self.dom);\n}\n);\n    (WebIO.importBlock({\"data\":[{\"name\":\"knockout\",\"type\":\"js\",\"url\":\"/assetserver/0e408749c48bdf320cff510588f31e1b0173133c-knockout.js\"},{\"name\":\"knockout_punches\",\"type\":\"js\",\"url\":\"/assetserver/a3a43557819f8cc1c4cea9496b4d4a77212507ee-knockout_punches.js\"}],\"type\":\"async_block\"})).then((imports) => handler.apply(this, imports));\n}\n"
            ],
            "observables": {
             "changes": {
              "id": "ob_06",
              "sync": false,
              "value": 0
             },
             "index": {
              "id": "ob_05",
              "sync": true,
              "value": 101
             }
            },
            "systemjs_options": null
           },
           "nodeType": "Scope",
           "props": {},
           "type": "node"
          }
         ],
         "instanceArgs": {
          "namespace": "html",
          "tag": "div"
         },
         "nodeType": "DOM",
         "props": {
          "className": "field interact-widget"
         },
         "type": "node"
        },
        {
         "children": [
          {
           "children": [],
           "instanceArgs": {
            "id": "ob_12",
            "name": "obs-node"
           },
           "nodeType": "ObservableNode",
           "props": {},
           "type": "node"
          }
         ],
         "instanceArgs": {
          "handlers": {},
          "id": "3420450433971066431",
          "imports": {
           "data": [],
           "type": "async_block"
          },
          "mount_callbacks": [],
          "observables": {
           "obs-node": {
            "id": "ob_12",
            "sync": false,
            "value": {
             "children": [
              {
               "children": [],
               "instanceArgs": {
                "namespace": "html",
                "tag": "div"
               },
               "nodeType": "DOM",
               "props": {
                "setInnerHtml": "<?xml version=\"1.0\" encoding=\"utf-8\"?>\n<svg xmlns=\"http://www.w3.org/2000/svg\" xmlns:xlink=\"http://www.w3.org/1999/xlink\" width=\"600\" height=\"400\" viewBox=\"0 0 2400 1600\">\n<defs>\n  <clipPath id=\"clip9000\">\n    <rect x=\"0\" y=\"0\" width=\"2400\" height=\"1600\"/>\n  </clipPath>\n</defs>\n<path clip-path=\"url(#clip9000)\" d=\"\nM0 1600 L2400 1600 L2400 0 L0 0  Z\n  \" fill=\"#ffffff\" fill-rule=\"evenodd\" fill-opacity=\"1\"/>\n<defs>\n  <clipPath id=\"clip9001\">\n    <rect x=\"480\" y=\"0\" width=\"1681\" height=\"1600\"/>\n  </clipPath>\n</defs>\n<path clip-path=\"url(#clip9000)\" d=\"\nM180.66 1487.47 L2352.76 1487.47 L2352.76 47.2441 L180.66 47.2441  Z\n  \" fill=\"#ffffff\" fill-rule=\"evenodd\" fill-opacity=\"1\"/>\n<defs>\n  <clipPath id=\"clip9002\">\n    <rect x=\"180\" y=\"47\" width=\"2173\" height=\"1441\"/>\n  </clipPath>\n</defs>\n<polyline clip-path=\"url(#clip9002)\" style=\"stroke:#000000; stroke-width:2; stroke-opacity:0.1; fill:none\" points=\"\n  180.66,1487.47 180.66,47.2441 \n  \"/>\n<polyline clip-path=\"url(#clip9002)\" style=\"stroke:#000000; stroke-width:2; stroke-opacity:0.1; fill:none\" points=\"\n  615.079,1487.47 615.079,47.2441 \n  \"/>\n<polyline clip-path=\"url(#clip9002)\" style=\"stroke:#000000; stroke-width:2; stroke-opacity:0.1; fill:none\" points=\"\n  1049.5,1487.47 1049.5,47.2441 \n  \"/>\n<polyline clip-path=\"url(#clip9002)\" style=\"stroke:#000000; stroke-width:2; stroke-opacity:0.1; fill:none\" points=\"\n  1483.92,1487.47 1483.92,47.2441 \n  \"/>\n<polyline clip-path=\"url(#clip9002)\" style=\"stroke:#000000; stroke-width:2; stroke-opacity:0.1; fill:none\" points=\"\n  1918.34,1487.47 1918.34,47.2441 \n  \"/>\n<polyline clip-path=\"url(#clip9002)\" style=\"stroke:#000000; stroke-width:2; stroke-opacity:0.1; fill:none\" points=\"\n  2352.76,1487.47 2352.76,47.2441 \n  \"/>\n<polyline clip-path=\"url(#clip9002)\" style=\"stroke:#000000; stroke-width:2; stroke-opacity:0.1; fill:none\" points=\"\n  180.66,1367.46 2352.76,1367.46 \n  \"/>\n<polyline clip-path=\"url(#clip9002)\" style=\"stroke:#000000; stroke-width:2; stroke-opacity:0.1; fill:none\" points=\"\n  180.66,1067.41 2352.76,1067.41 \n  \"/>\n<polyline clip-path=\"url(#clip9002)\" style=\"stroke:#000000; stroke-width:2; stroke-opacity:0.1; fill:none\" points=\"\n  180.66,767.359 2352.76,767.359 \n  \"/>\n<polyline clip-path=\"url(#clip9002)\" style=\"stroke:#000000; stroke-width:2; stroke-opacity:0.1; fill:none\" points=\"\n  180.66,467.311 2352.76,467.311 \n  \"/>\n<polyline clip-path=\"url(#clip9002)\" style=\"stroke:#000000; stroke-width:2; stroke-opacity:0.1; fill:none\" points=\"\n  180.66,167.263 2352.76,167.263 \n  \"/>\n<polyline clip-path=\"url(#clip9000)\" style=\"stroke:#000000; stroke-width:4; stroke-opacity:1; fill:none\" points=\"\n  180.66,1487.47 2352.76,1487.47 \n  \"/>\n<polyline clip-path=\"url(#clip9000)\" style=\"stroke:#000000; stroke-width:4; stroke-opacity:1; fill:none\" points=\"\n  180.66,1487.47 180.66,47.2441 \n  \"/>\n<polyline clip-path=\"url(#clip9000)\" style=\"stroke:#000000; stroke-width:4; stroke-opacity:1; fill:none\" points=\"\n  180.66,1487.47 180.66,1470.19 \n  \"/>\n<polyline clip-path=\"url(#clip9000)\" style=\"stroke:#000000; stroke-width:4; stroke-opacity:1; fill:none\" points=\"\n  615.079,1487.47 615.079,1470.19 \n  \"/>\n<polyline clip-path=\"url(#clip9000)\" style=\"stroke:#000000; stroke-width:4; stroke-opacity:1; fill:none\" points=\"\n  1049.5,1487.47 1049.5,1470.19 \n  \"/>\n<polyline clip-path=\"url(#clip9000)\" style=\"stroke:#000000; stroke-width:4; stroke-opacity:1; fill:none\" points=\"\n  1483.92,1487.47 1483.92,1470.19 \n  \"/>\n<polyline clip-path=\"url(#clip9000)\" style=\"stroke:#000000; stroke-width:4; stroke-opacity:1; fill:none\" points=\"\n  1918.34,1487.47 1918.34,1470.19 \n  \"/>\n<polyline clip-path=\"url(#clip9000)\" style=\"stroke:#000000; stroke-width:4; stroke-opacity:1; fill:none\" points=\"\n  2352.76,1487.47 2352.76,1470.19 \n  \"/>\n<polyline clip-path=\"url(#clip9000)\" style=\"stroke:#000000; stroke-width:4; stroke-opacity:1; fill:none\" points=\"\n  180.66,1367.46 206.725,1367.46 \n  \"/>\n<polyline clip-path=\"url(#clip9000)\" style=\"stroke:#000000; stroke-width:4; stroke-opacity:1; fill:none\" points=\"\n  180.66,1067.41 206.725,1067.41 \n  \"/>\n<polyline clip-path=\"url(#clip9000)\" style=\"stroke:#000000; stroke-width:4; stroke-opacity:1; fill:none\" points=\"\n  180.66,767.359 206.725,767.359 \n  \"/>\n<polyline clip-path=\"url(#clip9000)\" style=\"stroke:#000000; stroke-width:4; stroke-opacity:1; fill:none\" points=\"\n  180.66,467.311 206.725,467.311 \n  \"/>\n<polyline clip-path=\"url(#clip9000)\" style=\"stroke:#000000; stroke-width:4; stroke-opacity:1; fill:none\" points=\"\n  180.66,167.263 206.725,167.263 \n  \"/>\n<g clip-path=\"url(#clip9000)\">\n<text style=\"fill:#000000; fill-opacity:1; font-family:Arial,Helvetica Neue,Helvetica,sans-serif; font-size:48px; text-anchor:middle;\" transform=\"rotate(0, 180.66, 1541.47)\" x=\"180.66\" y=\"1541.47\">0.0</text>\n</g>\n<g clip-path=\"url(#clip9000)\">\n<text style=\"fill:#000000; fill-opacity:1; font-family:Arial,Helvetica Neue,Helvetica,sans-serif; font-size:48px; text-anchor:middle;\" transform=\"rotate(0, 615.079, 1541.47)\" x=\"615.079\" y=\"1541.47\">0.2</text>\n</g>\n<g clip-path=\"url(#clip9000)\">\n<text style=\"fill:#000000; fill-opacity:1; font-family:Arial,Helvetica Neue,Helvetica,sans-serif; font-size:48px; text-anchor:middle;\" transform=\"rotate(0, 1049.5, 1541.47)\" x=\"1049.5\" y=\"1541.47\">0.4</text>\n</g>\n<g clip-path=\"url(#clip9000)\">\n<text style=\"fill:#000000; fill-opacity:1; font-family:Arial,Helvetica Neue,Helvetica,sans-serif; font-size:48px; text-anchor:middle;\" transform=\"rotate(0, 1483.92, 1541.47)\" x=\"1483.92\" y=\"1541.47\">0.6</text>\n</g>\n<g clip-path=\"url(#clip9000)\">\n<text style=\"fill:#000000; fill-opacity:1; font-family:Arial,Helvetica Neue,Helvetica,sans-serif; font-size:48px; text-anchor:middle;\" transform=\"rotate(0, 1918.34, 1541.47)\" x=\"1918.34\" y=\"1541.47\">0.8</text>\n</g>\n<g clip-path=\"url(#clip9000)\">\n<text style=\"fill:#000000; fill-opacity:1; font-family:Arial,Helvetica Neue,Helvetica,sans-serif; font-size:48px; text-anchor:middle;\" transform=\"rotate(0, 2352.76, 1541.47)\" x=\"2352.76\" y=\"1541.47\">1.0</text>\n</g>\n<g clip-path=\"url(#clip9000)\">\n<text style=\"fill:#000000; fill-opacity:1; font-family:Arial,Helvetica Neue,Helvetica,sans-serif; font-size:48px; text-anchor:end;\" transform=\"rotate(0, 156.66, 1384.96)\" x=\"156.66\" y=\"1384.96\">0.00</text>\n</g>\n<g clip-path=\"url(#clip9000)\">\n<text style=\"fill:#000000; fill-opacity:1; font-family:Arial,Helvetica Neue,Helvetica,sans-serif; font-size:48px; text-anchor:end;\" transform=\"rotate(0, 156.66, 1084.91)\" x=\"156.66\" y=\"1084.91\">0.25</text>\n</g>\n<g clip-path=\"url(#clip9000)\">\n<text style=\"fill:#000000; fill-opacity:1; font-family:Arial,Helvetica Neue,Helvetica,sans-serif; font-size:48px; text-anchor:end;\" transform=\"rotate(0, 156.66, 784.859)\" x=\"156.66\" y=\"784.859\">0.50</text>\n</g>\n<g clip-path=\"url(#clip9000)\">\n<text style=\"fill:#000000; fill-opacity:1; font-family:Arial,Helvetica Neue,Helvetica,sans-serif; font-size:48px; text-anchor:end;\" transform=\"rotate(0, 156.66, 484.811)\" x=\"156.66\" y=\"484.811\">0.75</text>\n</g>\n<g clip-path=\"url(#clip9000)\">\n<text style=\"fill:#000000; fill-opacity:1; font-family:Arial,Helvetica Neue,Helvetica,sans-serif; font-size:48px; text-anchor:end;\" transform=\"rotate(0, 156.66, 184.763)\" x=\"156.66\" y=\"184.763\">1.00</text>\n</g>\n<polyline clip-path=\"url(#clip9002)\" style=\"stroke:#009af9; stroke-width:12; stroke-opacity:1; fill:none\" points=\"\n  180.66,1367.4 201.873,1367.4 398.011,1367.31 515.882,1367.2 615.54,1367.05 723.797,1366.79 823.6,1366.4 930.6,1365.74 1054.57,1364.42 1164.74,1362.42 \n  1261.35,1359.62 1366.68,1354.78 1472.63,1346.94 1531.21,1340.73 1589.78,1332.7 1645.51,1322.92 1701.24,1310.51 1759.19,1294.16 1817.14,1273.5 1865.92,1252.12 \n  1914.7,1226.49 1944.48,1208.52 1974.25,1188.64 2004.03,1166.76 2033.81,1142.8 2061.8,1118.31 2089.79,1091.91 2117.78,1063.61 2145.77,1033.44 2190.62,981.483 \n  2235.46,925.561 2280.31,866.522 2325.15,805.442 2332.05,795.938 2338.95,786.42 2345.85,776.892 2352.76,767.359 \n  \"/>\n<circle clip-path=\"url(#clip9002)\" style=\"fill:#000000; stroke:none; fill-opacity:1\" cx=\"915.954\" cy=\"1367.46\" r=\"21\"/>\n<circle clip-path=\"url(#clip9002)\" style=\"fill:#e26f46; stroke:none; fill-opacity:1\" cx=\"915.954\" cy=\"1367.46\" r=\"18\"/>\n<circle clip-path=\"url(#clip9002)\" style=\"fill:#000000; stroke:none; fill-opacity:1\" cx=\"2093.89\" cy=\"167.263\" r=\"21\"/>\n<circle clip-path=\"url(#clip9002)\" style=\"fill:#3da44d; stroke:none; fill-opacity:1\" cx=\"2093.89\" cy=\"167.263\" r=\"18\"/>\n<path clip-path=\"url(#clip9000)\" d=\"\nM252.66 372.684 L653.234 372.684 L653.234 130.764 L252.66 130.764  Z\n  \" fill=\"#ffffff\" fill-rule=\"evenodd\" fill-opacity=\"1\"/>\n<polyline clip-path=\"url(#clip9000)\" style=\"stroke:#000000; stroke-width:4; stroke-opacity:1; fill:none\" points=\"\n  252.66,372.684 653.234,372.684 653.234,130.764 252.66,130.764 252.66,372.684 \n  \"/>\n<polyline clip-path=\"url(#clip9000)\" style=\"stroke:#009af9; stroke-width:12; stroke-opacity:1; fill:none\" points=\"\n  276.66,191.244 420.66,191.244 \n  \"/>\n<g clip-path=\"url(#clip9000)\">\n<text style=\"fill:#000000; fill-opacity:1; font-family:Arial,Helvetica Neue,Helvetica,sans-serif; font-size:48px; text-anchor:start;\" transform=\"rotate(0, 444.66, 208.744)\" x=\"444.66\" y=\"208.744\">model</text>\n</g>\n<circle clip-path=\"url(#clip9000)\" style=\"fill:#000000; stroke:none; fill-opacity:1\" cx=\"360.66\" cy=\"251.724\" r=\"25\"/>\n<circle clip-path=\"url(#clip9000)\" style=\"fill:#e26f46; stroke:none; fill-opacity:1\" cx=\"360.66\" cy=\"251.724\" r=\"21\"/>\n<g clip-path=\"url(#clip9000)\">\n<text style=\"fill:#000000; fill-opacity:1; font-family:Arial,Helvetica Neue,Helvetica,sans-serif; font-size:48px; text-anchor:start;\" transform=\"rotate(0, 444.66, 269.224)\" x=\"444.66\" y=\"269.224\">apple</text>\n</g>\n<circle clip-path=\"url(#clip9000)\" style=\"fill:#000000; stroke:none; fill-opacity:1\" cx=\"360.66\" cy=\"312.204\" r=\"25\"/>\n<circle clip-path=\"url(#clip9000)\" style=\"fill:#3da44d; stroke:none; fill-opacity:1\" cx=\"360.66\" cy=\"312.204\" r=\"21\"/>\n<g clip-path=\"url(#clip9000)\">\n<text style=\"fill:#000000; fill-opacity:1; font-family:Arial,Helvetica Neue,Helvetica,sans-serif; font-size:48px; text-anchor:start;\" transform=\"rotate(0, 444.66, 329.704)\" x=\"444.66\" y=\"329.704\">banana</text>\n</g>\n</svg>\n"
               },
               "type": "node"
              }
             ],
             "instanceArgs": {
              "namespace": "html",
              "tag": "div"
             },
             "nodeType": "DOM",
             "props": {
              "className": "interact-flex-row interact-widget"
             },
             "type": "node"
            }
           }
          },
          "systemjs_options": null
         },
         "nodeType": "Scope",
         "props": {},
         "type": "node"
        }
       ],
       "instanceArgs": {
        "namespace": "html",
        "tag": "div"
       },
       "nodeType": "DOM",
       "props": {},
       "type": "node"
      },
      "text/html": [
       "<div\n",
       "    class=\"webio-mountpoint\"\n",
       "    data-webio-mountpoint=\"9601074042029410607\"\n",
       ">\n",
       "    <script>\n",
       "    if (window.require && require.defined && require.defined(\"nbextensions/webio-jupyter-notebook\")) {\n",
       "        console.log(\"Jupyter WebIO extension detected, not mounting.\");\n",
       "    } else if (window.WebIO) {\n",
       "        WebIO.mount(\n",
       "            document.querySelector('[data-webio-mountpoint=\"9601074042029410607\"]'),\n",
       "            {\"props\":{},\"nodeType\":\"DOM\",\"type\":\"node\",\"instanceArgs\":{\"namespace\":\"html\",\"tag\":\"div\"},\"children\":[{\"props\":{\"className\":\"field interact-widget\"},\"nodeType\":\"DOM\",\"type\":\"node\",\"instanceArgs\":{\"namespace\":\"html\",\"tag\":\"div\"},\"children\":[{\"props\":{},\"nodeType\":\"Scope\",\"type\":\"node\",\"instanceArgs\":{\"imports\":{\"data\":[{\"name\":\"knockout\",\"type\":\"js\",\"url\":\"\\/assetserver\\/0e408749c48bdf320cff510588f31e1b0173133c-knockout.js\"},{\"name\":\"knockout_punches\",\"type\":\"js\",\"url\":\"\\/assetserver\\/a3a43557819f8cc1c4cea9496b4d4a77212507ee-knockout_punches.js\"},{\"name\":null,\"type\":\"js\",\"url\":\"\\/assetserver\\/945325143ba7fe2937cdb272fc55d17f63839e43-all.js\"},{\"name\":null,\"type\":\"css\",\"url\":\"\\/assetserver\\/7783c00ca61c9df17c8321cd19f354ef277da9b0-style.css\"},{\"name\":null,\"type\":\"css\",\"url\":\"\\/assetserver\\/b23615e7c1fa57d5c1e45c084590fb1d9bbd3c04-bulma_confined.min.css\"}],\"type\":\"async_block\"},\"id\":\"7936559740058411857\",\"handlers\":{\"changes\":[\"(function (val){return (val!=this.model[\\\"changes\\\"]()) ? (this.valueFromJulia[\\\"changes\\\"]=true, this.model[\\\"changes\\\"](val)) : undefined})\"],\"index\":[\"(function (val){return (val!=this.model[\\\"index\\\"]()) ? (this.valueFromJulia[\\\"index\\\"]=true, this.model[\\\"index\\\"](val)) : undefined})\"]},\"systemjs_options\":null,\"mount_callbacks\":[\"function () {\\n    var handler = (function (ko, koPunches) {\\n    ko.punches.enableAll();\\n    ko.bindingHandlers.numericValue = {\\n        init: function(element, valueAccessor, allBindings, data, context) {\\n            var stringified = ko.observable(ko.unwrap(valueAccessor()));\\n            stringified.subscribe(function(value) {\\n                var val = parseFloat(value);\\n                if (!isNaN(val)) {\\n                    valueAccessor()(val);\\n                }\\n            });\\n            valueAccessor().subscribe(function(value) {\\n                var str = JSON.stringify(value);\\n                if ((str == \\\"0\\\") && ([\\\"-0\\\", \\\"-0.\\\"].indexOf(stringified()) >= 0))\\n                     return;\\n                 if ([\\\"null\\\", \\\"\\\"].indexOf(str) >= 0)\\n                     return;\\n                stringified(str);\\n            });\\n            ko.applyBindingsToNode(\\n                element,\\n                {\\n                    value: stringified,\\n                    valueUpdate: allBindings.get('valueUpdate'),\\n                },\\n                context,\\n            );\\n        }\\n    };\\n    var json_data = {\\\"formatted_vals\\\":[\\\"-10.0\\\",\\\"-9.99\\\",\\\"-9.98\\\",\\\"-9.97\\\",\\\"-9.96\\\",\\\"-9.95\\\",\\\"-9.94\\\",\\\"-9.93\\\",\\\"-9.92\\\",\\\"-9.91\\\",\\\"-9.9\\\",\\\"-9.89\\\",\\\"-9.88\\\",\\\"-9.87\\\",\\\"-9.86\\\",\\\"-9.85\\\",\\\"-9.84\\\",\\\"-9.83\\\",\\\"-9.82\\\",\\\"-9.81\\\",\\\"-9.8\\\",\\\"-9.79\\\",\\\"-9.78\\\",\\\"-9.77\\\",\\\"-9.76\\\",\\\"-9.75\\\",\\\"-9.74\\\",\\\"-9.73\\\",\\\"-9.72\\\",\\\"-9.71\\\",\\\"-9.7\\\",\\\"-9.69\\\",\\\"-9.68\\\",\\\"-9.67\\\",\\\"-9.66\\\",\\\"-9.65\\\",\\\"-9.64\\\",\\\"-9.63\\\",\\\"-9.62\\\",\\\"-9.61\\\",\\\"-9.6\\\",\\\"-9.59\\\",\\\"-9.58\\\",\\\"-9.57\\\",\\\"-9.56\\\",\\\"-9.55\\\",\\\"-9.54\\\",\\\"-9.53\\\",\\\"-9.52\\\",\\\"-9.51\\\",\\\"-9.5\\\",\\\"-9.49\\\",\\\"-9.48\\\",\\\"-9.47\\\",\\\"-9.46\\\",\\\"-9.45\\\",\\\"-9.44\\\",\\\"-9.43\\\",\\\"-9.42\\\",\\\"-9.41\\\",\\\"-9.4\\\",\\\"-9.39\\\",\\\"-9.38\\\",\\\"-9.37\\\",\\\"-9.36\\\",\\\"-9.35\\\",\\\"-9.34\\\",\\\"-9.33\\\",\\\"-9.32\\\",\\\"-9.31\\\",\\\"-9.3\\\",\\\"-9.29\\\",\\\"-9.28\\\",\\\"-9.27\\\",\\\"-9.26\\\",\\\"-9.25\\\",\\\"-9.24\\\",\\\"-9.23\\\",\\\"-9.22\\\",\\\"-9.21\\\",\\\"-9.2\\\",\\\"-9.19\\\",\\\"-9.18\\\",\\\"-9.17\\\",\\\"-9.16\\\",\\\"-9.15\\\",\\\"-9.14\\\",\\\"-9.13\\\",\\\"-9.12\\\",\\\"-9.11\\\",\\\"-9.1\\\",\\\"-9.09\\\",\\\"-9.08\\\",\\\"-9.07\\\",\\\"-9.06\\\",\\\"-9.05\\\",\\\"-9.04\\\",\\\"-9.03\\\",\\\"-9.02\\\",\\\"-9.01\\\",\\\"-9.0\\\",\\\"-8.99\\\",\\\"-8.98\\\",\\\"-8.97\\\",\\\"-8.96\\\",\\\"-8.95\\\",\\\"-8.94\\\",\\\"-8.93\\\",\\\"-8.92\\\",\\\"-8.91\\\",\\\"-8.9\\\",\\\"-8.89\\\",\\\"-8.88\\\",\\\"-8.87\\\",\\\"-8.86\\\",\\\"-8.85\\\",\\\"-8.84\\\",\\\"-8.83\\\",\\\"-8.82\\\",\\\"-8.81\\\",\\\"-8.8\\\",\\\"-8.79\\\",\\\"-8.78\\\",\\\"-8.77\\\",\\\"-8.76\\\",\\\"-8.75\\\",\\\"-8.74\\\",\\\"-8.73\\\",\\\"-8.72\\\",\\\"-8.71\\\",\\\"-8.7\\\",\\\"-8.69\\\",\\\"-8.68\\\",\\\"-8.67\\\",\\\"-8.66\\\",\\\"-8.65\\\",\\\"-8.64\\\",\\\"-8.63\\\",\\\"-8.62\\\",\\\"-8.61\\\",\\\"-8.6\\\",\\\"-8.59\\\",\\\"-8.58\\\",\\\"-8.57\\\",\\\"-8.56\\\",\\\"-8.55\\\",\\\"-8.54\\\",\\\"-8.53\\\",\\\"-8.52\\\",\\\"-8.51\\\",\\\"-8.5\\\",\\\"-8.49\\\",\\\"-8.48\\\",\\\"-8.47\\\",\\\"-8.46\\\",\\\"-8.45\\\",\\\"-8.44\\\",\\\"-8.43\\\",\\\"-8.42\\\",\\\"-8.41\\\",\\\"-8.4\\\",\\\"-8.39\\\",\\\"-8.38\\\",\\\"-8.37\\\",\\\"-8.36\\\",\\\"-8.35\\\",\\\"-8.34\\\",\\\"-8.33\\\",\\\"-8.32\\\",\\\"-8.31\\\",\\\"-8.3\\\",\\\"-8.29\\\",\\\"-8.28\\\",\\\"-8.27\\\",\\\"-8.26\\\",\\\"-8.25\\\",\\\"-8.24\\\",\\\"-8.23\\\",\\\"-8.22\\\",\\\"-8.21\\\",\\\"-8.2\\\",\\\"-8.19\\\",\\\"-8.18\\\",\\\"-8.17\\\",\\\"-8.16\\\",\\\"-8.15\\\",\\\"-8.14\\\",\\\"-8.13\\\",\\\"-8.12\\\",\\\"-8.11\\\",\\\"-8.1\\\",\\\"-8.09\\\",\\\"-8.08\\\",\\\"-8.07\\\",\\\"-8.06\\\",\\\"-8.05\\\",\\\"-8.04\\\",\\\"-8.03\\\",\\\"-8.02\\\",\\\"-8.01\\\",\\\"-8.0\\\",\\\"-7.99\\\",\\\"-7.98\\\",\\\"-7.97\\\",\\\"-7.96\\\",\\\"-7.95\\\",\\\"-7.94\\\",\\\"-7.93\\\",\\\"-7.92\\\",\\\"-7.91\\\",\\\"-7.9\\\",\\\"-7.89\\\",\\\"-7.88\\\",\\\"-7.87\\\",\\\"-7.86\\\",\\\"-7.85\\\",\\\"-7.84\\\",\\\"-7.83\\\",\\\"-7.82\\\",\\\"-7.81\\\",\\\"-7.8\\\",\\\"-7.79\\\",\\\"-7.78\\\",\\\"-7.77\\\",\\\"-7.76\\\",\\\"-7.75\\\",\\\"-7.74\\\",\\\"-7.73\\\",\\\"-7.72\\\",\\\"-7.71\\\",\\\"-7.7\\\",\\\"-7.69\\\",\\\"-7.68\\\",\\\"-7.67\\\",\\\"-7.66\\\",\\\"-7.65\\\",\\\"-7.64\\\",\\\"-7.63\\\",\\\"-7.62\\\",\\\"-7.61\\\",\\\"-7.6\\\",\\\"-7.59\\\",\\\"-7.58\\\",\\\"-7.57\\\",\\\"-7.56\\\",\\\"-7.55\\\",\\\"-7.54\\\",\\\"-7.53\\\",\\\"-7.52\\\",\\\"-7.51\\\",\\\"-7.5\\\",\\\"-7.49\\\",\\\"-7.48\\\",\\\"-7.47\\\",\\\"-7.46\\\",\\\"-7.45\\\",\\\"-7.44\\\",\\\"-7.43\\\",\\\"-7.42\\\",\\\"-7.41\\\",\\\"-7.4\\\",\\\"-7.39\\\",\\\"-7.38\\\",\\\"-7.37\\\",\\\"-7.36\\\",\\\"-7.35\\\",\\\"-7.34\\\",\\\"-7.33\\\",\\\"-7.32\\\",\\\"-7.31\\\",\\\"-7.3\\\",\\\"-7.29\\\",\\\"-7.28\\\",\\\"-7.27\\\",\\\"-7.26\\\",\\\"-7.25\\\",\\\"-7.24\\\",\\\"-7.23\\\",\\\"-7.22\\\",\\\"-7.21\\\",\\\"-7.2\\\",\\\"-7.19\\\",\\\"-7.18\\\",\\\"-7.17\\\",\\\"-7.16\\\",\\\"-7.15\\\",\\\"-7.14\\\",\\\"-7.13\\\",\\\"-7.12\\\",\\\"-7.11\\\",\\\"-7.1\\\",\\\"-7.09\\\",\\\"-7.08\\\",\\\"-7.07\\\",\\\"-7.06\\\",\\\"-7.05\\\",\\\"-7.04\\\",\\\"-7.03\\\",\\\"-7.02\\\",\\\"-7.01\\\",\\\"-7.0\\\",\\\"-6.99\\\",\\\"-6.98\\\",\\\"-6.97\\\",\\\"-6.96\\\",\\\"-6.95\\\",\\\"-6.94\\\",\\\"-6.93\\\",\\\"-6.92\\\",\\\"-6.91\\\",\\\"-6.9\\\",\\\"-6.89\\\",\\\"-6.88\\\",\\\"-6.87\\\",\\\"-6.86\\\",\\\"-6.85\\\",\\\"-6.84\\\",\\\"-6.83\\\",\\\"-6.82\\\",\\\"-6.81\\\",\\\"-6.8\\\",\\\"-6.79\\\",\\\"-6.78\\\",\\\"-6.77\\\",\\\"-6.76\\\",\\\"-6.75\\\",\\\"-6.74\\\",\\\"-6.73\\\",\\\"-6.72\\\",\\\"-6.71\\\",\\\"-6.7\\\",\\\"-6.69\\\",\\\"-6.68\\\",\\\"-6.67\\\",\\\"-6.66\\\",\\\"-6.65\\\",\\\"-6.64\\\",\\\"-6.63\\\",\\\"-6.62\\\",\\\"-6.61\\\",\\\"-6.6\\\",\\\"-6.59\\\",\\\"-6.58\\\",\\\"-6.57\\\",\\\"-6.56\\\",\\\"-6.55\\\",\\\"-6.54\\\",\\\"-6.53\\\",\\\"-6.52\\\",\\\"-6.51\\\",\\\"-6.5\\\",\\\"-6.49\\\",\\\"-6.48\\\",\\\"-6.47\\\",\\\"-6.46\\\",\\\"-6.45\\\",\\\"-6.44\\\",\\\"-6.43\\\",\\\"-6.42\\\",\\\"-6.41\\\",\\\"-6.4\\\",\\\"-6.39\\\",\\\"-6.38\\\",\\\"-6.37\\\",\\\"-6.36\\\",\\\"-6.35\\\",\\\"-6.34\\\",\\\"-6.33\\\",\\\"-6.32\\\",\\\"-6.31\\\",\\\"-6.3\\\",\\\"-6.29\\\",\\\"-6.28\\\",\\\"-6.27\\\",\\\"-6.26\\\",\\\"-6.25\\\",\\\"-6.24\\\",\\\"-6.23\\\",\\\"-6.22\\\",\\\"-6.21\\\",\\\"-6.2\\\",\\\"-6.19\\\",\\\"-6.18\\\",\\\"-6.17\\\",\\\"-6.16\\\",\\\"-6.15\\\",\\\"-6.14\\\",\\\"-6.13\\\",\\\"-6.12\\\",\\\"-6.11\\\",\\\"-6.1\\\",\\\"-6.09\\\",\\\"-6.08\\\",\\\"-6.07\\\",\\\"-6.06\\\",\\\"-6.05\\\",\\\"-6.04\\\",\\\"-6.03\\\",\\\"-6.02\\\",\\\"-6.01\\\",\\\"-6.0\\\",\\\"-5.99\\\",\\\"-5.98\\\",\\\"-5.97\\\",\\\"-5.96\\\",\\\"-5.95\\\",\\\"-5.94\\\",\\\"-5.93\\\",\\\"-5.92\\\",\\\"-5.91\\\",\\\"-5.9\\\",\\\"-5.89\\\",\\\"-5.88\\\",\\\"-5.87\\\",\\\"-5.86\\\",\\\"-5.85\\\",\\\"-5.84\\\",\\\"-5.83\\\",\\\"-5.82\\\",\\\"-5.81\\\",\\\"-5.8\\\",\\\"-5.79\\\",\\\"-5.78\\\",\\\"-5.77\\\",\\\"-5.76\\\",\\\"-5.75\\\",\\\"-5.74\\\",\\\"-5.73\\\",\\\"-5.72\\\",\\\"-5.71\\\",\\\"-5.7\\\",\\\"-5.69\\\",\\\"-5.68\\\",\\\"-5.67\\\",\\\"-5.66\\\",\\\"-5.65\\\",\\\"-5.64\\\",\\\"-5.63\\\",\\\"-5.62\\\",\\\"-5.61\\\",\\\"-5.6\\\",\\\"-5.59\\\",\\\"-5.58\\\",\\\"-5.57\\\",\\\"-5.56\\\",\\\"-5.55\\\",\\\"-5.54\\\",\\\"-5.53\\\",\\\"-5.52\\\",\\\"-5.51\\\",\\\"-5.5\\\",\\\"-5.49\\\",\\\"-5.48\\\",\\\"-5.47\\\",\\\"-5.46\\\",\\\"-5.45\\\",\\\"-5.44\\\",\\\"-5.43\\\",\\\"-5.42\\\",\\\"-5.41\\\",\\\"-5.4\\\",\\\"-5.39\\\",\\\"-5.38\\\",\\\"-5.37\\\",\\\"-5.36\\\",\\\"-5.35\\\",\\\"-5.34\\\",\\\"-5.33\\\",\\\"-5.32\\\",\\\"-5.31\\\",\\\"-5.3\\\",\\\"-5.29\\\",\\\"-5.28\\\",\\\"-5.27\\\",\\\"-5.26\\\",\\\"-5.25\\\",\\\"-5.24\\\",\\\"-5.23\\\",\\\"-5.22\\\",\\\"-5.21\\\",\\\"-5.2\\\",\\\"-5.19\\\",\\\"-5.18\\\",\\\"-5.17\\\",\\\"-5.16\\\",\\\"-5.15\\\",\\\"-5.14\\\",\\\"-5.13\\\",\\\"-5.12\\\",\\\"-5.11\\\",\\\"-5.1\\\",\\\"-5.09\\\",\\\"-5.08\\\",\\\"-5.07\\\",\\\"-5.06\\\",\\\"-5.05\\\",\\\"-5.04\\\",\\\"-5.03\\\",\\\"-5.02\\\",\\\"-5.01\\\",\\\"-5.0\\\",\\\"-4.99\\\",\\\"-4.98\\\",\\\"-4.97\\\",\\\"-4.96\\\",\\\"-4.95\\\",\\\"-4.94\\\",\\\"-4.93\\\",\\\"-4.92\\\",\\\"-4.91\\\",\\\"-4.9\\\",\\\"-4.89\\\",\\\"-4.88\\\",\\\"-4.87\\\",\\\"-4.86\\\",\\\"-4.85\\\",\\\"-4.84\\\",\\\"-4.83\\\",\\\"-4.82\\\",\\\"-4.81\\\",\\\"-4.8\\\",\\\"-4.79\\\",\\\"-4.78\\\",\\\"-4.77\\\",\\\"-4.76\\\",\\\"-4.75\\\",\\\"-4.74\\\",\\\"-4.73\\\",\\\"-4.72\\\",\\\"-4.71\\\",\\\"-4.7\\\",\\\"-4.69\\\",\\\"-4.68\\\",\\\"-4.67\\\",\\\"-4.66\\\",\\\"-4.65\\\",\\\"-4.64\\\",\\\"-4.63\\\",\\\"-4.62\\\",\\\"-4.61\\\",\\\"-4.6\\\",\\\"-4.59\\\",\\\"-4.58\\\",\\\"-4.57\\\",\\\"-4.56\\\",\\\"-4.55\\\",\\\"-4.54\\\",\\\"-4.53\\\",\\\"-4.52\\\",\\\"-4.51\\\",\\\"-4.5\\\",\\\"-4.49\\\",\\\"-4.48\\\",\\\"-4.47\\\",\\\"-4.46\\\",\\\"-4.45\\\",\\\"-4.44\\\",\\\"-4.43\\\",\\\"-4.42\\\",\\\"-4.41\\\",\\\"-4.4\\\",\\\"-4.39\\\",\\\"-4.38\\\",\\\"-4.37\\\",\\\"-4.36\\\",\\\"-4.35\\\",\\\"-4.34\\\",\\\"-4.33\\\",\\\"-4.32\\\",\\\"-4.31\\\",\\\"-4.3\\\",\\\"-4.29\\\",\\\"-4.28\\\",\\\"-4.27\\\",\\\"-4.26\\\",\\\"-4.25\\\",\\\"-4.24\\\",\\\"-4.23\\\",\\\"-4.22\\\",\\\"-4.21\\\",\\\"-4.2\\\",\\\"-4.19\\\",\\\"-4.18\\\",\\\"-4.17\\\",\\\"-4.16\\\",\\\"-4.15\\\",\\\"-4.14\\\",\\\"-4.13\\\",\\\"-4.12\\\",\\\"-4.11\\\",\\\"-4.1\\\",\\\"-4.09\\\",\\\"-4.08\\\",\\\"-4.07\\\",\\\"-4.06\\\",\\\"-4.05\\\",\\\"-4.04\\\",\\\"-4.03\\\",\\\"-4.02\\\",\\\"-4.01\\\",\\\"-4.0\\\",\\\"-3.99\\\",\\\"-3.98\\\",\\\"-3.97\\\",\\\"-3.96\\\",\\\"-3.95\\\",\\\"-3.94\\\",\\\"-3.93\\\",\\\"-3.92\\\",\\\"-3.91\\\",\\\"-3.9\\\",\\\"-3.89\\\",\\\"-3.88\\\",\\\"-3.87\\\",\\\"-3.86\\\",\\\"-3.85\\\",\\\"-3.84\\\",\\\"-3.83\\\",\\\"-3.82\\\",\\\"-3.81\\\",\\\"-3.8\\\",\\\"-3.79\\\",\\\"-3.78\\\",\\\"-3.77\\\",\\\"-3.76\\\",\\\"-3.75\\\",\\\"-3.74\\\",\\\"-3.73\\\",\\\"-3.72\\\",\\\"-3.71\\\",\\\"-3.7\\\",\\\"-3.69\\\",\\\"-3.68\\\",\\\"-3.67\\\",\\\"-3.66\\\",\\\"-3.65\\\",\\\"-3.64\\\",\\\"-3.63\\\",\\\"-3.62\\\",\\\"-3.61\\\",\\\"-3.6\\\",\\\"-3.59\\\",\\\"-3.58\\\",\\\"-3.57\\\",\\\"-3.56\\\",\\\"-3.55\\\",\\\"-3.54\\\",\\\"-3.53\\\",\\\"-3.52\\\",\\\"-3.51\\\",\\\"-3.5\\\",\\\"-3.49\\\",\\\"-3.48\\\",\\\"-3.47\\\",\\\"-3.46\\\",\\\"-3.45\\\",\\\"-3.44\\\",\\\"-3.43\\\",\\\"-3.42\\\",\\\"-3.41\\\",\\\"-3.4\\\",\\\"-3.39\\\",\\\"-3.38\\\",\\\"-3.37\\\",\\\"-3.36\\\",\\\"-3.35\\\",\\\"-3.34\\\",\\\"-3.33\\\",\\\"-3.32\\\",\\\"-3.31\\\",\\\"-3.3\\\",\\\"-3.29\\\",\\\"-3.28\\\",\\\"-3.27\\\",\\\"-3.26\\\",\\\"-3.25\\\",\\\"-3.24\\\",\\\"-3.23\\\",\\\"-3.22\\\",\\\"-3.21\\\",\\\"-3.2\\\",\\\"-3.19\\\",\\\"-3.18\\\",\\\"-3.17\\\",\\\"-3.16\\\",\\\"-3.15\\\",\\\"-3.14\\\",\\\"-3.13\\\",\\\"-3.12\\\",\\\"-3.11\\\",\\\"-3.1\\\",\\\"-3.09\\\",\\\"-3.08\\\",\\\"-3.07\\\",\\\"-3.06\\\",\\\"-3.05\\\",\\\"-3.04\\\",\\\"-3.03\\\",\\\"-3.02\\\",\\\"-3.01\\\",\\\"-3.0\\\",\\\"-2.99\\\",\\\"-2.98\\\",\\\"-2.97\\\",\\\"-2.96\\\",\\\"-2.95\\\",\\\"-2.94\\\",\\\"-2.93\\\",\\\"-2.92\\\",\\\"-2.91\\\",\\\"-2.9\\\",\\\"-2.89\\\",\\\"-2.88\\\",\\\"-2.87\\\",\\\"-2.86\\\",\\\"-2.85\\\",\\\"-2.84\\\",\\\"-2.83\\\",\\\"-2.82\\\",\\\"-2.81\\\",\\\"-2.8\\\",\\\"-2.79\\\",\\\"-2.78\\\",\\\"-2.77\\\",\\\"-2.76\\\",\\\"-2.75\\\",\\\"-2.74\\\",\\\"-2.73\\\",\\\"-2.72\\\",\\\"-2.71\\\",\\\"-2.7\\\",\\\"-2.69\\\",\\\"-2.68\\\",\\\"-2.67\\\",\\\"-2.66\\\",\\\"-2.65\\\",\\\"-2.64\\\",\\\"-2.63\\\",\\\"-2.62\\\",\\\"-2.61\\\",\\\"-2.6\\\",\\\"-2.59\\\",\\\"-2.58\\\",\\\"-2.57\\\",\\\"-2.56\\\",\\\"-2.55\\\",\\\"-2.54\\\",\\\"-2.53\\\",\\\"-2.52\\\",\\\"-2.51\\\",\\\"-2.5\\\",\\\"-2.49\\\",\\\"-2.48\\\",\\\"-2.47\\\",\\\"-2.46\\\",\\\"-2.45\\\",\\\"-2.44\\\",\\\"-2.43\\\",\\\"-2.42\\\",\\\"-2.41\\\",\\\"-2.4\\\",\\\"-2.39\\\",\\\"-2.38\\\",\\\"-2.37\\\",\\\"-2.36\\\",\\\"-2.35\\\",\\\"-2.34\\\",\\\"-2.33\\\",\\\"-2.32\\\",\\\"-2.31\\\",\\\"-2.3\\\",\\\"-2.29\\\",\\\"-2.28\\\",\\\"-2.27\\\",\\\"-2.26\\\",\\\"-2.25\\\",\\\"-2.24\\\",\\\"-2.23\\\",\\\"-2.22\\\",\\\"-2.21\\\",\\\"-2.2\\\",\\\"-2.19\\\",\\\"-2.18\\\",\\\"-2.17\\\",\\\"-2.16\\\",\\\"-2.15\\\",\\\"-2.14\\\",\\\"-2.13\\\",\\\"-2.12\\\",\\\"-2.11\\\",\\\"-2.1\\\",\\\"-2.09\\\",\\\"-2.08\\\",\\\"-2.07\\\",\\\"-2.06\\\",\\\"-2.05\\\",\\\"-2.04\\\",\\\"-2.03\\\",\\\"-2.02\\\",\\\"-2.01\\\",\\\"-2.0\\\",\\\"-1.99\\\",\\\"-1.98\\\",\\\"-1.97\\\",\\\"-1.96\\\",\\\"-1.95\\\",\\\"-1.94\\\",\\\"-1.93\\\",\\\"-1.92\\\",\\\"-1.91\\\",\\\"-1.9\\\",\\\"-1.89\\\",\\\"-1.88\\\",\\\"-1.87\\\",\\\"-1.86\\\",\\\"-1.85\\\",\\\"-1.84\\\",\\\"-1.83\\\",\\\"-1.82\\\",\\\"-1.81\\\",\\\"-1.8\\\",\\\"-1.79\\\",\\\"-1.78\\\",\\\"-1.77\\\",\\\"-1.76\\\",\\\"-1.75\\\",\\\"-1.74\\\",\\\"-1.73\\\",\\\"-1.72\\\",\\\"-1.71\\\",\\\"-1.7\\\",\\\"-1.69\\\",\\\"-1.68\\\",\\\"-1.67\\\",\\\"-1.66\\\",\\\"-1.65\\\",\\\"-1.64\\\",\\\"-1.63\\\",\\\"-1.62\\\",\\\"-1.61\\\",\\\"-1.6\\\",\\\"-1.59\\\",\\\"-1.58\\\",\\\"-1.57\\\",\\\"-1.56\\\",\\\"-1.55\\\",\\\"-1.54\\\",\\\"-1.53\\\",\\\"-1.52\\\",\\\"-1.51\\\",\\\"-1.5\\\",\\\"-1.49\\\",\\\"-1.48\\\",\\\"-1.47\\\",\\\"-1.46\\\",\\\"-1.45\\\",\\\"-1.44\\\",\\\"-1.43\\\",\\\"-1.42\\\",\\\"-1.41\\\",\\\"-1.4\\\",\\\"-1.39\\\",\\\"-1.38\\\",\\\"-1.37\\\",\\\"-1.36\\\",\\\"-1.35\\\",\\\"-1.34\\\",\\\"-1.33\\\",\\\"-1.32\\\",\\\"-1.31\\\",\\\"-1.3\\\",\\\"-1.29\\\",\\\"-1.28\\\",\\\"-1.27\\\",\\\"-1.26\\\",\\\"-1.25\\\",\\\"-1.24\\\",\\\"-1.23\\\",\\\"-1.22\\\",\\\"-1.21\\\",\\\"-1.2\\\",\\\"-1.19\\\",\\\"-1.18\\\",\\\"-1.17\\\",\\\"-1.16\\\",\\\"-1.15\\\",\\\"-1.14\\\",\\\"-1.13\\\",\\\"-1.12\\\",\\\"-1.11\\\",\\\"-1.1\\\",\\\"-1.09\\\",\\\"-1.08\\\",\\\"-1.07\\\",\\\"-1.06\\\",\\\"-1.05\\\",\\\"-1.04\\\",\\\"-1.03\\\",\\\"-1.02\\\",\\\"-1.01\\\",\\\"-1.0\\\",\\\"-0.99\\\",\\\"-0.98\\\",\\\"-0.97\\\",\\\"-0.96\\\",\\\"-0.95\\\",\\\"-0.94\\\",\\\"-0.93\\\",\\\"-0.92\\\",\\\"-0.91\\\",\\\"-0.9\\\",\\\"-0.89\\\",\\\"-0.88\\\",\\\"-0.87\\\",\\\"-0.86\\\",\\\"-0.85\\\",\\\"-0.84\\\",\\\"-0.83\\\",\\\"-0.82\\\",\\\"-0.81\\\",\\\"-0.8\\\",\\\"-0.79\\\",\\\"-0.78\\\",\\\"-0.77\\\",\\\"-0.76\\\",\\\"-0.75\\\",\\\"-0.74\\\",\\\"-0.73\\\",\\\"-0.72\\\",\\\"-0.71\\\",\\\"-0.7\\\",\\\"-0.69\\\",\\\"-0.68\\\",\\\"-0.67\\\",\\\"-0.66\\\",\\\"-0.65\\\",\\\"-0.64\\\",\\\"-0.63\\\",\\\"-0.62\\\",\\\"-0.61\\\",\\\"-0.6\\\",\\\"-0.59\\\",\\\"-0.58\\\",\\\"-0.57\\\",\\\"-0.56\\\",\\\"-0.55\\\",\\\"-0.54\\\",\\\"-0.53\\\",\\\"-0.52\\\",\\\"-0.51\\\",\\\"-0.5\\\",\\\"-0.49\\\",\\\"-0.48\\\",\\\"-0.47\\\",\\\"-0.46\\\",\\\"-0.45\\\",\\\"-0.44\\\",\\\"-0.43\\\",\\\"-0.42\\\",\\\"-0.41\\\",\\\"-0.4\\\",\\\"-0.39\\\",\\\"-0.38\\\",\\\"-0.37\\\",\\\"-0.36\\\",\\\"-0.35\\\",\\\"-0.34\\\",\\\"-0.33\\\",\\\"-0.32\\\",\\\"-0.31\\\",\\\"-0.3\\\",\\\"-0.29\\\",\\\"-0.28\\\",\\\"-0.27\\\",\\\"-0.26\\\",\\\"-0.25\\\",\\\"-0.24\\\",\\\"-0.23\\\",\\\"-0.22\\\",\\\"-0.21\\\",\\\"-0.2\\\",\\\"-0.19\\\",\\\"-0.18\\\",\\\"-0.17\\\",\\\"-0.16\\\",\\\"-0.15\\\",\\\"-0.14\\\",\\\"-0.13\\\",\\\"-0.12\\\",\\\"-0.11\\\",\\\"-0.1\\\",\\\"-0.09\\\",\\\"-0.08\\\",\\\"-0.07\\\",\\\"-0.06\\\",\\\"-0.05\\\",\\\"-0.04\\\",\\\"-0.03\\\",\\\"-0.02\\\",\\\"-0.01\\\",\\\"0.0\\\",\\\"0.01\\\",\\\"0.02\\\",\\\"0.03\\\",\\\"0.04\\\",\\\"0.05\\\",\\\"0.06\\\",\\\"0.07\\\",\\\"0.08\\\",\\\"0.09\\\",\\\"0.1\\\",\\\"0.11\\\",\\\"0.12\\\",\\\"0.13\\\",\\\"0.14\\\",\\\"0.15\\\",\\\"0.16\\\",\\\"0.17\\\",\\\"0.18\\\",\\\"0.19\\\",\\\"0.2\\\",\\\"0.21\\\",\\\"0.22\\\",\\\"0.23\\\",\\\"0.24\\\",\\\"0.25\\\",\\\"0.26\\\",\\\"0.27\\\",\\\"0.28\\\",\\\"0.29\\\",\\\"0.3\\\",\\\"0.31\\\",\\\"0.32\\\",\\\"0.33\\\",\\\"0.34\\\",\\\"0.35\\\",\\\"0.36\\\",\\\"0.37\\\",\\\"0.38\\\",\\\"0.39\\\",\\\"0.4\\\",\\\"0.41\\\",\\\"0.42\\\",\\\"0.43\\\",\\\"0.44\\\",\\\"0.45\\\",\\\"0.46\\\",\\\"0.47\\\",\\\"0.48\\\",\\\"0.49\\\",\\\"0.5\\\",\\\"0.51\\\",\\\"0.52\\\",\\\"0.53\\\",\\\"0.54\\\",\\\"0.55\\\",\\\"0.56\\\",\\\"0.57\\\",\\\"0.58\\\",\\\"0.59\\\",\\\"0.6\\\",\\\"0.61\\\",\\\"0.62\\\",\\\"0.63\\\",\\\"0.64\\\",\\\"0.65\\\",\\\"0.66\\\",\\\"0.67\\\",\\\"0.68\\\",\\\"0.69\\\",\\\"0.7\\\",\\\"0.71\\\",\\\"0.72\\\",\\\"0.73\\\",\\\"0.74\\\",\\\"0.75\\\",\\\"0.76\\\",\\\"0.77\\\",\\\"0.78\\\",\\\"0.79\\\",\\\"0.8\\\",\\\"0.81\\\",\\\"0.82\\\",\\\"0.83\\\",\\\"0.84\\\",\\\"0.85\\\",\\\"0.86\\\",\\\"0.87\\\",\\\"0.88\\\",\\\"0.89\\\",\\\"0.9\\\",\\\"0.91\\\",\\\"0.92\\\",\\\"0.93\\\",\\\"0.94\\\",\\\"0.95\\\",\\\"0.96\\\",\\\"0.97\\\",\\\"0.98\\\",\\\"0.99\\\",\\\"1.0\\\",\\\"1.01\\\",\\\"1.02\\\",\\\"1.03\\\",\\\"1.04\\\",\\\"1.05\\\",\\\"1.06\\\",\\\"1.07\\\",\\\"1.08\\\",\\\"1.09\\\",\\\"1.1\\\",\\\"1.11\\\",\\\"1.12\\\",\\\"1.13\\\",\\\"1.14\\\",\\\"1.15\\\",\\\"1.16\\\",\\\"1.17\\\",\\\"1.18\\\",\\\"1.19\\\",\\\"1.2\\\",\\\"1.21\\\",\\\"1.22\\\",\\\"1.23\\\",\\\"1.24\\\",\\\"1.25\\\",\\\"1.26\\\",\\\"1.27\\\",\\\"1.28\\\",\\\"1.29\\\",\\\"1.3\\\",\\\"1.31\\\",\\\"1.32\\\",\\\"1.33\\\",\\\"1.34\\\",\\\"1.35\\\",\\\"1.36\\\",\\\"1.37\\\",\\\"1.38\\\",\\\"1.39\\\",\\\"1.4\\\",\\\"1.41\\\",\\\"1.42\\\",\\\"1.43\\\",\\\"1.44\\\",\\\"1.45\\\",\\\"1.46\\\",\\\"1.47\\\",\\\"1.48\\\",\\\"1.49\\\",\\\"1.5\\\",\\\"1.51\\\",\\\"1.52\\\",\\\"1.53\\\",\\\"1.54\\\",\\\"1.55\\\",\\\"1.56\\\",\\\"1.57\\\",\\\"1.58\\\",\\\"1.59\\\",\\\"1.6\\\",\\\"1.61\\\",\\\"1.62\\\",\\\"1.63\\\",\\\"1.64\\\",\\\"1.65\\\",\\\"1.66\\\",\\\"1.67\\\",\\\"1.68\\\",\\\"1.69\\\",\\\"1.7\\\",\\\"1.71\\\",\\\"1.72\\\",\\\"1.73\\\",\\\"1.74\\\",\\\"1.75\\\",\\\"1.76\\\",\\\"1.77\\\",\\\"1.78\\\",\\\"1.79\\\",\\\"1.8\\\",\\\"1.81\\\",\\\"1.82\\\",\\\"1.83\\\",\\\"1.84\\\",\\\"1.85\\\",\\\"1.86\\\",\\\"1.87\\\",\\\"1.88\\\",\\\"1.89\\\",\\\"1.9\\\",\\\"1.91\\\",\\\"1.92\\\",\\\"1.93\\\",\\\"1.94\\\",\\\"1.95\\\",\\\"1.96\\\",\\\"1.97\\\",\\\"1.98\\\",\\\"1.99\\\",\\\"2.0\\\",\\\"2.01\\\",\\\"2.02\\\",\\\"2.03\\\",\\\"2.04\\\",\\\"2.05\\\",\\\"2.06\\\",\\\"2.07\\\",\\\"2.08\\\",\\\"2.09\\\",\\\"2.1\\\",\\\"2.11\\\",\\\"2.12\\\",\\\"2.13\\\",\\\"2.14\\\",\\\"2.15\\\",\\\"2.16\\\",\\\"2.17\\\",\\\"2.18\\\",\\\"2.19\\\",\\\"2.2\\\",\\\"2.21\\\",\\\"2.22\\\",\\\"2.23\\\",\\\"2.24\\\",\\\"2.25\\\",\\\"2.26\\\",\\\"2.27\\\",\\\"2.28\\\",\\\"2.29\\\",\\\"2.3\\\",\\\"2.31\\\",\\\"2.32\\\",\\\"2.33\\\",\\\"2.34\\\",\\\"2.35\\\",\\\"2.36\\\",\\\"2.37\\\",\\\"2.38\\\",\\\"2.39\\\",\\\"2.4\\\",\\\"2.41\\\",\\\"2.42\\\",\\\"2.43\\\",\\\"2.44\\\",\\\"2.45\\\",\\\"2.46\\\",\\\"2.47\\\",\\\"2.48\\\",\\\"2.49\\\",\\\"2.5\\\",\\\"2.51\\\",\\\"2.52\\\",\\\"2.53\\\",\\\"2.54\\\",\\\"2.55\\\",\\\"2.56\\\",\\\"2.57\\\",\\\"2.58\\\",\\\"2.59\\\",\\\"2.6\\\",\\\"2.61\\\",\\\"2.62\\\",\\\"2.63\\\",\\\"2.64\\\",\\\"2.65\\\",\\\"2.66\\\",\\\"2.67\\\",\\\"2.68\\\",\\\"2.69\\\",\\\"2.7\\\",\\\"2.71\\\",\\\"2.72\\\",\\\"2.73\\\",\\\"2.74\\\",\\\"2.75\\\",\\\"2.76\\\",\\\"2.77\\\",\\\"2.78\\\",\\\"2.79\\\",\\\"2.8\\\",\\\"2.81\\\",\\\"2.82\\\",\\\"2.83\\\",\\\"2.84\\\",\\\"2.85\\\",\\\"2.86\\\",\\\"2.87\\\",\\\"2.88\\\",\\\"2.89\\\",\\\"2.9\\\",\\\"2.91\\\",\\\"2.92\\\",\\\"2.93\\\",\\\"2.94\\\",\\\"2.95\\\",\\\"2.96\\\",\\\"2.97\\\",\\\"2.98\\\",\\\"2.99\\\",\\\"3.0\\\",\\\"3.01\\\",\\\"3.02\\\",\\\"3.03\\\",\\\"3.04\\\",\\\"3.05\\\",\\\"3.06\\\",\\\"3.07\\\",\\\"3.08\\\",\\\"3.09\\\",\\\"3.1\\\",\\\"3.11\\\",\\\"3.12\\\",\\\"3.13\\\",\\\"3.14\\\",\\\"3.15\\\",\\\"3.16\\\",\\\"3.17\\\",\\\"3.18\\\",\\\"3.19\\\",\\\"3.2\\\",\\\"3.21\\\",\\\"3.22\\\",\\\"3.23\\\",\\\"3.24\\\",\\\"3.25\\\",\\\"3.26\\\",\\\"3.27\\\",\\\"3.28\\\",\\\"3.29\\\",\\\"3.3\\\",\\\"3.31\\\",\\\"3.32\\\",\\\"3.33\\\",\\\"3.34\\\",\\\"3.35\\\",\\\"3.36\\\",\\\"3.37\\\",\\\"3.38\\\",\\\"3.39\\\",\\\"3.4\\\",\\\"3.41\\\",\\\"3.42\\\",\\\"3.43\\\",\\\"3.44\\\",\\\"3.45\\\",\\\"3.46\\\",\\\"3.47\\\",\\\"3.48\\\",\\\"3.49\\\",\\\"3.5\\\",\\\"3.51\\\",\\\"3.52\\\",\\\"3.53\\\",\\\"3.54\\\",\\\"3.55\\\",\\\"3.56\\\",\\\"3.57\\\",\\\"3.58\\\",\\\"3.59\\\",\\\"3.6\\\",\\\"3.61\\\",\\\"3.62\\\",\\\"3.63\\\",\\\"3.64\\\",\\\"3.65\\\",\\\"3.66\\\",\\\"3.67\\\",\\\"3.68\\\",\\\"3.69\\\",\\\"3.7\\\",\\\"3.71\\\",\\\"3.72\\\",\\\"3.73\\\",\\\"3.74\\\",\\\"3.75\\\",\\\"3.76\\\",\\\"3.77\\\",\\\"3.78\\\",\\\"3.79\\\",\\\"3.8\\\",\\\"3.81\\\",\\\"3.82\\\",\\\"3.83\\\",\\\"3.84\\\",\\\"3.85\\\",\\\"3.86\\\",\\\"3.87\\\",\\\"3.88\\\",\\\"3.89\\\",\\\"3.9\\\",\\\"3.91\\\",\\\"3.92\\\",\\\"3.93\\\",\\\"3.94\\\",\\\"3.95\\\",\\\"3.96\\\",\\\"3.97\\\",\\\"3.98\\\",\\\"3.99\\\",\\\"4.0\\\",\\\"4.01\\\",\\\"4.02\\\",\\\"4.03\\\",\\\"4.04\\\",\\\"4.05\\\",\\\"4.06\\\",\\\"4.07\\\",\\\"4.08\\\",\\\"4.09\\\",\\\"4.1\\\",\\\"4.11\\\",\\\"4.12\\\",\\\"4.13\\\",\\\"4.14\\\",\\\"4.15\\\",\\\"4.16\\\",\\\"4.17\\\",\\\"4.18\\\",\\\"4.19\\\",\\\"4.2\\\",\\\"4.21\\\",\\\"4.22\\\",\\\"4.23\\\",\\\"4.24\\\",\\\"4.25\\\",\\\"4.26\\\",\\\"4.27\\\",\\\"4.28\\\",\\\"4.29\\\",\\\"4.3\\\",\\\"4.31\\\",\\\"4.32\\\",\\\"4.33\\\",\\\"4.34\\\",\\\"4.35\\\",\\\"4.36\\\",\\\"4.37\\\",\\\"4.38\\\",\\\"4.39\\\",\\\"4.4\\\",\\\"4.41\\\",\\\"4.42\\\",\\\"4.43\\\",\\\"4.44\\\",\\\"4.45\\\",\\\"4.46\\\",\\\"4.47\\\",\\\"4.48\\\",\\\"4.49\\\",\\\"4.5\\\",\\\"4.51\\\",\\\"4.52\\\",\\\"4.53\\\",\\\"4.54\\\",\\\"4.55\\\",\\\"4.56\\\",\\\"4.57\\\",\\\"4.58\\\",\\\"4.59\\\",\\\"4.6\\\",\\\"4.61\\\",\\\"4.62\\\",\\\"4.63\\\",\\\"4.64\\\",\\\"4.65\\\",\\\"4.66\\\",\\\"4.67\\\",\\\"4.68\\\",\\\"4.69\\\",\\\"4.7\\\",\\\"4.71\\\",\\\"4.72\\\",\\\"4.73\\\",\\\"4.74\\\",\\\"4.75\\\",\\\"4.76\\\",\\\"4.77\\\",\\\"4.78\\\",\\\"4.79\\\",\\\"4.8\\\",\\\"4.81\\\",\\\"4.82\\\",\\\"4.83\\\",\\\"4.84\\\",\\\"4.85\\\",\\\"4.86\\\",\\\"4.87\\\",\\\"4.88\\\",\\\"4.89\\\",\\\"4.9\\\",\\\"4.91\\\",\\\"4.92\\\",\\\"4.93\\\",\\\"4.94\\\",\\\"4.95\\\",\\\"4.96\\\",\\\"4.97\\\",\\\"4.98\\\",\\\"4.99\\\",\\\"5.0\\\",\\\"5.01\\\",\\\"5.02\\\",\\\"5.03\\\",\\\"5.04\\\",\\\"5.05\\\",\\\"5.06\\\",\\\"5.07\\\",\\\"5.08\\\",\\\"5.09\\\",\\\"5.1\\\",\\\"5.11\\\",\\\"5.12\\\",\\\"5.13\\\",\\\"5.14\\\",\\\"5.15\\\",\\\"5.16\\\",\\\"5.17\\\",\\\"5.18\\\",\\\"5.19\\\",\\\"5.2\\\",\\\"5.21\\\",\\\"5.22\\\",\\\"5.23\\\",\\\"5.24\\\",\\\"5.25\\\",\\\"5.26\\\",\\\"5.27\\\",\\\"5.28\\\",\\\"5.29\\\",\\\"5.3\\\",\\\"5.31\\\",\\\"5.32\\\",\\\"5.33\\\",\\\"5.34\\\",\\\"5.35\\\",\\\"5.36\\\",\\\"5.37\\\",\\\"5.38\\\",\\\"5.39\\\",\\\"5.4\\\",\\\"5.41\\\",\\\"5.42\\\",\\\"5.43\\\",\\\"5.44\\\",\\\"5.45\\\",\\\"5.46\\\",\\\"5.47\\\",\\\"5.48\\\",\\\"5.49\\\",\\\"5.5\\\",\\\"5.51\\\",\\\"5.52\\\",\\\"5.53\\\",\\\"5.54\\\",\\\"5.55\\\",\\\"5.56\\\",\\\"5.57\\\",\\\"5.58\\\",\\\"5.59\\\",\\\"5.6\\\",\\\"5.61\\\",\\\"5.62\\\",\\\"5.63\\\",\\\"5.64\\\",\\\"5.65\\\",\\\"5.66\\\",\\\"5.67\\\",\\\"5.68\\\",\\\"5.69\\\",\\\"5.7\\\",\\\"5.71\\\",\\\"5.72\\\",\\\"5.73\\\",\\\"5.74\\\",\\\"5.75\\\",\\\"5.76\\\",\\\"5.77\\\",\\\"5.78\\\",\\\"5.79\\\",\\\"5.8\\\",\\\"5.81\\\",\\\"5.82\\\",\\\"5.83\\\",\\\"5.84\\\",\\\"5.85\\\",\\\"5.86\\\",\\\"5.87\\\",\\\"5.88\\\",\\\"5.89\\\",\\\"5.9\\\",\\\"5.91\\\",\\\"5.92\\\",\\\"5.93\\\",\\\"5.94\\\",\\\"5.95\\\",\\\"5.96\\\",\\\"5.97\\\",\\\"5.98\\\",\\\"5.99\\\",\\\"6.0\\\",\\\"6.01\\\",\\\"6.02\\\",\\\"6.03\\\",\\\"6.04\\\",\\\"6.05\\\",\\\"6.06\\\",\\\"6.07\\\",\\\"6.08\\\",\\\"6.09\\\",\\\"6.1\\\",\\\"6.11\\\",\\\"6.12\\\",\\\"6.13\\\",\\\"6.14\\\",\\\"6.15\\\",\\\"6.16\\\",\\\"6.17\\\",\\\"6.18\\\",\\\"6.19\\\",\\\"6.2\\\",\\\"6.21\\\",\\\"6.22\\\",\\\"6.23\\\",\\\"6.24\\\",\\\"6.25\\\",\\\"6.26\\\",\\\"6.27\\\",\\\"6.28\\\",\\\"6.29\\\",\\\"6.3\\\",\\\"6.31\\\",\\\"6.32\\\",\\\"6.33\\\",\\\"6.34\\\",\\\"6.35\\\",\\\"6.36\\\",\\\"6.37\\\",\\\"6.38\\\",\\\"6.39\\\",\\\"6.4\\\",\\\"6.41\\\",\\\"6.42\\\",\\\"6.43\\\",\\\"6.44\\\",\\\"6.45\\\",\\\"6.46\\\",\\\"6.47\\\",\\\"6.48\\\",\\\"6.49\\\",\\\"6.5\\\",\\\"6.51\\\",\\\"6.52\\\",\\\"6.53\\\",\\\"6.54\\\",\\\"6.55\\\",\\\"6.56\\\",\\\"6.57\\\",\\\"6.58\\\",\\\"6.59\\\",\\\"6.6\\\",\\\"6.61\\\",\\\"6.62\\\",\\\"6.63\\\",\\\"6.64\\\",\\\"6.65\\\",\\\"6.66\\\",\\\"6.67\\\",\\\"6.68\\\",\\\"6.69\\\",\\\"6.7\\\",\\\"6.71\\\",\\\"6.72\\\",\\\"6.73\\\",\\\"6.74\\\",\\\"6.75\\\",\\\"6.76\\\",\\\"6.77\\\",\\\"6.78\\\",\\\"6.79\\\",\\\"6.8\\\",\\\"6.81\\\",\\\"6.82\\\",\\\"6.83\\\",\\\"6.84\\\",\\\"6.85\\\",\\\"6.86\\\",\\\"6.87\\\",\\\"6.88\\\",\\\"6.89\\\",\\\"6.9\\\",\\\"6.91\\\",\\\"6.92\\\",\\\"6.93\\\",\\\"6.94\\\",\\\"6.95\\\",\\\"6.96\\\",\\\"6.97\\\",\\\"6.98\\\",\\\"6.99\\\",\\\"7.0\\\",\\\"7.01\\\",\\\"7.02\\\",\\\"7.03\\\",\\\"7.04\\\",\\\"7.05\\\",\\\"7.06\\\",\\\"7.07\\\",\\\"7.08\\\",\\\"7.09\\\",\\\"7.1\\\",\\\"7.11\\\",\\\"7.12\\\",\\\"7.13\\\",\\\"7.14\\\",\\\"7.15\\\",\\\"7.16\\\",\\\"7.17\\\",\\\"7.18\\\",\\\"7.19\\\",\\\"7.2\\\",\\\"7.21\\\",\\\"7.22\\\",\\\"7.23\\\",\\\"7.24\\\",\\\"7.25\\\",\\\"7.26\\\",\\\"7.27\\\",\\\"7.28\\\",\\\"7.29\\\",\\\"7.3\\\",\\\"7.31\\\",\\\"7.32\\\",\\\"7.33\\\",\\\"7.34\\\",\\\"7.35\\\",\\\"7.36\\\",\\\"7.37\\\",\\\"7.38\\\",\\\"7.39\\\",\\\"7.4\\\",\\\"7.41\\\",\\\"7.42\\\",\\\"7.43\\\",\\\"7.44\\\",\\\"7.45\\\",\\\"7.46\\\",\\\"7.47\\\",\\\"7.48\\\",\\\"7.49\\\",\\\"7.5\\\",\\\"7.51\\\",\\\"7.52\\\",\\\"7.53\\\",\\\"7.54\\\",\\\"7.55\\\",\\\"7.56\\\",\\\"7.57\\\",\\\"7.58\\\",\\\"7.59\\\",\\\"7.6\\\",\\\"7.61\\\",\\\"7.62\\\",\\\"7.63\\\",\\\"7.64\\\",\\\"7.65\\\",\\\"7.66\\\",\\\"7.67\\\",\\\"7.68\\\",\\\"7.69\\\",\\\"7.7\\\",\\\"7.71\\\",\\\"7.72\\\",\\\"7.73\\\",\\\"7.74\\\",\\\"7.75\\\",\\\"7.76\\\",\\\"7.77\\\",\\\"7.78\\\",\\\"7.79\\\",\\\"7.8\\\",\\\"7.81\\\",\\\"7.82\\\",\\\"7.83\\\",\\\"7.84\\\",\\\"7.85\\\",\\\"7.86\\\",\\\"7.87\\\",\\\"7.88\\\",\\\"7.89\\\",\\\"7.9\\\",\\\"7.91\\\",\\\"7.92\\\",\\\"7.93\\\",\\\"7.94\\\",\\\"7.95\\\",\\\"7.96\\\",\\\"7.97\\\",\\\"7.98\\\",\\\"7.99\\\",\\\"8.0\\\",\\\"8.01\\\",\\\"8.02\\\",\\\"8.03\\\",\\\"8.04\\\",\\\"8.05\\\",\\\"8.06\\\",\\\"8.07\\\",\\\"8.08\\\",\\\"8.09\\\",\\\"8.1\\\",\\\"8.11\\\",\\\"8.12\\\",\\\"8.13\\\",\\\"8.14\\\",\\\"8.15\\\",\\\"8.16\\\",\\\"8.17\\\",\\\"8.18\\\",\\\"8.19\\\",\\\"8.2\\\",\\\"8.21\\\",\\\"8.22\\\",\\\"8.23\\\",\\\"8.24\\\",\\\"8.25\\\",\\\"8.26\\\",\\\"8.27\\\",\\\"8.28\\\",\\\"8.29\\\",\\\"8.3\\\",\\\"8.31\\\",\\\"8.32\\\",\\\"8.33\\\",\\\"8.34\\\",\\\"8.35\\\",\\\"8.36\\\",\\\"8.37\\\",\\\"8.38\\\",\\\"8.39\\\",\\\"8.4\\\",\\\"8.41\\\",\\\"8.42\\\",\\\"8.43\\\",\\\"8.44\\\",\\\"8.45\\\",\\\"8.46\\\",\\\"8.47\\\",\\\"8.48\\\",\\\"8.49\\\",\\\"8.5\\\",\\\"8.51\\\",\\\"8.52\\\",\\\"8.53\\\",\\\"8.54\\\",\\\"8.55\\\",\\\"8.56\\\",\\\"8.57\\\",\\\"8.58\\\",\\\"8.59\\\",\\\"8.6\\\",\\\"8.61\\\",\\\"8.62\\\",\\\"8.63\\\",\\\"8.64\\\",\\\"8.65\\\",\\\"8.66\\\",\\\"8.67\\\",\\\"8.68\\\",\\\"8.69\\\",\\\"8.7\\\",\\\"8.71\\\",\\\"8.72\\\",\\\"8.73\\\",\\\"8.74\\\",\\\"8.75\\\",\\\"8.76\\\",\\\"8.77\\\",\\\"8.78\\\",\\\"8.79\\\",\\\"8.8\\\",\\\"8.81\\\",\\\"8.82\\\",\\\"8.83\\\",\\\"8.84\\\",\\\"8.85\\\",\\\"8.86\\\",\\\"8.87\\\",\\\"8.88\\\",\\\"8.89\\\",\\\"8.9\\\",\\\"8.91\\\",\\\"8.92\\\",\\\"8.93\\\",\\\"8.94\\\",\\\"8.95\\\",\\\"8.96\\\",\\\"8.97\\\",\\\"8.98\\\",\\\"8.99\\\",\\\"9.0\\\",\\\"9.01\\\",\\\"9.02\\\",\\\"9.03\\\",\\\"9.04\\\",\\\"9.05\\\",\\\"9.06\\\",\\\"9.07\\\",\\\"9.08\\\",\\\"9.09\\\",\\\"9.1\\\",\\\"9.11\\\",\\\"9.12\\\",\\\"9.13\\\",\\\"9.14\\\",\\\"9.15\\\",\\\"9.16\\\",\\\"9.17\\\",\\\"9.18\\\",\\\"9.19\\\",\\\"9.2\\\",\\\"9.21\\\",\\\"9.22\\\",\\\"9.23\\\",\\\"9.24\\\",\\\"9.25\\\",\\\"9.26\\\",\\\"9.27\\\",\\\"9.28\\\",\\\"9.29\\\",\\\"9.3\\\",\\\"9.31\\\",\\\"9.32\\\",\\\"9.33\\\",\\\"9.34\\\",\\\"9.35\\\",\\\"9.36\\\",\\\"9.37\\\",\\\"9.38\\\",\\\"9.39\\\",\\\"9.4\\\",\\\"9.41\\\",\\\"9.42\\\",\\\"9.43\\\",\\\"9.44\\\",\\\"9.45\\\",\\\"9.46\\\",\\\"9.47\\\",\\\"9.48\\\",\\\"9.49\\\",\\\"9.5\\\",\\\"9.51\\\",\\\"9.52\\\",\\\"9.53\\\",\\\"9.54\\\",\\\"9.55\\\",\\\"9.56\\\",\\\"9.57\\\",\\\"9.58\\\",\\\"9.59\\\",\\\"9.6\\\",\\\"9.61\\\",\\\"9.62\\\",\\\"9.63\\\",\\\"9.64\\\",\\\"9.65\\\",\\\"9.66\\\",\\\"9.67\\\",\\\"9.68\\\",\\\"9.69\\\",\\\"9.7\\\",\\\"9.71\\\",\\\"9.72\\\",\\\"9.73\\\",\\\"9.74\\\",\\\"9.75\\\",\\\"9.76\\\",\\\"9.77\\\",\\\"9.78\\\",\\\"9.79\\\",\\\"9.8\\\",\\\"9.81\\\",\\\"9.82\\\",\\\"9.83\\\",\\\"9.84\\\",\\\"9.85\\\",\\\"9.86\\\",\\\"9.87\\\",\\\"9.88\\\",\\\"9.89\\\",\\\"9.9\\\",\\\"9.91\\\",\\\"9.92\\\",\\\"9.93\\\",\\\"9.94\\\",\\\"9.95\\\",\\\"9.96\\\",\\\"9.97\\\",\\\"9.98\\\",\\\"9.99\\\",\\\"10.0\\\",\\\"10.01\\\",\\\"10.02\\\",\\\"10.03\\\",\\\"10.04\\\",\\\"10.05\\\",\\\"10.06\\\",\\\"10.07\\\",\\\"10.08\\\",\\\"10.09\\\",\\\"10.1\\\",\\\"10.11\\\",\\\"10.12\\\",\\\"10.13\\\",\\\"10.14\\\",\\\"10.15\\\",\\\"10.16\\\",\\\"10.17\\\",\\\"10.18\\\",\\\"10.19\\\",\\\"10.2\\\",\\\"10.21\\\",\\\"10.22\\\",\\\"10.23\\\",\\\"10.24\\\",\\\"10.25\\\",\\\"10.26\\\",\\\"10.27\\\",\\\"10.28\\\",\\\"10.29\\\",\\\"10.3\\\",\\\"10.31\\\",\\\"10.32\\\",\\\"10.33\\\",\\\"10.34\\\",\\\"10.35\\\",\\\"10.36\\\",\\\"10.37\\\",\\\"10.38\\\",\\\"10.39\\\",\\\"10.4\\\",\\\"10.41\\\",\\\"10.42\\\",\\\"10.43\\\",\\\"10.44\\\",\\\"10.45\\\",\\\"10.46\\\",\\\"10.47\\\",\\\"10.48\\\",\\\"10.49\\\",\\\"10.5\\\",\\\"10.51\\\",\\\"10.52\\\",\\\"10.53\\\",\\\"10.54\\\",\\\"10.55\\\",\\\"10.56\\\",\\\"10.57\\\",\\\"10.58\\\",\\\"10.59\\\",\\\"10.6\\\",\\\"10.61\\\",\\\"10.62\\\",\\\"10.63\\\",\\\"10.64\\\",\\\"10.65\\\",\\\"10.66\\\",\\\"10.67\\\",\\\"10.68\\\",\\\"10.69\\\",\\\"10.7\\\",\\\"10.71\\\",\\\"10.72\\\",\\\"10.73\\\",\\\"10.74\\\",\\\"10.75\\\",\\\"10.76\\\",\\\"10.77\\\",\\\"10.78\\\",\\\"10.79\\\",\\\"10.8\\\",\\\"10.81\\\",\\\"10.82\\\",\\\"10.83\\\",\\\"10.84\\\",\\\"10.85\\\",\\\"10.86\\\",\\\"10.87\\\",\\\"10.88\\\",\\\"10.89\\\",\\\"10.9\\\",\\\"10.91\\\",\\\"10.92\\\",\\\"10.93\\\",\\\"10.94\\\",\\\"10.95\\\",\\\"10.96\\\",\\\"10.97\\\",\\\"10.98\\\",\\\"10.99\\\",\\\"11.0\\\",\\\"11.01\\\",\\\"11.02\\\",\\\"11.03\\\",\\\"11.04\\\",\\\"11.05\\\",\\\"11.06\\\",\\\"11.07\\\",\\\"11.08\\\",\\\"11.09\\\",\\\"11.1\\\",\\\"11.11\\\",\\\"11.12\\\",\\\"11.13\\\",\\\"11.14\\\",\\\"11.15\\\",\\\"11.16\\\",\\\"11.17\\\",\\\"11.18\\\",\\\"11.19\\\",\\\"11.2\\\",\\\"11.21\\\",\\\"11.22\\\",\\\"11.23\\\",\\\"11.24\\\",\\\"11.25\\\",\\\"11.26\\\",\\\"11.27\\\",\\\"11.28\\\",\\\"11.29\\\",\\\"11.3\\\",\\\"11.31\\\",\\\"11.32\\\",\\\"11.33\\\",\\\"11.34\\\",\\\"11.35\\\",\\\"11.36\\\",\\\"11.37\\\",\\\"11.38\\\",\\\"11.39\\\",\\\"11.4\\\",\\\"11.41\\\",\\\"11.42\\\",\\\"11.43\\\",\\\"11.44\\\",\\\"11.45\\\",\\\"11.46\\\",\\\"11.47\\\",\\\"11.48\\\",\\\"11.49\\\",\\\"11.5\\\",\\\"11.51\\\",\\\"11.52\\\",\\\"11.53\\\",\\\"11.54\\\",\\\"11.55\\\",\\\"11.56\\\",\\\"11.57\\\",\\\"11.58\\\",\\\"11.59\\\",\\\"11.6\\\",\\\"11.61\\\",\\\"11.62\\\",\\\"11.63\\\",\\\"11.64\\\",\\\"11.65\\\",\\\"11.66\\\",\\\"11.67\\\",\\\"11.68\\\",\\\"11.69\\\",\\\"11.7\\\",\\\"11.71\\\",\\\"11.72\\\",\\\"11.73\\\",\\\"11.74\\\",\\\"11.75\\\",\\\"11.76\\\",\\\"11.77\\\",\\\"11.78\\\",\\\"11.79\\\",\\\"11.8\\\",\\\"11.81\\\",\\\"11.82\\\",\\\"11.83\\\",\\\"11.84\\\",\\\"11.85\\\",\\\"11.86\\\",\\\"11.87\\\",\\\"11.88\\\",\\\"11.89\\\",\\\"11.9\\\",\\\"11.91\\\",\\\"11.92\\\",\\\"11.93\\\",\\\"11.94\\\",\\\"11.95\\\",\\\"11.96\\\",\\\"11.97\\\",\\\"11.98\\\",\\\"11.99\\\",\\\"12.0\\\",\\\"12.01\\\",\\\"12.02\\\",\\\"12.03\\\",\\\"12.04\\\",\\\"12.05\\\",\\\"12.06\\\",\\\"12.07\\\",\\\"12.08\\\",\\\"12.09\\\",\\\"12.1\\\",\\\"12.11\\\",\\\"12.12\\\",\\\"12.13\\\",\\\"12.14\\\",\\\"12.15\\\",\\\"12.16\\\",\\\"12.17\\\",\\\"12.18\\\",\\\"12.19\\\",\\\"12.2\\\",\\\"12.21\\\",\\\"12.22\\\",\\\"12.23\\\",\\\"12.24\\\",\\\"12.25\\\",\\\"12.26\\\",\\\"12.27\\\",\\\"12.28\\\",\\\"12.29\\\",\\\"12.3\\\",\\\"12.31\\\",\\\"12.32\\\",\\\"12.33\\\",\\\"12.34\\\",\\\"12.35\\\",\\\"12.36\\\",\\\"12.37\\\",\\\"12.38\\\",\\\"12.39\\\",\\\"12.4\\\",\\\"12.41\\\",\\\"12.42\\\",\\\"12.43\\\",\\\"12.44\\\",\\\"12.45\\\",\\\"12.46\\\",\\\"12.47\\\",\\\"12.48\\\",\\\"12.49\\\",\\\"12.5\\\",\\\"12.51\\\",\\\"12.52\\\",\\\"12.53\\\",\\\"12.54\\\",\\\"12.55\\\",\\\"12.56\\\",\\\"12.57\\\",\\\"12.58\\\",\\\"12.59\\\",\\\"12.6\\\",\\\"12.61\\\",\\\"12.62\\\",\\\"12.63\\\",\\\"12.64\\\",\\\"12.65\\\",\\\"12.66\\\",\\\"12.67\\\",\\\"12.68\\\",\\\"12.69\\\",\\\"12.7\\\",\\\"12.71\\\",\\\"12.72\\\",\\\"12.73\\\",\\\"12.74\\\",\\\"12.75\\\",\\\"12.76\\\",\\\"12.77\\\",\\\"12.78\\\",\\\"12.79\\\",\\\"12.8\\\",\\\"12.81\\\",\\\"12.82\\\",\\\"12.83\\\",\\\"12.84\\\",\\\"12.85\\\",\\\"12.86\\\",\\\"12.87\\\",\\\"12.88\\\",\\\"12.89\\\",\\\"12.9\\\",\\\"12.91\\\",\\\"12.92\\\",\\\"12.93\\\",\\\"12.94\\\",\\\"12.95\\\",\\\"12.96\\\",\\\"12.97\\\",\\\"12.98\\\",\\\"12.99\\\",\\\"13.0\\\",\\\"13.01\\\",\\\"13.02\\\",\\\"13.03\\\",\\\"13.04\\\",\\\"13.05\\\",\\\"13.06\\\",\\\"13.07\\\",\\\"13.08\\\",\\\"13.09\\\",\\\"13.1\\\",\\\"13.11\\\",\\\"13.12\\\",\\\"13.13\\\",\\\"13.14\\\",\\\"13.15\\\",\\\"13.16\\\",\\\"13.17\\\",\\\"13.18\\\",\\\"13.19\\\",\\\"13.2\\\",\\\"13.21\\\",\\\"13.22\\\",\\\"13.23\\\",\\\"13.24\\\",\\\"13.25\\\",\\\"13.26\\\",\\\"13.27\\\",\\\"13.28\\\",\\\"13.29\\\",\\\"13.3\\\",\\\"13.31\\\",\\\"13.32\\\",\\\"13.33\\\",\\\"13.34\\\",\\\"13.35\\\",\\\"13.36\\\",\\\"13.37\\\",\\\"13.38\\\",\\\"13.39\\\",\\\"13.4\\\",\\\"13.41\\\",\\\"13.42\\\",\\\"13.43\\\",\\\"13.44\\\",\\\"13.45\\\",\\\"13.46\\\",\\\"13.47\\\",\\\"13.48\\\",\\\"13.49\\\",\\\"13.5\\\",\\\"13.51\\\",\\\"13.52\\\",\\\"13.53\\\",\\\"13.54\\\",\\\"13.55\\\",\\\"13.56\\\",\\\"13.57\\\",\\\"13.58\\\",\\\"13.59\\\",\\\"13.6\\\",\\\"13.61\\\",\\\"13.62\\\",\\\"13.63\\\",\\\"13.64\\\",\\\"13.65\\\",\\\"13.66\\\",\\\"13.67\\\",\\\"13.68\\\",\\\"13.69\\\",\\\"13.7\\\",\\\"13.71\\\",\\\"13.72\\\",\\\"13.73\\\",\\\"13.74\\\",\\\"13.75\\\",\\\"13.76\\\",\\\"13.77\\\",\\\"13.78\\\",\\\"13.79\\\",\\\"13.8\\\",\\\"13.81\\\",\\\"13.82\\\",\\\"13.83\\\",\\\"13.84\\\",\\\"13.85\\\",\\\"13.86\\\",\\\"13.87\\\",\\\"13.88\\\",\\\"13.89\\\",\\\"13.9\\\",\\\"13.91\\\",\\\"13.92\\\",\\\"13.93\\\",\\\"13.94\\\",\\\"13.95\\\",\\\"13.96\\\",\\\"13.97\\\",\\\"13.98\\\",\\\"13.99\\\",\\\"14.0\\\",\\\"14.01\\\",\\\"14.02\\\",\\\"14.03\\\",\\\"14.04\\\",\\\"14.05\\\",\\\"14.06\\\",\\\"14.07\\\",\\\"14.08\\\",\\\"14.09\\\",\\\"14.1\\\",\\\"14.11\\\",\\\"14.12\\\",\\\"14.13\\\",\\\"14.14\\\",\\\"14.15\\\",\\\"14.16\\\",\\\"14.17\\\",\\\"14.18\\\",\\\"14.19\\\",\\\"14.2\\\",\\\"14.21\\\",\\\"14.22\\\",\\\"14.23\\\",\\\"14.24\\\",\\\"14.25\\\",\\\"14.26\\\",\\\"14.27\\\",\\\"14.28\\\",\\\"14.29\\\",\\\"14.3\\\",\\\"14.31\\\",\\\"14.32\\\",\\\"14.33\\\",\\\"14.34\\\",\\\"14.35\\\",\\\"14.36\\\",\\\"14.37\\\",\\\"14.38\\\",\\\"14.39\\\",\\\"14.4\\\",\\\"14.41\\\",\\\"14.42\\\",\\\"14.43\\\",\\\"14.44\\\",\\\"14.45\\\",\\\"14.46\\\",\\\"14.47\\\",\\\"14.48\\\",\\\"14.49\\\",\\\"14.5\\\",\\\"14.51\\\",\\\"14.52\\\",\\\"14.53\\\",\\\"14.54\\\",\\\"14.55\\\",\\\"14.56\\\",\\\"14.57\\\",\\\"14.58\\\",\\\"14.59\\\",\\\"14.6\\\",\\\"14.61\\\",\\\"14.62\\\",\\\"14.63\\\",\\\"14.64\\\",\\\"14.65\\\",\\\"14.66\\\",\\\"14.67\\\",\\\"14.68\\\",\\\"14.69\\\",\\\"14.7\\\",\\\"14.71\\\",\\\"14.72\\\",\\\"14.73\\\",\\\"14.74\\\",\\\"14.75\\\",\\\"14.76\\\",\\\"14.77\\\",\\\"14.78\\\",\\\"14.79\\\",\\\"14.8\\\",\\\"14.81\\\",\\\"14.82\\\",\\\"14.83\\\",\\\"14.84\\\",\\\"14.85\\\",\\\"14.86\\\",\\\"14.87\\\",\\\"14.88\\\",\\\"14.89\\\",\\\"14.9\\\",\\\"14.91\\\",\\\"14.92\\\",\\\"14.93\\\",\\\"14.94\\\",\\\"14.95\\\",\\\"14.96\\\",\\\"14.97\\\",\\\"14.98\\\",\\\"14.99\\\",\\\"15.0\\\",\\\"15.01\\\",\\\"15.02\\\",\\\"15.03\\\",\\\"15.04\\\",\\\"15.05\\\",\\\"15.06\\\",\\\"15.07\\\",\\\"15.08\\\",\\\"15.09\\\",\\\"15.1\\\",\\\"15.11\\\",\\\"15.12\\\",\\\"15.13\\\",\\\"15.14\\\",\\\"15.15\\\",\\\"15.16\\\",\\\"15.17\\\",\\\"15.18\\\",\\\"15.19\\\",\\\"15.2\\\",\\\"15.21\\\",\\\"15.22\\\",\\\"15.23\\\",\\\"15.24\\\",\\\"15.25\\\",\\\"15.26\\\",\\\"15.27\\\",\\\"15.28\\\",\\\"15.29\\\",\\\"15.3\\\",\\\"15.31\\\",\\\"15.32\\\",\\\"15.33\\\",\\\"15.34\\\",\\\"15.35\\\",\\\"15.36\\\",\\\"15.37\\\",\\\"15.38\\\",\\\"15.39\\\",\\\"15.4\\\",\\\"15.41\\\",\\\"15.42\\\",\\\"15.43\\\",\\\"15.44\\\",\\\"15.45\\\",\\\"15.46\\\",\\\"15.47\\\",\\\"15.48\\\",\\\"15.49\\\",\\\"15.5\\\",\\\"15.51\\\",\\\"15.52\\\",\\\"15.53\\\",\\\"15.54\\\",\\\"15.55\\\",\\\"15.56\\\",\\\"15.57\\\",\\\"15.58\\\",\\\"15.59\\\",\\\"15.6\\\",\\\"15.61\\\",\\\"15.62\\\",\\\"15.63\\\",\\\"15.64\\\",\\\"15.65\\\",\\\"15.66\\\",\\\"15.67\\\",\\\"15.68\\\",\\\"15.69\\\",\\\"15.7\\\",\\\"15.71\\\",\\\"15.72\\\",\\\"15.73\\\",\\\"15.74\\\",\\\"15.75\\\",\\\"15.76\\\",\\\"15.77\\\",\\\"15.78\\\",\\\"15.79\\\",\\\"15.8\\\",\\\"15.81\\\",\\\"15.82\\\",\\\"15.83\\\",\\\"15.84\\\",\\\"15.85\\\",\\\"15.86\\\",\\\"15.87\\\",\\\"15.88\\\",\\\"15.89\\\",\\\"15.9\\\",\\\"15.91\\\",\\\"15.92\\\",\\\"15.93\\\",\\\"15.94\\\",\\\"15.95\\\",\\\"15.96\\\",\\\"15.97\\\",\\\"15.98\\\",\\\"15.99\\\",\\\"16.0\\\",\\\"16.01\\\",\\\"16.02\\\",\\\"16.03\\\",\\\"16.04\\\",\\\"16.05\\\",\\\"16.06\\\",\\\"16.07\\\",\\\"16.08\\\",\\\"16.09\\\",\\\"16.1\\\",\\\"16.11\\\",\\\"16.12\\\",\\\"16.13\\\",\\\"16.14\\\",\\\"16.15\\\",\\\"16.16\\\",\\\"16.17\\\",\\\"16.18\\\",\\\"16.19\\\",\\\"16.2\\\",\\\"16.21\\\",\\\"16.22\\\",\\\"16.23\\\",\\\"16.24\\\",\\\"16.25\\\",\\\"16.26\\\",\\\"16.27\\\",\\\"16.28\\\",\\\"16.29\\\",\\\"16.3\\\",\\\"16.31\\\",\\\"16.32\\\",\\\"16.33\\\",\\\"16.34\\\",\\\"16.35\\\",\\\"16.36\\\",\\\"16.37\\\",\\\"16.38\\\",\\\"16.39\\\",\\\"16.4\\\",\\\"16.41\\\",\\\"16.42\\\",\\\"16.43\\\",\\\"16.44\\\",\\\"16.45\\\",\\\"16.46\\\",\\\"16.47\\\",\\\"16.48\\\",\\\"16.49\\\",\\\"16.5\\\",\\\"16.51\\\",\\\"16.52\\\",\\\"16.53\\\",\\\"16.54\\\",\\\"16.55\\\",\\\"16.56\\\",\\\"16.57\\\",\\\"16.58\\\",\\\"16.59\\\",\\\"16.6\\\",\\\"16.61\\\",\\\"16.62\\\",\\\"16.63\\\",\\\"16.64\\\",\\\"16.65\\\",\\\"16.66\\\",\\\"16.67\\\",\\\"16.68\\\",\\\"16.69\\\",\\\"16.7\\\",\\\"16.71\\\",\\\"16.72\\\",\\\"16.73\\\",\\\"16.74\\\",\\\"16.75\\\",\\\"16.76\\\",\\\"16.77\\\",\\\"16.78\\\",\\\"16.79\\\",\\\"16.8\\\",\\\"16.81\\\",\\\"16.82\\\",\\\"16.83\\\",\\\"16.84\\\",\\\"16.85\\\",\\\"16.86\\\",\\\"16.87\\\",\\\"16.88\\\",\\\"16.89\\\",\\\"16.9\\\",\\\"16.91\\\",\\\"16.92\\\",\\\"16.93\\\",\\\"16.94\\\",\\\"16.95\\\",\\\"16.96\\\",\\\"16.97\\\",\\\"16.98\\\",\\\"16.99\\\",\\\"17.0\\\",\\\"17.01\\\",\\\"17.02\\\",\\\"17.03\\\",\\\"17.04\\\",\\\"17.05\\\",\\\"17.06\\\",\\\"17.07\\\",\\\"17.08\\\",\\\"17.09\\\",\\\"17.1\\\",\\\"17.11\\\",\\\"17.12\\\",\\\"17.13\\\",\\\"17.14\\\",\\\"17.15\\\",\\\"17.16\\\",\\\"17.17\\\",\\\"17.18\\\",\\\"17.19\\\",\\\"17.2\\\",\\\"17.21\\\",\\\"17.22\\\",\\\"17.23\\\",\\\"17.24\\\",\\\"17.25\\\",\\\"17.26\\\",\\\"17.27\\\",\\\"17.28\\\",\\\"17.29\\\",\\\"17.3\\\",\\\"17.31\\\",\\\"17.32\\\",\\\"17.33\\\",\\\"17.34\\\",\\\"17.35\\\",\\\"17.36\\\",\\\"17.37\\\",\\\"17.38\\\",\\\"17.39\\\",\\\"17.4\\\",\\\"17.41\\\",\\\"17.42\\\",\\\"17.43\\\",\\\"17.44\\\",\\\"17.45\\\",\\\"17.46\\\",\\\"17.47\\\",\\\"17.48\\\",\\\"17.49\\\",\\\"17.5\\\",\\\"17.51\\\",\\\"17.52\\\",\\\"17.53\\\",\\\"17.54\\\",\\\"17.55\\\",\\\"17.56\\\",\\\"17.57\\\",\\\"17.58\\\",\\\"17.59\\\",\\\"17.6\\\",\\\"17.61\\\",\\\"17.62\\\",\\\"17.63\\\",\\\"17.64\\\",\\\"17.65\\\",\\\"17.66\\\",\\\"17.67\\\",\\\"17.68\\\",\\\"17.69\\\",\\\"17.7\\\",\\\"17.71\\\",\\\"17.72\\\",\\\"17.73\\\",\\\"17.74\\\",\\\"17.75\\\",\\\"17.76\\\",\\\"17.77\\\",\\\"17.78\\\",\\\"17.79\\\",\\\"17.8\\\",\\\"17.81\\\",\\\"17.82\\\",\\\"17.83\\\",\\\"17.84\\\",\\\"17.85\\\",\\\"17.86\\\",\\\"17.87\\\",\\\"17.88\\\",\\\"17.89\\\",\\\"17.9\\\",\\\"17.91\\\",\\\"17.92\\\",\\\"17.93\\\",\\\"17.94\\\",\\\"17.95\\\",\\\"17.96\\\",\\\"17.97\\\",\\\"17.98\\\",\\\"17.99\\\",\\\"18.0\\\",\\\"18.01\\\",\\\"18.02\\\",\\\"18.03\\\",\\\"18.04\\\",\\\"18.05\\\",\\\"18.06\\\",\\\"18.07\\\",\\\"18.08\\\",\\\"18.09\\\",\\\"18.1\\\",\\\"18.11\\\",\\\"18.12\\\",\\\"18.13\\\",\\\"18.14\\\",\\\"18.15\\\",\\\"18.16\\\",\\\"18.17\\\",\\\"18.18\\\",\\\"18.19\\\",\\\"18.2\\\",\\\"18.21\\\",\\\"18.22\\\",\\\"18.23\\\",\\\"18.24\\\",\\\"18.25\\\",\\\"18.26\\\",\\\"18.27\\\",\\\"18.28\\\",\\\"18.29\\\",\\\"18.3\\\",\\\"18.31\\\",\\\"18.32\\\",\\\"18.33\\\",\\\"18.34\\\",\\\"18.35\\\",\\\"18.36\\\",\\\"18.37\\\",\\\"18.38\\\",\\\"18.39\\\",\\\"18.4\\\",\\\"18.41\\\",\\\"18.42\\\",\\\"18.43\\\",\\\"18.44\\\",\\\"18.45\\\",\\\"18.46\\\",\\\"18.47\\\",\\\"18.48\\\",\\\"18.49\\\",\\\"18.5\\\",\\\"18.51\\\",\\\"18.52\\\",\\\"18.53\\\",\\\"18.54\\\",\\\"18.55\\\",\\\"18.56\\\",\\\"18.57\\\",\\\"18.58\\\",\\\"18.59\\\",\\\"18.6\\\",\\\"18.61\\\",\\\"18.62\\\",\\\"18.63\\\",\\\"18.64\\\",\\\"18.65\\\",\\\"18.66\\\",\\\"18.67\\\",\\\"18.68\\\",\\\"18.69\\\",\\\"18.7\\\",\\\"18.71\\\",\\\"18.72\\\",\\\"18.73\\\",\\\"18.74\\\",\\\"18.75\\\",\\\"18.76\\\",\\\"18.77\\\",\\\"18.78\\\",\\\"18.79\\\",\\\"18.8\\\",\\\"18.81\\\",\\\"18.82\\\",\\\"18.83\\\",\\\"18.84\\\",\\\"18.85\\\",\\\"18.86\\\",\\\"18.87\\\",\\\"18.88\\\",\\\"18.89\\\",\\\"18.9\\\",\\\"18.91\\\",\\\"18.92\\\",\\\"18.93\\\",\\\"18.94\\\",\\\"18.95\\\",\\\"18.96\\\",\\\"18.97\\\",\\\"18.98\\\",\\\"18.99\\\",\\\"19.0\\\",\\\"19.01\\\",\\\"19.02\\\",\\\"19.03\\\",\\\"19.04\\\",\\\"19.05\\\",\\\"19.06\\\",\\\"19.07\\\",\\\"19.08\\\",\\\"19.09\\\",\\\"19.1\\\",\\\"19.11\\\",\\\"19.12\\\",\\\"19.13\\\",\\\"19.14\\\",\\\"19.15\\\",\\\"19.16\\\",\\\"19.17\\\",\\\"19.18\\\",\\\"19.19\\\",\\\"19.2\\\",\\\"19.21\\\",\\\"19.22\\\",\\\"19.23\\\",\\\"19.24\\\",\\\"19.25\\\",\\\"19.26\\\",\\\"19.27\\\",\\\"19.28\\\",\\\"19.29\\\",\\\"19.3\\\",\\\"19.31\\\",\\\"19.32\\\",\\\"19.33\\\",\\\"19.34\\\",\\\"19.35\\\",\\\"19.36\\\",\\\"19.37\\\",\\\"19.38\\\",\\\"19.39\\\",\\\"19.4\\\",\\\"19.41\\\",\\\"19.42\\\",\\\"19.43\\\",\\\"19.44\\\",\\\"19.45\\\",\\\"19.46\\\",\\\"19.47\\\",\\\"19.48\\\",\\\"19.49\\\",\\\"19.5\\\",\\\"19.51\\\",\\\"19.52\\\",\\\"19.53\\\",\\\"19.54\\\",\\\"19.55\\\",\\\"19.56\\\",\\\"19.57\\\",\\\"19.58\\\",\\\"19.59\\\",\\\"19.6\\\",\\\"19.61\\\",\\\"19.62\\\",\\\"19.63\\\",\\\"19.64\\\",\\\"19.65\\\",\\\"19.66\\\",\\\"19.67\\\",\\\"19.68\\\",\\\"19.69\\\",\\\"19.7\\\",\\\"19.71\\\",\\\"19.72\\\",\\\"19.73\\\",\\\"19.74\\\",\\\"19.75\\\",\\\"19.76\\\",\\\"19.77\\\",\\\"19.78\\\",\\\"19.79\\\",\\\"19.8\\\",\\\"19.81\\\",\\\"19.82\\\",\\\"19.83\\\",\\\"19.84\\\",\\\"19.85\\\",\\\"19.86\\\",\\\"19.87\\\",\\\"19.88\\\",\\\"19.89\\\",\\\"19.9\\\",\\\"19.91\\\",\\\"19.92\\\",\\\"19.93\\\",\\\"19.94\\\",\\\"19.95\\\",\\\"19.96\\\",\\\"19.97\\\",\\\"19.98\\\",\\\"19.99\\\",\\\"20.0\\\",\\\"20.01\\\",\\\"20.02\\\",\\\"20.03\\\",\\\"20.04\\\",\\\"20.05\\\",\\\"20.06\\\",\\\"20.07\\\",\\\"20.08\\\",\\\"20.09\\\",\\\"20.1\\\",\\\"20.11\\\",\\\"20.12\\\",\\\"20.13\\\",\\\"20.14\\\",\\\"20.15\\\",\\\"20.16\\\",\\\"20.17\\\",\\\"20.18\\\",\\\"20.19\\\",\\\"20.2\\\",\\\"20.21\\\",\\\"20.22\\\",\\\"20.23\\\",\\\"20.24\\\",\\\"20.25\\\",\\\"20.26\\\",\\\"20.27\\\",\\\"20.28\\\",\\\"20.29\\\",\\\"20.3\\\",\\\"20.31\\\",\\\"20.32\\\",\\\"20.33\\\",\\\"20.34\\\",\\\"20.35\\\",\\\"20.36\\\",\\\"20.37\\\",\\\"20.38\\\",\\\"20.39\\\",\\\"20.4\\\",\\\"20.41\\\",\\\"20.42\\\",\\\"20.43\\\",\\\"20.44\\\",\\\"20.45\\\",\\\"20.46\\\",\\\"20.47\\\",\\\"20.48\\\",\\\"20.49\\\",\\\"20.5\\\",\\\"20.51\\\",\\\"20.52\\\",\\\"20.53\\\",\\\"20.54\\\",\\\"20.55\\\",\\\"20.56\\\",\\\"20.57\\\",\\\"20.58\\\",\\\"20.59\\\",\\\"20.6\\\",\\\"20.61\\\",\\\"20.62\\\",\\\"20.63\\\",\\\"20.64\\\",\\\"20.65\\\",\\\"20.66\\\",\\\"20.67\\\",\\\"20.68\\\",\\\"20.69\\\",\\\"20.7\\\",\\\"20.71\\\",\\\"20.72\\\",\\\"20.73\\\",\\\"20.74\\\",\\\"20.75\\\",\\\"20.76\\\",\\\"20.77\\\",\\\"20.78\\\",\\\"20.79\\\",\\\"20.8\\\",\\\"20.81\\\",\\\"20.82\\\",\\\"20.83\\\",\\\"20.84\\\",\\\"20.85\\\",\\\"20.86\\\",\\\"20.87\\\",\\\"20.88\\\",\\\"20.89\\\",\\\"20.9\\\",\\\"20.91\\\",\\\"20.92\\\",\\\"20.93\\\",\\\"20.94\\\",\\\"20.95\\\",\\\"20.96\\\",\\\"20.97\\\",\\\"20.98\\\",\\\"20.99\\\",\\\"21.0\\\",\\\"21.01\\\",\\\"21.02\\\",\\\"21.03\\\",\\\"21.04\\\",\\\"21.05\\\",\\\"21.06\\\",\\\"21.07\\\",\\\"21.08\\\",\\\"21.09\\\",\\\"21.1\\\",\\\"21.11\\\",\\\"21.12\\\",\\\"21.13\\\",\\\"21.14\\\",\\\"21.15\\\",\\\"21.16\\\",\\\"21.17\\\",\\\"21.18\\\",\\\"21.19\\\",\\\"21.2\\\",\\\"21.21\\\",\\\"21.22\\\",\\\"21.23\\\",\\\"21.24\\\",\\\"21.25\\\",\\\"21.26\\\",\\\"21.27\\\",\\\"21.28\\\",\\\"21.29\\\",\\\"21.3\\\",\\\"21.31\\\",\\\"21.32\\\",\\\"21.33\\\",\\\"21.34\\\",\\\"21.35\\\",\\\"21.36\\\",\\\"21.37\\\",\\\"21.38\\\",\\\"21.39\\\",\\\"21.4\\\",\\\"21.41\\\",\\\"21.42\\\",\\\"21.43\\\",\\\"21.44\\\",\\\"21.45\\\",\\\"21.46\\\",\\\"21.47\\\",\\\"21.48\\\",\\\"21.49\\\",\\\"21.5\\\",\\\"21.51\\\",\\\"21.52\\\",\\\"21.53\\\",\\\"21.54\\\",\\\"21.55\\\",\\\"21.56\\\",\\\"21.57\\\",\\\"21.58\\\",\\\"21.59\\\",\\\"21.6\\\",\\\"21.61\\\",\\\"21.62\\\",\\\"21.63\\\",\\\"21.64\\\",\\\"21.65\\\",\\\"21.66\\\",\\\"21.67\\\",\\\"21.68\\\",\\\"21.69\\\",\\\"21.7\\\",\\\"21.71\\\",\\\"21.72\\\",\\\"21.73\\\",\\\"21.74\\\",\\\"21.75\\\",\\\"21.76\\\",\\\"21.77\\\",\\\"21.78\\\",\\\"21.79\\\",\\\"21.8\\\",\\\"21.81\\\",\\\"21.82\\\",\\\"21.83\\\",\\\"21.84\\\",\\\"21.85\\\",\\\"21.86\\\",\\\"21.87\\\",\\\"21.88\\\",\\\"21.89\\\",\\\"21.9\\\",\\\"21.91\\\",\\\"21.92\\\",\\\"21.93\\\",\\\"21.94\\\",\\\"21.95\\\",\\\"21.96\\\",\\\"21.97\\\",\\\"21.98\\\",\\\"21.99\\\",\\\"22.0\\\",\\\"22.01\\\",\\\"22.02\\\",\\\"22.03\\\",\\\"22.04\\\",\\\"22.05\\\",\\\"22.06\\\",\\\"22.07\\\",\\\"22.08\\\",\\\"22.09\\\",\\\"22.1\\\",\\\"22.11\\\",\\\"22.12\\\",\\\"22.13\\\",\\\"22.14\\\",\\\"22.15\\\",\\\"22.16\\\",\\\"22.17\\\",\\\"22.18\\\",\\\"22.19\\\",\\\"22.2\\\",\\\"22.21\\\",\\\"22.22\\\",\\\"22.23\\\",\\\"22.24\\\",\\\"22.25\\\",\\\"22.26\\\",\\\"22.27\\\",\\\"22.28\\\",\\\"22.29\\\",\\\"22.3\\\",\\\"22.31\\\",\\\"22.32\\\",\\\"22.33\\\",\\\"22.34\\\",\\\"22.35\\\",\\\"22.36\\\",\\\"22.37\\\",\\\"22.38\\\",\\\"22.39\\\",\\\"22.4\\\",\\\"22.41\\\",\\\"22.42\\\",\\\"22.43\\\",\\\"22.44\\\",\\\"22.45\\\",\\\"22.46\\\",\\\"22.47\\\",\\\"22.48\\\",\\\"22.49\\\",\\\"22.5\\\",\\\"22.51\\\",\\\"22.52\\\",\\\"22.53\\\",\\\"22.54\\\",\\\"22.55\\\",\\\"22.56\\\",\\\"22.57\\\",\\\"22.58\\\",\\\"22.59\\\",\\\"22.6\\\",\\\"22.61\\\",\\\"22.62\\\",\\\"22.63\\\",\\\"22.64\\\",\\\"22.65\\\",\\\"22.66\\\",\\\"22.67\\\",\\\"22.68\\\",\\\"22.69\\\",\\\"22.7\\\",\\\"22.71\\\",\\\"22.72\\\",\\\"22.73\\\",\\\"22.74\\\",\\\"22.75\\\",\\\"22.76\\\",\\\"22.77\\\",\\\"22.78\\\",\\\"22.79\\\",\\\"22.8\\\",\\\"22.81\\\",\\\"22.82\\\",\\\"22.83\\\",\\\"22.84\\\",\\\"22.85\\\",\\\"22.86\\\",\\\"22.87\\\",\\\"22.88\\\",\\\"22.89\\\",\\\"22.9\\\",\\\"22.91\\\",\\\"22.92\\\",\\\"22.93\\\",\\\"22.94\\\",\\\"22.95\\\",\\\"22.96\\\",\\\"22.97\\\",\\\"22.98\\\",\\\"22.99\\\",\\\"23.0\\\",\\\"23.01\\\",\\\"23.02\\\",\\\"23.03\\\",\\\"23.04\\\",\\\"23.05\\\",\\\"23.06\\\",\\\"23.07\\\",\\\"23.08\\\",\\\"23.09\\\",\\\"23.1\\\",\\\"23.11\\\",\\\"23.12\\\",\\\"23.13\\\",\\\"23.14\\\",\\\"23.15\\\",\\\"23.16\\\",\\\"23.17\\\",\\\"23.18\\\",\\\"23.19\\\",\\\"23.2\\\",\\\"23.21\\\",\\\"23.22\\\",\\\"23.23\\\",\\\"23.24\\\",\\\"23.25\\\",\\\"23.26\\\",\\\"23.27\\\",\\\"23.28\\\",\\\"23.29\\\",\\\"23.3\\\",\\\"23.31\\\",\\\"23.32\\\",\\\"23.33\\\",\\\"23.34\\\",\\\"23.35\\\",\\\"23.36\\\",\\\"23.37\\\",\\\"23.38\\\",\\\"23.39\\\",\\\"23.4\\\",\\\"23.41\\\",\\\"23.42\\\",\\\"23.43\\\",\\\"23.44\\\",\\\"23.45\\\",\\\"23.46\\\",\\\"23.47\\\",\\\"23.48\\\",\\\"23.49\\\",\\\"23.5\\\",\\\"23.51\\\",\\\"23.52\\\",\\\"23.53\\\",\\\"23.54\\\",\\\"23.55\\\",\\\"23.56\\\",\\\"23.57\\\",\\\"23.58\\\",\\\"23.59\\\",\\\"23.6\\\",\\\"23.61\\\",\\\"23.62\\\",\\\"23.63\\\",\\\"23.64\\\",\\\"23.65\\\",\\\"23.66\\\",\\\"23.67\\\",\\\"23.68\\\",\\\"23.69\\\",\\\"23.7\\\",\\\"23.71\\\",\\\"23.72\\\",\\\"23.73\\\",\\\"23.74\\\",\\\"23.75\\\",\\\"23.76\\\",\\\"23.77\\\",\\\"23.78\\\",\\\"23.79\\\",\\\"23.8\\\",\\\"23.81\\\",\\\"23.82\\\",\\\"23.83\\\",\\\"23.84\\\",\\\"23.85\\\",\\\"23.86\\\",\\\"23.87\\\",\\\"23.88\\\",\\\"23.89\\\",\\\"23.9\\\",\\\"23.91\\\",\\\"23.92\\\",\\\"23.93\\\",\\\"23.94\\\",\\\"23.95\\\",\\\"23.96\\\",\\\"23.97\\\",\\\"23.98\\\",\\\"23.99\\\",\\\"24.0\\\",\\\"24.01\\\",\\\"24.02\\\",\\\"24.03\\\",\\\"24.04\\\",\\\"24.05\\\",\\\"24.06\\\",\\\"24.07\\\",\\\"24.08\\\",\\\"24.09\\\",\\\"24.1\\\",\\\"24.11\\\",\\\"24.12\\\",\\\"24.13\\\",\\\"24.14\\\",\\\"24.15\\\",\\\"24.16\\\",\\\"24.17\\\",\\\"24.18\\\",\\\"24.19\\\",\\\"24.2\\\",\\\"24.21\\\",\\\"24.22\\\",\\\"24.23\\\",\\\"24.24\\\",\\\"24.25\\\",\\\"24.26\\\",\\\"24.27\\\",\\\"24.28\\\",\\\"24.29\\\",\\\"24.3\\\",\\\"24.31\\\",\\\"24.32\\\",\\\"24.33\\\",\\\"24.34\\\",\\\"24.35\\\",\\\"24.36\\\",\\\"24.37\\\",\\\"24.38\\\",\\\"24.39\\\",\\\"24.4\\\",\\\"24.41\\\",\\\"24.42\\\",\\\"24.43\\\",\\\"24.44\\\",\\\"24.45\\\",\\\"24.46\\\",\\\"24.47\\\",\\\"24.48\\\",\\\"24.49\\\",\\\"24.5\\\",\\\"24.51\\\",\\\"24.52\\\",\\\"24.53\\\",\\\"24.54\\\",\\\"24.55\\\",\\\"24.56\\\",\\\"24.57\\\",\\\"24.58\\\",\\\"24.59\\\",\\\"24.6\\\",\\\"24.61\\\",\\\"24.62\\\",\\\"24.63\\\",\\\"24.64\\\",\\\"24.65\\\",\\\"24.66\\\",\\\"24.67\\\",\\\"24.68\\\",\\\"24.69\\\",\\\"24.7\\\",\\\"24.71\\\",\\\"24.72\\\",\\\"24.73\\\",\\\"24.74\\\",\\\"24.75\\\",\\\"24.76\\\",\\\"24.77\\\",\\\"24.78\\\",\\\"24.79\\\",\\\"24.8\\\",\\\"24.81\\\",\\\"24.82\\\",\\\"24.83\\\",\\\"24.84\\\",\\\"24.85\\\",\\\"24.86\\\",\\\"24.87\\\",\\\"24.88\\\",\\\"24.89\\\",\\\"24.9\\\",\\\"24.91\\\",\\\"24.92\\\",\\\"24.93\\\",\\\"24.94\\\",\\\"24.95\\\",\\\"24.96\\\",\\\"24.97\\\",\\\"24.98\\\",\\\"24.99\\\",\\\"25.0\\\",\\\"25.01\\\",\\\"25.02\\\",\\\"25.03\\\",\\\"25.04\\\",\\\"25.05\\\",\\\"25.06\\\",\\\"25.07\\\",\\\"25.08\\\",\\\"25.09\\\",\\\"25.1\\\",\\\"25.11\\\",\\\"25.12\\\",\\\"25.13\\\",\\\"25.14\\\",\\\"25.15\\\",\\\"25.16\\\",\\\"25.17\\\",\\\"25.18\\\",\\\"25.19\\\",\\\"25.2\\\",\\\"25.21\\\",\\\"25.22\\\",\\\"25.23\\\",\\\"25.24\\\",\\\"25.25\\\",\\\"25.26\\\",\\\"25.27\\\",\\\"25.28\\\",\\\"25.29\\\",\\\"25.3\\\",\\\"25.31\\\",\\\"25.32\\\",\\\"25.33\\\",\\\"25.34\\\",\\\"25.35\\\",\\\"25.36\\\",\\\"25.37\\\",\\\"25.38\\\",\\\"25.39\\\",\\\"25.4\\\",\\\"25.41\\\",\\\"25.42\\\",\\\"25.43\\\",\\\"25.44\\\",\\\"25.45\\\",\\\"25.46\\\",\\\"25.47\\\",\\\"25.48\\\",\\\"25.49\\\",\\\"25.5\\\",\\\"25.51\\\",\\\"25.52\\\",\\\"25.53\\\",\\\"25.54\\\",\\\"25.55\\\",\\\"25.56\\\",\\\"25.57\\\",\\\"25.58\\\",\\\"25.59\\\",\\\"25.6\\\",\\\"25.61\\\",\\\"25.62\\\",\\\"25.63\\\",\\\"25.64\\\",\\\"25.65\\\",\\\"25.66\\\",\\\"25.67\\\",\\\"25.68\\\",\\\"25.69\\\",\\\"25.7\\\",\\\"25.71\\\",\\\"25.72\\\",\\\"25.73\\\",\\\"25.74\\\",\\\"25.75\\\",\\\"25.76\\\",\\\"25.77\\\",\\\"25.78\\\",\\\"25.79\\\",\\\"25.8\\\",\\\"25.81\\\",\\\"25.82\\\",\\\"25.83\\\",\\\"25.84\\\",\\\"25.85\\\",\\\"25.86\\\",\\\"25.87\\\",\\\"25.88\\\",\\\"25.89\\\",\\\"25.9\\\",\\\"25.91\\\",\\\"25.92\\\",\\\"25.93\\\",\\\"25.94\\\",\\\"25.95\\\",\\\"25.96\\\",\\\"25.97\\\",\\\"25.98\\\",\\\"25.99\\\",\\\"26.0\\\",\\\"26.01\\\",\\\"26.02\\\",\\\"26.03\\\",\\\"26.04\\\",\\\"26.05\\\",\\\"26.06\\\",\\\"26.07\\\",\\\"26.08\\\",\\\"26.09\\\",\\\"26.1\\\",\\\"26.11\\\",\\\"26.12\\\",\\\"26.13\\\",\\\"26.14\\\",\\\"26.15\\\",\\\"26.16\\\",\\\"26.17\\\",\\\"26.18\\\",\\\"26.19\\\",\\\"26.2\\\",\\\"26.21\\\",\\\"26.22\\\",\\\"26.23\\\",\\\"26.24\\\",\\\"26.25\\\",\\\"26.26\\\",\\\"26.27\\\",\\\"26.28\\\",\\\"26.29\\\",\\\"26.3\\\",\\\"26.31\\\",\\\"26.32\\\",\\\"26.33\\\",\\\"26.34\\\",\\\"26.35\\\",\\\"26.36\\\",\\\"26.37\\\",\\\"26.38\\\",\\\"26.39\\\",\\\"26.4\\\",\\\"26.41\\\",\\\"26.42\\\",\\\"26.43\\\",\\\"26.44\\\",\\\"26.45\\\",\\\"26.46\\\",\\\"26.47\\\",\\\"26.48\\\",\\\"26.49\\\",\\\"26.5\\\",\\\"26.51\\\",\\\"26.52\\\",\\\"26.53\\\",\\\"26.54\\\",\\\"26.55\\\",\\\"26.56\\\",\\\"26.57\\\",\\\"26.58\\\",\\\"26.59\\\",\\\"26.6\\\",\\\"26.61\\\",\\\"26.62\\\",\\\"26.63\\\",\\\"26.64\\\",\\\"26.65\\\",\\\"26.66\\\",\\\"26.67\\\",\\\"26.68\\\",\\\"26.69\\\",\\\"26.7\\\",\\\"26.71\\\",\\\"26.72\\\",\\\"26.73\\\",\\\"26.74\\\",\\\"26.75\\\",\\\"26.76\\\",\\\"26.77\\\",\\\"26.78\\\",\\\"26.79\\\",\\\"26.8\\\",\\\"26.81\\\",\\\"26.82\\\",\\\"26.83\\\",\\\"26.84\\\",\\\"26.85\\\",\\\"26.86\\\",\\\"26.87\\\",\\\"26.88\\\",\\\"26.89\\\",\\\"26.9\\\",\\\"26.91\\\",\\\"26.92\\\",\\\"26.93\\\",\\\"26.94\\\",\\\"26.95\\\",\\\"26.96\\\",\\\"26.97\\\",\\\"26.98\\\",\\\"26.99\\\",\\\"27.0\\\",\\\"27.01\\\",\\\"27.02\\\",\\\"27.03\\\",\\\"27.04\\\",\\\"27.05\\\",\\\"27.06\\\",\\\"27.07\\\",\\\"27.08\\\",\\\"27.09\\\",\\\"27.1\\\",\\\"27.11\\\",\\\"27.12\\\",\\\"27.13\\\",\\\"27.14\\\",\\\"27.15\\\",\\\"27.16\\\",\\\"27.17\\\",\\\"27.18\\\",\\\"27.19\\\",\\\"27.2\\\",\\\"27.21\\\",\\\"27.22\\\",\\\"27.23\\\",\\\"27.24\\\",\\\"27.25\\\",\\\"27.26\\\",\\\"27.27\\\",\\\"27.28\\\",\\\"27.29\\\",\\\"27.3\\\",\\\"27.31\\\",\\\"27.32\\\",\\\"27.33\\\",\\\"27.34\\\",\\\"27.35\\\",\\\"27.36\\\",\\\"27.37\\\",\\\"27.38\\\",\\\"27.39\\\",\\\"27.4\\\",\\\"27.41\\\",\\\"27.42\\\",\\\"27.43\\\",\\\"27.44\\\",\\\"27.45\\\",\\\"27.46\\\",\\\"27.47\\\",\\\"27.48\\\",\\\"27.49\\\",\\\"27.5\\\",\\\"27.51\\\",\\\"27.52\\\",\\\"27.53\\\",\\\"27.54\\\",\\\"27.55\\\",\\\"27.56\\\",\\\"27.57\\\",\\\"27.58\\\",\\\"27.59\\\",\\\"27.6\\\",\\\"27.61\\\",\\\"27.62\\\",\\\"27.63\\\",\\\"27.64\\\",\\\"27.65\\\",\\\"27.66\\\",\\\"27.67\\\",\\\"27.68\\\",\\\"27.69\\\",\\\"27.7\\\",\\\"27.71\\\",\\\"27.72\\\",\\\"27.73\\\",\\\"27.74\\\",\\\"27.75\\\",\\\"27.76\\\",\\\"27.77\\\",\\\"27.78\\\",\\\"27.79\\\",\\\"27.8\\\",\\\"27.81\\\",\\\"27.82\\\",\\\"27.83\\\",\\\"27.84\\\",\\\"27.85\\\",\\\"27.86\\\",\\\"27.87\\\",\\\"27.88\\\",\\\"27.89\\\",\\\"27.9\\\",\\\"27.91\\\",\\\"27.92\\\",\\\"27.93\\\",\\\"27.94\\\",\\\"27.95\\\",\\\"27.96\\\",\\\"27.97\\\",\\\"27.98\\\",\\\"27.99\\\",\\\"28.0\\\",\\\"28.01\\\",\\\"28.02\\\",\\\"28.03\\\",\\\"28.04\\\",\\\"28.05\\\",\\\"28.06\\\",\\\"28.07\\\",\\\"28.08\\\",\\\"28.09\\\",\\\"28.1\\\",\\\"28.11\\\",\\\"28.12\\\",\\\"28.13\\\",\\\"28.14\\\",\\\"28.15\\\",\\\"28.16\\\",\\\"28.17\\\",\\\"28.18\\\",\\\"28.19\\\",\\\"28.2\\\",\\\"28.21\\\",\\\"28.22\\\",\\\"28.23\\\",\\\"28.24\\\",\\\"28.25\\\",\\\"28.26\\\",\\\"28.27\\\",\\\"28.28\\\",\\\"28.29\\\",\\\"28.3\\\",\\\"28.31\\\",\\\"28.32\\\",\\\"28.33\\\",\\\"28.34\\\",\\\"28.35\\\",\\\"28.36\\\",\\\"28.37\\\",\\\"28.38\\\",\\\"28.39\\\",\\\"28.4\\\",\\\"28.41\\\",\\\"28.42\\\",\\\"28.43\\\",\\\"28.44\\\",\\\"28.45\\\",\\\"28.46\\\",\\\"28.47\\\",\\\"28.48\\\",\\\"28.49\\\",\\\"28.5\\\",\\\"28.51\\\",\\\"28.52\\\",\\\"28.53\\\",\\\"28.54\\\",\\\"28.55\\\",\\\"28.56\\\",\\\"28.57\\\",\\\"28.58\\\",\\\"28.59\\\",\\\"28.6\\\",\\\"28.61\\\",\\\"28.62\\\",\\\"28.63\\\",\\\"28.64\\\",\\\"28.65\\\",\\\"28.66\\\",\\\"28.67\\\",\\\"28.68\\\",\\\"28.69\\\",\\\"28.7\\\",\\\"28.71\\\",\\\"28.72\\\",\\\"28.73\\\",\\\"28.74\\\",\\\"28.75\\\",\\\"28.76\\\",\\\"28.77\\\",\\\"28.78\\\",\\\"28.79\\\",\\\"28.8\\\",\\\"28.81\\\",\\\"28.82\\\",\\\"28.83\\\",\\\"28.84\\\",\\\"28.85\\\",\\\"28.86\\\",\\\"28.87\\\",\\\"28.88\\\",\\\"28.89\\\",\\\"28.9\\\",\\\"28.91\\\",\\\"28.92\\\",\\\"28.93\\\",\\\"28.94\\\",\\\"28.95\\\",\\\"28.96\\\",\\\"28.97\\\",\\\"28.98\\\",\\\"28.99\\\",\\\"29.0\\\",\\\"29.01\\\",\\\"29.02\\\",\\\"29.03\\\",\\\"29.04\\\",\\\"29.05\\\",\\\"29.06\\\",\\\"29.07\\\",\\\"29.08\\\",\\\"29.09\\\",\\\"29.1\\\",\\\"29.11\\\",\\\"29.12\\\",\\\"29.13\\\",\\\"29.14\\\",\\\"29.15\\\",\\\"29.16\\\",\\\"29.17\\\",\\\"29.18\\\",\\\"29.19\\\",\\\"29.2\\\",\\\"29.21\\\",\\\"29.22\\\",\\\"29.23\\\",\\\"29.24\\\",\\\"29.25\\\",\\\"29.26\\\",\\\"29.27\\\",\\\"29.28\\\",\\\"29.29\\\",\\\"29.3\\\",\\\"29.31\\\",\\\"29.32\\\",\\\"29.33\\\",\\\"29.34\\\",\\\"29.35\\\",\\\"29.36\\\",\\\"29.37\\\",\\\"29.38\\\",\\\"29.39\\\",\\\"29.4\\\",\\\"29.41\\\",\\\"29.42\\\",\\\"29.43\\\",\\\"29.44\\\",\\\"29.45\\\",\\\"29.46\\\",\\\"29.47\\\",\\\"29.48\\\",\\\"29.49\\\",\\\"29.5\\\",\\\"29.51\\\",\\\"29.52\\\",\\\"29.53\\\",\\\"29.54\\\",\\\"29.55\\\",\\\"29.56\\\",\\\"29.57\\\",\\\"29.58\\\",\\\"29.59\\\",\\\"29.6\\\",\\\"29.61\\\",\\\"29.62\\\",\\\"29.63\\\",\\\"29.64\\\",\\\"29.65\\\",\\\"29.66\\\",\\\"29.67\\\",\\\"29.68\\\",\\\"29.69\\\",\\\"29.7\\\",\\\"29.71\\\",\\\"29.72\\\",\\\"29.73\\\",\\\"29.74\\\",\\\"29.75\\\",\\\"29.76\\\",\\\"29.77\\\",\\\"29.78\\\",\\\"29.79\\\",\\\"29.8\\\",\\\"29.81\\\",\\\"29.82\\\",\\\"29.83\\\",\\\"29.84\\\",\\\"29.85\\\",\\\"29.86\\\",\\\"29.87\\\",\\\"29.88\\\",\\\"29.89\\\",\\\"29.9\\\",\\\"29.91\\\",\\\"29.92\\\",\\\"29.93\\\",\\\"29.94\\\",\\\"29.95\\\",\\\"29.96\\\",\\\"29.97\\\",\\\"29.98\\\",\\\"29.99\\\",\\\"30.0\\\"],\\\"changes\\\":WebIO.getval({\\\"name\\\":\\\"changes\\\",\\\"scope\\\":\\\"7936559740058411857\\\",\\\"id\\\":\\\"ob_03\\\",\\\"type\\\":\\\"observable\\\"}),\\\"index\\\":WebIO.getval({\\\"name\\\":\\\"index\\\",\\\"scope\\\":\\\"7936559740058411857\\\",\\\"id\\\":\\\"ob_02\\\",\\\"type\\\":\\\"observable\\\"})};\\n    var self = this;\\n    function AppViewModel() {\\n        for (var key in json_data) {\\n            var el = json_data[key];\\n            this[key] = Array.isArray(el) ? ko.observableArray(el) : ko.observable(el);\\n        }\\n        \\n        [this[\\\"formatted_val\\\"]=ko.computed(    function(){\\n        return this.formatted_vals()[parseInt(this.index())-(1)];\\n    }\\n,this)]\\n        [this[\\\"changes\\\"].subscribe((function (val){!(this.valueFromJulia[\\\"changes\\\"]) ? (WebIO.setval({\\\"name\\\":\\\"changes\\\",\\\"scope\\\":\\\"7936559740058411857\\\",\\\"id\\\":\\\"ob_03\\\",\\\"type\\\":\\\"observable\\\"},val)) : undefined; return this.valueFromJulia[\\\"changes\\\"]=false}),self),this[\\\"index\\\"].subscribe((function (val){!(this.valueFromJulia[\\\"index\\\"]) ? (WebIO.setval({\\\"name\\\":\\\"index\\\",\\\"scope\\\":\\\"7936559740058411857\\\",\\\"id\\\":\\\"ob_02\\\",\\\"type\\\":\\\"observable\\\"},val)) : undefined; return this.valueFromJulia[\\\"index\\\"]=false}),self)]\\n        \\n    }\\n    self.model = new AppViewModel();\\n    self.valueFromJulia = {};\\n    for (var key in json_data) {\\n        self.valueFromJulia[key] = false;\\n    }\\n    ko.applyBindings(self.model, self.dom);\\n}\\n);\\n    (WebIO.importBlock({\\\"data\\\":[{\\\"name\\\":\\\"knockout\\\",\\\"type\\\":\\\"js\\\",\\\"url\\\":\\\"\\/assetserver\\/0e408749c48bdf320cff510588f31e1b0173133c-knockout.js\\\"},{\\\"name\\\":\\\"knockout_punches\\\",\\\"type\\\":\\\"js\\\",\\\"url\\\":\\\"\\/assetserver\\/a3a43557819f8cc1c4cea9496b4d4a77212507ee-knockout_punches.js\\\"}],\\\"type\\\":\\\"async_block\\\"})).then((imports) => handler.apply(this, imports));\\n}\\n\"],\"observables\":{\"changes\":{\"sync\":false,\"id\":\"ob_03\",\"value\":0},\"index\":{\"sync\":true,\"id\":\"ob_02\",\"value\":2001}}},\"children\":[{\"props\":{\"className\":\"interact-flex-row interact-widget\"},\"nodeType\":\"DOM\",\"type\":\"node\",\"instanceArgs\":{\"namespace\":\"html\",\"tag\":\"div\"},\"children\":[{\"props\":{\"className\":\"interact-flex-row-left\"},\"nodeType\":\"DOM\",\"type\":\"node\",\"instanceArgs\":{\"namespace\":\"html\",\"tag\":\"div\"},\"children\":[{\"props\":{\"className\":\"interact \",\"style\":{\"padding\":\"5px 10px 0px 10px\"}},\"nodeType\":\"DOM\",\"type\":\"node\",\"instanceArgs\":{\"namespace\":\"html\",\"tag\":\"label\"},\"children\":[\"w\"]}]},{\"props\":{\"className\":\"interact-flex-row-center\"},\"nodeType\":\"DOM\",\"type\":\"node\",\"instanceArgs\":{\"namespace\":\"html\",\"tag\":\"div\"},\"children\":[{\"props\":{\"max\":4001,\"min\":1,\"attributes\":{\"type\":\"range\",\"data-bind\":\"numericValue: index, valueUpdate: 'input', event: {change: function (){this.changes(this.changes()+1)}}\",\"orient\":\"horizontal\"},\"step\":1,\"className\":\"slider slider is-fullwidth\",\"style\":{}},\"nodeType\":\"DOM\",\"type\":\"node\",\"instanceArgs\":{\"namespace\":\"html\",\"tag\":\"input\"},\"children\":[]}]},{\"props\":{\"className\":\"interact-flex-row-right\"},\"nodeType\":\"DOM\",\"type\":\"node\",\"instanceArgs\":{\"namespace\":\"html\",\"tag\":\"div\"},\"children\":[{\"props\":{\"attributes\":{\"data-bind\":\"text: formatted_val\"}},\"nodeType\":\"DOM\",\"type\":\"node\",\"instanceArgs\":{\"namespace\":\"html\",\"tag\":\"p\"},\"children\":[]}]}]}]}]},{\"props\":{\"className\":\"field interact-widget\"},\"nodeType\":\"DOM\",\"type\":\"node\",\"instanceArgs\":{\"namespace\":\"html\",\"tag\":\"div\"},\"children\":[{\"props\":{},\"nodeType\":\"Scope\",\"type\":\"node\",\"instanceArgs\":{\"imports\":{\"data\":[{\"name\":\"knockout\",\"type\":\"js\",\"url\":\"\\/assetserver\\/0e408749c48bdf320cff510588f31e1b0173133c-knockout.js\"},{\"name\":\"knockout_punches\",\"type\":\"js\",\"url\":\"\\/assetserver\\/a3a43557819f8cc1c4cea9496b4d4a77212507ee-knockout_punches.js\"},{\"name\":null,\"type\":\"js\",\"url\":\"\\/assetserver\\/945325143ba7fe2937cdb272fc55d17f63839e43-all.js\"},{\"name\":null,\"type\":\"css\",\"url\":\"\\/assetserver\\/7783c00ca61c9df17c8321cd19f354ef277da9b0-style.css\"},{\"name\":null,\"type\":\"css\",\"url\":\"\\/assetserver\\/b23615e7c1fa57d5c1e45c084590fb1d9bbd3c04-bulma_confined.min.css\"}],\"type\":\"async_block\"},\"id\":\"3238942356498391810\",\"handlers\":{\"changes\":[\"(function (val){return (val!=this.model[\\\"changes\\\"]()) ? (this.valueFromJulia[\\\"changes\\\"]=true, this.model[\\\"changes\\\"](val)) : undefined})\"],\"index\":[\"(function (val){return (val!=this.model[\\\"index\\\"]()) ? (this.valueFromJulia[\\\"index\\\"]=true, this.model[\\\"index\\\"](val)) : undefined})\"]},\"systemjs_options\":null,\"mount_callbacks\":[\"function () {\\n    var handler = (function (ko, koPunches) {\\n    ko.punches.enableAll();\\n    ko.bindingHandlers.numericValue = {\\n        init: function(element, valueAccessor, allBindings, data, context) {\\n            var stringified = ko.observable(ko.unwrap(valueAccessor()));\\n            stringified.subscribe(function(value) {\\n                var val = parseFloat(value);\\n                if (!isNaN(val)) {\\n                    valueAccessor()(val);\\n                }\\n            });\\n            valueAccessor().subscribe(function(value) {\\n                var str = JSON.stringify(value);\\n                if ((str == \\\"0\\\") && ([\\\"-0\\\", \\\"-0.\\\"].indexOf(stringified()) >= 0))\\n                     return;\\n                 if ([\\\"null\\\", \\\"\\\"].indexOf(str) >= 0)\\n                     return;\\n                stringified(str);\\n            });\\n            ko.applyBindingsToNode(\\n                element,\\n                {\\n                    value: stringified,\\n                    valueUpdate: allBindings.get('valueUpdate'),\\n                },\\n                context,\\n            );\\n        }\\n    };\\n    var json_data = {\\\"formatted_vals\\\":[\\\"0.0\\\",\\\"0.1\\\",\\\"0.2\\\",\\\"0.3\\\",\\\"0.4\\\",\\\"0.5\\\",\\\"0.6\\\",\\\"0.7\\\",\\\"0.8\\\",\\\"0.9\\\",\\\"1.0\\\",\\\"1.1\\\",\\\"1.2\\\",\\\"1.3\\\",\\\"1.4\\\",\\\"1.5\\\",\\\"1.6\\\",\\\"1.7\\\",\\\"1.8\\\",\\\"1.9\\\",\\\"2.0\\\",\\\"2.1\\\",\\\"2.2\\\",\\\"2.3\\\",\\\"2.4\\\",\\\"2.5\\\",\\\"2.6\\\",\\\"2.7\\\",\\\"2.8\\\",\\\"2.9\\\",\\\"3.0\\\",\\\"3.1\\\",\\\"3.2\\\",\\\"3.3\\\",\\\"3.4\\\",\\\"3.5\\\",\\\"3.6\\\",\\\"3.7\\\",\\\"3.8\\\",\\\"3.9\\\",\\\"4.0\\\",\\\"4.1\\\",\\\"4.2\\\",\\\"4.3\\\",\\\"4.4\\\",\\\"4.5\\\",\\\"4.6\\\",\\\"4.7\\\",\\\"4.8\\\",\\\"4.9\\\",\\\"5.0\\\",\\\"5.1\\\",\\\"5.2\\\",\\\"5.3\\\",\\\"5.4\\\",\\\"5.5\\\",\\\"5.6\\\",\\\"5.7\\\",\\\"5.8\\\",\\\"5.9\\\",\\\"6.0\\\",\\\"6.1\\\",\\\"6.2\\\",\\\"6.3\\\",\\\"6.4\\\",\\\"6.5\\\",\\\"6.6\\\",\\\"6.7\\\",\\\"6.8\\\",\\\"6.9\\\",\\\"7.0\\\",\\\"7.1\\\",\\\"7.2\\\",\\\"7.3\\\",\\\"7.4\\\",\\\"7.5\\\",\\\"7.6\\\",\\\"7.7\\\",\\\"7.8\\\",\\\"7.9\\\",\\\"8.0\\\",\\\"8.1\\\",\\\"8.2\\\",\\\"8.3\\\",\\\"8.4\\\",\\\"8.5\\\",\\\"8.6\\\",\\\"8.7\\\",\\\"8.8\\\",\\\"8.9\\\",\\\"9.0\\\",\\\"9.1\\\",\\\"9.2\\\",\\\"9.3\\\",\\\"9.4\\\",\\\"9.5\\\",\\\"9.6\\\",\\\"9.7\\\",\\\"9.8\\\",\\\"9.9\\\",\\\"10.0\\\",\\\"10.1\\\",\\\"10.2\\\",\\\"10.3\\\",\\\"10.4\\\",\\\"10.5\\\",\\\"10.6\\\",\\\"10.7\\\",\\\"10.8\\\",\\\"10.9\\\",\\\"11.0\\\",\\\"11.1\\\",\\\"11.2\\\",\\\"11.3\\\",\\\"11.4\\\",\\\"11.5\\\",\\\"11.6\\\",\\\"11.7\\\",\\\"11.8\\\",\\\"11.9\\\",\\\"12.0\\\",\\\"12.1\\\",\\\"12.2\\\",\\\"12.3\\\",\\\"12.4\\\",\\\"12.5\\\",\\\"12.6\\\",\\\"12.7\\\",\\\"12.8\\\",\\\"12.9\\\",\\\"13.0\\\",\\\"13.1\\\",\\\"13.2\\\",\\\"13.3\\\",\\\"13.4\\\",\\\"13.5\\\",\\\"13.6\\\",\\\"13.7\\\",\\\"13.8\\\",\\\"13.9\\\",\\\"14.0\\\",\\\"14.1\\\",\\\"14.2\\\",\\\"14.3\\\",\\\"14.4\\\",\\\"14.5\\\",\\\"14.6\\\",\\\"14.7\\\",\\\"14.8\\\",\\\"14.9\\\",\\\"15.0\\\",\\\"15.1\\\",\\\"15.2\\\",\\\"15.3\\\",\\\"15.4\\\",\\\"15.5\\\",\\\"15.6\\\",\\\"15.7\\\",\\\"15.8\\\",\\\"15.9\\\",\\\"16.0\\\",\\\"16.1\\\",\\\"16.2\\\",\\\"16.3\\\",\\\"16.4\\\",\\\"16.5\\\",\\\"16.6\\\",\\\"16.7\\\",\\\"16.8\\\",\\\"16.9\\\",\\\"17.0\\\",\\\"17.1\\\",\\\"17.2\\\",\\\"17.3\\\",\\\"17.4\\\",\\\"17.5\\\",\\\"17.6\\\",\\\"17.7\\\",\\\"17.8\\\",\\\"17.9\\\",\\\"18.0\\\",\\\"18.1\\\",\\\"18.2\\\",\\\"18.3\\\",\\\"18.4\\\",\\\"18.5\\\",\\\"18.6\\\",\\\"18.7\\\",\\\"18.8\\\",\\\"18.9\\\",\\\"19.0\\\",\\\"19.1\\\",\\\"19.2\\\",\\\"19.3\\\",\\\"19.4\\\",\\\"19.5\\\",\\\"19.6\\\",\\\"19.7\\\",\\\"19.8\\\",\\\"19.9\\\",\\\"20.0\\\"],\\\"changes\\\":WebIO.getval({\\\"name\\\":\\\"changes\\\",\\\"scope\\\":\\\"3238942356498391810\\\",\\\"id\\\":\\\"ob_06\\\",\\\"type\\\":\\\"observable\\\"}),\\\"index\\\":WebIO.getval({\\\"name\\\":\\\"index\\\",\\\"scope\\\":\\\"3238942356498391810\\\",\\\"id\\\":\\\"ob_05\\\",\\\"type\\\":\\\"observable\\\"})};\\n    var self = this;\\n    function AppViewModel() {\\n        for (var key in json_data) {\\n            var el = json_data[key];\\n            this[key] = Array.isArray(el) ? ko.observableArray(el) : ko.observable(el);\\n        }\\n        \\n        [this[\\\"formatted_val\\\"]=ko.computed(    function(){\\n        return this.formatted_vals()[parseInt(this.index())-(1)];\\n    }\\n,this)]\\n        [this[\\\"changes\\\"].subscribe((function (val){!(this.valueFromJulia[\\\"changes\\\"]) ? (WebIO.setval({\\\"name\\\":\\\"changes\\\",\\\"scope\\\":\\\"3238942356498391810\\\",\\\"id\\\":\\\"ob_06\\\",\\\"type\\\":\\\"observable\\\"},val)) : undefined; return this.valueFromJulia[\\\"changes\\\"]=false}),self),this[\\\"index\\\"].subscribe((function (val){!(this.valueFromJulia[\\\"index\\\"]) ? (WebIO.setval({\\\"name\\\":\\\"index\\\",\\\"scope\\\":\\\"3238942356498391810\\\",\\\"id\\\":\\\"ob_05\\\",\\\"type\\\":\\\"observable\\\"},val)) : undefined; return this.valueFromJulia[\\\"index\\\"]=false}),self)]\\n        \\n    }\\n    self.model = new AppViewModel();\\n    self.valueFromJulia = {};\\n    for (var key in json_data) {\\n        self.valueFromJulia[key] = false;\\n    }\\n    ko.applyBindings(self.model, self.dom);\\n}\\n);\\n    (WebIO.importBlock({\\\"data\\\":[{\\\"name\\\":\\\"knockout\\\",\\\"type\\\":\\\"js\\\",\\\"url\\\":\\\"\\/assetserver\\/0e408749c48bdf320cff510588f31e1b0173133c-knockout.js\\\"},{\\\"name\\\":\\\"knockout_punches\\\",\\\"type\\\":\\\"js\\\",\\\"url\\\":\\\"\\/assetserver\\/a3a43557819f8cc1c4cea9496b4d4a77212507ee-knockout_punches.js\\\"}],\\\"type\\\":\\\"async_block\\\"})).then((imports) => handler.apply(this, imports));\\n}\\n\"],\"observables\":{\"changes\":{\"sync\":false,\"id\":\"ob_06\",\"value\":0},\"index\":{\"sync\":true,\"id\":\"ob_05\",\"value\":101}}},\"children\":[{\"props\":{\"className\":\"interact-flex-row interact-widget\"},\"nodeType\":\"DOM\",\"type\":\"node\",\"instanceArgs\":{\"namespace\":\"html\",\"tag\":\"div\"},\"children\":[{\"props\":{\"className\":\"interact-flex-row-left\"},\"nodeType\":\"DOM\",\"type\":\"node\",\"instanceArgs\":{\"namespace\":\"html\",\"tag\":\"div\"},\"children\":[{\"props\":{\"className\":\"interact \",\"style\":{\"padding\":\"5px 10px 0px 10px\"}},\"nodeType\":\"DOM\",\"type\":\"node\",\"instanceArgs\":{\"namespace\":\"html\",\"tag\":\"label\"},\"children\":[\"b\"]}]},{\"props\":{\"className\":\"interact-flex-row-center\"},\"nodeType\":\"DOM\",\"type\":\"node\",\"instanceArgs\":{\"namespace\":\"html\",\"tag\":\"div\"},\"children\":[{\"props\":{\"max\":201,\"min\":1,\"attributes\":{\"type\":\"range\",\"data-bind\":\"numericValue: index, valueUpdate: 'input', event: {change: function (){this.changes(this.changes()+1)}}\",\"orient\":\"horizontal\"},\"step\":1,\"className\":\"slider slider is-fullwidth\",\"style\":{}},\"nodeType\":\"DOM\",\"type\":\"node\",\"instanceArgs\":{\"namespace\":\"html\",\"tag\":\"input\"},\"children\":[]}]},{\"props\":{\"className\":\"interact-flex-row-right\"},\"nodeType\":\"DOM\",\"type\":\"node\",\"instanceArgs\":{\"namespace\":\"html\",\"tag\":\"div\"},\"children\":[{\"props\":{\"attributes\":{\"data-bind\":\"text: formatted_val\"}},\"nodeType\":\"DOM\",\"type\":\"node\",\"instanceArgs\":{\"namespace\":\"html\",\"tag\":\"p\"},\"children\":[]}]}]}]}]},{\"props\":{},\"nodeType\":\"Scope\",\"type\":\"node\",\"instanceArgs\":{\"imports\":{\"data\":[],\"type\":\"async_block\"},\"id\":\"3377365038120059146\",\"handlers\":{},\"systemjs_options\":null,\"mount_callbacks\":[],\"observables\":{\"obs-node\":{\"sync\":false,\"id\":\"ob_10\",\"value\":{\"props\":{\"className\":\"interact-flex-row interact-widget\"},\"nodeType\":\"DOM\",\"type\":\"node\",\"instanceArgs\":{\"namespace\":\"html\",\"tag\":\"div\"},\"children\":[{\"props\":{\"setInnerHtml\":\"<?xml version=\\\"1.0\\\" encoding=\\\"utf-8\\\"?>\\n<svg xmlns=\\\"http:\\/\\/www.w3.org\\/2000\\/svg\\\" xmlns:xlink=\\\"http:\\/\\/www.w3.org\\/1999\\/xlink\\\" width=\\\"600\\\" height=\\\"400\\\" viewBox=\\\"0 0 2400 1600\\\">\\n<defs>\\n  <clipPath id=\\\"clip8600\\\">\\n    <rect x=\\\"0\\\" y=\\\"0\\\" width=\\\"2400\\\" height=\\\"1600\\\"\\/>\\n  <\\/clipPath>\\n<\\/defs>\\n<path clip-path=\\\"url(#clip8600)\\\" d=\\\"\\nM0 1600 L2400 1600 L2400 0 L0 0  Z\\n  \\\" fill=\\\"#ffffff\\\" fill-rule=\\\"evenodd\\\" fill-opacity=\\\"1\\\"\\/>\\n<defs>\\n  <clipPath id=\\\"clip8601\\\">\\n    <rect x=\\\"480\\\" y=\\\"0\\\" width=\\\"1681\\\" height=\\\"1600\\\"\\/>\\n  <\\/clipPath>\\n<\\/defs>\\n<path clip-path=\\\"url(#clip8600)\\\" d=\\\"\\nM180.66 1487.47 L2352.76 1487.47 L2352.76 47.2441 L180.66 47.2441  Z\\n  \\\" fill=\\\"#ffffff\\\" fill-rule=\\\"evenodd\\\" fill-opacity=\\\"1\\\"\\/>\\n<defs>\\n  <clipPath id=\\\"clip8602\\\">\\n    <rect x=\\\"180\\\" y=\\\"47\\\" width=\\\"2173\\\" height=\\\"1441\\\"\\/>\\n  <\\/clipPath>\\n<\\/defs>\\n<polyline clip-path=\\\"url(#clip8602)\\\" style=\\\"stroke:#000000; stroke-width:2; stroke-opacity:0.1; fill:none\\\" points=\\\"\\n  180.66,1487.47 180.66,47.2441 \\n  \\\"\\/>\\n<polyline clip-path=\\\"url(#clip8602)\\\" style=\\\"stroke:#000000; stroke-width:2; stroke-opacity:0.1; fill:none\\\" points=\\\"\\n  615.079,1487.47 615.079,47.2441 \\n  \\\"\\/>\\n<polyline clip-path=\\\"url(#clip8602)\\\" style=\\\"stroke:#000000; stroke-width:2; stroke-opacity:0.1; fill:none\\\" points=\\\"\\n  1049.5,1487.47 1049.5,47.2441 \\n  \\\"\\/>\\n<polyline clip-path=\\\"url(#clip8602)\\\" style=\\\"stroke:#000000; stroke-width:2; stroke-opacity:0.1; fill:none\\\" points=\\\"\\n  1483.92,1487.47 1483.92,47.2441 \\n  \\\"\\/>\\n<polyline clip-path=\\\"url(#clip8602)\\\" style=\\\"stroke:#000000; stroke-width:2; stroke-opacity:0.1; fill:none\\\" points=\\\"\\n  1918.34,1487.47 1918.34,47.2441 \\n  \\\"\\/>\\n<polyline clip-path=\\\"url(#clip8602)\\\" style=\\\"stroke:#000000; stroke-width:2; stroke-opacity:0.1; fill:none\\\" points=\\\"\\n  2352.76,1487.47 2352.76,47.2441 \\n  \\\"\\/>\\n<polyline clip-path=\\\"url(#clip8602)\\\" style=\\\"stroke:#000000; stroke-width:2; stroke-opacity:0.1; fill:none\\\" points=\\\"\\n  180.66,1367.46 2352.76,1367.46 \\n  \\\"\\/>\\n<polyline clip-path=\\\"url(#clip8602)\\\" style=\\\"stroke:#000000; stroke-width:2; stroke-opacity:0.1; fill:none\\\" points=\\\"\\n  180.66,1067.41 2352.76,1067.41 \\n  \\\"\\/>\\n<polyline clip-path=\\\"url(#clip8602)\\\" style=\\\"stroke:#000000; stroke-width:2; stroke-opacity:0.1; fill:none\\\" points=\\\"\\n  180.66,767.359 2352.76,767.359 \\n  \\\"\\/>\\n<polyline clip-path=\\\"url(#clip8602)\\\" style=\\\"stroke:#000000; stroke-width:2; stroke-opacity:0.1; fill:none\\\" points=\\\"\\n  180.66,467.311 2352.76,467.311 \\n  \\\"\\/>\\n<polyline clip-path=\\\"url(#clip8602)\\\" style=\\\"stroke:#000000; stroke-width:2; stroke-opacity:0.1; fill:none\\\" points=\\\"\\n  180.66,167.263 2352.76,167.263 \\n  \\\"\\/>\\n<polyline clip-path=\\\"url(#clip8600)\\\" style=\\\"stroke:#000000; stroke-width:4; stroke-opacity:1; fill:none\\\" points=\\\"\\n  180.66,1487.47 2352.76,1487.47 \\n  \\\"\\/>\\n<polyline clip-path=\\\"url(#clip8600)\\\" style=\\\"stroke:#000000; stroke-width:4; stroke-opacity:1; fill:none\\\" points=\\\"\\n  180.66,1487.47 180.66,47.2441 \\n  \\\"\\/>\\n<polyline clip-path=\\\"url(#clip8600)\\\" style=\\\"stroke:#000000; stroke-width:4; stroke-opacity:1; fill:none\\\" points=\\\"\\n  180.66,1487.47 180.66,1470.19 \\n  \\\"\\/>\\n<polyline clip-path=\\\"url(#clip8600)\\\" style=\\\"stroke:#000000; stroke-width:4; stroke-opacity:1; fill:none\\\" points=\\\"\\n  615.079,1487.47 615.079,1470.19 \\n  \\\"\\/>\\n<polyline clip-path=\\\"url(#clip8600)\\\" style=\\\"stroke:#000000; stroke-width:4; stroke-opacity:1; fill:none\\\" points=\\\"\\n  1049.5,1487.47 1049.5,1470.19 \\n  \\\"\\/>\\n<polyline clip-path=\\\"url(#clip8600)\\\" style=\\\"stroke:#000000; stroke-width:4; stroke-opacity:1; fill:none\\\" points=\\\"\\n  1483.92,1487.47 1483.92,1470.19 \\n  \\\"\\/>\\n<polyline clip-path=\\\"url(#clip8600)\\\" style=\\\"stroke:#000000; stroke-width:4; stroke-opacity:1; fill:none\\\" points=\\\"\\n  1918.34,1487.47 1918.34,1470.19 \\n  \\\"\\/>\\n<polyline clip-path=\\\"url(#clip8600)\\\" style=\\\"stroke:#000000; stroke-width:4; stroke-opacity:1; fill:none\\\" points=\\\"\\n  2352.76,1487.47 2352.76,1470.19 \\n  \\\"\\/>\\n<polyline clip-path=\\\"url(#clip8600)\\\" style=\\\"stroke:#000000; stroke-width:4; stroke-opacity:1; fill:none\\\" points=\\\"\\n  180.66,1367.46 206.725,1367.46 \\n  \\\"\\/>\\n<polyline clip-path=\\\"url(#clip8600)\\\" style=\\\"stroke:#000000; stroke-width:4; stroke-opacity:1; fill:none\\\" points=\\\"\\n  180.66,1067.41 206.725,1067.41 \\n  \\\"\\/>\\n<polyline clip-path=\\\"url(#clip8600)\\\" style=\\\"stroke:#000000; stroke-width:4; stroke-opacity:1; fill:none\\\" points=\\\"\\n  180.66,767.359 206.725,767.359 \\n  \\\"\\/>\\n<polyline clip-path=\\\"url(#clip8600)\\\" style=\\\"stroke:#000000; stroke-width:4; stroke-opacity:1; fill:none\\\" points=\\\"\\n  180.66,467.311 206.725,467.311 \\n  \\\"\\/>\\n<polyline clip-path=\\\"url(#clip8600)\\\" style=\\\"stroke:#000000; stroke-width:4; stroke-opacity:1; fill:none\\\" points=\\\"\\n  180.66,167.263 206.725,167.263 \\n  \\\"\\/>\\n<g clip-path=\\\"url(#clip8600)\\\">\\n<text style=\\\"fill:#000000; fill-opacity:1; font-family:Arial,Helvetica Neue,Helvetica,sans-serif; font-size:48px; text-anchor:middle;\\\" transform=\\\"rotate(0, 180.66, 1541.47)\\\" x=\\\"180.66\\\" y=\\\"1541.47\\\">0.0<\\/text>\\n<\\/g>\\n<g clip-path=\\\"url(#clip8600)\\\">\\n<text style=\\\"fill:#000000; fill-opacity:1; font-family:Arial,Helvetica Neue,Helvetica,sans-serif; font-size:48px; text-anchor:middle;\\\" transform=\\\"rotate(0, 615.079, 1541.47)\\\" x=\\\"615.079\\\" y=\\\"1541.47\\\">0.2<\\/text>\\n<\\/g>\\n<g clip-path=\\\"url(#clip8600)\\\">\\n<text style=\\\"fill:#000000; fill-opacity:1; font-family:Arial,Helvetica Neue,Helvetica,sans-serif; font-size:48px; text-anchor:middle;\\\" transform=\\\"rotate(0, 1049.5, 1541.47)\\\" x=\\\"1049.5\\\" y=\\\"1541.47\\\">0.4<\\/text>\\n<\\/g>\\n<g clip-path=\\\"url(#clip8600)\\\">\\n<text style=\\\"fill:#000000; fill-opacity:1; font-family:Arial,Helvetica Neue,Helvetica,sans-serif; font-size:48px; text-anchor:middle;\\\" transform=\\\"rotate(0, 1483.92, 1541.47)\\\" x=\\\"1483.92\\\" y=\\\"1541.47\\\">0.6<\\/text>\\n<\\/g>\\n<g clip-path=\\\"url(#clip8600)\\\">\\n<text style=\\\"fill:#000000; fill-opacity:1; font-family:Arial,Helvetica Neue,Helvetica,sans-serif; font-size:48px; text-anchor:middle;\\\" transform=\\\"rotate(0, 1918.34, 1541.47)\\\" x=\\\"1918.34\\\" y=\\\"1541.47\\\">0.8<\\/text>\\n<\\/g>\\n<g clip-path=\\\"url(#clip8600)\\\">\\n<text style=\\\"fill:#000000; fill-opacity:1; font-family:Arial,Helvetica Neue,Helvetica,sans-serif; font-size:48px; text-anchor:middle;\\\" transform=\\\"rotate(0, 2352.76, 1541.47)\\\" x=\\\"2352.76\\\" y=\\\"1541.47\\\">1.0<\\/text>\\n<\\/g>\\n<g clip-path=\\\"url(#clip8600)\\\">\\n<text style=\\\"fill:#000000; fill-opacity:1; font-family:Arial,Helvetica Neue,Helvetica,sans-serif; font-size:48px; text-anchor:end;\\\" transform=\\\"rotate(0, 156.66, 1384.96)\\\" x=\\\"156.66\\\" y=\\\"1384.96\\\">0.00<\\/text>\\n<\\/g>\\n<g clip-path=\\\"url(#clip8600)\\\">\\n<text style=\\\"fill:#000000; fill-opacity:1; font-family:Arial,Helvetica Neue,Helvetica,sans-serif; font-size:48px; text-anchor:end;\\\" transform=\\\"rotate(0, 156.66, 1084.91)\\\" x=\\\"156.66\\\" y=\\\"1084.91\\\">0.25<\\/text>\\n<\\/g>\\n<g clip-path=\\\"url(#clip8600)\\\">\\n<text style=\\\"fill:#000000; fill-opacity:1; font-family:Arial,Helvetica Neue,Helvetica,sans-serif; font-size:48px; text-anchor:end;\\\" transform=\\\"rotate(0, 156.66, 784.859)\\\" x=\\\"156.66\\\" y=\\\"784.859\\\">0.50<\\/text>\\n<\\/g>\\n<g clip-path=\\\"url(#clip8600)\\\">\\n<text style=\\\"fill:#000000; fill-opacity:1; font-family:Arial,Helvetica Neue,Helvetica,sans-serif; font-size:48px; text-anchor:end;\\\" transform=\\\"rotate(0, 156.66, 484.811)\\\" x=\\\"156.66\\\" y=\\\"484.811\\\">0.75<\\/text>\\n<\\/g>\\n<g clip-path=\\\"url(#clip8600)\\\">\\n<text style=\\\"fill:#000000; fill-opacity:1; font-family:Arial,Helvetica Neue,Helvetica,sans-serif; font-size:48px; text-anchor:end;\\\" transform=\\\"rotate(0, 156.66, 184.763)\\\" x=\\\"156.66\\\" y=\\\"184.763\\\">1.00<\\/text>\\n<\\/g>\\n<polyline clip-path=\\\"url(#clip8602)\\\" style=\\\"stroke:#009af9; stroke-width:12; stroke-opacity:1; fill:none\\\" points=\\\"\\n  180.66,1367.4 201.873,1367.4 398.011,1367.31 515.882,1367.2 615.54,1367.05 723.797,1366.79 823.6,1366.4 930.6,1365.74 1054.57,1364.42 1164.74,1362.42 \\n  1261.35,1359.62 1366.68,1354.78 1472.63,1346.94 1531.21,1340.73 1589.78,1332.7 1645.51,1322.92 1701.24,1310.51 1759.19,1294.16 1817.14,1273.5 1865.92,1252.12 \\n  1914.7,1226.49 1944.48,1208.52 1974.25,1188.64 2004.03,1166.76 2033.81,1142.8 2061.8,1118.31 2089.79,1091.91 2117.78,1063.61 2145.77,1033.44 2190.62,981.483 \\n  2235.46,925.561 2280.31,866.522 2325.15,805.442 2332.05,795.938 2338.95,786.42 2345.85,776.892 2352.76,767.359 \\n  \\\"\\/>\\n<circle clip-path=\\\"url(#clip8602)\\\" style=\\\"fill:#000000; stroke:none; fill-opacity:1\\\" cx=\\\"915.954\\\" cy=\\\"1367.46\\\" r=\\\"21\\\"\\/>\\n<circle clip-path=\\\"url(#clip8602)\\\" style=\\\"fill:#e26f46; stroke:none; fill-opacity:1\\\" cx=\\\"915.954\\\" cy=\\\"1367.46\\\" r=\\\"18\\\"\\/>\\n<circle clip-path=\\\"url(#clip8602)\\\" style=\\\"fill:#000000; stroke:none; fill-opacity:1\\\" cx=\\\"2093.89\\\" cy=\\\"167.263\\\" r=\\\"21\\\"\\/>\\n<circle clip-path=\\\"url(#clip8602)\\\" style=\\\"fill:#3da44d; stroke:none; fill-opacity:1\\\" cx=\\\"2093.89\\\" cy=\\\"167.263\\\" r=\\\"18\\\"\\/>\\n<path clip-path=\\\"url(#clip8600)\\\" d=\\\"\\nM252.66 372.684 L653.234 372.684 L653.234 130.764 L252.66 130.764  Z\\n  \\\" fill=\\\"#ffffff\\\" fill-rule=\\\"evenodd\\\" fill-opacity=\\\"1\\\"\\/>\\n<polyline clip-path=\\\"url(#clip8600)\\\" style=\\\"stroke:#000000; stroke-width:4; stroke-opacity:1; fill:none\\\" points=\\\"\\n  252.66,372.684 653.234,372.684 653.234,130.764 252.66,130.764 252.66,372.684 \\n  \\\"\\/>\\n<polyline clip-path=\\\"url(#clip8600)\\\" style=\\\"stroke:#009af9; stroke-width:12; stroke-opacity:1; fill:none\\\" points=\\\"\\n  276.66,191.244 420.66,191.244 \\n  \\\"\\/>\\n<g clip-path=\\\"url(#clip8600)\\\">\\n<text style=\\\"fill:#000000; fill-opacity:1; font-family:Arial,Helvetica Neue,Helvetica,sans-serif; font-size:48px; text-anchor:start;\\\" transform=\\\"rotate(0, 444.66, 208.744)\\\" x=\\\"444.66\\\" y=\\\"208.744\\\">model<\\/text>\\n<\\/g>\\n<circle clip-path=\\\"url(#clip8600)\\\" style=\\\"fill:#000000; stroke:none; fill-opacity:1\\\" cx=\\\"360.66\\\" cy=\\\"251.724\\\" r=\\\"25\\\"\\/>\\n<circle clip-path=\\\"url(#clip8600)\\\" style=\\\"fill:#e26f46; stroke:none; fill-opacity:1\\\" cx=\\\"360.66\\\" cy=\\\"251.724\\\" r=\\\"21\\\"\\/>\\n<g clip-path=\\\"url(#clip8600)\\\">\\n<text style=\\\"fill:#000000; fill-opacity:1; font-family:Arial,Helvetica Neue,Helvetica,sans-serif; font-size:48px; text-anchor:start;\\\" transform=\\\"rotate(0, 444.66, 269.224)\\\" x=\\\"444.66\\\" y=\\\"269.224\\\">apple<\\/text>\\n<\\/g>\\n<circle clip-path=\\\"url(#clip8600)\\\" style=\\\"fill:#000000; stroke:none; fill-opacity:1\\\" cx=\\\"360.66\\\" cy=\\\"312.204\\\" r=\\\"25\\\"\\/>\\n<circle clip-path=\\\"url(#clip8600)\\\" style=\\\"fill:#3da44d; stroke:none; fill-opacity:1\\\" cx=\\\"360.66\\\" cy=\\\"312.204\\\" r=\\\"21\\\"\\/>\\n<g clip-path=\\\"url(#clip8600)\\\">\\n<text style=\\\"fill:#000000; fill-opacity:1; font-family:Arial,Helvetica Neue,Helvetica,sans-serif; font-size:48px; text-anchor:start;\\\" transform=\\\"rotate(0, 444.66, 329.704)\\\" x=\\\"444.66\\\" y=\\\"329.704\\\">banana<\\/text>\\n<\\/g>\\n<\\/svg>\\n\"},\"nodeType\":\"DOM\",\"type\":\"node\",\"instanceArgs\":{\"namespace\":\"html\",\"tag\":\"div\"},\"children\":[]}]}}}},\"children\":[{\"props\":{},\"nodeType\":\"ObservableNode\",\"type\":\"node\",\"instanceArgs\":{\"id\":\"ob_10\",\"name\":\"obs-node\"},\"children\":[]}]}]},\n",
       "            window,\n",
       "        );\n",
       "    } else {\n",
       "        document\n",
       "            .querySelector('[data-webio-mountpoint=\"9601074042029410607\"]')\n",
       "            .innerHTML = (\n",
       "                '<div style=\"padding: 1em; background-color: #f8d6da; border: 1px solid #f5c6cb\">' +\n",
       "                '<p><strong>WebIO not detected.</strong></p>' +\n",
       "                '<p>Please read ' +\n",
       "                '<a href=\"https://juliagizmos.github.io/WebIO.jl/latest/troubleshooting/not-detected/\" target=\"_blank\">the troubleshooting guide</a> ' +\n",
       "                'for more information on how to resolve this issue.</p>' +\n",
       "                '<p><a href=\"https://juliagizmos.github.io/WebIO.jl/latest/troubleshooting/not-detected/\" target=\"_blank\">https://juliagizmos.github.io/WebIO.jl/latest/troubleshooting/not-detected/</a></p>' +\n",
       "                '</div>'\n",
       "            );\n",
       "    }\n",
       "    </script>\n",
       "</div>\n"
      ],
      "text/plain": [
       "Node{WebIO.DOM}(WebIO.DOM(:html, :div), Any[Node{WebIO.DOM}(WebIO.DOM(:html, :div), Any[Scope(Node{WebIO.DOM}(WebIO.DOM(:html, :div), Any[Node{WebIO.DOM}(WebIO.DOM(:html, :div), Any[Node{WebIO.DOM}(WebIO.DOM(:html, :label), Any[\"w\"], Dict{Symbol,Any}(:className => \"interact \",:style => Dict{Any,Any}(:padding => \"5px 10px 0px 10px\")))], Dict{Symbol,Any}(:className => \"interact-flex-row-left\")), Node{WebIO.DOM}(WebIO.DOM(:html, :div), Any[Node{WebIO.DOM}(WebIO.DOM(:html, :input), Any[], Dict{Symbol,Any}(:max => 4001,:min => 1,:attributes => Dict{Any,Any}(:type => \"range\",Symbol(\"data-bind\") => \"numericValue: index, valueUpdate: 'input', event: {change: function (){this.changes(this.changes()+1)}}\",\"orient\" => \"horizontal\"),:step => 1,:className => \"slider slider is-fullwidth\",:style => Dict{Any,Any}()))], Dict{Symbol,Any}(:className => \"interact-flex-row-center\")), Node{WebIO.DOM}(WebIO.DOM(:html, :div), Any[Node{WebIO.DOM}(WebIO.DOM(:html, :p), Any[], Dict{Symbol,Any}(:attributes => Dict(\"data-bind\" => \"text: formatted_val\")))], Dict{Symbol,Any}(:className => \"interact-flex-row-right\"))], Dict{Symbol,Any}(:className => \"interact-flex-row interact-widget\")), Dict{String,Tuple{Observables.AbstractObservable,Union{Nothing, Bool}}}(\"changes\" => (Observable{Int64} with 1 listeners. Value:\n",
       "0, nothing),\"index\" => (Observable{Any} with 2 listeners. Value:\n",
       "2001, nothing)), Set(String[]), nothing, Asset[Asset(\"js\", \"knockout\", \"/Users/adrita/.julia/packages/Knockout/1sDlc/src/../assets/knockout.js\"), Asset(\"js\", \"knockout_punches\", \"/Users/adrita/.julia/packages/Knockout/1sDlc/src/../assets/knockout_punches.js\"), Asset(\"js\", nothing, \"/Users/adrita/.julia/packages/InteractBase/9mFwe/src/../assets/all.js\"), Asset(\"css\", nothing, \"/Users/adrita/.julia/packages/InteractBase/9mFwe/src/../assets/style.css\"), Asset(\"css\", nothing, \"/Users/adrita/.julia/packages/Interact/SbgIk/src/../assets/bulma_confined.min.css\")], Dict{Any,Any}(\"changes\" => Any[WebIO.JSString(\"(function (val){return (val!=this.model[\\\"changes\\\"]()) ? (this.valueFromJulia[\\\"changes\\\"]=true, this.model[\\\"changes\\\"](val)) : undefined})\")],\"index\" => Any[WebIO.JSString(\"(function (val){return (val!=this.model[\\\"index\\\"]()) ? (this.valueFromJulia[\\\"index\\\"]=true, this.model[\\\"index\\\"](val)) : undefined})\")]), WebIO.ConnectionPool(Channel{Any}(sz_max:32,sz_curr:0), Set(AbstractConnection[]), Base.GenericCondition{Base.AlwaysLockedST}(Base.InvasiveLinkedList{Task}(Task (runnable) @0x000000013bfeef50, Task (runnable) @0x000000013bfeef50), Base.AlwaysLockedST(1))), WebIO.JSString[WebIO.JSString(\"function () {\\n    var handler = (function (ko, koPunches) {\\n    ko.punches.enableAll();\\n    ko.bindingHandlers.numericValue = {\\n        init: function(element, valueAccessor, allBindings, data, context) {\\n            var stringified = ko.observable(ko.unwrap(valueAccessor()));\\n            stringified.subscribe(function(value) {\\n                var val = parseFloat(value);\\n                if (!isNaN(val)) {\\n                    valueAccessor()(val);\\n                }\\n            });\\n            valueAccessor().subscribe(function(value) {\\n                var str = JSON.stringify(value);\\n                if ((str == \\\"0\\\") && ([\\\"-0\\\", \\\"-0.\\\"].indexOf(stringified()) >= 0))\\n                     return;\\n                 if ([\\\"null\\\", \\\"\\\"].indexOf(str) >= 0)\\n                     return;\\n                stringified(str);\\n            });\\n            ko.applyBindingsToNode(\\n                element,\\n                {\\n                    value: stringified,\\n                    valueUpdate: allBindings.get('valueUpdate'),\\n                },\\n                context,\\n            );\\n        }\\n    };\\n    var json_data = {\\\"formatted_vals\\\":[\\\"-10.0\\\",\\\"-9.99\\\",\\\"-9.98\\\",\\\"-9.97\\\",\\\"-9.96\\\",\\\"-9.95\\\",\\\"-9.94\\\",\\\"-9.93\\\",\\\"-9.92\\\",\\\"-9.91\\\",\\\"-9.9\\\",\\\"-9.89\\\",\\\"-9.88\\\",\\\"-9.87\\\",\\\"-9.86\\\",\\\"-9.85\\\",\\\"-9.84\\\",\\\"-9.83\\\",\\\"-9.82\\\",\\\"-9.81\\\",\\\"-9.8\\\",\\\"-9.79\\\",\\\"-9.78\\\",\\\"-9.77\\\",\\\"-9.76\\\",\\\"-9.75\\\",\\\"-9.74\\\",\\\"-9.73\\\",\\\"-9.72\\\",\\\"-9.71\\\",\\\"-9.7\\\",\\\"-9.69\\\",\\\"-9.68\\\",\\\"-9.67\\\",\\\"-9.66\\\",\\\"-9.65\\\",\\\"-9.64\\\",\\\"-9.63\\\",\\\"-9.62\\\",\\\"-9.61\\\",\\\"-9.6\\\",\\\"-9.59\\\",\\\"-9.58\\\",\\\"-9.57\\\",\\\"-9.56\\\",\\\"-9.55\\\",\\\"-9.54\\\",\\\"-9.53\\\",\\\"-9.52\\\",\\\"-9.51\\\",\\\"-9.5\\\",\\\"-9.49\\\",\\\"-9.48\\\",\\\"-9.47\\\",\\\"-9.46\\\",\\\"-9.45\\\",\\\"-9.44\\\",\\\"-9.43\\\",\\\"-9.42\\\",\\\"-9.41\\\",\\\"-9.4\\\",\\\"-9.39\\\",\\\"-9.38\\\",\\\"-9.37\\\",\\\"-9.36\\\",\\\"-9.35\\\",\\\"-9.34\\\",\\\"-9.33\\\",\\\"-9.32\\\",\\\"-9.31\\\",\\\"-9.3\\\",\\\"-9.29\\\",\\\"-9.28\\\",\\\"-9.27\\\",\\\"-9.26\\\",\\\"-9.25\\\",\\\"-9.24\\\",\\\"-9.23\\\",\\\"-9.22\\\",\\\"-9.21\\\",\\\"-9.2\\\",\\\"-9.19\\\",\\\"-9.18\\\",\\\"-9.17\\\",\\\"-9.16\\\",\\\"-9.15\\\",\\\"-9.14\\\",\\\"-9.13\\\",\\\"-9.12\\\",\\\"-9.11\\\",\\\"-9.1\\\",\\\"-9.09\\\",\\\"-9.08\\\",\\\"-9.07\\\",\\\"-9.06\\\",\\\"-9.05\\\",\\\"-9.04\\\",\\\"-9.03\\\",\\\"-9.02\\\",\\\"-9.01\\\",\\\"-9.0\\\",\\\"-8.99\\\",\\\"-8.98\\\",\\\"-8.97\\\",\\\"-8.96\\\",\\\"-8.95\\\",\\\"-8.94\\\",\\\"-8.93\\\",\\\"-8.92\\\",\\\"-8.91\\\",\\\"-8.9\\\",\\\"-8.89\\\",\\\"-8.88\\\",\\\"-8.87\\\",\\\"-8.86\\\",\\\"-8.85\\\",\\\"-8.84\\\",\\\"-8.83\\\",\\\"-8.82\\\",\\\"-8.81\\\",\\\"-8.8\\\",\\\"-8.79\\\",\\\"-8.78\\\",\\\"-8.77\\\",\\\"-8.76\\\",\\\"-8.75\\\",\\\"-8.74\\\",\\\"-8.73\\\",\\\"-8.72\\\",\\\"-8.71\\\",\\\"-8.7\\\",\\\"-8.69\\\",\\\"-8.68\\\",\\\"-8.67\\\",\\\"-8.66\\\",\\\"-8.65\\\",\\\"-8.64\\\",\\\"-8.63\\\",\\\"-8.62\\\",\\\"-8.61\\\",\\\"-8.6\\\",\\\"-8.59\\\",\\\"-8.58\\\",\\\"-8.57\\\",\\\"-8.56\\\",\\\"-8.55\\\",\\\"-8.54\\\",\\\"-8.53\\\",\\\"-8.52\\\",\\\"-8.51\\\",\\\"-8.5\\\",\\\"-8.49\\\",\\\"-8.48\\\",\\\"-8.47\\\",\\\"-8.46\\\",\\\"-8.45\\\",\\\"-8.44\\\",\\\"-8.43\\\",\\\"-8.42\\\",\\\"-8.41\\\",\\\"-8.4\\\",\\\"-8.39\\\",\\\"-8.38\\\",\\\"-8.37\\\",\\\"-8.36\\\",\\\"-8.35\\\",\\\"-8.34\\\",\\\"-8.33\\\",\\\"-8.32\\\",\\\"-8.31\\\",\\\"-8.3\\\",\\\"-8.29\\\",\\\"-8.28\\\",\\\"-8.27\\\",\\\"-8.26\\\",\\\"-8.25\\\",\\\"-8.24\\\",\\\"-8.23\\\",\\\"-8.22\\\",\\\"-8.21\\\",\\\"-8.2\\\",\\\"-8.19\\\",\\\"-8.18\\\",\\\"-8.17\\\",\\\"-8.16\\\",\\\"-8.15\\\",\\\"-8.14\\\",\\\"-8.13\\\",\\\"-8.12\\\",\\\"-8.11\\\",\\\"-8.1\\\",\\\"-8.09\\\",\\\"-8.08\\\",\\\"-8.07\\\",\\\"-8.06\\\",\\\"-8.05\\\",\\\"-8.04\\\",\\\"-8.03\\\",\\\"-8.02\\\",\\\"-8.01\\\",\\\"-8.0\\\",\\\"-7.99\\\",\\\"-7.98\\\",\\\"-7.97\\\",\\\"-7.96\\\",\\\"-7.95\\\",\\\"-7.94\\\",\\\"-7.93\\\",\\\"-7.92\\\",\\\"-7.91\\\",\\\"-7.9\\\",\\\"-7.89\\\",\\\"-7.88\\\",\\\"-7.87\\\",\\\"-7.86\\\",\\\"-7.85\\\",\\\"-7.84\\\",\\\"-7.83\\\",\\\"-7.82\\\",\\\"-7.81\\\",\\\"-7.8\\\",\\\"-7.79\\\",\\\"-7.78\\\",\\\"-7.77\\\",\\\"-7.76\\\",\\\"-7.75\\\",\\\"-7.74\\\",\\\"-7.73\\\",\\\"-7.72\\\",\\\"-7.71\\\",\\\"-7.7\\\",\\\"-7.69\\\",\\\"-7.68\\\",\\\"-7.67\\\",\\\"-7.66\\\",\\\"-7.65\\\",\\\"-7.64\\\",\\\"-7.63\\\",\\\"-7.62\\\",\\\"-7.61\\\",\\\"-7.6\\\",\\\"-7.59\\\",\\\"-7.58\\\",\\\"-7.57\\\",\\\"-7.56\\\",\\\"-7.55\\\",\\\"-7.54\\\",\\\"-7.53\\\",\\\"-7.52\\\",\\\"-7.51\\\",\\\"-7.5\\\",\\\"-7.49\\\",\\\"-7.48\\\",\\\"-7.47\\\",\\\"-7.46\\\",\\\"-7.45\\\",\\\"-7.44\\\",\\\"-7.43\\\",\\\"-7.42\\\",\\\"-7.41\\\",\\\"-7.4\\\",\\\"-7.39\\\",\\\"-7.38\\\",\\\"-7.37\\\",\\\"-7.36\\\",\\\"-7.35\\\",\\\"-7.34\\\",\\\"-7.33\\\",\\\"-7.32\\\",\\\"-7.31\\\",\\\"-7.3\\\",\\\"-7.29\\\",\\\"-7.28\\\",\\\"-7.27\\\",\\\"-7.26\\\",\\\"-7.25\\\",\\\"-7.24\\\",\\\"-7.23\\\",\\\"-7.22\\\",\\\"-7.21\\\",\\\"-7.2\\\",\\\"-7.19\\\",\\\"-7.18\\\",\\\"-7.17\\\",\\\"-7.16\\\",\\\"-7.15\\\",\\\"-7.14\\\",\\\"-7.13\\\",\\\"-7.12\\\",\\\"-7.11\\\",\\\"-7.1\\\",\\\"-7.09\\\",\\\"-7.08\\\",\\\"-7.07\\\",\\\"-7.06\\\",\\\"-7.05\\\",\\\"-7.04\\\",\\\"-7.03\\\",\\\"-7.02\\\",\\\"-7.01\\\",\\\"-7.0\\\",\\\"-6.99\\\",\\\"-6.98\\\",\\\"-6.97\\\",\\\"-6.96\\\",\\\"-6.95\\\",\\\"-6.94\\\",\\\"-6.93\\\",\\\"-6.92\\\",\\\"-6.91\\\",\\\"-6.9\\\",\\\"-6.89\\\",\\\"-6.88\\\",\\\"-6.87\\\",\\\"-6.86\\\",\\\"-6.85\\\",\\\"-6.84\\\",\\\"-6.83\\\",\\\"-6.82\\\",\\\"-6.81\\\",\\\"-6.8\\\",\\\"-6.79\\\",\\\"-6.78\\\",\\\"-6.77\\\",\\\"-6.76\\\",\\\"-6.75\\\",\\\"-6.74\\\",\\\"-6.73\\\",\\\"-6.72\\\",\\\"-6.71\\\",\\\"-6.7\\\",\\\"-6.69\\\",\\\"-6.68\\\",\\\"-6.67\\\",\\\"-6.66\\\",\\\"-6.65\\\",\\\"-6.64\\\",\\\"-6.63\\\",\\\"-6.62\\\",\\\"-6.61\\\",\\\"-6.6\\\",\\\"-6.59\\\",\\\"-6.58\\\",\\\"-6.57\\\",\\\"-6.56\\\",\\\"-6.55\\\",\\\"-6.54\\\",\\\"-6.53\\\",\\\"-6.52\\\",\\\"-6.51\\\",\\\"-6.5\\\",\\\"-6.49\\\",\\\"-6.48\\\",\\\"-6.47\\\",\\\"-6.46\\\",\\\"-6.45\\\",\\\"-6.44\\\",\\\"-6.43\\\",\\\"-6.42\\\",\\\"-6.41\\\",\\\"-6.4\\\",\\\"-6.39\\\",\\\"-6.38\\\",\\\"-6.37\\\",\\\"-6.36\\\",\\\"-6.35\\\",\\\"-6.34\\\",\\\"-6.33\\\",\\\"-6.32\\\",\\\"-6.31\\\",\\\"-6.3\\\",\\\"-6.29\\\",\\\"-6.28\\\",\\\"-6.27\\\",\\\"-6.26\\\",\\\"-6.25\\\",\\\"-6.24\\\",\\\"-6.23\\\",\\\"-6.22\\\",\\\"-6.21\\\",\\\"-6.2\\\",\\\"-6.19\\\",\\\"-6.18\\\",\\\"-6.17\\\",\\\"-6.16\\\",\\\"-6.15\\\",\\\"-6.14\\\",\\\"-6.13\\\",\\\"-6.12\\\",\\\"-6.11\\\",\\\"-6.1\\\",\\\"-6.09\\\",\\\"-6.08\\\",\\\"-6.07\\\",\\\"-6.06\\\",\\\"-6.05\\\",\\\"-6.04\\\",\\\"-6.03\\\",\\\"-6.02\\\",\\\"-6.01\\\",\\\"-6.0\\\",\\\"-5.99\\\",\\\"-5.98\\\",\\\"-5.97\\\",\\\"-5.96\\\",\\\"-5.95\\\",\\\"-5.94\\\",\\\"-5.93\\\",\\\"-5.92\\\",\\\"-5.91\\\",\\\"-5.9\\\",\\\"-5.89\\\",\\\"-5.88\\\",\\\"-5.87\\\",\\\"-5.86\\\",\\\"-5.85\\\",\\\"-5.84\\\",\\\"-5.83\\\",\\\"-5.82\\\",\\\"-5.81\\\",\\\"-5.8\\\",\\\"-5.79\\\",\\\"-5.78\\\",\\\"-5.77\\\",\\\"-5.76\\\",\\\"-5.75\\\",\\\"-5.74\\\",\\\"-5.73\\\",\\\"-5.72\\\",\\\"-5.71\\\",\\\"-5.7\\\",\\\"-5.69\\\",\\\"-5.68\\\",\\\"-5.67\\\",\\\"-5.66\\\",\\\"-5.65\\\",\\\"-5.64\\\",\\\"-5.63\\\",\\\"-5.62\\\",\\\"-5.61\\\",\\\"-5.6\\\",\\\"-5.59\\\",\\\"-5.58\\\",\\\"-5.57\\\",\\\"-5.56\\\",\\\"-5.55\\\",\\\"-5.54\\\",\\\"-5.53\\\",\\\"-5.52\\\",\\\"-5.51\\\",\\\"-5.5\\\",\\\"-5.49\\\",\\\"-5.48\\\",\\\"-5.47\\\",\\\"-5.46\\\",\\\"-5.45\\\",\\\"-5.44\\\",\\\"-5.43\\\",\\\"-5.42\\\",\\\"-5.41\\\",\\\"-5.4\\\",\\\"-5.39\\\",\\\"-5.38\\\",\\\"-5.37\\\",\\\"-5.36\\\",\\\"-5.35\\\",\\\"-5.34\\\",\\\"-5.33\\\",\\\"-5.32\\\",\\\"-5.31\\\",\\\"-5.3\\\",\\\"-5.29\\\",\\\"-5.28\\\",\\\"-5.27\\\",\\\"-5.26\\\",\\\"-5.25\\\",\\\"-5.24\\\",\\\"-5.23\\\",\\\"-5.22\\\",\\\"-5.21\\\",\\\"-5.2\\\",\\\"-5.19\\\",\\\"-5.18\\\",\\\"-5.17\\\",\\\"-5.16\\\",\\\"-5.15\\\",\\\"-5.14\\\",\\\"-5.13\\\",\\\"-5.12\\\",\\\"-5.11\\\",\\\"-5.1\\\",\\\"-5.09\\\",\\\"-5.08\\\",\\\"-5.07\\\",\\\"-5.06\\\",\\\"-5.05\\\",\\\"-5.04\\\",\\\"-5.03\\\",\\\"-5.02\\\",\\\"-5.01\\\",\\\"-5.0\\\",\\\"-4.99\\\",\\\"-4.98\\\",\\\"-4.97\\\",\\\"-4.96\\\",\\\"-4.95\\\",\\\"-4.94\\\",\\\"-4.93\\\",\\\"-4.92\\\",\\\"-4.91\\\",\\\"-4.9\\\",\\\"-4.89\\\",\\\"-4.88\\\",\\\"-4.87\\\",\\\"-4.86\\\",\\\"-4.85\\\",\\\"-4.84\\\",\\\"-4.83\\\",\\\"-4.82\\\",\\\"-4.81\\\",\\\"-4.8\\\",\\\"-4.79\\\",\\\"-4.78\\\",\\\"-4.77\\\",\\\"-4.76\\\",\\\"-4.75\\\",\\\"-4.74\\\",\\\"-4.73\\\",\\\"-4.72\\\",\\\"-4.71\\\",\\\"-4.7\\\",\\\"-4.69\\\",\\\"-4.68\\\",\\\"-4.67\\\",\\\"-4.66\\\",\\\"-4.65\\\",\\\"-4.64\\\",\\\"-4.63\\\",\\\"-4.62\\\",\\\"-4.61\\\",\\\"-4.6\\\",\\\"-4.59\\\",\\\"-4.58\\\",\\\"-4.57\\\",\\\"-4.56\\\",\\\"-4.55\\\",\\\"-4.54\\\",\\\"-4.53\\\",\\\"-4.52\\\",\\\"-4.51\\\",\\\"-4.5\\\",\\\"-4.49\\\",\\\"-4.48\\\",\\\"-4.47\\\",\\\"-4.46\\\",\\\"-4.45\\\",\\\"-4.44\\\",\\\"-4.43\\\",\\\"-4.42\\\",\\\"-4.41\\\",\\\"-4.4\\\",\\\"-4.39\\\",\\\"-4.38\\\",\\\"-4.37\\\",\\\"-4.36\\\",\\\"-4.35\\\",\\\"-4.34\\\",\\\"-4.33\\\",\\\"-4.32\\\",\\\"-4.31\\\",\\\"-4.3\\\",\\\"-4.29\\\",\\\"-4.28\\\",\\\"-4.27\\\",\\\"-4.26\\\",\\\"-4.25\\\",\\\"-4.24\\\",\\\"-4.23\\\",\\\"-4.22\\\",\\\"-4.21\\\",\\\"-4.2\\\",\\\"-4.19\\\",\\\"-4.18\\\",\\\"-4.17\\\",\\\"-4.16\\\",\\\"-4.15\\\",\\\"-4.14\\\",\\\"-4.13\\\",\\\"-4.12\\\",\\\"-4.11\\\",\\\"-4.1\\\",\\\"-4.09\\\",\\\"-4.08\\\",\\\"-4.07\\\",\\\"-4.06\\\",\\\"-4.05\\\",\\\"-4.04\\\",\\\"-4.03\\\",\\\"-4.02\\\",\\\"-4.01\\\",\\\"-4.0\\\",\\\"-3.99\\\",\\\"-3.98\\\",\\\"-3.97\\\",\\\"-3.96\\\",\\\"-3.95\\\",\\\"-3.94\\\",\\\"-3.93\\\",\\\"-3.92\\\",\\\"-3.91\\\",\\\"-3.9\\\",\\\"-3.89\\\",\\\"-3.88\\\",\\\"-3.87\\\",\\\"-3.86\\\",\\\"-3.85\\\",\\\"-3.84\\\",\\\"-3.83\\\",\\\"-3.82\\\",\\\"-3.81\\\",\\\"-3.8\\\",\\\"-3.79\\\",\\\"-3.78\\\",\\\"-3.77\\\",\\\"-3.76\\\",\\\"-3.75\\\",\\\"-3.74\\\",\\\"-3.73\\\",\\\"-3.72\\\",\\\"-3.71\\\",\\\"-3.7\\\",\\\"-3.69\\\",\\\"-3.68\\\",\\\"-3.67\\\",\\\"-3.66\\\",\\\"-3.65\\\",\\\"-3.64\\\",\\\"-3.63\\\",\\\"-3.62\\\",\\\"-3.61\\\",\\\"-3.6\\\",\\\"-3.59\\\",\\\"-3.58\\\",\\\"-3.57\\\",\\\"-3.56\\\",\\\"-3.55\\\",\\\"-3.54\\\",\\\"-3.53\\\",\\\"-3.52\\\",\\\"-3.51\\\",\\\"-3.5\\\",\\\"-3.49\\\",\\\"-3.48\\\",\\\"-3.47\\\",\\\"-3.46\\\",\\\"-3.45\\\",\\\"-3.44\\\",\\\"-3.43\\\",\\\"-3.42\\\",\\\"-3.41\\\",\\\"-3.4\\\",\\\"-3.39\\\",\\\"-3.38\\\",\\\"-3.37\\\",\\\"-3.36\\\",\\\"-3.35\\\",\\\"-3.34\\\",\\\"-3.33\\\",\\\"-3.32\\\",\\\"-3.31\\\",\\\"-3.3\\\",\\\"-3.29\\\",\\\"-3.28\\\",\\\"-3.27\\\",\\\"-3.26\\\",\\\"-3.25\\\",\\\"-3.24\\\",\\\"-3.23\\\",\\\"-3.22\\\",\\\"-3.21\\\",\\\"-3.2\\\",\\\"-3.19\\\",\\\"-3.18\\\",\\\"-3.17\\\",\\\"-3.16\\\",\\\"-3.15\\\",\\\"-3.14\\\",\\\"-3.13\\\",\\\"-3.12\\\",\\\"-3.11\\\",\\\"-3.1\\\",\\\"-3.09\\\",\\\"-3.08\\\",\\\"-3.07\\\",\\\"-3.06\\\",\\\"-3.05\\\",\\\"-3.04\\\",\\\"-3.03\\\",\\\"-3.02\\\",\\\"-3.01\\\",\\\"-3.0\\\",\\\"-2.99\\\",\\\"-2.98\\\",\\\"-2.97\\\",\\\"-2.96\\\",\\\"-2.95\\\",\\\"-2.94\\\",\\\"-2.93\\\",\\\"-2.92\\\",\\\"-2.91\\\",\\\"-2.9\\\",\\\"-2.89\\\",\\\"-2.88\\\",\\\"-2.87\\\",\\\"-2.86\\\",\\\"-2.85\\\",\\\"-2.84\\\",\\\"-2.83\\\",\\\"-2.82\\\",\\\"-2.81\\\",\\\"-2.8\\\",\\\"-2.79\\\",\\\"-2.78\\\",\\\"-2.77\\\",\\\"-2.76\\\",\\\"-2.75\\\",\\\"-2.74\\\",\\\"-2.73\\\",\\\"-2.72\\\",\\\"-2.71\\\",\\\"-2.7\\\",\\\"-2.69\\\",\\\"-2.68\\\",\\\"-2.67\\\",\\\"-2.66\\\",\\\"-2.65\\\",\\\"-2.64\\\",\\\"-2.63\\\",\\\"-2.62\\\",\\\"-2.61\\\",\\\"-2.6\\\",\\\"-2.59\\\",\\\"-2.58\\\",\\\"-2.57\\\",\\\"-2.56\\\",\\\"-2.55\\\",\\\"-2.54\\\",\\\"-2.53\\\",\\\"-2.52\\\",\\\"-2.51\\\",\\\"-2.5\\\",\\\"-2.49\\\",\\\"-2.48\\\",\\\"-2.47\\\",\\\"-2.46\\\",\\\"-2.45\\\",\\\"-2.44\\\",\\\"-2.43\\\",\\\"-2.42\\\",\\\"-2.41\\\",\\\"-2.4\\\",\\\"-2.39\\\",\\\"-2.38\\\",\\\"-2.37\\\",\\\"-2.36\\\",\\\"-2.35\\\",\\\"-2.34\\\",\\\"-2.33\\\",\\\"-2.32\\\",\\\"-2.31\\\",\\\"-2.3\\\",\\\"-2.29\\\",\\\"-2.28\\\",\\\"-2.27\\\",\\\"-2.26\\\",\\\"-2.25\\\",\\\"-2.24\\\",\\\"-2.23\\\",\\\"-2.22\\\",\\\"-2.21\\\",\\\"-2.2\\\",\\\"-2.19\\\",\\\"-2.18\\\",\\\"-2.17\\\",\\\"-2.16\\\",\\\"-2.15\\\",\\\"-2.14\\\",\\\"-2.13\\\",\\\"-2.12\\\",\\\"-2.11\\\",\\\"-2.1\\\",\\\"-2.09\\\",\\\"-2.08\\\",\\\"-2.07\\\",\\\"-2.06\\\",\\\"-2.05\\\",\\\"-2.04\\\",\\\"-2.03\\\",\\\"-2.02\\\",\\\"-2.01\\\",\\\"-2.0\\\",\\\"-1.99\\\",\\\"-1.98\\\",\\\"-1.97\\\",\\\"-1.96\\\",\\\"-1.95\\\",\\\"-1.94\\\",\\\"-1.93\\\",\\\"-1.92\\\",\\\"-1.91\\\",\\\"-1.9\\\",\\\"-1.89\\\",\\\"-1.88\\\",\\\"-1.87\\\",\\\"-1.86\\\",\\\"-1.85\\\",\\\"-1.84\\\",\\\"-1.83\\\",\\\"-1.82\\\",\\\"-1.81\\\",\\\"-1.8\\\",\\\"-1.79\\\",\\\"-1.78\\\",\\\"-1.77\\\",\\\"-1.76\\\",\\\"-1.75\\\",\\\"-1.74\\\",\\\"-1.73\\\",\\\"-1.72\\\",\\\"-1.71\\\",\\\"-1.7\\\",\\\"-1.69\\\",\\\"-1.68\\\",\\\"-1.67\\\",\\\"-1.66\\\",\\\"-1.65\\\",\\\"-1.64\\\",\\\"-1.63\\\",\\\"-1.62\\\",\\\"-1.61\\\",\\\"-1.6\\\",\\\"-1.59\\\",\\\"-1.58\\\",\\\"-1.57\\\",\\\"-1.56\\\",\\\"-1.55\\\",\\\"-1.54\\\",\\\"-1.53\\\",\\\"-1.52\\\",\\\"-1.51\\\",\\\"-1.5\\\",\\\"-1.49\\\",\\\"-1.48\\\",\\\"-1.47\\\",\\\"-1.46\\\",\\\"-1.45\\\",\\\"-1.44\\\",\\\"-1.43\\\",\\\"-1.42\\\",\\\"-1.41\\\",\\\"-1.4\\\",\\\"-1.39\\\",\\\"-1.38\\\",\\\"-1.37\\\",\\\"-1.36\\\",\\\"-1.35\\\",\\\"-1.34\\\",\\\"-1.33\\\",\\\"-1.32\\\",\\\"-1.31\\\",\\\"-1.3\\\",\\\"-1.29\\\",\\\"-1.28\\\",\\\"-1.27\\\",\\\"-1.26\\\",\\\"-1.25\\\",\\\"-1.24\\\",\\\"-1.23\\\",\\\"-1.22\\\",\\\"-1.21\\\",\\\"-1.2\\\",\\\"-1.19\\\",\\\"-1.18\\\",\\\"-1.17\\\",\\\"-1.16\\\",\\\"-1.15\\\",\\\"-1.14\\\",\\\"-1.13\\\",\\\"-1.12\\\",\\\"-1.11\\\",\\\"-1.1\\\",\\\"-1.09\\\",\\\"-1.08\\\",\\\"-1.07\\\",\\\"-1.06\\\",\\\"-1.05\\\",\\\"-1.04\\\",\\\"-1.03\\\",\\\"-1.02\\\",\\\"-1.01\\\",\\\"-1.0\\\",\\\"-0.99\\\",\\\"-0.98\\\",\\\"-0.97\\\",\\\"-0.96\\\",\\\"-0.95\\\",\\\"-0.94\\\",\\\"-0.93\\\",\\\"-0.92\\\",\\\"-0.91\\\",\\\"-0.9\\\",\\\"-0.89\\\",\\\"-0.88\\\",\\\"-0.87\\\",\\\"-0.86\\\",\\\"-0.85\\\",\\\"-0.84\\\",\\\"-0.83\\\",\\\"-0.82\\\",\\\"-0.81\\\",\\\"-0.8\\\",\\\"-0.79\\\",\\\"-0.78\\\",\\\"-0.77\\\",\\\"-0.76\\\",\\\"-0.75\\\",\\\"-0.74\\\",\\\"-0.73\\\",\\\"-0.72\\\",\\\"-0.71\\\",\\\"-0.7\\\",\\\"-0.69\\\",\\\"-0.68\\\",\\\"-0.67\\\",\\\"-0.66\\\",\\\"-0.65\\\",\\\"-0.64\\\",\\\"-0.63\\\",\\\"-0.62\\\",\\\"-0.61\\\",\\\"-0.6\\\",\\\"-0.59\\\",\\\"-0.58\\\",\\\"-0.57\\\",\\\"-0.56\\\",\\\"-0.55\\\",\\\"-0.54\\\",\\\"-0.53\\\",\\\"-0.52\\\",\\\"-0.51\\\",\\\"-0.5\\\",\\\"-0.49\\\",\\\"-0.48\\\",\\\"-0.47\\\",\\\"-0.46\\\",\\\"-0.45\\\",\\\"-0.44\\\",\\\"-0.43\\\",\\\"-0.42\\\",\\\"-0.41\\\",\\\"-0.4\\\",\\\"-0.39\\\",\\\"-0.38\\\",\\\"-0.37\\\",\\\"-0.36\\\",\\\"-0.35\\\",\\\"-0.34\\\",\\\"-0.33\\\",\\\"-0.32\\\",\\\"-0.31\\\",\\\"-0.3\\\",\\\"-0.29\\\",\\\"-0.28\\\",\\\"-0.27\\\",\\\"-0.26\\\",\\\"-0.25\\\",\\\"-0.24\\\",\\\"-0.23\\\",\\\"-0.22\\\",\\\"-0.21\\\",\\\"-0.2\\\",\\\"-0.19\\\",\\\"-0.18\\\",\\\"-0.17\\\",\\\"-0.16\\\",\\\"-0.15\\\",\\\"-0.14\\\",\\\"-0.13\\\",\\\"-0.12\\\",\\\"-0.11\\\",\\\"-0.1\\\",\\\"-0.09\\\",\\\"-0.08\\\",\\\"-0.07\\\",\\\"-0.06\\\",\\\"-0.05\\\",\\\"-0.04\\\",\\\"-0.03\\\",\\\"-0.02\\\",\\\"-0.01\\\",\\\"0.0\\\",\\\"0.01\\\",\\\"0.02\\\",\\\"0.03\\\",\\\"0.04\\\",\\\"0.05\\\",\\\"0.06\\\",\\\"0.07\\\",\\\"0.08\\\",\\\"0.09\\\",\\\"0.1\\\",\\\"0.11\\\",\\\"0.12\\\",\\\"0.13\\\",\\\"0.14\\\",\\\"0.15\\\",\\\"0.16\\\",\\\"0.17\\\",\\\"0.18\\\",\\\"0.19\\\",\\\"0.2\\\",\\\"0.21\\\",\\\"0.22\\\",\\\"0.23\\\",\\\"0.24\\\",\\\"0.25\\\",\\\"0.26\\\",\\\"0.27\\\",\\\"0.28\\\",\\\"0.29\\\",\\\"0.3\\\",\\\"0.31\\\",\\\"0.32\\\",\\\"0.33\\\",\\\"0.34\\\",\\\"0.35\\\",\\\"0.36\\\",\\\"0.37\\\",\\\"0.38\\\",\\\"0.39\\\",\\\"0.4\\\",\\\"0.41\\\",\\\"0.42\\\",\\\"0.43\\\",\\\"0.44\\\",\\\"0.45\\\",\\\"0.46\\\",\\\"0.47\\\",\\\"0.48\\\",\\\"0.49\\\",\\\"0.5\\\",\\\"0.51\\\",\\\"0.52\\\",\\\"0.53\\\",\\\"0.54\\\",\\\"0.55\\\",\\\"0.56\\\",\\\"0.57\\\",\\\"0.58\\\",\\\"0.59\\\",\\\"0.6\\\",\\\"0.61\\\",\\\"0.62\\\",\\\"0.63\\\",\\\"0.64\\\",\\\"0.65\\\",\\\"0.66\\\",\\\"0.67\\\",\\\"0.68\\\",\\\"0.69\\\",\\\"0.7\\\",\\\"0.71\\\",\\\"0.72\\\",\\\"0.73\\\",\\\"0.74\\\",\\\"0.75\\\",\\\"0.76\\\",\\\"0.77\\\",\\\"0.78\\\",\\\"0.79\\\",\\\"0.8\\\",\\\"0.81\\\",\\\"0.82\\\",\\\"0.83\\\",\\\"0.84\\\",\\\"0.85\\\",\\\"0.86\\\",\\\"0.87\\\",\\\"0.88\\\",\\\"0.89\\\",\\\"0.9\\\",\\\"0.91\\\",\\\"0.92\\\",\\\"0.93\\\",\\\"0.94\\\",\\\"0.95\\\",\\\"0.96\\\",\\\"0.97\\\",\\\"0.98\\\",\\\"0.99\\\",\\\"1.0\\\",\\\"1.01\\\",\\\"1.02\\\",\\\"1.03\\\",\\\"1.04\\\",\\\"1.05\\\",\\\"1.06\\\",\\\"1.07\\\",\\\"1.08\\\",\\\"1.09\\\",\\\"1.1\\\",\\\"1.11\\\",\\\"1.12\\\",\\\"1.13\\\",\\\"1.14\\\",\\\"1.15\\\",\\\"1.16\\\",\\\"1.17\\\",\\\"1.18\\\",\\\"1.19\\\",\\\"1.2\\\",\\\"1.21\\\",\\\"1.22\\\",\\\"1.23\\\",\\\"1.24\\\",\\\"1.25\\\",\\\"1.26\\\",\\\"1.27\\\",\\\"1.28\\\",\\\"1.29\\\",\\\"1.3\\\",\\\"1.31\\\",\\\"1.32\\\",\\\"1.33\\\",\\\"1.34\\\",\\\"1.35\\\",\\\"1.36\\\",\\\"1.37\\\",\\\"1.38\\\",\\\"1.39\\\",\\\"1.4\\\",\\\"1.41\\\",\\\"1.42\\\",\\\"1.43\\\",\\\"1.44\\\",\\\"1.45\\\",\\\"1.46\\\",\\\"1.47\\\",\\\"1.48\\\",\\\"1.49\\\",\\\"1.5\\\",\\\"1.51\\\",\\\"1.52\\\",\\\"1.53\\\",\\\"1.54\\\",\\\"1.55\\\",\\\"1.56\\\",\\\"1.57\\\",\\\"1.58\\\",\\\"1.59\\\",\\\"1.6\\\",\\\"1.61\\\",\\\"1.62\\\",\\\"1.63\\\",\\\"1.64\\\",\\\"1.65\\\",\\\"1.66\\\",\\\"1.67\\\",\\\"1.68\\\",\\\"1.69\\\",\\\"1.7\\\",\\\"1.71\\\",\\\"1.72\\\",\\\"1.73\\\",\\\"1.74\\\",\\\"1.75\\\",\\\"1.76\\\",\\\"1.77\\\",\\\"1.78\\\",\\\"1.79\\\",\\\"1.8\\\",\\\"1.81\\\",\\\"1.82\\\",\\\"1.83\\\",\\\"1.84\\\",\\\"1.85\\\",\\\"1.86\\\",\\\"1.87\\\",\\\"1.88\\\",\\\"1.89\\\",\\\"1.9\\\",\\\"1.91\\\",\\\"1.92\\\",\\\"1.93\\\",\\\"1.94\\\",\\\"1.95\\\",\\\"1.96\\\",\\\"1.97\\\",\\\"1.98\\\",\\\"1.99\\\",\\\"2.0\\\",\\\"2.01\\\",\\\"2.02\\\",\\\"2.03\\\",\\\"2.04\\\",\\\"2.05\\\",\\\"2.06\\\",\\\"2.07\\\",\\\"2.08\\\",\\\"2.09\\\",\\\"2.1\\\",\\\"2.11\\\",\\\"2.12\\\",\\\"2.13\\\",\\\"2.14\\\",\\\"2.15\\\",\\\"2.16\\\",\\\"2.17\\\",\\\"2.18\\\",\\\"2.19\\\",\\\"2.2\\\",\\\"2.21\\\",\\\"2.22\\\",\\\"2.23\\\",\\\"2.24\\\",\\\"2.25\\\",\\\"2.26\\\",\\\"2.27\\\",\\\"2.28\\\",\\\"2.29\\\",\\\"2.3\\\",\\\"2.31\\\",\\\"2.32\\\",\\\"2.33\\\",\\\"2.34\\\",\\\"2.35\\\",\\\"2.36\\\",\\\"2.37\\\",\\\"2.38\\\",\\\"2.39\\\",\\\"2.4\\\",\\\"2.41\\\",\\\"2.42\\\",\\\"2.43\\\",\\\"2.44\\\",\\\"2.45\\\",\\\"2.46\\\",\\\"2.47\\\",\\\"2.48\\\",\\\"2.49\\\",\\\"2.5\\\",\\\"2.51\\\",\\\"2.52\\\",\\\"2.53\\\",\\\"2.54\\\",\\\"2.55\\\",\\\"2.56\\\",\\\"2.57\\\",\\\"2.58\\\",\\\"2.59\\\",\\\"2.6\\\",\\\"2.61\\\",\\\"2.62\\\",\\\"2.63\\\",\\\"2.64\\\",\\\"2.65\\\",\\\"2.66\\\",\\\"2.67\\\",\\\"2.68\\\",\\\"2.69\\\",\\\"2.7\\\",\\\"2.71\\\",\\\"2.72\\\",\\\"2.73\\\",\\\"2.74\\\",\\\"2.75\\\",\\\"2.76\\\",\\\"2.77\\\",\\\"2.78\\\",\\\"2.79\\\",\\\"2.8\\\",\\\"2.81\\\",\\\"2.82\\\",\\\"2.83\\\",\\\"2.84\\\",\\\"2.85\\\",\\\"2.86\\\",\\\"2.87\\\",\\\"2.88\\\",\\\"2.89\\\",\\\"2.9\\\",\\\"2.91\\\",\\\"2.92\\\",\\\"2.93\\\",\\\"2.94\\\",\\\"2.95\\\",\\\"2.96\\\",\\\"2.97\\\",\\\"2.98\\\",\\\"2.99\\\",\\\"3.0\\\",\\\"3.01\\\",\\\"3.02\\\",\\\"3.03\\\",\\\"3.04\\\",\\\"3.05\\\",\\\"3.06\\\",\\\"3.07\\\",\\\"3.08\\\",\\\"3.09\\\",\\\"3.1\\\",\\\"3.11\\\",\\\"3.12\\\",\\\"3.13\\\",\\\"3.14\\\",\\\"3.15\\\",\\\"3.16\\\",\\\"3.17\\\",\\\"3.18\\\",\\\"3.19\\\",\\\"3.2\\\",\\\"3.21\\\",\\\"3.22\\\",\\\"3.23\\\",\\\"3.24\\\",\\\"3.25\\\",\\\"3.26\\\",\\\"3.27\\\",\\\"3.28\\\",\\\"3.29\\\",\\\"3.3\\\",\\\"3.31\\\",\\\"3.32\\\",\\\"3.33\\\",\\\"3.34\\\",\\\"3.35\\\",\\\"3.36\\\",\\\"3.37\\\",\\\"3.38\\\",\\\"3.39\\\",\\\"3.4\\\",\\\"3.41\\\",\\\"3.42\\\",\\\"3.43\\\",\\\"3.44\\\",\\\"3.45\\\",\\\"3.46\\\",\\\"3.47\\\",\\\"3.48\\\",\\\"3.49\\\",\\\"3.5\\\",\\\"3.51\\\",\\\"3.52\\\",\\\"3.53\\\",\\\"3.54\\\",\\\"3.55\\\",\\\"3.56\\\",\\\"3.57\\\",\\\"3.58\\\",\\\"3.59\\\",\\\"3.6\\\",\\\"3.61\\\",\\\"3.62\\\",\\\"3.63\\\",\\\"3.64\\\",\\\"3.65\\\",\\\"3.66\\\",\\\"3.67\\\",\\\"3.68\\\",\\\"3.69\\\",\\\"3.7\\\",\\\"3.71\\\",\\\"3.72\\\",\\\"3.73\\\",\\\"3.74\\\",\\\"3.75\\\",\\\"3.76\\\",\\\"3.77\\\",\\\"3.78\\\",\\\"3.79\\\",\\\"3.8\\\",\\\"3.81\\\",\\\"3.82\\\",\\\"3.83\\\",\\\"3.84\\\",\\\"3.85\\\",\\\"3.86\\\",\\\"3.87\\\",\\\"3.88\\\",\\\"3.89\\\",\\\"3.9\\\",\\\"3.91\\\",\\\"3.92\\\",\\\"3.93\\\",\\\"3.94\\\",\\\"3.95\\\",\\\"3.96\\\",\\\"3.97\\\",\\\"3.98\\\",\\\"3.99\\\",\\\"4.0\\\",\\\"4.01\\\",\\\"4.02\\\",\\\"4.03\\\",\\\"4.04\\\",\\\"4.05\\\",\\\"4.06\\\",\\\"4.07\\\",\\\"4.08\\\",\\\"4.09\\\",\\\"4.1\\\",\\\"4.11\\\",\\\"4.12\\\",\\\"4.13\\\",\\\"4.14\\\",\\\"4.15\\\",\\\"4.16\\\",\\\"4.17\\\",\\\"4.18\\\",\\\"4.19\\\",\\\"4.2\\\",\\\"4.21\\\",\\\"4.22\\\",\\\"4.23\\\",\\\"4.24\\\",\\\"4.25\\\",\\\"4.26\\\",\\\"4.27\\\",\\\"4.28\\\",\\\"4.29\\\",\\\"4.3\\\",\\\"4.31\\\",\\\"4.32\\\",\\\"4.33\\\",\\\"4.34\\\",\\\"4.35\\\",\\\"4.36\\\",\\\"4.37\\\",\\\"4.38\\\",\\\"4.39\\\",\\\"4.4\\\",\\\"4.41\\\",\\\"4.42\\\",\\\"4.43\\\",\\\"4.44\\\",\\\"4.45\\\",\\\"4.46\\\",\\\"4.47\\\",\\\"4.48\\\",\\\"4.49\\\",\\\"4.5\\\",\\\"4.51\\\",\\\"4.52\\\",\\\"4.53\\\",\\\"4.54\\\",\\\"4.55\\\",\\\"4.56\\\",\\\"4.57\\\",\\\"4.58\\\",\\\"4.59\\\",\\\"4.6\\\",\\\"4.61\\\",\\\"4.62\\\",\\\"4.63\\\",\\\"4.64\\\",\\\"4.65\\\",\\\"4.66\\\",\\\"4.67\\\",\\\"4.68\\\",\\\"4.69\\\",\\\"4.7\\\",\\\"4.71\\\",\\\"4.72\\\",\\\"4.73\\\",\\\"4.74\\\",\\\"4.75\\\",\\\"4.76\\\",\\\"4.77\\\",\\\"4.78\\\",\\\"4.79\\\",\\\"4.8\\\",\\\"4.81\\\",\\\"4.82\\\",\\\"4.83\\\",\\\"4.84\\\",\\\"4.85\\\",\\\"4.86\\\",\\\"4.87\\\",\\\"4.88\\\",\\\"4.89\\\",\\\"4.9\\\",\\\"4.91\\\",\\\"4.92\\\",\\\"4.93\\\",\\\"4.94\\\",\\\"4.95\\\",\\\"4.96\\\",\\\"4.97\\\",\\\"4.98\\\",\\\"4.99\\\",\\\"5.0\\\",\\\"5.01\\\",\\\"5.02\\\",\\\"5.03\\\",\\\"5.04\\\",\\\"5.05\\\",\\\"5.06\\\",\\\"5.07\\\",\\\"5.08\\\",\\\"5.09\\\",\\\"5.1\\\",\\\"5.11\\\",\\\"5.12\\\",\\\"5.13\\\",\\\"5.14\\\",\\\"5.15\\\",\\\"5.16\\\",\\\"5.17\\\",\\\"5.18\\\",\\\"5.19\\\",\\\"5.2\\\",\\\"5.21\\\",\\\"5.22\\\",\\\"5.23\\\",\\\"5.24\\\",\\\"5.25\\\",\\\"5.26\\\",\\\"5.27\\\",\\\"5.28\\\",\\\"5.29\\\",\\\"5.3\\\",\\\"5.31\\\",\\\"5.32\\\",\\\"5.33\\\",\\\"5.34\\\",\\\"5.35\\\",\\\"5.36\\\",\\\"5.37\\\",\\\"5.38\\\",\\\"5.39\\\",\\\"5.4\\\",\\\"5.41\\\",\\\"5.42\\\",\\\"5.43\\\",\\\"5.44\\\",\\\"5.45\\\",\\\"5.46\\\",\\\"5.47\\\",\\\"5.48\\\",\\\"5.49\\\",\\\"5.5\\\",\\\"5.51\\\",\\\"5.52\\\",\\\"5.53\\\",\\\"5.54\\\",\\\"5.55\\\",\\\"5.56\\\",\\\"5.57\\\",\\\"5.58\\\",\\\"5.59\\\",\\\"5.6\\\",\\\"5.61\\\",\\\"5.62\\\",\\\"5.63\\\",\\\"5.64\\\",\\\"5.65\\\",\\\"5.66\\\",\\\"5.67\\\",\\\"5.68\\\",\\\"5.69\\\",\\\"5.7\\\",\\\"5.71\\\",\\\"5.72\\\",\\\"5.73\\\",\\\"5.74\\\",\\\"5.75\\\",\\\"5.76\\\",\\\"5.77\\\",\\\"5.78\\\",\\\"5.79\\\",\\\"5.8\\\",\\\"5.81\\\",\\\"5.82\\\",\\\"5.83\\\",\\\"5.84\\\",\\\"5.85\\\",\\\"5.86\\\",\\\"5.87\\\",\\\"5.88\\\",\\\"5.89\\\",\\\"5.9\\\",\\\"5.91\\\",\\\"5.92\\\",\\\"5.93\\\",\\\"5.94\\\",\\\"5.95\\\",\\\"5.96\\\",\\\"5.97\\\",\\\"5.98\\\",\\\"5.99\\\",\\\"6.0\\\",\\\"6.01\\\",\\\"6.02\\\",\\\"6.03\\\",\\\"6.04\\\",\\\"6.05\\\",\\\"6.06\\\",\\\"6.07\\\",\\\"6.08\\\",\\\"6.09\\\",\\\"6.1\\\",\\\"6.11\\\",\\\"6.12\\\",\\\"6.13\\\",\\\"6.14\\\",\\\"6.15\\\",\\\"6.16\\\",\\\"6.17\\\",\\\"6.18\\\",\\\"6.19\\\",\\\"6.2\\\",\\\"6.21\\\",\\\"6.22\\\",\\\"6.23\\\",\\\"6.24\\\",\\\"6.25\\\",\\\"6.26\\\",\\\"6.27\\\",\\\"6.28\\\",\\\"6.29\\\",\\\"6.3\\\",\\\"6.31\\\",\\\"6.32\\\",\\\"6.33\\\",\\\"6.34\\\",\\\"6.35\\\",\\\"6.36\\\",\\\"6.37\\\",\\\"6.38\\\",\\\"6.39\\\",\\\"6.4\\\",\\\"6.41\\\",\\\"6.42\\\",\\\"6.43\\\",\\\"6.44\\\",\\\"6.45\\\",\\\"6.46\\\",\\\"6.47\\\",\\\"6.48\\\",\\\"6.49\\\",\\\"6.5\\\",\\\"6.51\\\",\\\"6.52\\\",\\\"6.53\\\",\\\"6.54\\\",\\\"6.55\\\",\\\"6.56\\\",\\\"6.57\\\",\\\"6.58\\\",\\\"6.59\\\",\\\"6.6\\\",\\\"6.61\\\",\\\"6.62\\\",\\\"6.63\\\",\\\"6.64\\\",\\\"6.65\\\",\\\"6.66\\\",\\\"6.67\\\",\\\"6.68\\\",\\\"6.69\\\",\\\"6.7\\\",\\\"6.71\\\",\\\"6.72\\\",\\\"6.73\\\",\\\"6.74\\\",\\\"6.75\\\",\\\"6.76\\\",\\\"6.77\\\",\\\"6.78\\\",\\\"6.79\\\",\\\"6.8\\\",\\\"6.81\\\",\\\"6.82\\\",\\\"6.83\\\",\\\"6.84\\\",\\\"6.85\\\",\\\"6.86\\\",\\\"6.87\\\",\\\"6.88\\\",\\\"6.89\\\",\\\"6.9\\\",\\\"6.91\\\",\\\"6.92\\\",\\\"6.93\\\",\\\"6.94\\\",\\\"6.95\\\",\\\"6.96\\\",\\\"6.97\\\",\\\"6.98\\\",\\\"6.99\\\",\\\"7.0\\\",\\\"7.01\\\",\\\"7.02\\\",\\\"7.03\\\",\\\"7.04\\\",\\\"7.05\\\",\\\"7.06\\\",\\\"7.07\\\",\\\"7.08\\\",\\\"7.09\\\",\\\"7.1\\\",\\\"7.11\\\",\\\"7.12\\\",\\\"7.13\\\",\\\"7.14\\\",\\\"7.15\\\",\\\"7.16\\\",\\\"7.17\\\",\\\"7.18\\\",\\\"7.19\\\",\\\"7.2\\\",\\\"7.21\\\",\\\"7.22\\\",\\\"7.23\\\",\\\"7.24\\\",\\\"7.25\\\",\\\"7.26\\\",\\\"7.27\\\",\\\"7.28\\\",\\\"7.29\\\",\\\"7.3\\\",\\\"7.31\\\",\\\"7.32\\\",\\\"7.33\\\",\\\"7.34\\\",\\\"7.35\\\",\\\"7.36\\\",\\\"7.37\\\",\\\"7.38\\\",\\\"7.39\\\",\\\"7.4\\\",\\\"7.41\\\",\\\"7.42\\\",\\\"7.43\\\",\\\"7.44\\\",\\\"7.45\\\",\\\"7.46\\\",\\\"7.47\\\",\\\"7.48\\\",\\\"7.49\\\",\\\"7.5\\\",\\\"7.51\\\",\\\"7.52\\\",\\\"7.53\\\",\\\"7.54\\\",\\\"7.55\\\",\\\"7.56\\\",\\\"7.57\\\",\\\"7.58\\\",\\\"7.59\\\",\\\"7.6\\\",\\\"7.61\\\",\\\"7.62\\\",\\\"7.63\\\",\\\"7.64\\\",\\\"7.65\\\",\\\"7.66\\\",\\\"7.67\\\",\\\"7.68\\\",\\\"7.69\\\",\\\"7.7\\\",\\\"7.71\\\",\\\"7.72\\\",\\\"7.73\\\",\\\"7.74\\\",\\\"7.75\\\",\\\"7.76\\\",\\\"7.77\\\",\\\"7.78\\\",\\\"7.79\\\",\\\"7.8\\\",\\\"7.81\\\",\\\"7.82\\\",\\\"7.83\\\",\\\"7.84\\\",\\\"7.85\\\",\\\"7.86\\\",\\\"7.87\\\",\\\"7.88\\\",\\\"7.89\\\",\\\"7.9\\\",\\\"7.91\\\",\\\"7.92\\\",\\\"7.93\\\",\\\"7.94\\\",\\\"7.95\\\",\\\"7.96\\\",\\\"7.97\\\",\\\"7.98\\\",\\\"7.99\\\",\\\"8.0\\\",\\\"8.01\\\",\\\"8.02\\\",\\\"8.03\\\",\\\"8.04\\\",\\\"8.05\\\",\\\"8.06\\\",\\\"8.07\\\",\\\"8.08\\\",\\\"8.09\\\",\\\"8.1\\\",\\\"8.11\\\",\\\"8.12\\\",\\\"8.13\\\",\\\"8.14\\\",\\\"8.15\\\",\\\"8.16\\\",\\\"8.17\\\",\\\"8.18\\\",\\\"8.19\\\",\\\"8.2\\\",\\\"8.21\\\",\\\"8.22\\\",\\\"8.23\\\",\\\"8.24\\\",\\\"8.25\\\",\\\"8.26\\\",\\\"8.27\\\",\\\"8.28\\\",\\\"8.29\\\",\\\"8.3\\\",\\\"8.31\\\",\\\"8.32\\\",\\\"8.33\\\",\\\"8.34\\\",\\\"8.35\\\",\\\"8.36\\\",\\\"8.37\\\",\\\"8.38\\\",\\\"8.39\\\",\\\"8.4\\\",\\\"8.41\\\",\\\"8.42\\\",\\\"8.43\\\",\\\"8.44\\\",\\\"8.45\\\",\\\"8.46\\\",\\\"8.47\\\",\\\"8.48\\\",\\\"8.49\\\",\\\"8.5\\\",\\\"8.51\\\",\\\"8.52\\\",\\\"8.53\\\",\\\"8.54\\\",\\\"8.55\\\",\\\"8.56\\\",\\\"8.57\\\",\\\"8.58\\\",\\\"8.59\\\",\\\"8.6\\\",\\\"8.61\\\",\\\"8.62\\\",\\\"8.63\\\",\\\"8.64\\\",\\\"8.65\\\",\\\"8.66\\\",\\\"8.67\\\",\\\"8.68\\\",\\\"8.69\\\",\\\"8.7\\\",\\\"8.71\\\",\\\"8.72\\\",\\\"8.73\\\",\\\"8.74\\\",\\\"8.75\\\",\\\"8.76\\\",\\\"8.77\\\",\\\"8.78\\\",\\\"8.79\\\",\\\"8.8\\\",\\\"8.81\\\",\\\"8.82\\\",\\\"8.83\\\",\\\"8.84\\\",\\\"8.85\\\",\\\"8.86\\\",\\\"8.87\\\",\\\"8.88\\\",\\\"8.89\\\",\\\"8.9\\\",\\\"8.91\\\",\\\"8.92\\\",\\\"8.93\\\",\\\"8.94\\\",\\\"8.95\\\",\\\"8.96\\\",\\\"8.97\\\",\\\"8.98\\\",\\\"8.99\\\",\\\"9.0\\\",\\\"9.01\\\",\\\"9.02\\\",\\\"9.03\\\",\\\"9.04\\\",\\\"9.05\\\",\\\"9.06\\\",\\\"9.07\\\",\\\"9.08\\\",\\\"9.09\\\",\\\"9.1\\\",\\\"9.11\\\",\\\"9.12\\\",\\\"9.13\\\",\\\"9.14\\\",\\\"9.15\\\",\\\"9.16\\\",\\\"9.17\\\",\\\"9.18\\\",\\\"9.19\\\",\\\"9.2\\\",\\\"9.21\\\",\\\"9.22\\\",\\\"9.23\\\",\\\"9.24\\\",\\\"9.25\\\",\\\"9.26\\\",\\\"9.27\\\",\\\"9.28\\\",\\\"9.29\\\",\\\"9.3\\\",\\\"9.31\\\",\\\"9.32\\\",\\\"9.33\\\",\\\"9.34\\\",\\\"9.35\\\",\\\"9.36\\\",\\\"9.37\\\",\\\"9.38\\\",\\\"9.39\\\",\\\"9.4\\\",\\\"9.41\\\",\\\"9.42\\\",\\\"9.43\\\",\\\"9.44\\\",\\\"9.45\\\",\\\"9.46\\\",\\\"9.47\\\",\\\"9.48\\\",\\\"9.49\\\",\\\"9.5\\\",\\\"9.51\\\",\\\"9.52\\\",\\\"9.53\\\",\\\"9.54\\\",\\\"9.55\\\",\\\"9.56\\\",\\\"9.57\\\",\\\"9.58\\\",\\\"9.59\\\",\\\"9.6\\\",\\\"9.61\\\",\\\"9.62\\\",\\\"9.63\\\",\\\"9.64\\\",\\\"9.65\\\",\\\"9.66\\\",\\\"9.67\\\",\\\"9.68\\\",\\\"9.69\\\",\\\"9.7\\\",\\\"9.71\\\",\\\"9.72\\\",\\\"9.73\\\",\\\"9.74\\\",\\\"9.75\\\",\\\"9.76\\\",\\\"9.77\\\",\\\"9.78\\\",\\\"9.79\\\",\\\"9.8\\\",\\\"9.81\\\",\\\"9.82\\\",\\\"9.83\\\",\\\"9.84\\\",\\\"9.85\\\",\\\"9.86\\\",\\\"9.87\\\",\\\"9.88\\\",\\\"9.89\\\",\\\"9.9\\\",\\\"9.91\\\",\\\"9.92\\\",\\\"9.93\\\",\\\"9.94\\\",\\\"9.95\\\",\\\"9.96\\\",\\\"9.97\\\",\\\"9.98\\\",\\\"9.99\\\",\\\"10.0\\\",\\\"10.01\\\",\\\"10.02\\\",\\\"10.03\\\",\\\"10.04\\\",\\\"10.05\\\",\\\"10.06\\\",\\\"10.07\\\",\\\"10.08\\\",\\\"10.09\\\",\\\"10.1\\\",\\\"10.11\\\",\\\"10.12\\\",\\\"10.13\\\",\\\"10.14\\\",\\\"10.15\\\",\\\"10.16\\\",\\\"10.17\\\",\\\"10.18\\\",\\\"10.19\\\",\\\"10.2\\\",\\\"10.21\\\",\\\"10.22\\\",\\\"10.23\\\",\\\"10.24\\\",\\\"10.25\\\",\\\"10.26\\\",\\\"10.27\\\",\\\"10.28\\\",\\\"10.29\\\",\\\"10.3\\\",\\\"10.31\\\",\\\"10.32\\\",\\\"10.33\\\",\\\"10.34\\\",\\\"10.35\\\",\\\"10.36\\\",\\\"10.37\\\",\\\"10.38\\\",\\\"10.39\\\",\\\"10.4\\\",\\\"10.41\\\",\\\"10.42\\\",\\\"10.43\\\",\\\"10.44\\\",\\\"10.45\\\",\\\"10.46\\\",\\\"10.47\\\",\\\"10.48\\\",\\\"10.49\\\",\\\"10.5\\\",\\\"10.51\\\",\\\"10.52\\\",\\\"10.53\\\",\\\"10.54\\\",\\\"10.55\\\",\\\"10.56\\\",\\\"10.57\\\",\\\"10.58\\\",\\\"10.59\\\",\\\"10.6\\\",\\\"10.61\\\",\\\"10.62\\\",\\\"10.63\\\",\\\"10.64\\\",\\\"10.65\\\",\\\"10.66\\\",\\\"10.67\\\",\\\"10.68\\\",\\\"10.69\\\",\\\"10.7\\\",\\\"10.71\\\",\\\"10.72\\\",\\\"10.73\\\",\\\"10.74\\\",\\\"10.75\\\",\\\"10.76\\\",\\\"10.77\\\",\\\"10.78\\\",\\\"10.79\\\",\\\"10.8\\\",\\\"10.81\\\",\\\"10.82\\\",\\\"10.83\\\",\\\"10.84\\\",\\\"10.85\\\",\\\"10.86\\\",\\\"10.87\\\",\\\"10.88\\\",\\\"10.89\\\",\\\"10.9\\\",\\\"10.91\\\",\\\"10.92\\\",\\\"10.93\\\",\\\"10.94\\\",\\\"10.95\\\",\\\"10.96\\\",\\\"10.97\\\",\\\"10.98\\\",\\\"10.99\\\",\\\"11.0\\\",\\\"11.01\\\",\\\"11.02\\\",\\\"11.03\\\",\\\"11.04\\\",\\\"11.05\\\",\\\"11.06\\\",\\\"11.07\\\",\\\"11.08\\\",\\\"11.09\\\",\\\"11.1\\\",\\\"11.11\\\",\\\"11.12\\\",\\\"11.13\\\",\\\"11.14\\\",\\\"11.15\\\",\\\"11.16\\\",\\\"11.17\\\",\\\"11.18\\\",\\\"11.19\\\",\\\"11.2\\\",\\\"11.21\\\",\\\"11.22\\\",\\\"11.23\\\",\\\"11.24\\\",\\\"11.25\\\",\\\"11.26\\\",\\\"11.27\\\",\\\"11.28\\\",\\\"11.29\\\",\\\"11.3\\\",\\\"11.31\\\",\\\"11.32\\\",\\\"11.33\\\",\\\"11.34\\\",\\\"11.35\\\",\\\"11.36\\\",\\\"11.37\\\",\\\"11.38\\\",\\\"11.39\\\",\\\"11.4\\\",\\\"11.41\\\",\\\"11.42\\\",\\\"11.43\\\",\\\"11.44\\\",\\\"11.45\\\",\\\"11.46\\\",\\\"11.47\\\",\\\"11.48\\\",\\\"11.49\\\",\\\"11.5\\\",\\\"11.51\\\",\\\"11.52\\\",\\\"11.53\\\",\\\"11.54\\\",\\\"11.55\\\",\\\"11.56\\\",\\\"11.57\\\",\\\"11.58\\\",\\\"11.59\\\",\\\"11.6\\\",\\\"11.61\\\",\\\"11.62\\\",\\\"11.63\\\",\\\"11.64\\\",\\\"11.65\\\",\\\"11.66\\\",\\\"11.67\\\",\\\"11.68\\\",\\\"11.69\\\",\\\"11.7\\\",\\\"11.71\\\",\\\"11.72\\\",\\\"11.73\\\",\\\"11.74\\\",\\\"11.75\\\",\\\"11.76\\\",\\\"11.77\\\",\\\"11.78\\\",\\\"11.79\\\",\\\"11.8\\\",\\\"11.81\\\",\\\"11.82\\\",\\\"11.83\\\",\\\"11.84\\\",\\\"11.85\\\",\\\"11.86\\\",\\\"11.87\\\",\\\"11.88\\\",\\\"11.89\\\",\\\"11.9\\\",\\\"11.91\\\",\\\"11.92\\\",\\\"11.93\\\",\\\"11.94\\\",\\\"11.95\\\",\\\"11.96\\\",\\\"11.97\\\",\\\"11.98\\\",\\\"11.99\\\",\\\"12.0\\\",\\\"12.01\\\",\\\"12.02\\\",\\\"12.03\\\",\\\"12.04\\\",\\\"12.05\\\",\\\"12.06\\\",\\\"12.07\\\",\\\"12.08\\\",\\\"12.09\\\",\\\"12.1\\\",\\\"12.11\\\",\\\"12.12\\\",\\\"12.13\\\",\\\"12.14\\\",\\\"12.15\\\",\\\"12.16\\\",\\\"12.17\\\",\\\"12.18\\\",\\\"12.19\\\",\\\"12.2\\\",\\\"12.21\\\",\\\"12.22\\\",\\\"12.23\\\",\\\"12.24\\\",\\\"12.25\\\",\\\"12.26\\\",\\\"12.27\\\",\\\"12.28\\\",\\\"12.29\\\",\\\"12.3\\\",\\\"12.31\\\",\\\"12.32\\\",\\\"12.33\\\",\\\"12.34\\\",\\\"12.35\\\",\\\"12.36\\\",\\\"12.37\\\",\\\"12.38\\\",\\\"12.39\\\",\\\"12.4\\\",\\\"12.41\\\",\\\"12.42\\\",\\\"12.43\\\",\\\"12.44\\\",\\\"12.45\\\",\\\"12.46\\\",\\\"12.47\\\",\\\"12.48\\\",\\\"12.49\\\",\\\"12.5\\\",\\\"12.51\\\",\\\"12.52\\\",\\\"12.53\\\",\\\"12.54\\\",\\\"12.55\\\",\\\"12.56\\\",\\\"12.57\\\",\\\"12.58\\\",\\\"12.59\\\",\\\"12.6\\\",\\\"12.61\\\",\\\"12.62\\\",\\\"12.63\\\",\\\"12.64\\\",\\\"12.65\\\",\\\"12.66\\\",\\\"12.67\\\",\\\"12.68\\\",\\\"12.69\\\",\\\"12.7\\\",\\\"12.71\\\",\\\"12.72\\\",\\\"12.73\\\",\\\"12.74\\\",\\\"12.75\\\",\\\"12.76\\\",\\\"12.77\\\",\\\"12.78\\\",\\\"12.79\\\",\\\"12.8\\\",\\\"12.81\\\",\\\"12.82\\\",\\\"12.83\\\",\\\"12.84\\\",\\\"12.85\\\",\\\"12.86\\\",\\\"12.87\\\",\\\"12.88\\\",\\\"12.89\\\",\\\"12.9\\\",\\\"12.91\\\",\\\"12.92\\\",\\\"12.93\\\",\\\"12.94\\\",\\\"12.95\\\",\\\"12.96\\\",\\\"12.97\\\",\\\"12.98\\\",\\\"12.99\\\",\\\"13.0\\\",\\\"13.01\\\",\\\"13.02\\\",\\\"13.03\\\",\\\"13.04\\\",\\\"13.05\\\",\\\"13.06\\\",\\\"13.07\\\",\\\"13.08\\\",\\\"13.09\\\",\\\"13.1\\\",\\\"13.11\\\",\\\"13.12\\\",\\\"13.13\\\",\\\"13.14\\\",\\\"13.15\\\",\\\"13.16\\\",\\\"13.17\\\",\\\"13.18\\\",\\\"13.19\\\",\\\"13.2\\\",\\\"13.21\\\",\\\"13.22\\\",\\\"13.23\\\",\\\"13.24\\\",\\\"13.25\\\",\\\"13.26\\\",\\\"13.27\\\",\\\"13.28\\\",\\\"13.29\\\",\\\"13.3\\\",\\\"13.31\\\",\\\"13.32\\\",\\\"13.33\\\",\\\"13.34\\\",\\\"13.35\\\",\\\"13.36\\\",\\\"13.37\\\",\\\"13.38\\\",\\\"13.39\\\",\\\"13.4\\\",\\\"13.41\\\",\\\"13.42\\\",\\\"13.43\\\",\\\"13.44\\\",\\\"13.45\\\",\\\"13.46\\\",\\\"13.47\\\",\\\"13.48\\\",\\\"13.49\\\",\\\"13.5\\\",\\\"13.51\\\",\\\"13.52\\\",\\\"13.53\\\",\\\"13.54\\\",\\\"13.55\\\",\\\"13.56\\\",\\\"13.57\\\",\\\"13.58\\\",\\\"13.59\\\",\\\"13.6\\\",\\\"13.61\\\",\\\"13.62\\\",\\\"13.63\\\",\\\"13.64\\\",\\\"13.65\\\",\\\"13.66\\\",\\\"13.67\\\",\\\"13.68\\\",\\\"13.69\\\",\\\"13.7\\\",\\\"13.71\\\",\\\"13.72\\\",\\\"13.73\\\",\\\"13.74\\\",\\\"13.75\\\",\\\"13.76\\\",\\\"13.77\\\",\\\"13.78\\\",\\\"13.79\\\",\\\"13.8\\\",\\\"13.81\\\",\\\"13.82\\\",\\\"13.83\\\",\\\"13.84\\\",\\\"13.85\\\",\\\"13.86\\\",\\\"13.87\\\",\\\"13.88\\\",\\\"13.89\\\",\\\"13.9\\\",\\\"13.91\\\",\\\"13.92\\\",\\\"13.93\\\",\\\"13.94\\\",\\\"13.95\\\",\\\"13.96\\\",\\\"13.97\\\",\\\"13.98\\\",\\\"13.99\\\",\\\"14.0\\\",\\\"14.01\\\",\\\"14.02\\\",\\\"14.03\\\",\\\"14.04\\\",\\\"14.05\\\",\\\"14.06\\\",\\\"14.07\\\",\\\"14.08\\\",\\\"14.09\\\",\\\"14.1\\\",\\\"14.11\\\",\\\"14.12\\\",\\\"14.13\\\",\\\"14.14\\\",\\\"14.15\\\",\\\"14.16\\\",\\\"14.17\\\",\\\"14.18\\\",\\\"14.19\\\",\\\"14.2\\\",\\\"14.21\\\",\\\"14.22\\\",\\\"14.23\\\",\\\"14.24\\\",\\\"14.25\\\",\\\"14.26\\\",\\\"14.27\\\",\\\"14.28\\\",\\\"14.29\\\",\\\"14.3\\\",\\\"14.31\\\",\\\"14.32\\\",\\\"14.33\\\",\\\"14.34\\\",\\\"14.35\\\",\\\"14.36\\\",\\\"14.37\\\",\\\"14.38\\\",\\\"14.39\\\",\\\"14.4\\\",\\\"14.41\\\",\\\"14.42\\\",\\\"14.43\\\",\\\"14.44\\\",\\\"14.45\\\",\\\"14.46\\\",\\\"14.47\\\",\\\"14.48\\\",\\\"14.49\\\",\\\"14.5\\\",\\\"14.51\\\",\\\"14.52\\\",\\\"14.53\\\",\\\"14.54\\\",\\\"14.55\\\",\\\"14.56\\\",\\\"14.57\\\",\\\"14.58\\\",\\\"14.59\\\",\\\"14.6\\\",\\\"14.61\\\",\\\"14.62\\\",\\\"14.63\\\",\\\"14.64\\\",\\\"14.65\\\",\\\"14.66\\\",\\\"14.67\\\",\\\"14.68\\\",\\\"14.69\\\",\\\"14.7\\\",\\\"14.71\\\",\\\"14.72\\\",\\\"14.73\\\",\\\"14.74\\\",\\\"14.75\\\",\\\"14.76\\\",\\\"14.77\\\",\\\"14.78\\\",\\\"14.79\\\",\\\"14.8\\\",\\\"14.81\\\",\\\"14.82\\\",\\\"14.83\\\",\\\"14.84\\\",\\\"14.85\\\",\\\"14.86\\\",\\\"14.87\\\",\\\"14.88\\\",\\\"14.89\\\",\\\"14.9\\\",\\\"14.91\\\",\\\"14.92\\\",\\\"14.93\\\",\\\"14.94\\\",\\\"14.95\\\",\\\"14.96\\\",\\\"14.97\\\",\\\"14.98\\\",\\\"14.99\\\",\\\"15.0\\\",\\\"15.01\\\",\\\"15.02\\\",\\\"15.03\\\",\\\"15.04\\\",\\\"15.05\\\",\\\"15.06\\\",\\\"15.07\\\",\\\"15.08\\\",\\\"15.09\\\",\\\"15.1\\\",\\\"15.11\\\",\\\"15.12\\\",\\\"15.13\\\",\\\"15.14\\\",\\\"15.15\\\",\\\"15.16\\\",\\\"15.17\\\",\\\"15.18\\\",\\\"15.19\\\",\\\"15.2\\\",\\\"15.21\\\",\\\"15.22\\\",\\\"15.23\\\",\\\"15.24\\\",\\\"15.25\\\",\\\"15.26\\\",\\\"15.27\\\",\\\"15.28\\\",\\\"15.29\\\",\\\"15.3\\\",\\\"15.31\\\",\\\"15.32\\\",\\\"15.33\\\",\\\"15.34\\\",\\\"15.35\\\",\\\"15.36\\\",\\\"15.37\\\",\\\"15.38\\\",\\\"15.39\\\",\\\"15.4\\\",\\\"15.41\\\",\\\"15.42\\\",\\\"15.43\\\",\\\"15.44\\\",\\\"15.45\\\",\\\"15.46\\\",\\\"15.47\\\",\\\"15.48\\\",\\\"15.49\\\",\\\"15.5\\\",\\\"15.51\\\",\\\"15.52\\\",\\\"15.53\\\",\\\"15.54\\\",\\\"15.55\\\",\\\"15.56\\\",\\\"15.57\\\",\\\"15.58\\\",\\\"15.59\\\",\\\"15.6\\\",\\\"15.61\\\",\\\"15.62\\\",\\\"15.63\\\",\\\"15.64\\\",\\\"15.65\\\",\\\"15.66\\\",\\\"15.67\\\",\\\"15.68\\\",\\\"15.69\\\",\\\"15.7\\\",\\\"15.71\\\",\\\"15.72\\\",\\\"15.73\\\",\\\"15.74\\\",\\\"15.75\\\",\\\"15.76\\\",\\\"15.77\\\",\\\"15.78\\\",\\\"15.79\\\",\\\"15.8\\\",\\\"15.81\\\",\\\"15.82\\\",\\\"15.83\\\",\\\"15.84\\\",\\\"15.85\\\",\\\"15.86\\\",\\\"15.87\\\",\\\"15.88\\\",\\\"15.89\\\",\\\"15.9\\\",\\\"15.91\\\",\\\"15.92\\\",\\\"15.93\\\",\\\"15.94\\\",\\\"15.95\\\",\\\"15.96\\\",\\\"15.97\\\",\\\"15.98\\\",\\\"15.99\\\",\\\"16.0\\\",\\\"16.01\\\",\\\"16.02\\\",\\\"16.03\\\",\\\"16.04\\\",\\\"16.05\\\",\\\"16.06\\\",\\\"16.07\\\",\\\"16.08\\\",\\\"16.09\\\",\\\"16.1\\\",\\\"16.11\\\",\\\"16.12\\\",\\\"16.13\\\",\\\"16.14\\\",\\\"16.15\\\",\\\"16.16\\\",\\\"16.17\\\",\\\"16.18\\\",\\\"16.19\\\",\\\"16.2\\\",\\\"16.21\\\",\\\"16.22\\\",\\\"16.23\\\",\\\"16.24\\\",\\\"16.25\\\",\\\"16.26\\\",\\\"16.27\\\",\\\"16.28\\\",\\\"16.29\\\",\\\"16.3\\\",\\\"16.31\\\",\\\"16.32\\\",\\\"16.33\\\",\\\"16.34\\\",\\\"16.35\\\",\\\"16.36\\\",\\\"16.37\\\",\\\"16.38\\\",\\\"16.39\\\",\\\"16.4\\\",\\\"16.41\\\",\\\"16.42\\\",\\\"16.43\\\",\\\"16.44\\\",\\\"16.45\\\",\\\"16.46\\\",\\\"16.47\\\",\\\"16.48\\\",\\\"16.49\\\",\\\"16.5\\\",\\\"16.51\\\",\\\"16.52\\\",\\\"16.53\\\",\\\"16.54\\\",\\\"16.55\\\",\\\"16.56\\\",\\\"16.57\\\",\\\"16.58\\\",\\\"16.59\\\",\\\"16.6\\\",\\\"16.61\\\",\\\"16.62\\\",\\\"16.63\\\",\\\"16.64\\\",\\\"16.65\\\",\\\"16.66\\\",\\\"16.67\\\",\\\"16.68\\\",\\\"16.69\\\",\\\"16.7\\\",\\\"16.71\\\",\\\"16.72\\\",\\\"16.73\\\",\\\"16.74\\\",\\\"16.75\\\",\\\"16.76\\\",\\\"16.77\\\",\\\"16.78\\\",\\\"16.79\\\",\\\"16.8\\\",\\\"16.81\\\",\\\"16.82\\\",\\\"16.83\\\",\\\"16.84\\\",\\\"16.85\\\",\\\"16.86\\\",\\\"16.87\\\",\\\"16.88\\\",\\\"16.89\\\",\\\"16.9\\\",\\\"16.91\\\",\\\"16.92\\\",\\\"16.93\\\",\\\"16.94\\\",\\\"16.95\\\",\\\"16.96\\\",\\\"16.97\\\",\\\"16.98\\\",\\\"16.99\\\",\\\"17.0\\\",\\\"17.01\\\",\\\"17.02\\\",\\\"17.03\\\",\\\"17.04\\\",\\\"17.05\\\",\\\"17.06\\\",\\\"17.07\\\",\\\"17.08\\\",\\\"17.09\\\",\\\"17.1\\\",\\\"17.11\\\",\\\"17.12\\\",\\\"17.13\\\",\\\"17.14\\\",\\\"17.15\\\",\\\"17.16\\\",\\\"17.17\\\",\\\"17.18\\\",\\\"17.19\\\",\\\"17.2\\\",\\\"17.21\\\",\\\"17.22\\\",\\\"17.23\\\",\\\"17.24\\\",\\\"17.25\\\",\\\"17.26\\\",\\\"17.27\\\",\\\"17.28\\\",\\\"17.29\\\",\\\"17.3\\\",\\\"17.31\\\",\\\"17.32\\\",\\\"17.33\\\",\\\"17.34\\\",\\\"17.35\\\",\\\"17.36\\\",\\\"17.37\\\",\\\"17.38\\\",\\\"17.39\\\",\\\"17.4\\\",\\\"17.41\\\",\\\"17.42\\\",\\\"17.43\\\",\\\"17.44\\\",\\\"17.45\\\",\\\"17.46\\\",\\\"17.47\\\",\\\"17.48\\\",\\\"17.49\\\",\\\"17.5\\\",\\\"17.51\\\",\\\"17.52\\\",\\\"17.53\\\",\\\"17.54\\\",\\\"17.55\\\",\\\"17.56\\\",\\\"17.57\\\",\\\"17.58\\\",\\\"17.59\\\",\\\"17.6\\\",\\\"17.61\\\",\\\"17.62\\\",\\\"17.63\\\",\\\"17.64\\\",\\\"17.65\\\",\\\"17.66\\\",\\\"17.67\\\",\\\"17.68\\\",\\\"17.69\\\",\\\"17.7\\\",\\\"17.71\\\",\\\"17.72\\\",\\\"17.73\\\",\\\"17.74\\\",\\\"17.75\\\",\\\"17.76\\\",\\\"17.77\\\",\\\"17.78\\\",\\\"17.79\\\",\\\"17.8\\\",\\\"17.81\\\",\\\"17.82\\\",\\\"17.83\\\",\\\"17.84\\\",\\\"17.85\\\",\\\"17.86\\\",\\\"17.87\\\",\\\"17.88\\\",\\\"17.89\\\",\\\"17.9\\\",\\\"17.91\\\",\\\"17.92\\\",\\\"17.93\\\",\\\"17.94\\\",\\\"17.95\\\",\\\"17.96\\\",\\\"17.97\\\",\\\"17.98\\\",\\\"17.99\\\",\\\"18.0\\\",\\\"18.01\\\",\\\"18.02\\\",\\\"18.03\\\",\\\"18.04\\\",\\\"18.05\\\",\\\"18.06\\\",\\\"18.07\\\",\\\"18.08\\\",\\\"18.09\\\",\\\"18.1\\\",\\\"18.11\\\",\\\"18.12\\\",\\\"18.13\\\",\\\"18.14\\\",\\\"18.15\\\",\\\"18.16\\\",\\\"18.17\\\",\\\"18.18\\\",\\\"18.19\\\",\\\"18.2\\\",\\\"18.21\\\",\\\"18.22\\\",\\\"18.23\\\",\\\"18.24\\\",\\\"18.25\\\",\\\"18.26\\\",\\\"18.27\\\",\\\"18.28\\\",\\\"18.29\\\",\\\"18.3\\\",\\\"18.31\\\",\\\"18.32\\\",\\\"18.33\\\",\\\"18.34\\\",\\\"18.35\\\",\\\"18.36\\\",\\\"18.37\\\",\\\"18.38\\\",\\\"18.39\\\",\\\"18.4\\\",\\\"18.41\\\",\\\"18.42\\\",\\\"18.43\\\",\\\"18.44\\\",\\\"18.45\\\",\\\"18.46\\\",\\\"18.47\\\",\\\"18.48\\\",\\\"18.49\\\",\\\"18.5\\\",\\\"18.51\\\",\\\"18.52\\\",\\\"18.53\\\",\\\"18.54\\\",\\\"18.55\\\",\\\"18.56\\\",\\\"18.57\\\",\\\"18.58\\\",\\\"18.59\\\",\\\"18.6\\\",\\\"18.61\\\",\\\"18.62\\\",\\\"18.63\\\",\\\"18.64\\\",\\\"18.65\\\",\\\"18.66\\\",\\\"18.67\\\",\\\"18.68\\\",\\\"18.69\\\",\\\"18.7\\\",\\\"18.71\\\",\\\"18.72\\\",\\\"18.73\\\",\\\"18.74\\\",\\\"18.75\\\",\\\"18.76\\\",\\\"18.77\\\",\\\"18.78\\\",\\\"18.79\\\",\\\"18.8\\\",\\\"18.81\\\",\\\"18.82\\\",\\\"18.83\\\",\\\"18.84\\\",\\\"18.85\\\",\\\"18.86\\\",\\\"18.87\\\",\\\"18.88\\\",\\\"18.89\\\",\\\"18.9\\\",\\\"18.91\\\",\\\"18.92\\\",\\\"18.93\\\",\\\"18.94\\\",\\\"18.95\\\",\\\"18.96\\\",\\\"18.97\\\",\\\"18.98\\\",\\\"18.99\\\",\\\"19.0\\\",\\\"19.01\\\",\\\"19.02\\\",\\\"19.03\\\",\\\"19.04\\\",\\\"19.05\\\",\\\"19.06\\\",\\\"19.07\\\",\\\"19.08\\\",\\\"19.09\\\",\\\"19.1\\\",\\\"19.11\\\",\\\"19.12\\\",\\\"19.13\\\",\\\"19.14\\\",\\\"19.15\\\",\\\"19.16\\\",\\\"19.17\\\",\\\"19.18\\\",\\\"19.19\\\",\\\"19.2\\\",\\\"19.21\\\",\\\"19.22\\\",\\\"19.23\\\",\\\"19.24\\\",\\\"19.25\\\",\\\"19.26\\\",\\\"19.27\\\",\\\"19.28\\\",\\\"19.29\\\",\\\"19.3\\\",\\\"19.31\\\",\\\"19.32\\\",\\\"19.33\\\",\\\"19.34\\\",\\\"19.35\\\",\\\"19.36\\\",\\\"19.37\\\",\\\"19.38\\\",\\\"19.39\\\",\\\"19.4\\\",\\\"19.41\\\",\\\"19.42\\\",\\\"19.43\\\",\\\"19.44\\\",\\\"19.45\\\",\\\"19.46\\\",\\\"19.47\\\",\\\"19.48\\\",\\\"19.49\\\",\\\"19.5\\\",\\\"19.51\\\",\\\"19.52\\\",\\\"19.53\\\",\\\"19.54\\\",\\\"19.55\\\",\\\"19.56\\\",\\\"19.57\\\",\\\"19.58\\\",\\\"19.59\\\",\\\"19.6\\\",\\\"19.61\\\",\\\"19.62\\\",\\\"19.63\\\",\\\"19.64\\\",\\\"19.65\\\",\\\"19.66\\\",\\\"19.67\\\",\\\"19.68\\\",\\\"19.69\\\",\\\"19.7\\\",\\\"19.71\\\",\\\"19.72\\\",\\\"19.73\\\",\\\"19.74\\\",\\\"19.75\\\",\\\"19.76\\\",\\\"19.77\\\",\\\"19.78\\\",\\\"19.79\\\",\\\"19.8\\\",\\\"19.81\\\",\\\"19.82\\\",\\\"19.83\\\",\\\"19.84\\\",\\\"19.85\\\",\\\"19.86\\\",\\\"19.87\\\",\\\"19.88\\\",\\\"19.89\\\",\\\"19.9\\\",\\\"19.91\\\",\\\"19.92\\\",\\\"19.93\\\",\\\"19.94\\\",\\\"19.95\\\",\\\"19.96\\\",\\\"19.97\\\",\\\"19.98\\\",\\\"19.99\\\",\\\"20.0\\\",\\\"20.01\\\",\\\"20.02\\\",\\\"20.03\\\",\\\"20.04\\\",\\\"20.05\\\",\\\"20.06\\\",\\\"20.07\\\",\\\"20.08\\\",\\\"20.09\\\",\\\"20.1\\\",\\\"20.11\\\",\\\"20.12\\\",\\\"20.13\\\",\\\"20.14\\\",\\\"20.15\\\",\\\"20.16\\\",\\\"20.17\\\",\\\"20.18\\\",\\\"20.19\\\",\\\"20.2\\\",\\\"20.21\\\",\\\"20.22\\\",\\\"20.23\\\",\\\"20.24\\\",\\\"20.25\\\",\\\"20.26\\\",\\\"20.27\\\",\\\"20.28\\\",\\\"20.29\\\",\\\"20.3\\\",\\\"20.31\\\",\\\"20.32\\\",\\\"20.33\\\",\\\"20.34\\\",\\\"20.35\\\",\\\"20.36\\\",\\\"20.37\\\",\\\"20.38\\\",\\\"20.39\\\",\\\"20.4\\\",\\\"20.41\\\",\\\"20.42\\\",\\\"20.43\\\",\\\"20.44\\\",\\\"20.45\\\",\\\"20.46\\\",\\\"20.47\\\",\\\"20.48\\\",\\\"20.49\\\",\\\"20.5\\\",\\\"20.51\\\",\\\"20.52\\\",\\\"20.53\\\",\\\"20.54\\\",\\\"20.55\\\",\\\"20.56\\\",\\\"20.57\\\",\\\"20.58\\\",\\\"20.59\\\",\\\"20.6\\\",\\\"20.61\\\",\\\"20.62\\\",\\\"20.63\\\",\\\"20.64\\\",\\\"20.65\\\",\\\"20.66\\\",\\\"20.67\\\",\\\"20.68\\\",\\\"20.69\\\",\\\"20.7\\\",\\\"20.71\\\",\\\"20.72\\\",\\\"20.73\\\",\\\"20.74\\\",\\\"20.75\\\",\\\"20.76\\\",\\\"20.77\\\",\\\"20.78\\\",\\\"20.79\\\",\\\"20.8\\\",\\\"20.81\\\",\\\"20.82\\\",\\\"20.83\\\",\\\"20.84\\\",\\\"20.85\\\",\\\"20.86\\\",\\\"20.87\\\",\\\"20.88\\\",\\\"20.89\\\",\\\"20.9\\\",\\\"20.91\\\",\\\"20.92\\\",\\\"20.93\\\",\\\"20.94\\\",\\\"20.95\\\",\\\"20.96\\\",\\\"20.97\\\",\\\"20.98\\\",\\\"20.99\\\",\\\"21.0\\\",\\\"21.01\\\",\\\"21.02\\\",\\\"21.03\\\",\\\"21.04\\\",\\\"21.05\\\",\\\"21.06\\\",\\\"21.07\\\",\\\"21.08\\\",\\\"21.09\\\",\\\"21.1\\\",\\\"21.11\\\",\\\"21.12\\\",\\\"21.13\\\",\\\"21.14\\\",\\\"21.15\\\",\\\"21.16\\\",\\\"21.17\\\",\\\"21.18\\\",\\\"21.19\\\",\\\"21.2\\\",\\\"21.21\\\",\\\"21.22\\\",\\\"21.23\\\",\\\"21.24\\\",\\\"21.25\\\",\\\"21.26\\\",\\\"21.27\\\",\\\"21.28\\\",\\\"21.29\\\",\\\"21.3\\\",\\\"21.31\\\",\\\"21.32\\\",\\\"21.33\\\",\\\"21.34\\\",\\\"21.35\\\",\\\"21.36\\\",\\\"21.37\\\",\\\"21.38\\\",\\\"21.39\\\",\\\"21.4\\\",\\\"21.41\\\",\\\"21.42\\\",\\\"21.43\\\",\\\"21.44\\\",\\\"21.45\\\",\\\"21.46\\\",\\\"21.47\\\",\\\"21.48\\\",\\\"21.49\\\",\\\"21.5\\\",\\\"21.51\\\",\\\"21.52\\\",\\\"21.53\\\",\\\"21.54\\\",\\\"21.55\\\",\\\"21.56\\\",\\\"21.57\\\",\\\"21.58\\\",\\\"21.59\\\",\\\"21.6\\\",\\\"21.61\\\",\\\"21.62\\\",\\\"21.63\\\",\\\"21.64\\\",\\\"21.65\\\",\\\"21.66\\\",\\\"21.67\\\",\\\"21.68\\\",\\\"21.69\\\",\\\"21.7\\\",\\\"21.71\\\",\\\"21.72\\\",\\\"21.73\\\",\\\"21.74\\\",\\\"21.75\\\",\\\"21.76\\\",\\\"21.77\\\",\\\"21.78\\\",\\\"21.79\\\",\\\"21.8\\\",\\\"21.81\\\",\\\"21.82\\\",\\\"21.83\\\",\\\"21.84\\\",\\\"21.85\\\",\\\"21.86\\\",\\\"21.87\\\",\\\"21.88\\\",\\\"21.89\\\",\\\"21.9\\\",\\\"21.91\\\",\\\"21.92\\\",\\\"21.93\\\",\\\"21.94\\\",\\\"21.95\\\",\\\"21.96\\\",\\\"21.97\\\",\\\"21.98\\\",\\\"21.99\\\",\\\"22.0\\\",\\\"22.01\\\",\\\"22.02\\\",\\\"22.03\\\",\\\"22.04\\\",\\\"22.05\\\",\\\"22.06\\\",\\\"22.07\\\",\\\"22.08\\\",\\\"22.09\\\",\\\"22.1\\\",\\\"22.11\\\",\\\"22.12\\\",\\\"22.13\\\",\\\"22.14\\\",\\\"22.15\\\",\\\"22.16\\\",\\\"22.17\\\",\\\"22.18\\\",\\\"22.19\\\",\\\"22.2\\\",\\\"22.21\\\",\\\"22.22\\\",\\\"22.23\\\",\\\"22.24\\\",\\\"22.25\\\",\\\"22.26\\\",\\\"22.27\\\",\\\"22.28\\\",\\\"22.29\\\",\\\"22.3\\\",\\\"22.31\\\",\\\"22.32\\\",\\\"22.33\\\",\\\"22.34\\\",\\\"22.35\\\",\\\"22.36\\\",\\\"22.37\\\",\\\"22.38\\\",\\\"22.39\\\",\\\"22.4\\\",\\\"22.41\\\",\\\"22.42\\\",\\\"22.43\\\",\\\"22.44\\\",\\\"22.45\\\",\\\"22.46\\\",\\\"22.47\\\",\\\"22.48\\\",\\\"22.49\\\",\\\"22.5\\\",\\\"22.51\\\",\\\"22.52\\\",\\\"22.53\\\",\\\"22.54\\\",\\\"22.55\\\",\\\"22.56\\\",\\\"22.57\\\",\\\"22.58\\\",\\\"22.59\\\",\\\"22.6\\\",\\\"22.61\\\",\\\"22.62\\\",\\\"22.63\\\",\\\"22.64\\\",\\\"22.65\\\",\\\"22.66\\\",\\\"22.67\\\",\\\"22.68\\\",\\\"22.69\\\",\\\"22.7\\\",\\\"22.71\\\",\\\"22.72\\\",\\\"22.73\\\",\\\"22.74\\\",\\\"22.75\\\",\\\"22.76\\\",\\\"22.77\\\",\\\"22.78\\\",\\\"22.79\\\",\\\"22.8\\\",\\\"22.81\\\",\\\"22.82\\\",\\\"22.83\\\",\\\"22.84\\\",\\\"22.85\\\",\\\"22.86\\\",\\\"22.87\\\",\\\"22.88\\\",\\\"22.89\\\",\\\"22.9\\\",\\\"22.91\\\",\\\"22.92\\\",\\\"22.93\\\",\\\"22.94\\\",\\\"22.95\\\",\\\"22.96\\\",\\\"22.97\\\",\\\"22.98\\\",\\\"22.99\\\",\\\"23.0\\\",\\\"23.01\\\",\\\"23.02\\\",\\\"23.03\\\",\\\"23.04\\\",\\\"23.05\\\",\\\"23.06\\\",\\\"23.07\\\",\\\"23.08\\\",\\\"23.09\\\",\\\"23.1\\\",\\\"23.11\\\",\\\"23.12\\\",\\\"23.13\\\",\\\"23.14\\\",\\\"23.15\\\",\\\"23.16\\\",\\\"23.17\\\",\\\"23.18\\\",\\\"23.19\\\",\\\"23.2\\\",\\\"23.21\\\",\\\"23.22\\\",\\\"23.23\\\",\\\"23.24\\\",\\\"23.25\\\",\\\"23.26\\\",\\\"23.27\\\",\\\"23.28\\\",\\\"23.29\\\",\\\"23.3\\\",\\\"23.31\\\",\\\"23.32\\\",\\\"23.33\\\",\\\"23.34\\\",\\\"23.35\\\",\\\"23.36\\\",\\\"23.37\\\",\\\"23.38\\\",\\\"23.39\\\",\\\"23.4\\\",\\\"23.41\\\",\\\"23.42\\\",\\\"23.43\\\",\\\"23.44\\\",\\\"23.45\\\",\\\"23.46\\\",\\\"23.47\\\",\\\"23.48\\\",\\\"23.49\\\",\\\"23.5\\\",\\\"23.51\\\",\\\"23.52\\\",\\\"23.53\\\",\\\"23.54\\\",\\\"23.55\\\",\\\"23.56\\\",\\\"23.57\\\",\\\"23.58\\\",\\\"23.59\\\",\\\"23.6\\\",\\\"23.61\\\",\\\"23.62\\\",\\\"23.63\\\",\\\"23.64\\\",\\\"23.65\\\",\\\"23.66\\\",\\\"23.67\\\",\\\"23.68\\\",\\\"23.69\\\",\\\"23.7\\\",\\\"23.71\\\",\\\"23.72\\\",\\\"23.73\\\",\\\"23.74\\\",\\\"23.75\\\",\\\"23.76\\\",\\\"23.77\\\",\\\"23.78\\\",\\\"23.79\\\",\\\"23.8\\\",\\\"23.81\\\",\\\"23.82\\\",\\\"23.83\\\",\\\"23.84\\\",\\\"23.85\\\",\\\"23.86\\\",\\\"23.87\\\",\\\"23.88\\\",\\\"23.89\\\",\\\"23.9\\\",\\\"23.91\\\",\\\"23.92\\\",\\\"23.93\\\",\\\"23.94\\\",\\\"23.95\\\",\\\"23.96\\\",\\\"23.97\\\",\\\"23.98\\\",\\\"23.99\\\",\\\"24.0\\\",\\\"24.01\\\",\\\"24.02\\\",\\\"24.03\\\",\\\"24.04\\\",\\\"24.05\\\",\\\"24.06\\\",\\\"24.07\\\",\\\"24.08\\\",\\\"24.09\\\",\\\"24.1\\\",\\\"24.11\\\",\\\"24.12\\\",\\\"24.13\\\",\\\"24.14\\\",\\\"24.15\\\",\\\"24.16\\\",\\\"24.17\\\",\\\"24.18\\\",\\\"24.19\\\",\\\"24.2\\\",\\\"24.21\\\",\\\"24.22\\\",\\\"24.23\\\",\\\"24.24\\\",\\\"24.25\\\",\\\"24.26\\\",\\\"24.27\\\",\\\"24.28\\\",\\\"24.29\\\",\\\"24.3\\\",\\\"24.31\\\",\\\"24.32\\\",\\\"24.33\\\",\\\"24.34\\\",\\\"24.35\\\",\\\"24.36\\\",\\\"24.37\\\",\\\"24.38\\\",\\\"24.39\\\",\\\"24.4\\\",\\\"24.41\\\",\\\"24.42\\\",\\\"24.43\\\",\\\"24.44\\\",\\\"24.45\\\",\\\"24.46\\\",\\\"24.47\\\",\\\"24.48\\\",\\\"24.49\\\",\\\"24.5\\\",\\\"24.51\\\",\\\"24.52\\\",\\\"24.53\\\",\\\"24.54\\\",\\\"24.55\\\",\\\"24.56\\\",\\\"24.57\\\",\\\"24.58\\\",\\\"24.59\\\",\\\"24.6\\\",\\\"24.61\\\",\\\"24.62\\\",\\\"24.63\\\",\\\"24.64\\\",\\\"24.65\\\",\\\"24.66\\\",\\\"24.67\\\",\\\"24.68\\\",\\\"24.69\\\",\\\"24.7\\\",\\\"24.71\\\",\\\"24.72\\\",\\\"24.73\\\",\\\"24.74\\\",\\\"24.75\\\",\\\"24.76\\\",\\\"24.77\\\",\\\"24.78\\\",\\\"24.79\\\",\\\"24.8\\\",\\\"24.81\\\",\\\"24.82\\\",\\\"24.83\\\",\\\"24.84\\\",\\\"24.85\\\",\\\"24.86\\\",\\\"24.87\\\",\\\"24.88\\\",\\\"24.89\\\",\\\"24.9\\\",\\\"24.91\\\",\\\"24.92\\\",\\\"24.93\\\",\\\"24.94\\\",\\\"24.95\\\",\\\"24.96\\\",\\\"24.97\\\",\\\"24.98\\\",\\\"24.99\\\",\\\"25.0\\\",\\\"25.01\\\",\\\"25.02\\\",\\\"25.03\\\",\\\"25.04\\\",\\\"25.05\\\",\\\"25.06\\\",\\\"25.07\\\",\\\"25.08\\\",\\\"25.09\\\",\\\"25.1\\\",\\\"25.11\\\",\\\"25.12\\\",\\\"25.13\\\",\\\"25.14\\\",\\\"25.15\\\",\\\"25.16\\\",\\\"25.17\\\",\\\"25.18\\\",\\\"25.19\\\",\\\"25.2\\\",\\\"25.21\\\",\\\"25.22\\\",\\\"25.23\\\",\\\"25.24\\\",\\\"25.25\\\",\\\"25.26\\\",\\\"25.27\\\",\\\"25.28\\\",\\\"25.29\\\",\\\"25.3\\\",\\\"25.31\\\",\\\"25.32\\\",\\\"25.33\\\",\\\"25.34\\\",\\\"25.35\\\",\\\"25.36\\\",\\\"25.37\\\",\\\"25.38\\\",\\\"25.39\\\",\\\"25.4\\\",\\\"25.41\\\",\\\"25.42\\\",\\\"25.43\\\",\\\"25.44\\\",\\\"25.45\\\",\\\"25.46\\\",\\\"25.47\\\",\\\"25.48\\\",\\\"25.49\\\",\\\"25.5\\\",\\\"25.51\\\",\\\"25.52\\\",\\\"25.53\\\",\\\"25.54\\\",\\\"25.55\\\",\\\"25.56\\\",\\\"25.57\\\",\\\"25.58\\\",\\\"25.59\\\",\\\"25.6\\\",\\\"25.61\\\",\\\"25.62\\\",\\\"25.63\\\",\\\"25.64\\\",\\\"25.65\\\",\\\"25.66\\\",\\\"25.67\\\",\\\"25.68\\\",\\\"25.69\\\",\\\"25.7\\\",\\\"25.71\\\",\\\"25.72\\\",\\\"25.73\\\",\\\"25.74\\\",\\\"25.75\\\",\\\"25.76\\\",\\\"25.77\\\",\\\"25.78\\\",\\\"25.79\\\",\\\"25.8\\\",\\\"25.81\\\",\\\"25.82\\\",\\\"25.83\\\",\\\"25.84\\\",\\\"25.85\\\",\\\"25.86\\\",\\\"25.87\\\",\\\"25.88\\\",\\\"25.89\\\",\\\"25.9\\\",\\\"25.91\\\",\\\"25.92\\\",\\\"25.93\\\",\\\"25.94\\\",\\\"25.95\\\",\\\"25.96\\\",\\\"25.97\\\",\\\"25.98\\\",\\\"25.99\\\",\\\"26.0\\\",\\\"26.01\\\",\\\"26.02\\\",\\\"26.03\\\",\\\"26.04\\\",\\\"26.05\\\",\\\"26.06\\\",\\\"26.07\\\",\\\"26.08\\\",\\\"26.09\\\",\\\"26.1\\\",\\\"26.11\\\",\\\"26.12\\\",\\\"26.13\\\",\\\"26.14\\\",\\\"26.15\\\",\\\"26.16\\\",\\\"26.17\\\",\\\"26.18\\\",\\\"26.19\\\",\\\"26.2\\\",\\\"26.21\\\",\\\"26.22\\\",\\\"26.23\\\",\\\"26.24\\\",\\\"26.25\\\",\\\"26.26\\\",\\\"26.27\\\",\\\"26.28\\\",\\\"26.29\\\",\\\"26.3\\\",\\\"26.31\\\",\\\"26.32\\\",\\\"26.33\\\",\\\"26.34\\\",\\\"26.35\\\",\\\"26.36\\\",\\\"26.37\\\",\\\"26.38\\\",\\\"26.39\\\",\\\"26.4\\\",\\\"26.41\\\",\\\"26.42\\\",\\\"26.43\\\",\\\"26.44\\\",\\\"26.45\\\",\\\"26.46\\\",\\\"26.47\\\",\\\"26.48\\\",\\\"26.49\\\",\\\"26.5\\\",\\\"26.51\\\",\\\"26.52\\\",\\\"26.53\\\",\\\"26.54\\\",\\\"26.55\\\",\\\"26.56\\\",\\\"26.57\\\",\\\"26.58\\\",\\\"26.59\\\",\\\"26.6\\\",\\\"26.61\\\",\\\"26.62\\\",\\\"26.63\\\",\\\"26.64\\\",\\\"26.65\\\",\\\"26.66\\\",\\\"26.67\\\",\\\"26.68\\\",\\\"26.69\\\",\\\"26.7\\\",\\\"26.71\\\",\\\"26.72\\\",\\\"26.73\\\",\\\"26.74\\\",\\\"26.75\\\",\\\"26.76\\\",\\\"26.77\\\",\\\"26.78\\\",\\\"26.79\\\",\\\"26.8\\\",\\\"26.81\\\",\\\"26.82\\\",\\\"26.83\\\",\\\"26.84\\\",\\\"26.85\\\",\\\"26.86\\\",\\\"26.87\\\",\\\"26.88\\\",\\\"26.89\\\",\\\"26.9\\\",\\\"26.91\\\",\\\"26.92\\\",\\\"26.93\\\",\\\"26.94\\\",\\\"26.95\\\",\\\"26.96\\\",\\\"26.97\\\",\\\"26.98\\\",\\\"26.99\\\",\\\"27.0\\\",\\\"27.01\\\",\\\"27.02\\\",\\\"27.03\\\",\\\"27.04\\\",\\\"27.05\\\",\\\"27.06\\\",\\\"27.07\\\",\\\"27.08\\\",\\\"27.09\\\",\\\"27.1\\\",\\\"27.11\\\",\\\"27.12\\\",\\\"27.13\\\",\\\"27.14\\\",\\\"27.15\\\",\\\"27.16\\\",\\\"27.17\\\",\\\"27.18\\\",\\\"27.19\\\",\\\"27.2\\\",\\\"27.21\\\",\\\"27.22\\\",\\\"27.23\\\",\\\"27.24\\\",\\\"27.25\\\",\\\"27.26\\\",\\\"27.27\\\",\\\"27.28\\\",\\\"27.29\\\",\\\"27.3\\\",\\\"27.31\\\",\\\"27.32\\\",\\\"27.33\\\",\\\"27.34\\\",\\\"27.35\\\",\\\"27.36\\\",\\\"27.37\\\",\\\"27.38\\\",\\\"27.39\\\",\\\"27.4\\\",\\\"27.41\\\",\\\"27.42\\\",\\\"27.43\\\",\\\"27.44\\\",\\\"27.45\\\",\\\"27.46\\\",\\\"27.47\\\",\\\"27.48\\\",\\\"27.49\\\",\\\"27.5\\\",\\\"27.51\\\",\\\"27.52\\\",\\\"27.53\\\",\\\"27.54\\\",\\\"27.55\\\",\\\"27.56\\\",\\\"27.57\\\",\\\"27.58\\\",\\\"27.59\\\",\\\"27.6\\\",\\\"27.61\\\",\\\"27.62\\\",\\\"27.63\\\",\\\"27.64\\\",\\\"27.65\\\",\\\"27.66\\\",\\\"27.67\\\",\\\"27.68\\\",\\\"27.69\\\",\\\"27.7\\\",\\\"27.71\\\",\\\"27.72\\\",\\\"27.73\\\",\\\"27.74\\\",\\\"27.75\\\",\\\"27.76\\\",\\\"27.77\\\",\\\"27.78\\\",\\\"27.79\\\",\\\"27.8\\\",\\\"27.81\\\",\\\"27.82\\\",\\\"27.83\\\",\\\"27.84\\\",\\\"27.85\\\",\\\"27.86\\\",\\\"27.87\\\",\\\"27.88\\\",\\\"27.89\\\",\\\"27.9\\\",\\\"27.91\\\",\\\"27.92\\\",\\\"27.93\\\",\\\"27.94\\\",\\\"27.95\\\",\\\"27.96\\\",\\\"27.97\\\",\\\"27.98\\\",\\\"27.99\\\",\\\"28.0\\\",\\\"28.01\\\",\\\"28.02\\\",\\\"28.03\\\",\\\"28.04\\\",\\\"28.05\\\",\\\"28.06\\\",\\\"28.07\\\",\\\"28.08\\\",\\\"28.09\\\",\\\"28.1\\\",\\\"28.11\\\",\\\"28.12\\\",\\\"28.13\\\",\\\"28.14\\\",\\\"28.15\\\",\\\"28.16\\\",\\\"28.17\\\",\\\"28.18\\\",\\\"28.19\\\",\\\"28.2\\\",\\\"28.21\\\",\\\"28.22\\\",\\\"28.23\\\",\\\"28.24\\\",\\\"28.25\\\",\\\"28.26\\\",\\\"28.27\\\",\\\"28.28\\\",\\\"28.29\\\",\\\"28.3\\\",\\\"28.31\\\",\\\"28.32\\\",\\\"28.33\\\",\\\"28.34\\\",\\\"28.35\\\",\\\"28.36\\\",\\\"28.37\\\",\\\"28.38\\\",\\\"28.39\\\",\\\"28.4\\\",\\\"28.41\\\",\\\"28.42\\\",\\\"28.43\\\",\\\"28.44\\\",\\\"28.45\\\",\\\"28.46\\\",\\\"28.47\\\",\\\"28.48\\\",\\\"28.49\\\",\\\"28.5\\\",\\\"28.51\\\",\\\"28.52\\\",\\\"28.53\\\",\\\"28.54\\\",\\\"28.55\\\",\\\"28.56\\\",\\\"28.57\\\",\\\"28.58\\\",\\\"28.59\\\",\\\"28.6\\\",\\\"28.61\\\",\\\"28.62\\\",\\\"28.63\\\",\\\"28.64\\\",\\\"28.65\\\",\\\"28.66\\\",\\\"28.67\\\",\\\"28.68\\\",\\\"28.69\\\",\\\"28.7\\\",\\\"28.71\\\",\\\"28.72\\\",\\\"28.73\\\",\\\"28.74\\\",\\\"28.75\\\",\\\"28.76\\\",\\\"28.77\\\",\\\"28.78\\\",\\\"28.79\\\",\\\"28.8\\\",\\\"28.81\\\",\\\"28.82\\\",\\\"28.83\\\",\\\"28.84\\\",\\\"28.85\\\",\\\"28.86\\\",\\\"28.87\\\",\\\"28.88\\\",\\\"28.89\\\",\\\"28.9\\\",\\\"28.91\\\",\\\"28.92\\\",\\\"28.93\\\",\\\"28.94\\\",\\\"28.95\\\",\\\"28.96\\\",\\\"28.97\\\",\\\"28.98\\\",\\\"28.99\\\",\\\"29.0\\\",\\\"29.01\\\",\\\"29.02\\\",\\\"29.03\\\",\\\"29.04\\\",\\\"29.05\\\",\\\"29.06\\\",\\\"29.07\\\",\\\"29.08\\\",\\\"29.09\\\",\\\"29.1\\\",\\\"29.11\\\",\\\"29.12\\\",\\\"29.13\\\",\\\"29.14\\\",\\\"29.15\\\",\\\"29.16\\\",\\\"29.17\\\",\\\"29.18\\\",\\\"29.19\\\",\\\"29.2\\\",\\\"29.21\\\",\\\"29.22\\\",\\\"29.23\\\",\\\"29.24\\\",\\\"29.25\\\",\\\"29.26\\\",\\\"29.27\\\",\\\"29.28\\\",\\\"29.29\\\",\\\"29.3\\\",\\\"29.31\\\",\\\"29.32\\\",\\\"29.33\\\",\\\"29.34\\\",\\\"29.35\\\",\\\"29.36\\\",\\\"29.37\\\",\\\"29.38\\\",\\\"29.39\\\",\\\"29.4\\\",\\\"29.41\\\",\\\"29.42\\\",\\\"29.43\\\",\\\"29.44\\\",\\\"29.45\\\",\\\"29.46\\\",\\\"29.47\\\",\\\"29.48\\\",\\\"29.49\\\",\\\"29.5\\\",\\\"29.51\\\",\\\"29.52\\\",\\\"29.53\\\",\\\"29.54\\\",\\\"29.55\\\",\\\"29.56\\\",\\\"29.57\\\",\\\"29.58\\\",\\\"29.59\\\",\\\"29.6\\\",\\\"29.61\\\",\\\"29.62\\\",\\\"29.63\\\",\\\"29.64\\\",\\\"29.65\\\",\\\"29.66\\\",\\\"29.67\\\",\\\"29.68\\\",\\\"29.69\\\",\\\"29.7\\\",\\\"29.71\\\",\\\"29.72\\\",\\\"29.73\\\",\\\"29.74\\\",\\\"29.75\\\",\\\"29.76\\\",\\\"29.77\\\",\\\"29.78\\\",\\\"29.79\\\",\\\"29.8\\\",\\\"29.81\\\",\\\"29.82\\\",\\\"29.83\\\",\\\"29.84\\\",\\\"29.85\\\",\\\"29.86\\\",\\\"29.87\\\",\\\"29.88\\\",\\\"29.89\\\",\\\"29.9\\\",\\\"29.91\\\",\\\"29.92\\\",\\\"29.93\\\",\\\"29.94\\\",\\\"29.95\\\",\\\"29.96\\\",\\\"29.97\\\",\\\"29.98\\\",\\\"29.99\\\",\\\"30.0\\\"],\\\"changes\\\":WebIO.getval({\\\"name\\\":\\\"changes\\\",\\\"scope\\\":\\\"7936559740058411857\\\",\\\"id\\\":\\\"ob_03\\\",\\\"type\\\":\\\"observable\\\"}),\\\"index\\\":WebIO.getval({\\\"name\\\":\\\"index\\\",\\\"scope\\\":\\\"7936559740058411857\\\",\\\"id\\\":\\\"ob_02\\\",\\\"type\\\":\\\"observable\\\"})};\\n    var self = this;\\n    function AppViewModel() {\\n        for (var key in json_data) {\\n            var el = json_data[key];\\n            this[key] = Array.isArray(el) ? ko.observableArray(el) : ko.observable(el);\\n        }\\n        \\n        [this[\\\"formatted_val\\\"]=ko.computed(    function(){\\n        return this.formatted_vals()[parseInt(this.index())-(1)];\\n    }\\n,this)]\\n        [this[\\\"changes\\\"].subscribe((function (val){!(this.valueFromJulia[\\\"changes\\\"]) ? (WebIO.setval({\\\"name\\\":\\\"changes\\\",\\\"scope\\\":\\\"7936559740058411857\\\",\\\"id\\\":\\\"ob_03\\\",\\\"type\\\":\\\"observable\\\"},val)) : undefined; return this.valueFromJulia[\\\"changes\\\"]=false}),self),this[\\\"index\\\"].subscribe((function (val){!(this.valueFromJulia[\\\"index\\\"]) ? (WebIO.setval({\\\"name\\\":\\\"index\\\",\\\"scope\\\":\\\"7936559740058411857\\\",\\\"id\\\":\\\"ob_02\\\",\\\"type\\\":\\\"observable\\\"},val)) : undefined; return this.valueFromJulia[\\\"index\\\"]=false}),self)]\\n        \\n    }\\n    self.model = new AppViewModel();\\n    self.valueFromJulia = {};\\n    for (var key in json_data) {\\n        self.valueFromJulia[key] = false;\\n    }\\n    ko.applyBindings(self.model, self.dom);\\n}\\n);\\n    (WebIO.importBlock({\\\"data\\\":[{\\\"name\\\":\\\"knockout\\\",\\\"type\\\":\\\"js\\\",\\\"url\\\":\\\"/assetserver/0e408749c48bdf320cff510588f31e1b0173133c-knockout.js\\\"},{\\\"name\\\":\\\"knockout_punches\\\",\\\"type\\\":\\\"js\\\",\\\"url\\\":\\\"/assetserver/a3a43557819f8cc1c4cea9496b4d4a77212507ee-knockout_punches.js\\\"}],\\\"type\\\":\\\"async_block\\\"})).then((imports) => handler.apply(this, imports));\\n}\\n\")])], Dict{Symbol,Any}(:className => \"field interact-widget\")), Node{WebIO.DOM}(WebIO.DOM(:html, :div), Any[Scope(Node{WebIO.DOM}(WebIO.DOM(:html, :div), Any[Node{WebIO.DOM}(WebIO.DOM(:html, :div), Any[Node{WebIO.DOM}(WebIO.DOM(:html, :label), Any[\"b\"], Dict{Symbol,Any}(:className => \"interact \",:style => Dict{Any,Any}(:padding => \"5px 10px 0px 10px\")))], Dict{Symbol,Any}(:className => \"interact-flex-row-left\")), Node{WebIO.DOM}(WebIO.DOM(:html, :div), Any[Node{WebIO.DOM}(WebIO.DOM(:html, :input), Any[], Dict{Symbol,Any}(:max => 201,:min => 1,:attributes => Dict{Any,Any}(:type => \"range\",Symbol(\"data-bind\") => \"numericValue: index, valueUpdate: 'input', event: {change: function (){this.changes(this.changes()+1)}}\",\"orient\" => \"horizontal\"),:step => 1,:className => \"slider slider is-fullwidth\",:style => Dict{Any,Any}()))], Dict{Symbol,Any}(:className => \"interact-flex-row-center\")), Node{WebIO.DOM}(WebIO.DOM(:html, :div), Any[Node{WebIO.DOM}(WebIO.DOM(:html, :p), Any[], Dict{Symbol,Any}(:attributes => Dict(\"data-bind\" => \"text: formatted_val\")))], Dict{Symbol,Any}(:className => \"interact-flex-row-right\"))], Dict{Symbol,Any}(:className => \"interact-flex-row interact-widget\")), Dict{String,Tuple{Observables.AbstractObservable,Union{Nothing, Bool}}}(\"changes\" => (Observable{Int64} with 1 listeners. Value:\n",
       "0, nothing),\"index\" => (Observable{Any} with 2 listeners. Value:\n",
       "101, nothing)), Set(String[]), nothing, Asset[Asset(\"js\", \"knockout\", \"/Users/adrita/.julia/packages/Knockout/1sDlc/src/../assets/knockout.js\"), Asset(\"js\", \"knockout_punches\", \"/Users/adrita/.julia/packages/Knockout/1sDlc/src/../assets/knockout_punches.js\"), Asset(\"js\", nothing, \"/Users/adrita/.julia/packages/InteractBase/9mFwe/src/../assets/all.js\"), Asset(\"css\", nothing, \"/Users/adrita/.julia/packages/InteractBase/9mFwe/src/../assets/style.css\"), Asset(\"css\", nothing, \"/Users/adrita/.julia/packages/Interact/SbgIk/src/../assets/bulma_confined.min.css\")], Dict{Any,Any}(\"changes\" => Any[WebIO.JSString(\"(function (val){return (val!=this.model[\\\"changes\\\"]()) ? (this.valueFromJulia[\\\"changes\\\"]=true, this.model[\\\"changes\\\"](val)) : undefined})\")],\"index\" => Any[WebIO.JSString(\"(function (val){return (val!=this.model[\\\"index\\\"]()) ? (this.valueFromJulia[\\\"index\\\"]=true, this.model[\\\"index\\\"](val)) : undefined})\")]), WebIO.ConnectionPool(Channel{Any}(sz_max:32,sz_curr:0), Set(AbstractConnection[]), Base.GenericCondition{Base.AlwaysLockedST}(Base.InvasiveLinkedList{Task}(Task (runnable) @0x000000010b05a890, Task (runnable) @0x000000010b05a890), Base.AlwaysLockedST(1))), WebIO.JSString[WebIO.JSString(\"function () {\\n    var handler = (function (ko, koPunches) {\\n    ko.punches.enableAll();\\n    ko.bindingHandlers.numericValue = {\\n        init: function(element, valueAccessor, allBindings, data, context) {\\n            var stringified = ko.observable(ko.unwrap(valueAccessor()));\\n            stringified.subscribe(function(value) {\\n                var val = parseFloat(value);\\n                if (!isNaN(val)) {\\n                    valueAccessor()(val);\\n                }\\n            });\\n            valueAccessor().subscribe(function(value) {\\n                var str = JSON.stringify(value);\\n                if ((str == \\\"0\\\") && ([\\\"-0\\\", \\\"-0.\\\"].indexOf(stringified()) >= 0))\\n                     return;\\n                 if ([\\\"null\\\", \\\"\\\"].indexOf(str) >= 0)\\n                     return;\\n                stringified(str);\\n            });\\n            ko.applyBindingsToNode(\\n                element,\\n                {\\n                    value: stringified,\\n                    valueUpdate: allBindings.get('valueUpdate'),\\n                },\\n                context,\\n            );\\n        }\\n    };\\n    var json_data = {\\\"formatted_vals\\\":[\\\"0.0\\\",\\\"0.1\\\",\\\"0.2\\\",\\\"0.3\\\",\\\"0.4\\\",\\\"0.5\\\",\\\"0.6\\\",\\\"0.7\\\",\\\"0.8\\\",\\\"0.9\\\",\\\"1.0\\\",\\\"1.1\\\",\\\"1.2\\\",\\\"1.3\\\",\\\"1.4\\\",\\\"1.5\\\",\\\"1.6\\\",\\\"1.7\\\",\\\"1.8\\\",\\\"1.9\\\",\\\"2.0\\\",\\\"2.1\\\",\\\"2.2\\\",\\\"2.3\\\",\\\"2.4\\\",\\\"2.5\\\",\\\"2.6\\\",\\\"2.7\\\",\\\"2.8\\\",\\\"2.9\\\",\\\"3.0\\\",\\\"3.1\\\",\\\"3.2\\\",\\\"3.3\\\",\\\"3.4\\\",\\\"3.5\\\",\\\"3.6\\\",\\\"3.7\\\",\\\"3.8\\\",\\\"3.9\\\",\\\"4.0\\\",\\\"4.1\\\",\\\"4.2\\\",\\\"4.3\\\",\\\"4.4\\\",\\\"4.5\\\",\\\"4.6\\\",\\\"4.7\\\",\\\"4.8\\\",\\\"4.9\\\",\\\"5.0\\\",\\\"5.1\\\",\\\"5.2\\\",\\\"5.3\\\",\\\"5.4\\\",\\\"5.5\\\",\\\"5.6\\\",\\\"5.7\\\",\\\"5.8\\\",\\\"5.9\\\",\\\"6.0\\\",\\\"6.1\\\",\\\"6.2\\\",\\\"6.3\\\",\\\"6.4\\\",\\\"6.5\\\",\\\"6.6\\\",\\\"6.7\\\",\\\"6.8\\\",\\\"6.9\\\",\\\"7.0\\\",\\\"7.1\\\",\\\"7.2\\\",\\\"7.3\\\",\\\"7.4\\\",\\\"7.5\\\",\\\"7.6\\\",\\\"7.7\\\",\\\"7.8\\\",\\\"7.9\\\",\\\"8.0\\\",\\\"8.1\\\",\\\"8.2\\\",\\\"8.3\\\",\\\"8.4\\\",\\\"8.5\\\",\\\"8.6\\\",\\\"8.7\\\",\\\"8.8\\\",\\\"8.9\\\",\\\"9.0\\\",\\\"9.1\\\",\\\"9.2\\\",\\\"9.3\\\",\\\"9.4\\\",\\\"9.5\\\",\\\"9.6\\\",\\\"9.7\\\",\\\"9.8\\\",\\\"9.9\\\",\\\"10.0\\\",\\\"10.1\\\",\\\"10.2\\\",\\\"10.3\\\",\\\"10.4\\\",\\\"10.5\\\",\\\"10.6\\\",\\\"10.7\\\",\\\"10.8\\\",\\\"10.9\\\",\\\"11.0\\\",\\\"11.1\\\",\\\"11.2\\\",\\\"11.3\\\",\\\"11.4\\\",\\\"11.5\\\",\\\"11.6\\\",\\\"11.7\\\",\\\"11.8\\\",\\\"11.9\\\",\\\"12.0\\\",\\\"12.1\\\",\\\"12.2\\\",\\\"12.3\\\",\\\"12.4\\\",\\\"12.5\\\",\\\"12.6\\\",\\\"12.7\\\",\\\"12.8\\\",\\\"12.9\\\",\\\"13.0\\\",\\\"13.1\\\",\\\"13.2\\\",\\\"13.3\\\",\\\"13.4\\\",\\\"13.5\\\",\\\"13.6\\\",\\\"13.7\\\",\\\"13.8\\\",\\\"13.9\\\",\\\"14.0\\\",\\\"14.1\\\",\\\"14.2\\\",\\\"14.3\\\",\\\"14.4\\\",\\\"14.5\\\",\\\"14.6\\\",\\\"14.7\\\",\\\"14.8\\\",\\\"14.9\\\",\\\"15.0\\\",\\\"15.1\\\",\\\"15.2\\\",\\\"15.3\\\",\\\"15.4\\\",\\\"15.5\\\",\\\"15.6\\\",\\\"15.7\\\",\\\"15.8\\\",\\\"15.9\\\",\\\"16.0\\\",\\\"16.1\\\",\\\"16.2\\\",\\\"16.3\\\",\\\"16.4\\\",\\\"16.5\\\",\\\"16.6\\\",\\\"16.7\\\",\\\"16.8\\\",\\\"16.9\\\",\\\"17.0\\\",\\\"17.1\\\",\\\"17.2\\\",\\\"17.3\\\",\\\"17.4\\\",\\\"17.5\\\",\\\"17.6\\\",\\\"17.7\\\",\\\"17.8\\\",\\\"17.9\\\",\\\"18.0\\\",\\\"18.1\\\",\\\"18.2\\\",\\\"18.3\\\",\\\"18.4\\\",\\\"18.5\\\",\\\"18.6\\\",\\\"18.7\\\",\\\"18.8\\\",\\\"18.9\\\",\\\"19.0\\\",\\\"19.1\\\",\\\"19.2\\\",\\\"19.3\\\",\\\"19.4\\\",\\\"19.5\\\",\\\"19.6\\\",\\\"19.7\\\",\\\"19.8\\\",\\\"19.9\\\",\\\"20.0\\\"],\\\"changes\\\":WebIO.getval({\\\"name\\\":\\\"changes\\\",\\\"scope\\\":\\\"3238942356498391810\\\",\\\"id\\\":\\\"ob_06\\\",\\\"type\\\":\\\"observable\\\"}),\\\"index\\\":WebIO.getval({\\\"name\\\":\\\"index\\\",\\\"scope\\\":\\\"3238942356498391810\\\",\\\"id\\\":\\\"ob_05\\\",\\\"type\\\":\\\"observable\\\"})};\\n    var self = this;\\n    function AppViewModel() {\\n        for (var key in json_data) {\\n            var el = json_data[key];\\n            this[key] = Array.isArray(el) ? ko.observableArray(el) : ko.observable(el);\\n        }\\n        \\n        [this[\\\"formatted_val\\\"]=ko.computed(    function(){\\n        return this.formatted_vals()[parseInt(this.index())-(1)];\\n    }\\n,this)]\\n        [this[\\\"changes\\\"].subscribe((function (val){!(this.valueFromJulia[\\\"changes\\\"]) ? (WebIO.setval({\\\"name\\\":\\\"changes\\\",\\\"scope\\\":\\\"3238942356498391810\\\",\\\"id\\\":\\\"ob_06\\\",\\\"type\\\":\\\"observable\\\"},val)) : undefined; return this.valueFromJulia[\\\"changes\\\"]=false}),self),this[\\\"index\\\"].subscribe((function (val){!(this.valueFromJulia[\\\"index\\\"]) ? (WebIO.setval({\\\"name\\\":\\\"index\\\",\\\"scope\\\":\\\"3238942356498391810\\\",\\\"id\\\":\\\"ob_05\\\",\\\"type\\\":\\\"observable\\\"},val)) : undefined; return this.valueFromJulia[\\\"index\\\"]=false}),self)]\\n        \\n    }\\n    self.model = new AppViewModel();\\n    self.valueFromJulia = {};\\n    for (var key in json_data) {\\n        self.valueFromJulia[key] = false;\\n    }\\n    ko.applyBindings(self.model, self.dom);\\n}\\n);\\n    (WebIO.importBlock({\\\"data\\\":[{\\\"name\\\":\\\"knockout\\\",\\\"type\\\":\\\"js\\\",\\\"url\\\":\\\"/assetserver/0e408749c48bdf320cff510588f31e1b0173133c-knockout.js\\\"},{\\\"name\\\":\\\"knockout_punches\\\",\\\"type\\\":\\\"js\\\",\\\"url\\\":\\\"/assetserver/a3a43557819f8cc1c4cea9496b4d4a77212507ee-knockout_punches.js\\\"}],\\\"type\\\":\\\"async_block\\\"})).then((imports) => handler.apply(this, imports));\\n}\\n\")])], Dict{Symbol,Any}(:className => \"field interact-widget\")), Observable{Any} with 0 listeners. Value:\n",
       "Node{WebIO.DOM}(WebIO.DOM(:html, :div), Any[Plot{Plots.GRBackend() n=3}], Dict{Symbol,Any}(:className => \"interact-flex-row interact-widget\"))], Dict{Symbol,Any}())"
      ]
     },
     "execution_count": 14,
     "metadata": {
      "application/vnd.webio.node+json": {
       "kernelId": "a5ee4a3c-b103-4758-8b4e-91306d4c20ca"
      }
     },
     "output_type": "execute_result"
    }
   ],
   "source": [
    "@manipulate for w in -10:0.01:30, b in 0:0.1:20\n",
    "    plot(x -> σ(x, w, b), xlim=(-0,1), ylim=(-0.1,1.1), label=\"model\", legend=:topleft, lw=3)\n",
    "    scatter!([apple_green_amount],  [0.0], label=\"apple\", ms=5)   # marker size = 5\n",
    "    scatter!([banana_green_amount], [1.0], label=\"banana\", ms=5)\n",
    "end"
   ]
  },
  {
   "cell_type": "markdown",
   "metadata": {},
   "source": [
    "Notice that the two parameters do two very different things. The **weight**, `w`, determines *how fast* the transition between 0 and 1 occurs. It encodes how trustworthy we think our data  actually is, and in what range we should be putting points between 0 and 1 and thus calling them \"unsure\". The **bias**, `b`, encodes *where* on the $x$-axis the switch should take place. It can be seen as shifting the function left-right. We'll come to understand these *parameters* more in notebook 6.\n",
    "\n",
    "Here are some parameter choices that work well:"
   ]
  },
  {
   "cell_type": "code",
   "execution_count": 7,
   "metadata": {},
   "outputs": [
    {
     "data": {
      "image/svg+xml": [
       "<?xml version=\"1.0\" encoding=\"utf-8\"?>\n",
       "<svg xmlns=\"http://www.w3.org/2000/svg\" xmlns:xlink=\"http://www.w3.org/1999/xlink\" width=\"600\" height=\"400\" viewBox=\"0 0 2400 1600\">\n",
       "<defs>\n",
       "  <clipPath id=\"clip7800\">\n",
       "    <rect x=\"0\" y=\"0\" width=\"2400\" height=\"1600\"/>\n",
       "  </clipPath>\n",
       "</defs>\n",
       "<path clip-path=\"url(#clip7800)\" d=\"\n",
       "M0 1600 L2400 1600 L2400 0 L0 0  Z\n",
       "  \" fill=\"#ffffff\" fill-rule=\"evenodd\" fill-opacity=\"1\"/>\n",
       "<defs>\n",
       "  <clipPath id=\"clip7801\">\n",
       "    <rect x=\"480\" y=\"0\" width=\"1681\" height=\"1600\"/>\n",
       "  </clipPath>\n",
       "</defs>\n",
       "<path clip-path=\"url(#clip7800)\" d=\"\n",
       "M180.66 1487.47 L2352.76 1487.47 L2352.76 47.2441 L180.66 47.2441  Z\n",
       "  \" fill=\"#ffffff\" fill-rule=\"evenodd\" fill-opacity=\"1\"/>\n",
       "<defs>\n",
       "  <clipPath id=\"clip7802\">\n",
       "    <rect x=\"180\" y=\"47\" width=\"2173\" height=\"1441\"/>\n",
       "  </clipPath>\n",
       "</defs>\n",
       "<polyline clip-path=\"url(#clip7802)\" style=\"stroke:#000000; stroke-width:2; stroke-opacity:0.1; fill:none\" points=\"\n",
       "  180.66,1487.47 180.66,47.2441 \n",
       "  \"/>\n",
       "<polyline clip-path=\"url(#clip7802)\" style=\"stroke:#000000; stroke-width:2; stroke-opacity:0.1; fill:none\" points=\"\n",
       "  615.079,1487.47 615.079,47.2441 \n",
       "  \"/>\n",
       "<polyline clip-path=\"url(#clip7802)\" style=\"stroke:#000000; stroke-width:2; stroke-opacity:0.1; fill:none\" points=\"\n",
       "  1049.5,1487.47 1049.5,47.2441 \n",
       "  \"/>\n",
       "<polyline clip-path=\"url(#clip7802)\" style=\"stroke:#000000; stroke-width:2; stroke-opacity:0.1; fill:none\" points=\"\n",
       "  1483.92,1487.47 1483.92,47.2441 \n",
       "  \"/>\n",
       "<polyline clip-path=\"url(#clip7802)\" style=\"stroke:#000000; stroke-width:2; stroke-opacity:0.1; fill:none\" points=\"\n",
       "  1918.34,1487.47 1918.34,47.2441 \n",
       "  \"/>\n",
       "<polyline clip-path=\"url(#clip7802)\" style=\"stroke:#000000; stroke-width:2; stroke-opacity:0.1; fill:none\" points=\"\n",
       "  2352.76,1487.47 2352.76,47.2441 \n",
       "  \"/>\n",
       "<polyline clip-path=\"url(#clip7802)\" style=\"stroke:#000000; stroke-width:2; stroke-opacity:0.1; fill:none\" points=\"\n",
       "  180.66,1367.46 2352.76,1367.46 \n",
       "  \"/>\n",
       "<polyline clip-path=\"url(#clip7802)\" style=\"stroke:#000000; stroke-width:2; stroke-opacity:0.1; fill:none\" points=\"\n",
       "  180.66,1067.41 2352.76,1067.41 \n",
       "  \"/>\n",
       "<polyline clip-path=\"url(#clip7802)\" style=\"stroke:#000000; stroke-width:2; stroke-opacity:0.1; fill:none\" points=\"\n",
       "  180.66,767.359 2352.76,767.359 \n",
       "  \"/>\n",
       "<polyline clip-path=\"url(#clip7802)\" style=\"stroke:#000000; stroke-width:2; stroke-opacity:0.1; fill:none\" points=\"\n",
       "  180.66,467.311 2352.76,467.311 \n",
       "  \"/>\n",
       "<polyline clip-path=\"url(#clip7802)\" style=\"stroke:#000000; stroke-width:2; stroke-opacity:0.1; fill:none\" points=\"\n",
       "  180.66,167.263 2352.76,167.263 \n",
       "  \"/>\n",
       "<polyline clip-path=\"url(#clip7800)\" style=\"stroke:#000000; stroke-width:4; stroke-opacity:1; fill:none\" points=\"\n",
       "  180.66,1487.47 2352.76,1487.47 \n",
       "  \"/>\n",
       "<polyline clip-path=\"url(#clip7800)\" style=\"stroke:#000000; stroke-width:4; stroke-opacity:1; fill:none\" points=\"\n",
       "  180.66,1487.47 180.66,47.2441 \n",
       "  \"/>\n",
       "<polyline clip-path=\"url(#clip7800)\" style=\"stroke:#000000; stroke-width:4; stroke-opacity:1; fill:none\" points=\"\n",
       "  180.66,1487.47 180.66,1470.19 \n",
       "  \"/>\n",
       "<polyline clip-path=\"url(#clip7800)\" style=\"stroke:#000000; stroke-width:4; stroke-opacity:1; fill:none\" points=\"\n",
       "  615.079,1487.47 615.079,1470.19 \n",
       "  \"/>\n",
       "<polyline clip-path=\"url(#clip7800)\" style=\"stroke:#000000; stroke-width:4; stroke-opacity:1; fill:none\" points=\"\n",
       "  1049.5,1487.47 1049.5,1470.19 \n",
       "  \"/>\n",
       "<polyline clip-path=\"url(#clip7800)\" style=\"stroke:#000000; stroke-width:4; stroke-opacity:1; fill:none\" points=\"\n",
       "  1483.92,1487.47 1483.92,1470.19 \n",
       "  \"/>\n",
       "<polyline clip-path=\"url(#clip7800)\" style=\"stroke:#000000; stroke-width:4; stroke-opacity:1; fill:none\" points=\"\n",
       "  1918.34,1487.47 1918.34,1470.19 \n",
       "  \"/>\n",
       "<polyline clip-path=\"url(#clip7800)\" style=\"stroke:#000000; stroke-width:4; stroke-opacity:1; fill:none\" points=\"\n",
       "  2352.76,1487.47 2352.76,1470.19 \n",
       "  \"/>\n",
       "<polyline clip-path=\"url(#clip7800)\" style=\"stroke:#000000; stroke-width:4; stroke-opacity:1; fill:none\" points=\"\n",
       "  180.66,1367.46 206.725,1367.46 \n",
       "  \"/>\n",
       "<polyline clip-path=\"url(#clip7800)\" style=\"stroke:#000000; stroke-width:4; stroke-opacity:1; fill:none\" points=\"\n",
       "  180.66,1067.41 206.725,1067.41 \n",
       "  \"/>\n",
       "<polyline clip-path=\"url(#clip7800)\" style=\"stroke:#000000; stroke-width:4; stroke-opacity:1; fill:none\" points=\"\n",
       "  180.66,767.359 206.725,767.359 \n",
       "  \"/>\n",
       "<polyline clip-path=\"url(#clip7800)\" style=\"stroke:#000000; stroke-width:4; stroke-opacity:1; fill:none\" points=\"\n",
       "  180.66,467.311 206.725,467.311 \n",
       "  \"/>\n",
       "<polyline clip-path=\"url(#clip7800)\" style=\"stroke:#000000; stroke-width:4; stroke-opacity:1; fill:none\" points=\"\n",
       "  180.66,167.263 206.725,167.263 \n",
       "  \"/>\n",
       "<g clip-path=\"url(#clip7800)\">\n",
       "<text style=\"fill:#000000; fill-opacity:1; font-family:Arial,Helvetica Neue,Helvetica,sans-serif; font-size:48px; text-anchor:middle;\" transform=\"rotate(0, 180.66, 1541.47)\" x=\"180.66\" y=\"1541.47\">0.0</text>\n",
       "</g>\n",
       "<g clip-path=\"url(#clip7800)\">\n",
       "<text style=\"fill:#000000; fill-opacity:1; font-family:Arial,Helvetica Neue,Helvetica,sans-serif; font-size:48px; text-anchor:middle;\" transform=\"rotate(0, 615.079, 1541.47)\" x=\"615.079\" y=\"1541.47\">0.2</text>\n",
       "</g>\n",
       "<g clip-path=\"url(#clip7800)\">\n",
       "<text style=\"fill:#000000; fill-opacity:1; font-family:Arial,Helvetica Neue,Helvetica,sans-serif; font-size:48px; text-anchor:middle;\" transform=\"rotate(0, 1049.5, 1541.47)\" x=\"1049.5\" y=\"1541.47\">0.4</text>\n",
       "</g>\n",
       "<g clip-path=\"url(#clip7800)\">\n",
       "<text style=\"fill:#000000; fill-opacity:1; font-family:Arial,Helvetica Neue,Helvetica,sans-serif; font-size:48px; text-anchor:middle;\" transform=\"rotate(0, 1483.92, 1541.47)\" x=\"1483.92\" y=\"1541.47\">0.6</text>\n",
       "</g>\n",
       "<g clip-path=\"url(#clip7800)\">\n",
       "<text style=\"fill:#000000; fill-opacity:1; font-family:Arial,Helvetica Neue,Helvetica,sans-serif; font-size:48px; text-anchor:middle;\" transform=\"rotate(0, 1918.34, 1541.47)\" x=\"1918.34\" y=\"1541.47\">0.8</text>\n",
       "</g>\n",
       "<g clip-path=\"url(#clip7800)\">\n",
       "<text style=\"fill:#000000; fill-opacity:1; font-family:Arial,Helvetica Neue,Helvetica,sans-serif; font-size:48px; text-anchor:middle;\" transform=\"rotate(0, 2352.76, 1541.47)\" x=\"2352.76\" y=\"1541.47\">1.0</text>\n",
       "</g>\n",
       "<g clip-path=\"url(#clip7800)\">\n",
       "<text style=\"fill:#000000; fill-opacity:1; font-family:Arial,Helvetica Neue,Helvetica,sans-serif; font-size:48px; text-anchor:end;\" transform=\"rotate(0, 156.66, 1384.96)\" x=\"156.66\" y=\"1384.96\">0.00</text>\n",
       "</g>\n",
       "<g clip-path=\"url(#clip7800)\">\n",
       "<text style=\"fill:#000000; fill-opacity:1; font-family:Arial,Helvetica Neue,Helvetica,sans-serif; font-size:48px; text-anchor:end;\" transform=\"rotate(0, 156.66, 1084.91)\" x=\"156.66\" y=\"1084.91\">0.25</text>\n",
       "</g>\n",
       "<g clip-path=\"url(#clip7800)\">\n",
       "<text style=\"fill:#000000; fill-opacity:1; font-family:Arial,Helvetica Neue,Helvetica,sans-serif; font-size:48px; text-anchor:end;\" transform=\"rotate(0, 156.66, 784.859)\" x=\"156.66\" y=\"784.859\">0.50</text>\n",
       "</g>\n",
       "<g clip-path=\"url(#clip7800)\">\n",
       "<text style=\"fill:#000000; fill-opacity:1; font-family:Arial,Helvetica Neue,Helvetica,sans-serif; font-size:48px; text-anchor:end;\" transform=\"rotate(0, 156.66, 484.811)\" x=\"156.66\" y=\"484.811\">0.75</text>\n",
       "</g>\n",
       "<g clip-path=\"url(#clip7800)\">\n",
       "<text style=\"fill:#000000; fill-opacity:1; font-family:Arial,Helvetica Neue,Helvetica,sans-serif; font-size:48px; text-anchor:end;\" transform=\"rotate(0, 156.66, 184.763)\" x=\"156.66\" y=\"184.763\">1.00</text>\n",
       "</g>\n",
       "<polyline clip-path=\"url(#clip7802)\" style=\"stroke:#009af9; stroke-width:12; stroke-opacity:1; fill:none\" points=\"\n",
       "  180.66,1367.46 201.873,1367.46 398.011,1367.45 515.882,1367.45 615.54,1367.42 723.797,1367.33 823.6,1367.06 930.6,1366.08 1054.57,1361.54 1109.65,1356.2 \n",
       "  1164.74,1346.1 1213.04,1330.24 1261.35,1303.25 1287.68,1281.57 1314.01,1253.32 1340.35,1217.02 1366.68,1171.27 1393.17,1114.58 1419.66,1046.75 1446.14,968.377 \n",
       "  1472.63,881.441 1501.92,779.358 1531.21,676.575 1560.49,578.968 1589.78,491.295 1617.65,419.712 1645.51,360.457 1673.38,312.971 1701.24,275.898 1730.22,246.568 \n",
       "  1759.19,224.739 1788.16,208.697 1817.14,197.016 1865.92,184.198 1914.7,176.857 2033.81,169.637 2145.77,167.899 2325.15,167.34 2352.76,167.319 \n",
       "  \"/>\n",
       "<circle clip-path=\"url(#clip7802)\" style=\"fill:#000000; stroke:none; fill-opacity:1\" cx=\"915.954\" cy=\"1367.46\" r=\"18\"/>\n",
       "<circle clip-path=\"url(#clip7802)\" style=\"fill:#e26f46; stroke:none; fill-opacity:1\" cx=\"915.954\" cy=\"1367.46\" r=\"14\"/>\n",
       "<circle clip-path=\"url(#clip7802)\" style=\"fill:#000000; stroke:none; fill-opacity:1\" cx=\"2093.89\" cy=\"167.263\" r=\"18\"/>\n",
       "<circle clip-path=\"url(#clip7802)\" style=\"fill:#3da44d; stroke:none; fill-opacity:1\" cx=\"2093.89\" cy=\"167.263\" r=\"14\"/>\n",
       "<path clip-path=\"url(#clip7800)\" d=\"\n",
       "M252.66 372.684 L653.234 372.684 L653.234 130.764 L252.66 130.764  Z\n",
       "  \" fill=\"#ffffff\" fill-rule=\"evenodd\" fill-opacity=\"1\"/>\n",
       "<polyline clip-path=\"url(#clip7800)\" style=\"stroke:#000000; stroke-width:4; stroke-opacity:1; fill:none\" points=\"\n",
       "  252.66,372.684 653.234,372.684 653.234,130.764 252.66,130.764 252.66,372.684 \n",
       "  \"/>\n",
       "<polyline clip-path=\"url(#clip7800)\" style=\"stroke:#009af9; stroke-width:12; stroke-opacity:1; fill:none\" points=\"\n",
       "  276.66,191.244 420.66,191.244 \n",
       "  \"/>\n",
       "<g clip-path=\"url(#clip7800)\">\n",
       "<text style=\"fill:#000000; fill-opacity:1; font-family:Arial,Helvetica Neue,Helvetica,sans-serif; font-size:48px; text-anchor:start;\" transform=\"rotate(0, 444.66, 208.744)\" x=\"444.66\" y=\"208.744\">model</text>\n",
       "</g>\n",
       "<circle clip-path=\"url(#clip7800)\" style=\"fill:#000000; stroke:none; fill-opacity:1\" cx=\"360.66\" cy=\"251.724\" r=\"25\"/>\n",
       "<circle clip-path=\"url(#clip7800)\" style=\"fill:#e26f46; stroke:none; fill-opacity:1\" cx=\"360.66\" cy=\"251.724\" r=\"21\"/>\n",
       "<g clip-path=\"url(#clip7800)\">\n",
       "<text style=\"fill:#000000; fill-opacity:1; font-family:Arial,Helvetica Neue,Helvetica,sans-serif; font-size:48px; text-anchor:start;\" transform=\"rotate(0, 444.66, 269.224)\" x=\"444.66\" y=\"269.224\">apple</text>\n",
       "</g>\n",
       "<circle clip-path=\"url(#clip7800)\" style=\"fill:#000000; stroke:none; fill-opacity:1\" cx=\"360.66\" cy=\"312.204\" r=\"25\"/>\n",
       "<circle clip-path=\"url(#clip7800)\" style=\"fill:#3da44d; stroke:none; fill-opacity:1\" cx=\"360.66\" cy=\"312.204\" r=\"21\"/>\n",
       "<g clip-path=\"url(#clip7800)\">\n",
       "<text style=\"fill:#000000; fill-opacity:1; font-family:Arial,Helvetica Neue,Helvetica,sans-serif; font-size:48px; text-anchor:start;\" transform=\"rotate(0, 444.66, 329.704)\" x=\"444.66\" y=\"329.704\">banana</text>\n",
       "</g>\n",
       "</svg>\n"
      ]
     },
     "execution_count": 7,
     "metadata": {},
     "output_type": "execute_result"
    }
   ],
   "source": [
    "w = 25.58; b = 15.6\n",
    "\n",
    "plot(x -> σ(x, w, b), xlim=(0,1), ylim=(-0.1,1.1), label=\"model\", legend=:topleft, lw=3)\n",
    "\n",
    "scatter!([apple_green_amount], [0.0], label=\"apple\")\n",
    "scatter!([banana_green_amount],[1.0], label=\"banana\")"
   ]
  },
  {
   "cell_type": "markdown",
   "metadata": {},
   "source": [
    "(Note that in this problem there are many combinations of `w` and `b` that fit the data well.)"
   ]
  },
  {
   "cell_type": "markdown",
   "metadata": {},
   "source": [
    "Once we have a model, we have a computational representation for how to choose between \"apple\" and \"banana\". So let's pull in some new images and see what our model says about them!"
   ]
  },
  {
   "cell_type": "code",
   "execution_count": 9,
   "metadata": {},
   "outputs": [
    {
     "data": {
      "image/png": "[encoded data removed]",
      "text/plain": [
       "100×100 Array{RGBX{N0f8},2} with eltype RGBX{Normed{UInt8,8}}:\n",
       " RGBX{N0f8}(0.984,1.0,1.0)    …  RGBX{N0f8}(1.0,1.0,1.0)\n",
       " RGBX{N0f8}(0.992,0.996,1.0)     RGBX{N0f8}(1.0,1.0,1.0)\n",
       " RGBX{N0f8}(1.0,0.992,0.988)     RGBX{N0f8}(1.0,1.0,1.0)\n",
       " RGBX{N0f8}(1.0,0.988,0.973)     RGBX{N0f8}(1.0,1.0,1.0)\n",
       " RGBX{N0f8}(1.0,0.992,0.965)     RGBX{N0f8}(1.0,1.0,1.0)\n",
       " RGBX{N0f8}(1.0,1.0,0.969)    …  RGBX{N0f8}(1.0,1.0,1.0)\n",
       " RGBX{N0f8}(0.984,1.0,0.976)     RGBX{N0f8}(1.0,1.0,1.0)\n",
       " RGBX{N0f8}(0.969,1.0,0.984)     RGBX{N0f8}(1.0,1.0,1.0)\n",
       " RGBX{N0f8}(0.965,1.0,0.992)     RGBX{N0f8}(1.0,1.0,1.0)\n",
       " RGBX{N0f8}(0.973,1.0,1.0)       RGBX{N0f8}(1.0,1.0,1.0)\n",
       " RGBX{N0f8}(0.984,1.0,1.0)    …  RGBX{N0f8}(1.0,1.0,1.0)\n",
       " RGBX{N0f8}(0.992,0.996,1.0)     RGBX{N0f8}(1.0,1.0,1.0)\n",
       " RGBX{N0f8}(0.996,0.996,1.0)     RGBX{N0f8}(1.0,1.0,1.0)\n",
       " ⋮                            ⋱                         \n",
       " RGBX{N0f8}(1.0,1.0,1.0)         RGBX{N0f8}(1.0,1.0,1.0)\n",
       " RGBX{N0f8}(1.0,1.0,1.0)         RGBX{N0f8}(1.0,1.0,1.0)\n",
       " RGBX{N0f8}(0.996,1.0,1.0)    …  RGBX{N0f8}(1.0,1.0,1.0)\n",
       " RGBX{N0f8}(0.996,1.0,1.0)       RGBX{N0f8}(1.0,1.0,1.0)\n",
       " RGBX{N0f8}(0.996,1.0,1.0)       RGBX{N0f8}(1.0,1.0,1.0)\n",
       " RGBX{N0f8}(0.996,1.0,1.0)       RGBX{N0f8}(1.0,1.0,1.0)\n",
       " RGBX{N0f8}(0.996,1.0,1.0)       RGBX{N0f8}(1.0,1.0,1.0)\n",
       " RGBX{N0f8}(0.996,1.0,1.0)    …  RGBX{N0f8}(1.0,1.0,1.0)\n",
       " RGBX{N0f8}(1.0,1.0,1.0)         RGBX{N0f8}(1.0,1.0,1.0)\n",
       " RGBX{N0f8}(1.0,1.0,1.0)         RGBX{N0f8}(1.0,1.0,1.0)\n",
       " RGBX{N0f8}(1.0,1.0,1.0)         RGBX{N0f8}(1.0,1.0,1.0)\n",
       " RGBX{N0f8}(1.0,1.0,1.0)         RGBX{N0f8}(1.0,1.0,1.0)"
      ]
     },
     "execution_count": 9,
     "metadata": {},
     "output_type": "execute_result"
    }
   ],
   "source": [
    "apple2 = load(datapath(\"data/107_100.jpg\"))"
   ]
  },
  {
   "cell_type": "code",
   "execution_count": 10,
   "metadata": {},
   "outputs": [
    {
     "name": "stdout",
     "output_type": "stream",
     "text": [
      "green_amount = 0.46902156862745104\n"
     ]
    },
    {
     "data": {
      "image/svg+xml": [
       "<?xml version=\"1.0\" encoding=\"utf-8\"?>\n",
       "<svg xmlns=\"http://www.w3.org/2000/svg\" xmlns:xlink=\"http://www.w3.org/1999/xlink\" width=\"600\" height=\"400\" viewBox=\"0 0 2400 1600\">\n",
       "<defs>\n",
       "  <clipPath id=\"clip8200\">\n",
       "    <rect x=\"0\" y=\"0\" width=\"2400\" height=\"1600\"/>\n",
       "  </clipPath>\n",
       "</defs>\n",
       "<path clip-path=\"url(#clip8200)\" d=\"\n",
       "M0 1600 L2400 1600 L2400 0 L0 0  Z\n",
       "  \" fill=\"#ffffff\" fill-rule=\"evenodd\" fill-opacity=\"1\"/>\n",
       "<defs>\n",
       "  <clipPath id=\"clip8201\">\n",
       "    <rect x=\"480\" y=\"0\" width=\"1681\" height=\"1600\"/>\n",
       "  </clipPath>\n",
       "</defs>\n",
       "<path clip-path=\"url(#clip8200)\" d=\"\n",
       "M180.66 1487.47 L2352.76 1487.47 L2352.76 47.2441 L180.66 47.2441  Z\n",
       "  \" fill=\"#ffffff\" fill-rule=\"evenodd\" fill-opacity=\"1\"/>\n",
       "<defs>\n",
       "  <clipPath id=\"clip8202\">\n",
       "    <rect x=\"180\" y=\"47\" width=\"2173\" height=\"1441\"/>\n",
       "  </clipPath>\n",
       "</defs>\n",
       "<polyline clip-path=\"url(#clip8202)\" style=\"stroke:#000000; stroke-width:2; stroke-opacity:0.1; fill:none\" points=\"\n",
       "  180.66,1487.47 180.66,47.2441 \n",
       "  \"/>\n",
       "<polyline clip-path=\"url(#clip8202)\" style=\"stroke:#000000; stroke-width:2; stroke-opacity:0.1; fill:none\" points=\"\n",
       "  615.079,1487.47 615.079,47.2441 \n",
       "  \"/>\n",
       "<polyline clip-path=\"url(#clip8202)\" style=\"stroke:#000000; stroke-width:2; stroke-opacity:0.1; fill:none\" points=\"\n",
       "  1049.5,1487.47 1049.5,47.2441 \n",
       "  \"/>\n",
       "<polyline clip-path=\"url(#clip8202)\" style=\"stroke:#000000; stroke-width:2; stroke-opacity:0.1; fill:none\" points=\"\n",
       "  1483.92,1487.47 1483.92,47.2441 \n",
       "  \"/>\n",
       "<polyline clip-path=\"url(#clip8202)\" style=\"stroke:#000000; stroke-width:2; stroke-opacity:0.1; fill:none\" points=\"\n",
       "  1918.34,1487.47 1918.34,47.2441 \n",
       "  \"/>\n",
       "<polyline clip-path=\"url(#clip8202)\" style=\"stroke:#000000; stroke-width:2; stroke-opacity:0.1; fill:none\" points=\"\n",
       "  2352.76,1487.47 2352.76,47.2441 \n",
       "  \"/>\n",
       "<polyline clip-path=\"url(#clip8202)\" style=\"stroke:#000000; stroke-width:2; stroke-opacity:0.1; fill:none\" points=\"\n",
       "  180.66,1367.46 2352.76,1367.46 \n",
       "  \"/>\n",
       "<polyline clip-path=\"url(#clip8202)\" style=\"stroke:#000000; stroke-width:2; stroke-opacity:0.1; fill:none\" points=\"\n",
       "  180.66,1067.41 2352.76,1067.41 \n",
       "  \"/>\n",
       "<polyline clip-path=\"url(#clip8202)\" style=\"stroke:#000000; stroke-width:2; stroke-opacity:0.1; fill:none\" points=\"\n",
       "  180.66,767.359 2352.76,767.359 \n",
       "  \"/>\n",
       "<polyline clip-path=\"url(#clip8202)\" style=\"stroke:#000000; stroke-width:2; stroke-opacity:0.1; fill:none\" points=\"\n",
       "  180.66,467.311 2352.76,467.311 \n",
       "  \"/>\n",
       "<polyline clip-path=\"url(#clip8202)\" style=\"stroke:#000000; stroke-width:2; stroke-opacity:0.1; fill:none\" points=\"\n",
       "  180.66,167.263 2352.76,167.263 \n",
       "  \"/>\n",
       "<polyline clip-path=\"url(#clip8200)\" style=\"stroke:#000000; stroke-width:4; stroke-opacity:1; fill:none\" points=\"\n",
       "  180.66,1487.47 2352.76,1487.47 \n",
       "  \"/>\n",
       "<polyline clip-path=\"url(#clip8200)\" style=\"stroke:#000000; stroke-width:4; stroke-opacity:1; fill:none\" points=\"\n",
       "  180.66,1487.47 180.66,47.2441 \n",
       "  \"/>\n",
       "<polyline clip-path=\"url(#clip8200)\" style=\"stroke:#000000; stroke-width:4; stroke-opacity:1; fill:none\" points=\"\n",
       "  180.66,1487.47 180.66,1470.19 \n",
       "  \"/>\n",
       "<polyline clip-path=\"url(#clip8200)\" style=\"stroke:#000000; stroke-width:4; stroke-opacity:1; fill:none\" points=\"\n",
       "  615.079,1487.47 615.079,1470.19 \n",
       "  \"/>\n",
       "<polyline clip-path=\"url(#clip8200)\" style=\"stroke:#000000; stroke-width:4; stroke-opacity:1; fill:none\" points=\"\n",
       "  1049.5,1487.47 1049.5,1470.19 \n",
       "  \"/>\n",
       "<polyline clip-path=\"url(#clip8200)\" style=\"stroke:#000000; stroke-width:4; stroke-opacity:1; fill:none\" points=\"\n",
       "  1483.92,1487.47 1483.92,1470.19 \n",
       "  \"/>\n",
       "<polyline clip-path=\"url(#clip8200)\" style=\"stroke:#000000; stroke-width:4; stroke-opacity:1; fill:none\" points=\"\n",
       "  1918.34,1487.47 1918.34,1470.19 \n",
       "  \"/>\n",
       "<polyline clip-path=\"url(#clip8200)\" style=\"stroke:#000000; stroke-width:4; stroke-opacity:1; fill:none\" points=\"\n",
       "  2352.76,1487.47 2352.76,1470.19 \n",
       "  \"/>\n",
       "<polyline clip-path=\"url(#clip8200)\" style=\"stroke:#000000; stroke-width:4; stroke-opacity:1; fill:none\" points=\"\n",
       "  180.66,1367.46 206.725,1367.46 \n",
       "  \"/>\n",
       "<polyline clip-path=\"url(#clip8200)\" style=\"stroke:#000000; stroke-width:4; stroke-opacity:1; fill:none\" points=\"\n",
       "  180.66,1067.41 206.725,1067.41 \n",
       "  \"/>\n",
       "<polyline clip-path=\"url(#clip8200)\" style=\"stroke:#000000; stroke-width:4; stroke-opacity:1; fill:none\" points=\"\n",
       "  180.66,767.359 206.725,767.359 \n",
       "  \"/>\n",
       "<polyline clip-path=\"url(#clip8200)\" style=\"stroke:#000000; stroke-width:4; stroke-opacity:1; fill:none\" points=\"\n",
       "  180.66,467.311 206.725,467.311 \n",
       "  \"/>\n",
       "<polyline clip-path=\"url(#clip8200)\" style=\"stroke:#000000; stroke-width:4; stroke-opacity:1; fill:none\" points=\"\n",
       "  180.66,167.263 206.725,167.263 \n",
       "  \"/>\n",
       "<g clip-path=\"url(#clip8200)\">\n",
       "<text style=\"fill:#000000; fill-opacity:1; font-family:Arial,Helvetica Neue,Helvetica,sans-serif; font-size:48px; text-anchor:middle;\" transform=\"rotate(0, 180.66, 1541.47)\" x=\"180.66\" y=\"1541.47\">0.0</text>\n",
       "</g>\n",
       "<g clip-path=\"url(#clip8200)\">\n",
       "<text style=\"fill:#000000; fill-opacity:1; font-family:Arial,Helvetica Neue,Helvetica,sans-serif; font-size:48px; text-anchor:middle;\" transform=\"rotate(0, 615.079, 1541.47)\" x=\"615.079\" y=\"1541.47\">0.2</text>\n",
       "</g>\n",
       "<g clip-path=\"url(#clip8200)\">\n",
       "<text style=\"fill:#000000; fill-opacity:1; font-family:Arial,Helvetica Neue,Helvetica,sans-serif; font-size:48px; text-anchor:middle;\" transform=\"rotate(0, 1049.5, 1541.47)\" x=\"1049.5\" y=\"1541.47\">0.4</text>\n",
       "</g>\n",
       "<g clip-path=\"url(#clip8200)\">\n",
       "<text style=\"fill:#000000; fill-opacity:1; font-family:Arial,Helvetica Neue,Helvetica,sans-serif; font-size:48px; text-anchor:middle;\" transform=\"rotate(0, 1483.92, 1541.47)\" x=\"1483.92\" y=\"1541.47\">0.6</text>\n",
       "</g>\n",
       "<g clip-path=\"url(#clip8200)\">\n",
       "<text style=\"fill:#000000; fill-opacity:1; font-family:Arial,Helvetica Neue,Helvetica,sans-serif; font-size:48px; text-anchor:middle;\" transform=\"rotate(0, 1918.34, 1541.47)\" x=\"1918.34\" y=\"1541.47\">0.8</text>\n",
       "</g>\n",
       "<g clip-path=\"url(#clip8200)\">\n",
       "<text style=\"fill:#000000; fill-opacity:1; font-family:Arial,Helvetica Neue,Helvetica,sans-serif; font-size:48px; text-anchor:middle;\" transform=\"rotate(0, 2352.76, 1541.47)\" x=\"2352.76\" y=\"1541.47\">1.0</text>\n",
       "</g>\n",
       "<g clip-path=\"url(#clip8200)\">\n",
       "<text style=\"fill:#000000; fill-opacity:1; font-family:Arial,Helvetica Neue,Helvetica,sans-serif; font-size:48px; text-anchor:end;\" transform=\"rotate(0, 156.66, 1384.96)\" x=\"156.66\" y=\"1384.96\">0.00</text>\n",
       "</g>\n",
       "<g clip-path=\"url(#clip8200)\">\n",
       "<text style=\"fill:#000000; fill-opacity:1; font-family:Arial,Helvetica Neue,Helvetica,sans-serif; font-size:48px; text-anchor:end;\" transform=\"rotate(0, 156.66, 1084.91)\" x=\"156.66\" y=\"1084.91\">0.25</text>\n",
       "</g>\n",
       "<g clip-path=\"url(#clip8200)\">\n",
       "<text style=\"fill:#000000; fill-opacity:1; font-family:Arial,Helvetica Neue,Helvetica,sans-serif; font-size:48px; text-anchor:end;\" transform=\"rotate(0, 156.66, 784.859)\" x=\"156.66\" y=\"784.859\">0.50</text>\n",
       "</g>\n",
       "<g clip-path=\"url(#clip8200)\">\n",
       "<text style=\"fill:#000000; fill-opacity:1; font-family:Arial,Helvetica Neue,Helvetica,sans-serif; font-size:48px; text-anchor:end;\" transform=\"rotate(0, 156.66, 484.811)\" x=\"156.66\" y=\"484.811\">0.75</text>\n",
       "</g>\n",
       "<g clip-path=\"url(#clip8200)\">\n",
       "<text style=\"fill:#000000; fill-opacity:1; font-family:Arial,Helvetica Neue,Helvetica,sans-serif; font-size:48px; text-anchor:end;\" transform=\"rotate(0, 156.66, 184.763)\" x=\"156.66\" y=\"184.763\">1.00</text>\n",
       "</g>\n",
       "<polyline clip-path=\"url(#clip8202)\" style=\"stroke:#009af9; stroke-width:12; stroke-opacity:1; fill:none\" points=\"\n",
       "  180.66,1367.46 201.873,1367.46 398.011,1367.45 515.882,1367.45 615.54,1367.42 723.797,1367.33 823.6,1367.06 930.6,1366.08 1054.57,1361.54 1109.65,1356.2 \n",
       "  1164.74,1346.1 1213.04,1330.24 1261.35,1303.25 1287.68,1281.57 1314.01,1253.32 1340.35,1217.02 1366.68,1171.27 1393.17,1114.58 1419.66,1046.75 1446.14,968.377 \n",
       "  1472.63,881.441 1501.92,779.358 1531.21,676.575 1560.49,578.968 1589.78,491.295 1617.65,419.712 1645.51,360.457 1673.38,312.971 1701.24,275.898 1730.22,246.568 \n",
       "  1759.19,224.739 1788.16,208.697 1817.14,197.016 1865.92,184.198 1914.7,176.857 2033.81,169.637 2145.77,167.899 2325.15,167.34 2352.76,167.319 \n",
       "  \"/>\n",
       "<circle clip-path=\"url(#clip8202)\" style=\"fill:#000000; stroke:none; fill-opacity:1\" cx=\"915.954\" cy=\"1367.46\" r=\"18\"/>\n",
       "<circle clip-path=\"url(#clip8202)\" style=\"fill:#e26f46; stroke:none; fill-opacity:1\" cx=\"915.954\" cy=\"1367.46\" r=\"14\"/>\n",
       "<circle clip-path=\"url(#clip8202)\" style=\"fill:#000000; stroke:none; fill-opacity:1\" cx=\"2093.89\" cy=\"167.263\" r=\"18\"/>\n",
       "<circle clip-path=\"url(#clip8202)\" style=\"fill:#3da44d; stroke:none; fill-opacity:1\" cx=\"2093.89\" cy=\"167.263\" r=\"14\"/>\n",
       "<circle clip-path=\"url(#clip8202)\" style=\"fill:#000000; stroke:none; fill-opacity:1\" cx=\"1199.42\" cy=\"1367.46\" r=\"18\"/>\n",
       "<circle clip-path=\"url(#clip8202)\" style=\"fill:#c271d2; stroke:none; fill-opacity:1\" cx=\"1199.42\" cy=\"1367.46\" r=\"14\"/>\n",
       "<path clip-path=\"url(#clip8200)\" d=\"\n",
       "M252.66 433.164 L712.054 433.164 L712.054 130.764 L252.66 130.764  Z\n",
       "  \" fill=\"#ffffff\" fill-rule=\"evenodd\" fill-opacity=\"1\"/>\n",
       "<polyline clip-path=\"url(#clip8200)\" style=\"stroke:#000000; stroke-width:4; stroke-opacity:1; fill:none\" points=\"\n",
       "  252.66,433.164 712.054,433.164 712.054,130.764 252.66,130.764 252.66,433.164 \n",
       "  \"/>\n",
       "<polyline clip-path=\"url(#clip8200)\" style=\"stroke:#009af9; stroke-width:12; stroke-opacity:1; fill:none\" points=\"\n",
       "  276.66,191.244 420.66,191.244 \n",
       "  \"/>\n",
       "<g clip-path=\"url(#clip8200)\">\n",
       "<text style=\"fill:#000000; fill-opacity:1; font-family:Arial,Helvetica Neue,Helvetica,sans-serif; font-size:48px; text-anchor:start;\" transform=\"rotate(0, 444.66, 208.744)\" x=\"444.66\" y=\"208.744\">model</text>\n",
       "</g>\n",
       "<circle clip-path=\"url(#clip8200)\" style=\"fill:#000000; stroke:none; fill-opacity:1\" cx=\"360.66\" cy=\"251.724\" r=\"25\"/>\n",
       "<circle clip-path=\"url(#clip8200)\" style=\"fill:#e26f46; stroke:none; fill-opacity:1\" cx=\"360.66\" cy=\"251.724\" r=\"21\"/>\n",
       "<g clip-path=\"url(#clip8200)\">\n",
       "<text style=\"fill:#000000; fill-opacity:1; font-family:Arial,Helvetica Neue,Helvetica,sans-serif; font-size:48px; text-anchor:start;\" transform=\"rotate(0, 444.66, 269.224)\" x=\"444.66\" y=\"269.224\">apple</text>\n",
       "</g>\n",
       "<circle clip-path=\"url(#clip8200)\" style=\"fill:#000000; stroke:none; fill-opacity:1\" cx=\"360.66\" cy=\"312.204\" r=\"25\"/>\n",
       "<circle clip-path=\"url(#clip8200)\" style=\"fill:#3da44d; stroke:none; fill-opacity:1\" cx=\"360.66\" cy=\"312.204\" r=\"21\"/>\n",
       "<g clip-path=\"url(#clip8200)\">\n",
       "<text style=\"fill:#000000; fill-opacity:1; font-family:Arial,Helvetica Neue,Helvetica,sans-serif; font-size:48px; text-anchor:start;\" transform=\"rotate(0, 444.66, 329.704)\" x=\"444.66\" y=\"329.704\">banana</text>\n",
       "</g>\n",
       "<circle clip-path=\"url(#clip8200)\" style=\"fill:#000000; stroke:none; fill-opacity:1\" cx=\"360.66\" cy=\"372.684\" r=\"25\"/>\n",
       "<circle clip-path=\"url(#clip8200)\" style=\"fill:#c271d2; stroke:none; fill-opacity:1\" cx=\"360.66\" cy=\"372.684\" r=\"21\"/>\n",
       "<g clip-path=\"url(#clip8200)\">\n",
       "<text style=\"fill:#000000; fill-opacity:1; font-family:Arial,Helvetica Neue,Helvetica,sans-serif; font-size:48px; text-anchor:start;\" transform=\"rotate(0, 444.66, 390.184)\" x=\"444.66\" y=\"390.184\">new apple</text>\n",
       "</g>\n",
       "</svg>\n"
      ]
     },
     "execution_count": 10,
     "metadata": {},
     "output_type": "execute_result"
    }
   ],
   "source": [
    "green_amount = mean(Float64.(green.(apple2)))\n",
    "@show green_amount\n",
    "\n",
    "scatter!([green_amount], [0.0], label=\"new apple\")"
   ]
  },
  {
   "cell_type": "markdown",
   "metadata": {},
   "source": [
    "Our model successfully says that our new image is an apple! Pat yourself on the back: you've actually just trained your first neural network!"
   ]
  },
  {
   "cell_type": "markdown",
   "metadata": {},
   "source": [
    "#### Exercise 1\n",
    "\n",
    "Load the image of a banana in `data/8_100.jpg` as `mybanana`. Edit the code below to calculate the amount of green in `mybanana` and to overlay data for this image with the existing model and data points."
   ]
  },
  {
   "cell_type": "markdown",
   "metadata": {},
   "source": [
    "#### Solution"
   ]
  },
  {
   "cell_type": "markdown",
   "metadata": {},
   "source": [
    "To get the desired overlay, the code we need is"
   ]
  },
  {
   "cell_type": "code",
   "execution_count": 15,
   "metadata": {},
   "outputs": [
    {
     "data": {
      "image/svg+xml": [
       "<?xml version=\"1.0\" encoding=\"utf-8\"?>\n",
       "<svg xmlns=\"http://www.w3.org/2000/svg\" xmlns:xlink=\"http://www.w3.org/1999/xlink\" width=\"600\" height=\"400\" viewBox=\"0 0 2400 1600\">\n",
       "<defs>\n",
       "  <clipPath id=\"clip2600\">\n",
       "    <rect x=\"0\" y=\"0\" width=\"2400\" height=\"1600\"/>\n",
       "  </clipPath>\n",
       "</defs>\n",
       "<path clip-path=\"url(#clip2600)\" d=\"\n",
       "M0 1600 L2400 1600 L2400 0 L0 0  Z\n",
       "  \" fill=\"#ffffff\" fill-rule=\"evenodd\" fill-opacity=\"1\"/>\n",
       "<defs>\n",
       "  <clipPath id=\"clip2601\">\n",
       "    <rect x=\"480\" y=\"0\" width=\"1681\" height=\"1600\"/>\n",
       "  </clipPath>\n",
       "</defs>\n",
       "<path clip-path=\"url(#clip2600)\" d=\"\n",
       "M180.66 1487.47 L2352.76 1487.47 L2352.76 47.2441 L180.66 47.2441  Z\n",
       "  \" fill=\"#ffffff\" fill-rule=\"evenodd\" fill-opacity=\"1\"/>\n",
       "<defs>\n",
       "  <clipPath id=\"clip2602\">\n",
       "    <rect x=\"180\" y=\"47\" width=\"2173\" height=\"1441\"/>\n",
       "  </clipPath>\n",
       "</defs>\n",
       "<polyline clip-path=\"url(#clip2602)\" style=\"stroke:#000000; stroke-width:2; stroke-opacity:0.1; fill:none\" points=\"\n",
       "  180.66,1487.47 180.66,47.2441 \n",
       "  \"/>\n",
       "<polyline clip-path=\"url(#clip2602)\" style=\"stroke:#000000; stroke-width:2; stroke-opacity:0.1; fill:none\" points=\"\n",
       "  615.079,1487.47 615.079,47.2441 \n",
       "  \"/>\n",
       "<polyline clip-path=\"url(#clip2602)\" style=\"stroke:#000000; stroke-width:2; stroke-opacity:0.1; fill:none\" points=\"\n",
       "  1049.5,1487.47 1049.5,47.2441 \n",
       "  \"/>\n",
       "<polyline clip-path=\"url(#clip2602)\" style=\"stroke:#000000; stroke-width:2; stroke-opacity:0.1; fill:none\" points=\"\n",
       "  1483.92,1487.47 1483.92,47.2441 \n",
       "  \"/>\n",
       "<polyline clip-path=\"url(#clip2602)\" style=\"stroke:#000000; stroke-width:2; stroke-opacity:0.1; fill:none\" points=\"\n",
       "  1918.34,1487.47 1918.34,47.2441 \n",
       "  \"/>\n",
       "<polyline clip-path=\"url(#clip2602)\" style=\"stroke:#000000; stroke-width:2; stroke-opacity:0.1; fill:none\" points=\"\n",
       "  2352.76,1487.47 2352.76,47.2441 \n",
       "  \"/>\n",
       "<polyline clip-path=\"url(#clip2602)\" style=\"stroke:#000000; stroke-width:2; stroke-opacity:0.1; fill:none\" points=\"\n",
       "  180.66,1367.46 2352.76,1367.46 \n",
       "  \"/>\n",
       "<polyline clip-path=\"url(#clip2602)\" style=\"stroke:#000000; stroke-width:2; stroke-opacity:0.1; fill:none\" points=\"\n",
       "  180.66,1067.41 2352.76,1067.41 \n",
       "  \"/>\n",
       "<polyline clip-path=\"url(#clip2602)\" style=\"stroke:#000000; stroke-width:2; stroke-opacity:0.1; fill:none\" points=\"\n",
       "  180.66,767.359 2352.76,767.359 \n",
       "  \"/>\n",
       "<polyline clip-path=\"url(#clip2602)\" style=\"stroke:#000000; stroke-width:2; stroke-opacity:0.1; fill:none\" points=\"\n",
       "  180.66,467.311 2352.76,467.311 \n",
       "  \"/>\n",
       "<polyline clip-path=\"url(#clip2602)\" style=\"stroke:#000000; stroke-width:2; stroke-opacity:0.1; fill:none\" points=\"\n",
       "  180.66,167.263 2352.76,167.263 \n",
       "  \"/>\n",
       "<polyline clip-path=\"url(#clip2600)\" style=\"stroke:#000000; stroke-width:4; stroke-opacity:1; fill:none\" points=\"\n",
       "  180.66,1487.47 2352.76,1487.47 \n",
       "  \"/>\n",
       "<polyline clip-path=\"url(#clip2600)\" style=\"stroke:#000000; stroke-width:4; stroke-opacity:1; fill:none\" points=\"\n",
       "  180.66,1487.47 180.66,47.2441 \n",
       "  \"/>\n",
       "<polyline clip-path=\"url(#clip2600)\" style=\"stroke:#000000; stroke-width:4; stroke-opacity:1; fill:none\" points=\"\n",
       "  180.66,1487.47 180.66,1470.19 \n",
       "  \"/>\n",
       "<polyline clip-path=\"url(#clip2600)\" style=\"stroke:#000000; stroke-width:4; stroke-opacity:1; fill:none\" points=\"\n",
       "  615.079,1487.47 615.079,1470.19 \n",
       "  \"/>\n",
       "<polyline clip-path=\"url(#clip2600)\" style=\"stroke:#000000; stroke-width:4; stroke-opacity:1; fill:none\" points=\"\n",
       "  1049.5,1487.47 1049.5,1470.19 \n",
       "  \"/>\n",
       "<polyline clip-path=\"url(#clip2600)\" style=\"stroke:#000000; stroke-width:4; stroke-opacity:1; fill:none\" points=\"\n",
       "  1483.92,1487.47 1483.92,1470.19 \n",
       "  \"/>\n",
       "<polyline clip-path=\"url(#clip2600)\" style=\"stroke:#000000; stroke-width:4; stroke-opacity:1; fill:none\" points=\"\n",
       "  1918.34,1487.47 1918.34,1470.19 \n",
       "  \"/>\n",
       "<polyline clip-path=\"url(#clip2600)\" style=\"stroke:#000000; stroke-width:4; stroke-opacity:1; fill:none\" points=\"\n",
       "  2352.76,1487.47 2352.76,1470.19 \n",
       "  \"/>\n",
       "<polyline clip-path=\"url(#clip2600)\" style=\"stroke:#000000; stroke-width:4; stroke-opacity:1; fill:none\" points=\"\n",
       "  180.66,1367.46 206.725,1367.46 \n",
       "  \"/>\n",
       "<polyline clip-path=\"url(#clip2600)\" style=\"stroke:#000000; stroke-width:4; stroke-opacity:1; fill:none\" points=\"\n",
       "  180.66,1067.41 206.725,1067.41 \n",
       "  \"/>\n",
       "<polyline clip-path=\"url(#clip2600)\" style=\"stroke:#000000; stroke-width:4; stroke-opacity:1; fill:none\" points=\"\n",
       "  180.66,767.359 206.725,767.359 \n",
       "  \"/>\n",
       "<polyline clip-path=\"url(#clip2600)\" style=\"stroke:#000000; stroke-width:4; stroke-opacity:1; fill:none\" points=\"\n",
       "  180.66,467.311 206.725,467.311 \n",
       "  \"/>\n",
       "<polyline clip-path=\"url(#clip2600)\" style=\"stroke:#000000; stroke-width:4; stroke-opacity:1; fill:none\" points=\"\n",
       "  180.66,167.263 206.725,167.263 \n",
       "  \"/>\n",
       "<g clip-path=\"url(#clip2600)\">\n",
       "<text style=\"fill:#000000; fill-opacity:1; font-family:Arial,Helvetica Neue,Helvetica,sans-serif; font-size:48px; text-anchor:middle;\" transform=\"rotate(0, 180.66, 1541.47)\" x=\"180.66\" y=\"1541.47\">0.0</text>\n",
       "</g>\n",
       "<g clip-path=\"url(#clip2600)\">\n",
       "<text style=\"fill:#000000; fill-opacity:1; font-family:Arial,Helvetica Neue,Helvetica,sans-serif; font-size:48px; text-anchor:middle;\" transform=\"rotate(0, 615.079, 1541.47)\" x=\"615.079\" y=\"1541.47\">0.2</text>\n",
       "</g>\n",
       "<g clip-path=\"url(#clip2600)\">\n",
       "<text style=\"fill:#000000; fill-opacity:1; font-family:Arial,Helvetica Neue,Helvetica,sans-serif; font-size:48px; text-anchor:middle;\" transform=\"rotate(0, 1049.5, 1541.47)\" x=\"1049.5\" y=\"1541.47\">0.4</text>\n",
       "</g>\n",
       "<g clip-path=\"url(#clip2600)\">\n",
       "<text style=\"fill:#000000; fill-opacity:1; font-family:Arial,Helvetica Neue,Helvetica,sans-serif; font-size:48px; text-anchor:middle;\" transform=\"rotate(0, 1483.92, 1541.47)\" x=\"1483.92\" y=\"1541.47\">0.6</text>\n",
       "</g>\n",
       "<g clip-path=\"url(#clip2600)\">\n",
       "<text style=\"fill:#000000; fill-opacity:1; font-family:Arial,Helvetica Neue,Helvetica,sans-serif; font-size:48px; text-anchor:middle;\" transform=\"rotate(0, 1918.34, 1541.47)\" x=\"1918.34\" y=\"1541.47\">0.8</text>\n",
       "</g>\n",
       "<g clip-path=\"url(#clip2600)\">\n",
       "<text style=\"fill:#000000; fill-opacity:1; font-family:Arial,Helvetica Neue,Helvetica,sans-serif; font-size:48px; text-anchor:middle;\" transform=\"rotate(0, 2352.76, 1541.47)\" x=\"2352.76\" y=\"1541.47\">1.0</text>\n",
       "</g>\n",
       "<g clip-path=\"url(#clip2600)\">\n",
       "<text style=\"fill:#000000; fill-opacity:1; font-family:Arial,Helvetica Neue,Helvetica,sans-serif; font-size:48px; text-anchor:end;\" transform=\"rotate(0, 156.66, 1384.96)\" x=\"156.66\" y=\"1384.96\">0.00</text>\n",
       "</g>\n",
       "<g clip-path=\"url(#clip2600)\">\n",
       "<text style=\"fill:#000000; fill-opacity:1; font-family:Arial,Helvetica Neue,Helvetica,sans-serif; font-size:48px; text-anchor:end;\" transform=\"rotate(0, 156.66, 1084.91)\" x=\"156.66\" y=\"1084.91\">0.25</text>\n",
       "</g>\n",
       "<g clip-path=\"url(#clip2600)\">\n",
       "<text style=\"fill:#000000; fill-opacity:1; font-family:Arial,Helvetica Neue,Helvetica,sans-serif; font-size:48px; text-anchor:end;\" transform=\"rotate(0, 156.66, 784.859)\" x=\"156.66\" y=\"784.859\">0.50</text>\n",
       "</g>\n",
       "<g clip-path=\"url(#clip2600)\">\n",
       "<text style=\"fill:#000000; fill-opacity:1; font-family:Arial,Helvetica Neue,Helvetica,sans-serif; font-size:48px; text-anchor:end;\" transform=\"rotate(0, 156.66, 484.811)\" x=\"156.66\" y=\"484.811\">0.75</text>\n",
       "</g>\n",
       "<g clip-path=\"url(#clip2600)\">\n",
       "<text style=\"fill:#000000; fill-opacity:1; font-family:Arial,Helvetica Neue,Helvetica,sans-serif; font-size:48px; text-anchor:end;\" transform=\"rotate(0, 156.66, 184.763)\" x=\"156.66\" y=\"184.763\">1.00</text>\n",
       "</g>\n",
       "<polyline clip-path=\"url(#clip2602)\" style=\"stroke:#009af9; stroke-width:12; stroke-opacity:1; fill:none\" points=\"\n",
       "  180.66,1367.33 201.873,1367.31 398.011,1366.86 515.882,1366.03 615.54,1364.5 723.797,1360.93 823.6,1353.95 877.1,1347.55 930.6,1338.2 992.585,1321.97 \n",
       "  1054.57,1297.26 1109.65,1265.23 1164.74,1220.47 1213.04,1168.23 1261.35,1102.12 1314.01,1013.7 1366.68,910.223 1419.66,796.197 1472.63,680.044 1501.92,618.053 \n",
       "  1531.21,559.282 1560.49,504.722 1589.78,455.053 1617.65,412.664 1645.51,375.096 1673.38,342.225 1701.24,313.786 1759.19,267.211 1817.14,234.496 1865.92,215.051 \n",
       "  1914.7,201.062 2033.81,181.585 2145.77,173.597 2325.15,168.965 2352.76,168.653 \n",
       "  \"/>\n",
       "<circle clip-path=\"url(#clip2602)\" style=\"fill:#000000; stroke:none; fill-opacity:1\" cx=\"915.954\" cy=\"1367.46\" r=\"21\"/>\n",
       "<circle clip-path=\"url(#clip2602)\" style=\"fill:#e26f46; stroke:none; fill-opacity:1\" cx=\"915.954\" cy=\"1367.46\" r=\"18\"/>\n",
       "<circle clip-path=\"url(#clip2602)\" style=\"fill:#000000; stroke:none; fill-opacity:1\" cx=\"2093.89\" cy=\"167.263\" r=\"21\"/>\n",
       "<circle clip-path=\"url(#clip2602)\" style=\"fill:#3da44d; stroke:none; fill-opacity:1\" cx=\"2093.89\" cy=\"167.263\" r=\"18\"/>\n",
       "<circle clip-path=\"url(#clip2602)\" style=\"fill:#000000; stroke:none; fill-opacity:1\" cx=\"2093.89\" cy=\"167.263\" r=\"18\"/>\n",
       "<circle clip-path=\"url(#clip2602)\" style=\"fill:#c271d2; stroke:none; fill-opacity:1\" cx=\"2093.89\" cy=\"167.263\" r=\"14\"/>\n",
       "<path clip-path=\"url(#clip2600)\" d=\"\n",
       "M252.66 433.164 L730.778 433.164 L730.778 130.764 L252.66 130.764  Z\n",
       "  \" fill=\"#ffffff\" fill-rule=\"evenodd\" fill-opacity=\"1\"/>\n",
       "<polyline clip-path=\"url(#clip2600)\" style=\"stroke:#000000; stroke-width:4; stroke-opacity:1; fill:none\" points=\"\n",
       "  252.66,433.164 730.778,433.164 730.778,130.764 252.66,130.764 252.66,433.164 \n",
       "  \"/>\n",
       "<polyline clip-path=\"url(#clip2600)\" style=\"stroke:#009af9; stroke-width:12; stroke-opacity:1; fill:none\" points=\"\n",
       "  276.66,191.244 420.66,191.244 \n",
       "  \"/>\n",
       "<g clip-path=\"url(#clip2600)\">\n",
       "<text style=\"fill:#000000; fill-opacity:1; font-family:Arial,Helvetica Neue,Helvetica,sans-serif; font-size:48px; text-anchor:start;\" transform=\"rotate(0, 444.66, 208.744)\" x=\"444.66\" y=\"208.744\">model</text>\n",
       "</g>\n",
       "<circle clip-path=\"url(#clip2600)\" style=\"fill:#000000; stroke:none; fill-opacity:1\" cx=\"360.66\" cy=\"251.724\" r=\"25\"/>\n",
       "<circle clip-path=\"url(#clip2600)\" style=\"fill:#e26f46; stroke:none; fill-opacity:1\" cx=\"360.66\" cy=\"251.724\" r=\"21\"/>\n",
       "<g clip-path=\"url(#clip2600)\">\n",
       "<text style=\"fill:#000000; fill-opacity:1; font-family:Arial,Helvetica Neue,Helvetica,sans-serif; font-size:48px; text-anchor:start;\" transform=\"rotate(0, 444.66, 269.224)\" x=\"444.66\" y=\"269.224\">apple</text>\n",
       "</g>\n",
       "<circle clip-path=\"url(#clip2600)\" style=\"fill:#000000; stroke:none; fill-opacity:1\" cx=\"360.66\" cy=\"312.204\" r=\"25\"/>\n",
       "<circle clip-path=\"url(#clip2600)\" style=\"fill:#3da44d; stroke:none; fill-opacity:1\" cx=\"360.66\" cy=\"312.204\" r=\"21\"/>\n",
       "<g clip-path=\"url(#clip2600)\">\n",
       "<text style=\"fill:#000000; fill-opacity:1; font-family:Arial,Helvetica Neue,Helvetica,sans-serif; font-size:48px; text-anchor:start;\" transform=\"rotate(0, 444.66, 329.704)\" x=\"444.66\" y=\"329.704\">banana</text>\n",
       "</g>\n",
       "<circle clip-path=\"url(#clip2600)\" style=\"fill:#000000; stroke:none; fill-opacity:1\" cx=\"360.66\" cy=\"372.684\" r=\"25\"/>\n",
       "<circle clip-path=\"url(#clip2600)\" style=\"fill:#c271d2; stroke:none; fill-opacity:1\" cx=\"360.66\" cy=\"372.684\" r=\"21\"/>\n",
       "<g clip-path=\"url(#clip2600)\">\n",
       "<text style=\"fill:#000000; fill-opacity:1; font-family:Arial,Helvetica Neue,Helvetica,sans-serif; font-size:48px; text-anchor:start;\" transform=\"rotate(0, 444.66, 390.184)\" x=\"444.66\" y=\"390.184\">my banana</text>\n",
       "</g>\n",
       "</svg>\n"
      ]
     },
     "execution_count": 15,
     "metadata": {},
     "output_type": "execute_result"
    }
   ],
   "source": [
    "mybanana = load(datapath(\"data/8_100.jpg\"))\n",
    "mybanana_green_amount = mean(Float64.(green.(banana)))\n",
    "scatter!([mybanana_green_amount], [1.0], label=\"my banana\")"
   ]
  },
  {
   "cell_type": "markdown",
   "metadata": {},
   "source": [
    "## Closing remarks: bigger models, more data, more accuracy\n",
    "\n",
    "That last apple should start making you think: not all apples are red; some are yellow. \"Redness\" is one attribute of being an apple, but isn't the whole thing. What we need to do is incorporate more ideas into our model by allowing more inputs. However, more inputs would mean more parameters to play with. Also, we would like to have the computer start \"learning\" on its own, instead of modifying the parameters ourselves until we think it \"looks right\". How do we take the next step?\n",
    "\n",
    "The first thing to think about is, if you wanted to incorporate more data into the model, how would you change the sigmoid function? Play around with some ideas. But also, start thinking about how you chose parameters. What process did you do to finally end up at good parameters? These two problems (working with models with more data and automatically choosing parameters) are the last remaining step to understanding deep learning."
   ]
  }
 ],
 "metadata": {
  "@webio": {
   "lastCommId": "10e9996e336f40d289b3014f4a17e92a",
   "lastKernelId": "a5ee4a3c-b103-4758-8b4e-91306d4c20ca"
  },
  "kernelspec": {
   "display_name": "Julia 1.3.0",
   "language": "julia",
   "name": "julia-1.3"
  },
  "language_info": {
   "file_extension": ".jl",
   "mimetype": "application/julia",
   "name": "julia",
   "version": "1.3.0"
  }
 },
 "nbformat": 4,
 "nbformat_minor": 3
}
